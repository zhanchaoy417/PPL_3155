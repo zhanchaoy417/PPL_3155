{
 "cells": [
  {
   "cell_type": "markdown",
   "metadata": {},
   "source": [
    "Before you turn this problem in, make sure everything runs as expected. \n",
    "  1. First, **restart the kernel** (in the menubar, select Kernel$\\rightarrow$Restart) and \n",
    "  2. Then **run all cells** (in the menubar, select Cell$\\rightarrow$Run All).\n",
    "\n",
    "Make sure you fill in any place that says `YOUR CODE HERE` or \"YOUR ANSWER HERE\", as well as your name below. "
   ]
  },
  {
   "cell_type": "markdown",
   "metadata": {},
   "source": [
    "---"
   ]
  },
  {
   "cell_type": "markdown",
   "metadata": {},
   "source": [
    "# CSCI 3155: Assignment 4\n",
    "\n",
    "Topics Covered: Map, foldLeft and filter functions to replace loops."
   ]
  },
  {
   "cell_type": "markdown",
   "metadata": {},
   "source": [
    "__Name__: WRITE YOUR NAME HERE"
   ]
  },
  {
   "cell_type": "code",
   "execution_count": 91,
   "metadata": {
    "deletable": false,
    "editable": false,
    "nbgrader": {
     "cell_type": "code",
     "checksum": "cfa2293faa8351affda37bdf63633aa0",
     "grade": false,
     "grade_id": "cell-523e63f33a38d446",
     "locked": true,
     "schema_version": 3,
     "solution": false
    }
   },
   "outputs": [
    {
     "data": {
      "text/plain": [
       "defined \u001b[32mfunction\u001b[39m \u001b[36mpassed\u001b[39m"
      ]
     },
     "execution_count": 91,
     "metadata": {},
     "output_type": "execute_result"
    }
   ],
   "source": [
    "// TEST HELPER: PLEASE run this cell first\n",
    "def passed(points: Int) {\n",
    "    require(points >=0)\n",
    "    if (points == 1) print(s\"Tests Passed (1 point)\")\n",
    "    else print(s\"Tests Passed ($points points)\") \n",
    "}"
   ]
  },
  {
   "cell_type": "markdown",
   "metadata": {
    "deletable": false,
    "editable": false,
    "nbgrader": {
     "cell_type": "markdown",
     "checksum": "ec24a8dd6cd3b4ff4a579741319d2de2",
     "grade": false,
     "grade_id": "cell-1c25ff5512e1304b",
     "locked": true,
     "schema_version": 3,
     "solution": false,
     "task": false
    }
   },
   "source": [
    "## Problem 1: map, filter, reduce on containers (40 points)\n",
    "\n",
    "Solve the problems using a combination of map, filter and foldLeft/foldRight opertions over lists. \n",
    " - The use of mutables, recursion, For/While loops is forbidden for all problems.\n",
    " - Each problem has very specific set of allowed LIST API functions. Those are the only functions you can use. Other API functions are not allowed. \n",
    " - There are no restrictions on use of integer operations (addition, subtraction, division, mod etc..) or use of if-then-else, case-pattern matching and other scala constructs (however once again no loops of any kind and no use of var).\n",
    " - There are no restrictions on the use of named \"helper\" function vs anonymous functions.\n",
    " - Avoid the use of return in your anonymous function -- it may cause errors that are hard to debug."
   ]
  },
  {
   "cell_type": "markdown",
   "metadata": {
    "deletable": false,
    "editable": false,
    "nbgrader": {
     "cell_type": "markdown",
     "checksum": "6792b5cef6dcfdcbe7916aade195ff59",
     "grade": false,
     "grade_id": "cell-57eb1b5c1720b797",
     "locked": true,
     "schema_version": 3,
     "solution": false
    }
   },
   "source": [
    "\n",
    "### A: Compute a list of element-wise maximums of two lists of numbers (5 points).\n",
    "Write a function `elementWiseMax` that takes two lists `lstA` and `lstB` of integers. The lists are given to be the same size. You need to compare the lists element-wise, i.e., compare $i$th element of `lstA` to $i$th element of `lstB`, and return a new list containing the maximum of compared elements at each index. \n",
    "\n",
    "$$\\texttt{elementWiseMax}([a_0,a_1, \\ldots, a_n], ~[b_0,b_1, \\ldots, b_n]) = [\\texttt{max}(a_0,b_0),\\texttt{max}(a_1,b_1), \\ldots, \\texttt{max}(a_n,b_n)]$$.\n",
    "\n",
    "Maximum of two integers is defined as following: \n",
    "$$\\texttt{max}(a_i,b_i) ~=~ \\texttt{if}~ b_i > a_i ~\\texttt{then}~ b_i ~\\texttt{else}~ a_i$$. \n",
    "\n",
    "**Example**\n",
    "\n",
    "`elementWiseMax(List(1,3,5,4), List(-1,5,-2,7))` should return `List(1,5,5,7)`.\n",
    "\n",
    "**Restrictions**\n",
    "\n",
    " - List API functions that you are allowed to use: `zip` and `map`. \n",
    " - Use of any other List API function is not allowed.\n",
    " - You are __not__ allowed to use __var__, any kind of loops or recursion.\n",
    "\n",
    "You can look the list API documentation for scala to find out more about these functions.\n",
    "Post/Search on piazza if you are unsure. \n",
    "\n"
   ]
  },
  {
   "cell_type": "code",
   "execution_count": 92,
   "metadata": {
    "deletable": false,
    "nbgrader": {
     "cell_type": "code",
     "checksum": "b3f4f6d381361bb8100484f906aec9e0",
     "grade": false,
     "grade_id": "cell-d07d79524c90fd4e",
     "locked": false,
     "schema_version": 3,
     "solution": true,
     "task": false
    }
   },
   "outputs": [
    {
     "data": {
      "text/plain": [
       "defined \u001b[32mfunction\u001b[39m \u001b[36melementWiseMax\u001b[39m"
      ]
     },
     "execution_count": 92,
     "metadata": {},
     "output_type": "execute_result"
    }
   ],
   "source": [
    "def elementWiseMax(lstA: List[Int], lstB: List[Int]): List[Int] =\n",
    "    \n",
    "    {\n",
    "        require(lstA.length == lstB.length)\n",
    "    // YOUR CODE HERE\n",
    "        def helper(a:Int,b:Int):Int=if(a>b)a else b\n",
    "    val lst2:List[Int]= (lstA zip lstB).map(x=> helper(x._1,x._2) )\n",
    "        lst2\n",
    "        \n",
    "    }\n"
   ]
  },
  {
   "cell_type": "code",
   "execution_count": 93,
   "metadata": {
    "deletable": false,
    "editable": false,
    "nbgrader": {
     "cell_type": "code",
     "checksum": "efba8e6611faa82f40355b78e76304b0",
     "grade": true,
     "grade_id": "cell-054acf67575fc99c",
     "locked": true,
     "points": 5,
     "schema_version": 3,
     "solution": false
    }
   },
   "outputs": [
    {
     "name": "stdout",
     "output_type": "stream",
     "text": [
      "Tests Passed (5 points)"
     ]
    },
    {
     "data": {
      "text/plain": [
       "\u001b[36mt1\u001b[39m: \u001b[32mList\u001b[39m[\u001b[32mInt\u001b[39m] = \u001b[33mList\u001b[39m(\u001b[32m4\u001b[39m, \u001b[32m5\u001b[39m, \u001b[32m6\u001b[39m)\n",
       "\u001b[36mt2\u001b[39m: \u001b[32mList\u001b[39m[\u001b[32mInt\u001b[39m] = \u001b[33mList\u001b[39m(\u001b[32m2\u001b[39m, \u001b[32m4\u001b[39m, \u001b[32m5\u001b[39m)\n",
       "\u001b[36mt3\u001b[39m: \u001b[32mList\u001b[39m[\u001b[32mInt\u001b[39m] = \u001b[33mList\u001b[39m()\n",
       "\u001b[36mt4\u001b[39m: \u001b[32mList\u001b[39m[\u001b[32mInt\u001b[39m] = \u001b[33mList\u001b[39m(\u001b[32m1\u001b[39m, \u001b[32m4\u001b[39m, \u001b[32m3\u001b[39m, \u001b[32m0\u001b[39m, \u001b[32m-2\u001b[39m)"
      ]
     },
     "execution_count": 93,
     "metadata": {},
     "output_type": "execute_result"
    }
   ],
   "source": [
    "// BEGIN TEST\n",
    "\n",
    "val t1 = elementWiseMax(List(1,2,3), List(4,5,6))\n",
    "assert(t1 == List(4,5,6), \"Test 1 failed\")\n",
    "\n",
    "val t2 = elementWiseMax(List(1,4,0), List(2,1,5))\n",
    "assert(t2 == List(2,4,5), \"Test 2 failed\")\n",
    "\n",
    "val t3 = elementWiseMax(List(), List())\n",
    "assert(t3 == List(), \"Test 3 failed\")\n",
    "\n",
    "val t4 = elementWiseMax(List(1, 0, 3, -1, -2), List(0, 4, 1, 0, -3))\n",
    "assert(t4 == List(1, 4, 3, 0, -2), \"Test 4 failed\")\n",
    "\n",
    "passed(5)\n",
    "// END TEST"
   ]
  },
  {
   "cell_type": "markdown",
   "metadata": {
    "deletable": false,
    "editable": false,
    "nbgrader": {
     "cell_type": "markdown",
     "checksum": "85be14a761e15790567d6090cdb4b35e",
     "grade": false,
     "grade_id": "cell-cce284d399573f50",
     "locked": true,
     "schema_version": 3,
     "solution": false
    }
   },
   "source": [
    "### B: LCM of all Denominators (7 points).\n",
    "\n",
    "You are given a list of pairs of integers that are supposed to represent fractions. You can assume that all fractions are positive and already in their lowest terms. This problem asks you to compute the LCM of the denominators.\n",
    "\n",
    "Eg., Input: `List((1,2), (3,4), (8,9), (15,24))`\n",
    "The denominators are `2, 4, 9, 24` and their LCM is `72`, which is the answer your function should return.\n",
    "\n",
    "For the empty list as input, your code must return the answer 1.\n",
    "\n",
    "You should assume that all the denominators are positive.\n",
    "\n",
    "**Restrictions**\n",
    "\n",
    "  - You are allowed to use the provided `lcm` function that computes LCM of two numbers.\n",
    "  - Allowed list API functions: `map`, `filter`, `foldLeft`, and `foldRight`. \n",
    "  - No other list API functions allowed.\n",
    "  - No __var__, no loops and no recursive calls other than the call made for LCM.\n"
   ]
  },
  {
   "cell_type": "code",
   "execution_count": 94,
   "metadata": {
    "deletable": false,
    "nbgrader": {
     "cell_type": "code",
     "checksum": "093eb92563d1ca2af05011bf42598bb4",
     "grade": false,
     "grade_id": "cell-332c55ac9d70c435",
     "locked": false,
     "schema_version": 3,
     "solution": true
    }
   },
   "outputs": [
    {
     "data": {
      "text/plain": [
       "\u001b[32mimport \u001b[39m\u001b[36mscala.annotation._\n",
       "\n",
       "\u001b[39m\n",
       "defined \u001b[32mfunction\u001b[39m \u001b[36mlcm\u001b[39m\n",
       "defined \u001b[32mfunction\u001b[39m \u001b[36mlcmOfDenominators\u001b[39m"
      ]
     },
     "execution_count": 94,
     "metadata": {},
     "output_type": "execute_result"
    }
   ],
   "source": [
    "import scala.annotation._\n",
    "\n",
    "@tailrec\n",
    "private def gcd(a: Int, b: Int):Int=if (b==0) a.abs else gcd(b, a%b)\n",
    "\n",
    "def lcm(a: Int, b: Int)=(a*b).abs/gcd(a,b)\n",
    "\n",
    "def lcmOfDenominators(lst: List[(Int, Int)]): Int = {\n",
    "    // YOUR CODE HERE\n",
    "    lst.map(x=> x._2).foldLeft(1)( (acc,x)=> lcm(acc,x))\n",
    "   \n",
    "}"
   ]
  },
  {
   "cell_type": "code",
   "execution_count": 95,
   "metadata": {
    "deletable": false,
    "editable": false,
    "nbgrader": {
     "cell_type": "code",
     "checksum": "5999e6ea046ae9fc727644bb0c081312",
     "grade": true,
     "grade_id": "cell-b37de6cd26982543",
     "locked": true,
     "points": 7,
     "schema_version": 3,
     "solution": false
    }
   },
   "outputs": [
    {
     "name": "stdout",
     "output_type": "stream",
     "text": [
      "Tests Passed (7 points)"
     ]
    },
    {
     "data": {
      "text/plain": [
       "\u001b[36mi1\u001b[39m: \u001b[32mInt\u001b[39m = \u001b[32m36\u001b[39m\n",
       "\u001b[36mi2\u001b[39m: \u001b[32mInt\u001b[39m = \u001b[32m1\u001b[39m\n",
       "\u001b[36mi3\u001b[39m: \u001b[32mInt\u001b[39m = \u001b[32m45\u001b[39m"
      ]
     },
     "execution_count": 95,
     "metadata": {},
     "output_type": "execute_result"
    }
   ],
   "source": [
    "// BEGIN TEST\n",
    "val i1 = lcmOfDenominators(List((1,2), (3,4), (5,6),(8,9), (11,12)))\n",
    "assert(i1 == 36, s\"Test 1 failed -- expected answer is 36, you got $i1\")\n",
    "val i2 = lcmOfDenominators(List())\n",
    "assert(i2 == 1, s\"Test 2 failed -- empty list must trivially have lcm of 1\")\n",
    "val i3 = lcmOfDenominators(List((4,5),(5,9),(18,15)))\n",
    "assert(i3 == 45, s\"Test 2 failed -- your answer is $i3\")\n",
    "passed(7)\n",
    "// END TEST"
   ]
  },
  {
   "cell_type": "markdown",
   "metadata": {
    "deletable": false,
    "editable": false,
    "nbgrader": {
     "cell_type": "markdown",
     "checksum": "4c9728a19ac5b57812eed87620dc3407",
     "grade": false,
     "grade_id": "cell-ea3d3fc4e6b8adf3",
     "locked": true,
     "schema_version": 3,
     "solution": false,
     "task": false
    }
   },
   "source": [
    "## C: All List Elements That are Greater Than Their Index (6 points)\n",
    "\n",
    "Write a list function that inputs a list of integers `lst` and outputs a list consisting of all those elements in `lst` whose values are __strictly greater__ than their indices. Indices of elements start at 0 and go upto `length of list` -1.\n",
    "The order of the elements in the original list must be preserved in the returned list.\n",
    "\n",
    "**Restrictions**\n",
    "\n",
    "- You may use  these list API functions: `zip`, `zipWithIndex` (read documentation), `map`, `foldLeft`, `foldRight` and `filter`.\n",
    "- No other list API functions are allowed.\n",
    "- Use of loops, var, recursion not allowed.\n",
    "\n",
    "#### Example\n",
    "\n",
    "  - Input: List(1, 2, 2, -2, 4, 6,8)\n",
    "  - Output: List(1, 2, 6, 8)\n",
    "Note that elements 1 (index 0), 2 (index 1), 6 (index 5) and 8 (index 6) are returned. \n",
    "\n"
   ]
  },
  {
   "cell_type": "code",
   "execution_count": 96,
   "metadata": {
    "deletable": false,
    "nbgrader": {
     "cell_type": "code",
     "checksum": "1541df2b33456b64065a6b29ae5630b4",
     "grade": false,
     "grade_id": "cell-ec76364060e01d7b",
     "locked": false,
     "schema_version": 3,
     "solution": true,
     "task": false
    }
   },
   "outputs": [
    {
     "data": {
      "text/plain": [
       "defined \u001b[32mfunction\u001b[39m \u001b[36mlistElementsGreaterThanIndex\u001b[39m"
      ]
     },
     "execution_count": 96,
     "metadata": {},
     "output_type": "execute_result"
    }
   ],
   "source": [
    "def listElementsGreaterThanIndex(lst: List[Int]): List[Int] = {\n",
    "    // YOUR CODE HERE\n",
    "   val lst2:List[Int]=lst.zipWithIndex.filter(x=> x._1>x._2 ).map(x=>x._1)\n",
    "    lst2\n",
    "}"
   ]
  },
  {
   "cell_type": "code",
   "execution_count": 97,
   "metadata": {
    "deletable": false,
    "editable": false,
    "nbgrader": {
     "cell_type": "code",
     "checksum": "29d844c63bb9bd416246398e789895e5",
     "grade": true,
     "grade_id": "cell-bbaaea1a391dc9de",
     "locked": true,
     "points": 6,
     "schema_version": 3,
     "solution": false,
     "task": false
    }
   },
   "outputs": [
    {
     "name": "stdout",
     "output_type": "stream",
     "text": [
      "Tests Passed (6 points)"
     ]
    },
    {
     "data": {
      "text/plain": [
       "\u001b[36mlst1\u001b[39m: \u001b[32mList\u001b[39m[\u001b[32mInt\u001b[39m] = \u001b[33mList\u001b[39m(\u001b[32m1\u001b[39m, \u001b[32m2\u001b[39m, \u001b[32m2\u001b[39m, \u001b[32m-2\u001b[39m, \u001b[32m4\u001b[39m, \u001b[32m6\u001b[39m, \u001b[32m8\u001b[39m)\n",
       "\u001b[36mres1\u001b[39m: \u001b[32mList\u001b[39m[\u001b[32mInt\u001b[39m] = \u001b[33mList\u001b[39m(\u001b[32m1\u001b[39m, \u001b[32m2\u001b[39m, \u001b[32m6\u001b[39m, \u001b[32m8\u001b[39m)\n",
       "\u001b[36mlst2\u001b[39m: \u001b[32mList\u001b[39m[\u001b[32mInt\u001b[39m] = \u001b[33mList\u001b[39m(\u001b[32m-1\u001b[39m, \u001b[32m-2\u001b[39m, \u001b[32m-3\u001b[39m, \u001b[32m-4\u001b[39m, \u001b[32m-5\u001b[39m, \u001b[32m-6\u001b[39m)\n",
       "\u001b[36mres2\u001b[39m: \u001b[32mList\u001b[39m[\u001b[32mInt\u001b[39m] = \u001b[33mList\u001b[39m()\n",
       "\u001b[36mlst3\u001b[39m: \u001b[32mList\u001b[39m[\u001b[32mInt\u001b[39m] = \u001b[33mList\u001b[39m(\u001b[32m1\u001b[39m, \u001b[32m2\u001b[39m, \u001b[32m3\u001b[39m, \u001b[32m4\u001b[39m, \u001b[32m5\u001b[39m, \u001b[32m6\u001b[39m, \u001b[32m7\u001b[39m, \u001b[32m8\u001b[39m)\n",
       "\u001b[36mres3\u001b[39m: \u001b[32mList\u001b[39m[\u001b[32mInt\u001b[39m] = \u001b[33mList\u001b[39m(\u001b[32m1\u001b[39m, \u001b[32m2\u001b[39m, \u001b[32m3\u001b[39m, \u001b[32m4\u001b[39m, \u001b[32m5\u001b[39m, \u001b[32m6\u001b[39m, \u001b[32m7\u001b[39m, \u001b[32m8\u001b[39m)\n",
       "\u001b[36mlst4\u001b[39m: \u001b[32mList\u001b[39m[\u001b[32mInt\u001b[39m] = \u001b[33mList\u001b[39m(\u001b[32m10\u001b[39m, \u001b[32m9\u001b[39m, \u001b[32m8\u001b[39m, \u001b[32m7\u001b[39m, \u001b[32m6\u001b[39m, \u001b[32m5\u001b[39m, \u001b[32m4\u001b[39m, \u001b[32m3\u001b[39m, \u001b[32m2\u001b[39m, \u001b[32m1\u001b[39m, \u001b[32m-1\u001b[39m, \u001b[32m-2\u001b[39m, \u001b[32m-3\u001b[39m)\n",
       "\u001b[36mres4\u001b[39m: \u001b[32mList\u001b[39m[\u001b[32mInt\u001b[39m] = \u001b[33mList\u001b[39m(\u001b[32m10\u001b[39m, \u001b[32m9\u001b[39m, \u001b[32m8\u001b[39m, \u001b[32m7\u001b[39m, \u001b[32m6\u001b[39m)"
      ]
     },
     "execution_count": 97,
     "metadata": {},
     "output_type": "execute_result"
    }
   ],
   "source": [
    "val lst1 = List(1,2,2,-2,4,6,8)\n",
    "val res1 = listElementsGreaterThanIndex(lst1)\n",
    "assert( res1 == List(1,2,6,8))\n",
    "\n",
    "\n",
    "val lst2 = List(-1,-2,-3,-4,-5,-6)\n",
    "val res2 = listElementsGreaterThanIndex(lst2)\n",
    "assert( res2.length == 0)\n",
    "\n",
    "val lst3 = List(1,2,3,4,5,6,7,8)\n",
    "val res3 = listElementsGreaterThanIndex(lst3)\n",
    "assert( res3 == lst3)\n",
    "\n",
    "val lst4 = List(10, 9, 8, 7, 6, 5, 4, 3, 2, 1, -1, -2, -3)\n",
    "val res4 = listElementsGreaterThanIndex(lst4)\n",
    "assert (res4 == List(10, 9, 8, 7, 6))\n",
    "\n",
    "passed(6)\n"
   ]
  },
  {
   "cell_type": "markdown",
   "metadata": {
    "deletable": false,
    "editable": false,
    "nbgrader": {
     "cell_type": "markdown",
     "checksum": "5bbc4c3c5ef6c473450d4112f457a51a",
     "grade": false,
     "grade_id": "cell-6abc93774eacd7f4",
     "locked": true,
     "schema_version": 3,
     "solution": false,
     "task": false
    }
   },
   "source": [
    "## D ( 6 points) : All List Indices whose Elements are Divisible by 3.\n",
    "\n",
    "Write a function that inputs a list of integers and returns all the indices in the original list whose elements are divisible by 3. Note that indices start from 0. \n",
    "\n",
    "Your code must return the indices sorted in ascending order.\n",
    "\n",
    "**Restrictions**\n",
    "- Allowed List API functions: `zipWithIndex`, `zip`, `filter`, `map`, `foldLeft`, and `foldRight`.\n",
    "- Not allowed: all other list API functions.\n",
    "- Loops of any form, recursion and use of var not allowed.\n",
    "\n",
    "### Example\n",
    "\n",
    "  - Input: List(1, **3**, 5, 7, **6, 9, 12**, 11)\n",
    "  - Output: List(1, 4, 5, 6)\n",
    "  \n",
    "  Note that the returned list is a list of integers whose entries correspond to the indices in the original list.\n",
    "\n"
   ]
  },
  {
   "cell_type": "code",
   "execution_count": 98,
   "metadata": {
    "deletable": false,
    "nbgrader": {
     "cell_type": "code",
     "checksum": "11d54c43eb511f8ea59edf85c4cb39ef",
     "grade": false,
     "grade_id": "cell-2399c480ddc85d87",
     "locked": false,
     "schema_version": 3,
     "solution": true,
     "task": false
    }
   },
   "outputs": [
    {
     "data": {
      "text/plain": [
       "defined \u001b[32mfunction\u001b[39m \u001b[36mallIndicesDivisibleBy3\u001b[39m"
      ]
     },
     "execution_count": 98,
     "metadata": {},
     "output_type": "execute_result"
    }
   ],
   "source": [
    "def allIndicesDivisibleBy3(lst: List[Int]): List[Int] = {\n",
    "    // YOUR CODE HERE\n",
    "   val lst2:List[Int]=lst.zipWithIndex.filter(x=>x._1%3==0).map(x=>x._2)\n",
    "    lst2\n",
    "}"
   ]
  },
  {
   "cell_type": "code",
   "execution_count": 99,
   "metadata": {
    "deletable": false,
    "editable": false,
    "nbgrader": {
     "cell_type": "code",
     "checksum": "7967aabc9f8a57120ff4845e857246e3",
     "grade": true,
     "grade_id": "cell-ebebb499fc5f05d4",
     "locked": true,
     "points": 6,
     "schema_version": 3,
     "solution": false,
     "task": false
    }
   },
   "outputs": [
    {
     "data": {
      "text/plain": [
       "\u001b[36mlst1\u001b[39m: \u001b[32mList\u001b[39m[\u001b[32mInt\u001b[39m] = \u001b[33mList\u001b[39m(\u001b[32m1\u001b[39m, \u001b[32m3\u001b[39m, \u001b[32m5\u001b[39m, \u001b[32m7\u001b[39m, \u001b[32m6\u001b[39m, \u001b[32m9\u001b[39m, \u001b[32m12\u001b[39m, \u001b[32m11\u001b[39m)\n",
       "\u001b[36mres1\u001b[39m: \u001b[32mList\u001b[39m[\u001b[32mInt\u001b[39m] = \u001b[33mList\u001b[39m(\u001b[32m1\u001b[39m, \u001b[32m4\u001b[39m, \u001b[32m5\u001b[39m, \u001b[32m6\u001b[39m)\n",
       "\u001b[36mlst2\u001b[39m: \u001b[32mList\u001b[39m[\u001b[32mInt\u001b[39m] = \u001b[33mList\u001b[39m(\u001b[32m1\u001b[39m, \u001b[32m5\u001b[39m, \u001b[32m7\u001b[39m, \u001b[32m9\u001b[39m, \u001b[32m11\u001b[39m, \u001b[32m13\u001b[39m, \u001b[32m15\u001b[39m)\n",
       "\u001b[36mres2\u001b[39m: \u001b[32mList\u001b[39m[\u001b[32mInt\u001b[39m] = \u001b[33mList\u001b[39m(\u001b[32m3\u001b[39m, \u001b[32m6\u001b[39m)\n",
       "\u001b[36mlst3\u001b[39m: \u001b[32mList\u001b[39m[\u001b[32mInt\u001b[39m] = \u001b[33mList\u001b[39m(\u001b[32m1\u001b[39m, \u001b[32m5\u001b[39m, \u001b[32m7\u001b[39m, \u001b[32m11\u001b[39m, \u001b[32m13\u001b[39m)\n",
       "\u001b[36mres3\u001b[39m: \u001b[32mList\u001b[39m[\u001b[32mInt\u001b[39m] = \u001b[33mList\u001b[39m()\n",
       "\u001b[36mlst4\u001b[39m: \u001b[32mList\u001b[39m[\u001b[32mInt\u001b[39m] = \u001b[33mList\u001b[39m(\u001b[32m-3\u001b[39m, \u001b[32m-6\u001b[39m, \u001b[32m-9\u001b[39m, \u001b[32m-12\u001b[39m, \u001b[32m-15\u001b[39m, \u001b[32m-18\u001b[39m, \u001b[32m-21\u001b[39m, \u001b[32m-24\u001b[39m)\n",
       "\u001b[36mres4\u001b[39m: \u001b[32mList\u001b[39m[\u001b[32mInt\u001b[39m] = \u001b[33mList\u001b[39m(\u001b[32m0\u001b[39m, \u001b[32m1\u001b[39m, \u001b[32m2\u001b[39m, \u001b[32m3\u001b[39m, \u001b[32m4\u001b[39m, \u001b[32m5\u001b[39m, \u001b[32m6\u001b[39m, \u001b[32m7\u001b[39m)"
      ]
     },
     "execution_count": 99,
     "metadata": {},
     "output_type": "execute_result"
    }
   ],
   "source": [
    "//BEGIN TESTS\n",
    "val lst1 = List(1,3,5,7,6,9,12,11)\n",
    "val res1 = allIndicesDivisibleBy3(lst1)\n",
    "assert(res1 == List(1,4,5,6))\n",
    "\n",
    "val lst2 = List(1,5,7,9,11,13,15)\n",
    "val res2 = allIndicesDivisibleBy3(lst2)\n",
    "assert(res2 == List(3,6))\n",
    "\n",
    "\n",
    "val lst3 = List(1,5,7,11,13)\n",
    "val res3 = allIndicesDivisibleBy3(lst3)\n",
    "assert(res3.length == 0)\n",
    "\n",
    "\n",
    "val lst4 = List(-3,-6,-9,-12,-15,-18,-21,-24)\n",
    "val res4 = allIndicesDivisibleBy3(lst4)\n",
    "assert(res4 == List(0,1,2,3,4,5,6,7))\n",
    "\n",
    "\n",
    "//END TESTS"
   ]
  },
  {
   "cell_type": "markdown",
   "metadata": {
    "deletable": false,
    "editable": false,
    "nbgrader": {
     "cell_type": "markdown",
     "checksum": "a7500e92bba215b72dbf18bc09a71a17",
     "grade": false,
     "grade_id": "cell-065a72cb3c7df59e",
     "locked": true,
     "schema_version": 3,
     "solution": false,
     "task": false
    }
   },
   "source": [
    "## Problem 2E (7 points) : Convert a List of Strings into List of Tuples\n",
    "\n",
    "Write a function that achieves the following.\n",
    "\n",
    "Input: List of String\n",
    "\n",
    "Output: List of 4-tuples: wherein each tuple consists of the corresponding string in the input list, its length, its reverse and its index.\n",
    "\n",
    "See example below. Order of elements in the original list must be preserved.\n",
    "\n",
    "\n",
    "### Example\n",
    "\n",
    "  - Input: List(\"Que\", \"Sera\", \"Sera\", \"Whatever\", \"Will\", \"Be\")\n",
    "  - Output: List( ( \"Que\", 3, \"euQ\", 0), (\"Sera\", 4, \"areS\", 1), (\"Sera\", 4, \"areS\", 2), (\"Whatever\", 8, \"revetahW\", 3), (\"Will\", 4, \"lliW\", 4), (\"Be\", 2, \"eB\", 5)) )\n",
    "\n",
    "\n",
    "**Restrictions**\n",
    "- You are allowed to use `map`, `filter`, `foldLeft`, `foldRight`, `zip` and `zipWithIndex`.\n",
    "- All other list API functions are disallowed.\n",
    "- String API functions: `length` and `reverse` are allowed.\n",
    "- All other string API functions disallowed.\n",
    "- Use of var, recursion or any kind of loop is forbidden.\n",
    "\n"
   ]
  },
  {
   "cell_type": "code",
   "execution_count": 100,
   "metadata": {
    "deletable": false,
    "nbgrader": {
     "cell_type": "code",
     "checksum": "eda82a6fdd397b5d4fc7399608888b21",
     "grade": false,
     "grade_id": "cell-936623db4d48dc12",
     "locked": false,
     "schema_version": 3,
     "solution": true,
     "task": false
    }
   },
   "outputs": [
    {
     "data": {
      "text/plain": [
       "defined \u001b[32mfunction\u001b[39m \u001b[36mconvertListToListTuples\u001b[39m"
      ]
     },
     "execution_count": 100,
     "metadata": {},
     "output_type": "execute_result"
    }
   ],
   "source": [
    "def convertListToListTuples(lst: List[String]): List[(String, Int, String, Int)] = {\n",
    "    // YOUR CODE HERE\n",
    "      val lst2=lst.foldLeft [List[(String, Int, String, Int)]] (List()) (( acc,x) => acc++List((x,x.length,x.reverse,acc.size) ))\n",
    "    lst2\n",
    "}"
   ]
  },
  {
   "cell_type": "code",
   "execution_count": 101,
   "metadata": {
    "deletable": false,
    "editable": false,
    "nbgrader": {
     "cell_type": "code",
     "checksum": "2a81b0fe1310343f19b1e9e9c1a8e845",
     "grade": true,
     "grade_id": "cell-c920ce6277c82861",
     "locked": true,
     "points": 7,
     "schema_version": 3,
     "solution": false,
     "task": false
    }
   },
   "outputs": [
    {
     "name": "stdout",
     "output_type": "stream",
     "text": [
      "Tests Passed (7 points)"
     ]
    },
    {
     "data": {
      "text/plain": [
       "defined \u001b[32mfunction\u001b[39m \u001b[36mloopTestListOfTuples\u001b[39m\n",
       "\u001b[36mlst1\u001b[39m: \u001b[32mList\u001b[39m[\u001b[32mString\u001b[39m] = \u001b[33mList\u001b[39m(\u001b[32m\"Que\"\u001b[39m, \u001b[32m\"Sera\"\u001b[39m, \u001b[32m\"Sera\"\u001b[39m, \u001b[32m\"Whatever\"\u001b[39m, \u001b[32m\"Will\"\u001b[39m, \u001b[32m\"Be\"\u001b[39m)\n",
       "\u001b[36mexpected1\u001b[39m: \u001b[32mList\u001b[39m[(\u001b[32mString\u001b[39m, \u001b[32mInt\u001b[39m, \u001b[32mString\u001b[39m, \u001b[32mInt\u001b[39m)] = \u001b[33mList\u001b[39m(\n",
       "  (\u001b[32m\"Que\"\u001b[39m, \u001b[32m3\u001b[39m, \u001b[32m\"euQ\"\u001b[39m, \u001b[32m0\u001b[39m),\n",
       "  (\u001b[32m\"Sera\"\u001b[39m, \u001b[32m4\u001b[39m, \u001b[32m\"areS\"\u001b[39m, \u001b[32m1\u001b[39m),\n",
       "  (\u001b[32m\"Sera\"\u001b[39m, \u001b[32m4\u001b[39m, \u001b[32m\"areS\"\u001b[39m, \u001b[32m2\u001b[39m),\n",
       "  (\u001b[32m\"Whatever\"\u001b[39m, \u001b[32m8\u001b[39m, \u001b[32m\"revetahW\"\u001b[39m, \u001b[32m3\u001b[39m),\n",
       "  (\u001b[32m\"Will\"\u001b[39m, \u001b[32m4\u001b[39m, \u001b[32m\"lliW\"\u001b[39m, \u001b[32m4\u001b[39m),\n",
       "  (\u001b[32m\"Be\"\u001b[39m, \u001b[32m2\u001b[39m, \u001b[32m\"eB\"\u001b[39m, \u001b[32m5\u001b[39m)\n",
       ")\n",
       "\u001b[36mlst2\u001b[39m: \u001b[32mList\u001b[39m[\u001b[32mString\u001b[39m] = \u001b[33mList\u001b[39m(\u001b[32m\"All\"\u001b[39m, \u001b[32m\"The\"\u001b[39m, \u001b[32m\"World\"\u001b[39m, \u001b[32m\"Is\"\u001b[39m, \u001b[32m\"A\"\u001b[39m, \u001b[32m\"Stage\"\u001b[39m)\n",
       "\u001b[36mexpected2\u001b[39m: \u001b[32mList\u001b[39m[(\u001b[32mString\u001b[39m, \u001b[32mInt\u001b[39m, \u001b[32mString\u001b[39m, \u001b[32mInt\u001b[39m)] = \u001b[33mList\u001b[39m(\n",
       "  (\u001b[32m\"All\"\u001b[39m, \u001b[32m3\u001b[39m, \u001b[32m\"llA\"\u001b[39m, \u001b[32m0\u001b[39m),\n",
       "  (\u001b[32m\"The\"\u001b[39m, \u001b[32m3\u001b[39m, \u001b[32m\"ehT\"\u001b[39m, \u001b[32m1\u001b[39m),\n",
       "  (\u001b[32m\"World\"\u001b[39m, \u001b[32m5\u001b[39m, \u001b[32m\"dlroW\"\u001b[39m, \u001b[32m2\u001b[39m),\n",
       "  (\u001b[32m\"Is\"\u001b[39m, \u001b[32m2\u001b[39m, \u001b[32m\"sI\"\u001b[39m, \u001b[32m3\u001b[39m),\n",
       "  (\u001b[32m\"A\"\u001b[39m, \u001b[32m1\u001b[39m, \u001b[32m\"A\"\u001b[39m, \u001b[32m4\u001b[39m),\n",
       "  (\u001b[32m\"Stage\"\u001b[39m, \u001b[32m5\u001b[39m, \u001b[32m\"egatS\"\u001b[39m, \u001b[32m5\u001b[39m)\n",
       ")\n",
       "\u001b[36mlst3\u001b[39m: \u001b[32mList\u001b[39m[\u001b[32mString\u001b[39m] = \u001b[33mList\u001b[39m(\n",
       "  \u001b[32m\"Cry\"\u001b[39m,\n",
       "  \u001b[32m\"Havoc!\"\u001b[39m,\n",
       "  \u001b[32m\"And\"\u001b[39m,\n",
       "  \u001b[32m\"Let\"\u001b[39m,\n",
       "  \u001b[32m\"Loose\"\u001b[39m,\n",
       "  \u001b[32m\"The\"\u001b[39m,\n",
       "  \u001b[32m\"Dogs\"\u001b[39m,\n",
       "  \u001b[32m\"Of\"\u001b[39m,\n",
       "  \u001b[32m\"War\"\u001b[39m\n",
       ")\n",
       "\u001b[36mexpected3\u001b[39m: \u001b[32mList\u001b[39m[(\u001b[32mString\u001b[39m, \u001b[32mInt\u001b[39m, \u001b[32mString\u001b[39m, \u001b[32mInt\u001b[39m)] = \u001b[33mList\u001b[39m(\n",
       "  (\u001b[32m\"Cry\"\u001b[39m, \u001b[32m3\u001b[39m, \u001b[32m\"yrC\"\u001b[39m, \u001b[32m0\u001b[39m),\n",
       "  (\u001b[32m\"Havoc!\"\u001b[39m, \u001b[32m6\u001b[39m, \u001b[32m\"!covaH\"\u001b[39m, \u001b[32m1\u001b[39m),\n",
       "  (\u001b[32m\"And\"\u001b[39m, \u001b[32m3\u001b[39m, \u001b[32m\"dnA\"\u001b[39m, \u001b[32m2\u001b[39m),\n",
       "  (\u001b[32m\"Let\"\u001b[39m, \u001b[32m3\u001b[39m, \u001b[32m\"teL\"\u001b[39m, \u001b[32m3\u001b[39m),\n",
       "  (\u001b[32m\"Loose\"\u001b[39m, \u001b[32m5\u001b[39m, \u001b[32m\"esooL\"\u001b[39m, \u001b[32m4\u001b[39m),\n",
       "  (\u001b[32m\"The\"\u001b[39m, \u001b[32m3\u001b[39m, \u001b[32m\"ehT\"\u001b[39m, \u001b[32m5\u001b[39m),\n",
       "  (\u001b[32m\"Dogs\"\u001b[39m, \u001b[32m4\u001b[39m, \u001b[32m\"sgoD\"\u001b[39m, \u001b[32m6\u001b[39m),\n",
       "  (\u001b[32m\"Of\"\u001b[39m, \u001b[32m2\u001b[39m, \u001b[32m\"fO\"\u001b[39m, \u001b[32m7\u001b[39m),\n",
       "  (\u001b[32m\"War\"\u001b[39m, \u001b[32m3\u001b[39m, \u001b[32m\"raW\"\u001b[39m, \u001b[32m8\u001b[39m)\n",
       ")\n",
       "\u001b[36mlst4\u001b[39m: \u001b[32mList\u001b[39m[\u001b[32mString\u001b[39m] = \u001b[33mList\u001b[39m(\n",
       "  \u001b[32m\"To\"\u001b[39m,\n",
       "  \u001b[32m\"Be\"\u001b[39m,\n",
       "  \u001b[32m\"Or\"\u001b[39m,\n",
       "  \u001b[32m\"Not\"\u001b[39m,\n",
       "  \u001b[32m\"to\"\u001b[39m,\n",
       "  \u001b[32m\"be\"\u001b[39m,\n",
       "  \u001b[32m\"is\"\u001b[39m,\n",
       "  \u001b[32m\"the\"\u001b[39m,\n",
       "  \u001b[32m\"question\"\u001b[39m\n",
       ")\n",
       "\u001b[36mexpected4\u001b[39m: \u001b[32mList\u001b[39m[(\u001b[32mString\u001b[39m, \u001b[32mInt\u001b[39m, \u001b[32mString\u001b[39m, \u001b[32mInt\u001b[39m)] = \u001b[33mList\u001b[39m(\n",
       "  (\u001b[32m\"To\"\u001b[39m, \u001b[32m2\u001b[39m, \u001b[32m\"oT\"\u001b[39m, \u001b[32m0\u001b[39m),\n",
       "  (\u001b[32m\"Be\"\u001b[39m, \u001b[32m2\u001b[39m, \u001b[32m\"eB\"\u001b[39m, \u001b[32m1\u001b[39m),\n",
       "  (\u001b[32m\"Or\"\u001b[39m, \u001b[32m2\u001b[39m, \u001b[32m\"rO\"\u001b[39m, \u001b[32m2\u001b[39m),\n",
       "  (\u001b[32m\"Not\"\u001b[39m, \u001b[32m3\u001b[39m, \u001b[32m\"toN\"\u001b[39m, \u001b[32m3\u001b[39m),\n",
       "  (\u001b[32m\"to\"\u001b[39m, \u001b[32m2\u001b[39m, \u001b[32m\"ot\"\u001b[39m, \u001b[32m4\u001b[39m),\n",
       "  (\u001b[32m\"be\"\u001b[39m, \u001b[32m2\u001b[39m, \u001b[32m\"eb\"\u001b[39m, \u001b[32m5\u001b[39m),\n",
       "  (\u001b[32m\"is\"\u001b[39m, \u001b[32m2\u001b[39m, \u001b[32m\"si\"\u001b[39m, \u001b[32m6\u001b[39m),\n",
       "  (\u001b[32m\"the\"\u001b[39m, \u001b[32m3\u001b[39m, \u001b[32m\"eht\"\u001b[39m, \u001b[32m7\u001b[39m),\n",
       "  (\u001b[32m\"question\"\u001b[39m, \u001b[32m8\u001b[39m, \u001b[32m\"noitseuq\"\u001b[39m, \u001b[32m8\u001b[39m)\n",
       ")"
      ]
     },
     "execution_count": 101,
     "metadata": {},
     "output_type": "execute_result"
    }
   ],
   "source": [
    "//BEGIN TESTS\n",
    "def loopTestListOfTuples (lst: List[String]): List[(String, Int, String, Int)] = {\n",
    "    var count = 0\n",
    "    var ret_list:List[(String, Int, String, Int)]  = List()\n",
    "    for (elt <- lst){\n",
    "        ret_list = ret_list ++ List((elt, elt.length, elt.reverse, count))\n",
    "        count = count + 1\n",
    "    }\n",
    "    ret_list\n",
    "}\n",
    "\n",
    "val lst1 = List(\"Que\", \"Sera\", \"Sera\", \"Whatever\", \"Will\", \"Be\")\n",
    "val expected1 = loopTestListOfTuples(lst1)\n",
    "assert(convertListToListTuples(lst1) == expected1)\n",
    "\n",
    "val lst2 = List(\"All\", \"The\", \"World\", \"Is\", \"A\", \"Stage\")\n",
    "val expected2 = loopTestListOfTuples(lst2)\n",
    "assert(convertListToListTuples(lst2) == expected2)\n",
    "\n",
    "\n",
    "val lst3 = List(\"Cry\", \"Havoc!\", \"And\", \"Let\", \"Loose\", \"The\", \"Dogs\", \"Of\", \"War\")\n",
    "val expected3 = loopTestListOfTuples(lst3)\n",
    "assert(convertListToListTuples(lst3) == expected3)\n",
    "\n",
    "\n",
    "val lst4 = List(\"To\", \"Be\", \"Or\", \"Not\", \"to\", \"be\", \"is\", \"the\", \"question\")\n",
    "val expected4 = loopTestListOfTuples(lst4)\n",
    "assert(convertListToListTuples(lst4) == expected4)\n",
    "\n",
    "// END TESTS\n",
    "passed(7)\n"
   ]
  },
  {
   "cell_type": "markdown",
   "metadata": {
    "deletable": false,
    "editable": false,
    "nbgrader": {
     "cell_type": "markdown",
     "checksum": "47c3cd69f8cc8018ed3cd9f9206e1164",
     "grade": false,
     "grade_id": "cell-1de14d7f940a930f",
     "locked": true,
     "schema_version": 3,
     "solution": false
    }
   },
   "source": [
    "### F (9 points): Convert a list into an indexed list.\n",
    "\n",
    "Write a function to convert a list of strings into an indexed list of strings.  Indices for this particular problem must start at 1.\n",
    "\n",
    "**Example**\n",
    "\n",
    "__Input__ List(\"hello\", \"world\", \"my\", \"cat\", \"is\", \"grumpy\", \"today\")\n",
    "\n",
    "__Output__  List( (\"hello\", 1), (\"world\", 2), (\"my\", 3), (\"cat\", 4), (\"is\", 5), (\"grumpy\", 6), (\"today\", 7) )\n",
    "\n",
    "\n",
    "**Restrictions**\n",
    "\n",
    "- You are allowed to use just the basic list operations such as cons of an element to a list (::), concatenation of two lists (++, or ::: operators) and list length operations.\n",
    "- List API functions `length`, `reverse`, `map`, `filter`, `foldLeft` and `foldRight` are allowed.\n",
    "- No other list API functions (specifically use of the function `zipWithIndex` or `zip` will result in 0 points for the problem).\n",
    "- __var__, __loops__ or __recursion__ are not allowed.\n",
    "\n",
    "**Hint**\n",
    "\n",
    "- Use `foldLeft` that accumulate a list of tuples, wherein each tuple has a string and a number.\n",
    "- The size of the accumulator + 1 provides you with the \"index\" of the current element.\n"
   ]
  },
  {
   "cell_type": "code",
   "execution_count": 102,
   "metadata": {
    "deletable": false,
    "nbgrader": {
     "cell_type": "code",
     "checksum": "9a4b50799a46eb0980c1b868a76a922a",
     "grade": false,
     "grade_id": "cell-0c984f492b25b8b4",
     "locked": false,
     "schema_version": 3,
     "solution": true
    }
   },
   "outputs": [
    {
     "data": {
      "text/plain": [
       "defined \u001b[32mfunction\u001b[39m \u001b[36mmakeIndexedList\u001b[39m"
      ]
     },
     "execution_count": 102,
     "metadata": {},
     "output_type": "execute_result"
    }
   ],
   "source": [
    "\n",
    "def makeIndexedList(lst:List[String]): List[(String, Int)] = {\n",
    "    // YOUR CODE HERE\n",
    "   val lst2=lst.foldLeft [List[(String,Int)]] (List()) (( acc,x) => acc++List((x,1+acc.size)) )\n",
    "    lst2\n",
    "}"
   ]
  },
  {
   "cell_type": "code",
   "execution_count": 103,
   "metadata": {
    "deletable": false,
    "editable": false,
    "nbgrader": {
     "cell_type": "code",
     "checksum": "8950bba9f469754429f705c4e9a48306",
     "grade": true,
     "grade_id": "cell-8c49d31044f1e0ae",
     "locked": true,
     "points": 9,
     "schema_version": 3,
     "solution": false
    }
   },
   "outputs": [
    {
     "name": "stdout",
     "output_type": "stream",
     "text": [
      "Tests Passed (9 points)"
     ]
    },
    {
     "data": {
      "text/plain": [
       "\u001b[36mt1\u001b[39m: \u001b[32mList\u001b[39m[(\u001b[32mString\u001b[39m, \u001b[32mInt\u001b[39m)] = \u001b[33mList\u001b[39m((\u001b[32m\"hello\"\u001b[39m, \u001b[32m1\u001b[39m))\n",
       "\u001b[36mt2\u001b[39m: \u001b[32mList\u001b[39m[(\u001b[32mString\u001b[39m, \u001b[32mInt\u001b[39m)] = \u001b[33mList\u001b[39m((\u001b[32m\"hello\"\u001b[39m, \u001b[32m1\u001b[39m), (\u001b[32m\"world\"\u001b[39m, \u001b[32m2\u001b[39m))\n",
       "\u001b[36mt3\u001b[39m: \u001b[32mList\u001b[39m[(\u001b[32mString\u001b[39m, \u001b[32mInt\u001b[39m)] = \u001b[33mList\u001b[39m()\n",
       "\u001b[36mt4\u001b[39m: \u001b[32mList\u001b[39m[(\u001b[32mString\u001b[39m, \u001b[32mInt\u001b[39m)] = \u001b[33mList\u001b[39m((\u001b[32m\"a\"\u001b[39m, \u001b[32m1\u001b[39m), (\u001b[32m\"b\"\u001b[39m, \u001b[32m2\u001b[39m), (\u001b[32m\"c\"\u001b[39m, \u001b[32m3\u001b[39m), (\u001b[32m\"d\"\u001b[39m, \u001b[32m4\u001b[39m), (\u001b[32m\"e\"\u001b[39m, \u001b[32m5\u001b[39m))"
      ]
     },
     "execution_count": 103,
     "metadata": {},
     "output_type": "execute_result"
    }
   ],
   "source": [
    "// BEGIN TEST\n",
    "val t1 = makeIndexedList(List(\"hello\"))\n",
    "assert(t1 == List((\"hello\", 1)), s\"Test 1 failed - your code returned $t1\")\n",
    "\n",
    "val t2 = makeIndexedList(List(\"hello\", \"world\"))\n",
    "assert(t2 == List((\"hello\", 1), (\"world\", 2)), s\"Test 2 failed - your code returned $t2\")\n",
    "\n",
    "val t3 = makeIndexedList(Nil)\n",
    "assert(t3 == Nil, s\"Test 3 failed - your code returned $t3\")\n",
    "\n",
    "val t4 = makeIndexedList(List(\"a\",\"b\",\"c\",\"d\",\"e\"))\n",
    "assert(t4 == List((\"a\",1), (\"b\",2), (\"c\",3), (\"d\",4), (\"e\",5)), s\"Test 4 failed - your code returned $t4\")\n",
    "\n",
    "passed(9)\n",
    "// END TEST"
   ]
  },
  {
   "cell_type": "markdown",
   "metadata": {
    "deletable": false,
    "editable": false,
    "nbgrader": {
     "cell_type": "markdown",
     "checksum": "d75336eeeecd7f249fcec906d891b838",
     "grade": false,
     "grade_id": "cell-0272d508d2481088",
     "locked": true,
     "schema_version": 3,
     "solution": false
    }
   },
   "source": [
    "### G: Partitioning a list (5 points)\n",
    "\n",
    "Given a list of numbers, partition the list into a pair of lists where the first list contains only the even numbers and the second list contains only the odd numbers. Both the output lists must contain the elements in the same order as they occur in the input list. The result of partition an empty list is a pair of empty lists.\n",
    "\n",
    "Example:\n",
    "\n",
    "Input: List(1, 2, 8, 7, 5)\n",
    "\n",
    "Output: (List(2,8), List(1,7,5))\n",
    "\n",
    "**Restrictions**\n",
    "\n",
    "- You are allowed to use just the basic list operatios such as cons of an element to a list (::) and concatenation of two lists (++, or ::: operators). \n",
    "- List API functions  `map`, `filter`, `foldLeft` and `foldRight` but no other list API functions. \n",
    "- Do not use __var__, __loops__ or __recursion__.\n"
   ]
  },
  {
   "cell_type": "code",
   "execution_count": 104,
   "metadata": {
    "deletable": false,
    "nbgrader": {
     "cell_type": "code",
     "checksum": "d4a11aacd5dd7ade92ab29fb179ab62d",
     "grade": false,
     "grade_id": "cell-61ba46072b910129",
     "locked": false,
     "schema_version": 3,
     "solution": true
    }
   },
   "outputs": [
    {
     "data": {
      "text/plain": [
       "defined \u001b[32mfunction\u001b[39m \u001b[36moddEvenPartition\u001b[39m"
      ]
     },
     "execution_count": 104,
     "metadata": {},
     "output_type": "execute_result"
    }
   ],
   "source": [
    "def oddEvenPartition(lst: List[Int]): (List[Int], List[Int]) = {\n",
    "    // YOUR CODE HERE\n",
    "   val lst2:(List[Int], List[Int])=(lst.filter(x=>x%2==0) ,lst.filter(x=>x%2!=0))\n",
    "    lst2\n",
    "   \n",
    "}"
   ]
  },
  {
   "cell_type": "code",
   "execution_count": 105,
   "metadata": {
    "deletable": false,
    "editable": false,
    "nbgrader": {
     "cell_type": "code",
     "checksum": "75ddf2b987e5351a8a5d58484d9268c5",
     "grade": true,
     "grade_id": "cell-b766aa2568f6e251",
     "locked": true,
     "points": 5,
     "schema_version": 3,
     "solution": false
    }
   },
   "outputs": [
    {
     "name": "stdout",
     "output_type": "stream",
     "text": [
      "Tests Passed (5 points)"
     ]
    },
    {
     "data": {
      "text/plain": [
       "\u001b[36mx\u001b[39m: (\u001b[32mList\u001b[39m[\u001b[32mInt\u001b[39m], \u001b[32mList\u001b[39m[\u001b[32mInt\u001b[39m]) = (\u001b[33mList\u001b[39m(\u001b[32m2\u001b[39m, \u001b[32m8\u001b[39m), \u001b[33mList\u001b[39m(\u001b[32m1\u001b[39m, \u001b[32m7\u001b[39m, \u001b[32m5\u001b[39m))\n",
       "\u001b[36my\u001b[39m: (\u001b[32mList\u001b[39m[\u001b[32mInt\u001b[39m], \u001b[32mList\u001b[39m[\u001b[32mInt\u001b[39m]) = (\u001b[33mList\u001b[39m(\u001b[32m18\u001b[39m, \u001b[32m20\u001b[39m), \u001b[33mList\u001b[39m(\u001b[32m23\u001b[39m, \u001b[32m15\u001b[39m))\n",
       "\u001b[36mz\u001b[39m: (\u001b[32mList\u001b[39m[\u001b[32mInt\u001b[39m], \u001b[32mList\u001b[39m[\u001b[32mInt\u001b[39m]) = (\u001b[33mList\u001b[39m(\u001b[32m14\u001b[39m, \u001b[32m12\u001b[39m, \u001b[32m18\u001b[39m, \u001b[32m20\u001b[39m), \u001b[33mList\u001b[39m())\n",
       "\u001b[36mw\u001b[39m: (\u001b[32mList\u001b[39m[\u001b[32mInt\u001b[39m], \u001b[32mList\u001b[39m[\u001b[32mInt\u001b[39m]) = (\u001b[33mList\u001b[39m(), \u001b[33mList\u001b[39m())"
      ]
     },
     "execution_count": 105,
     "metadata": {},
     "output_type": "execute_result"
    }
   ],
   "source": [
    "// BEGIN TEST\n",
    "val x = oddEvenPartition(List(1, 2, 8, 7, 5))\n",
    "assert(x._1 == List(2,8) && x._2 == List(1,7,5), s\"Test 1 failed -- your code returned $x\")\n",
    "\n",
    "val y = oddEvenPartition(List(23, 18, 20, 15))\n",
    "assert(y._1 == List(18,20) && y._2 == List(23,15), s\"Test 2 failed -- your code returned $y\")\n",
    "\n",
    "val z = oddEvenPartition(List(14, 12, 18, 20))\n",
    "assert(z._1 == List(14, 12, 18, 20) && z._2 == List(), s\"Test 3 failed -- your code returned $z\")\n",
    "\n",
    "val w = oddEvenPartition(List())\n",
    "assert(w._1 == List() && w._2 == List(), s\"Test 4 failed -- your code returned $w\")\n",
    "\n",
    "passed(5)\n",
    "// END TEST"
   ]
  },
  {
   "cell_type": "code",
   "execution_count": null,
   "metadata": {},
   "outputs": [],
   "source": []
  }
 ],
 "metadata": {
  "kernelspec": {
   "display_name": "Scala",
   "language": "scala",
   "name": "scala"
  },
  "language_info": {
   "codemirror_mode": "text/x-scala",
   "file_extension": ".sc",
   "mimetype": "text/x-scala",
   "name": "scala",
   "nbconvert_exporter": "script",
   "version": "2.13.3"
  }
 },
 "nbformat": 4,
 "nbformat_minor": 4
}
