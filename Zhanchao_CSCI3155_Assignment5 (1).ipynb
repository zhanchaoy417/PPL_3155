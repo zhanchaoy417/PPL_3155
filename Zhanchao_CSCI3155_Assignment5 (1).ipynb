{
 "cells": [
  {
   "cell_type": "markdown",
   "metadata": {},
   "source": [
    "Before you turn this problem in, make sure everything runs as expected. \n",
    "  1. First, **restart the kernel** (in the menubar, select Kernel$\\rightarrow$Restart) and \n",
    "  2. Then **run all cells** (in the menubar, select Cell$\\rightarrow$Run All).\n",
    "\n",
    "Make sure you fill in any place that says `YOUR CODE HERE` or \"YOUR ANSWER HERE\", as well as your name below. "
   ]
  },
  {
   "cell_type": "markdown",
   "metadata": {},
   "source": [
    "---"
   ]
  },
  {
   "cell_type": "markdown",
   "metadata": {
    "deletable": false,
    "editable": false,
    "nbgrader": {
     "cell_type": "markdown",
     "checksum": "10d8421bd9aaaac48ddc1a6e458c27c4",
     "grade": false,
     "grade_id": "cell-12d4d54eb5df4c25",
     "locked": true,
     "schema_version": 3,
     "solution": false,
     "task": false
    }
   },
   "source": [
    "# CSCI 3155 : Assignment 5\n",
    "\n",
    "\n",
    "Topics Covered:\n",
    "  - Let binding semantics\n",
    "  - Scopes\n",
    "  - Function calls"
   ]
  },
  {
   "cell_type": "markdown",
   "metadata": {},
   "source": [
    "__YOUR NAME HERE__\n",
    "\n",
    "Note: Please first run the `TEST HELPER` cell that defines the `passed` function below. Failing to run this cell will make it hard for you to check your work."
   ]
  },
  {
   "cell_type": "code",
   "execution_count": 32,
   "metadata": {
    "deletable": false,
    "editable": false,
    "nbgrader": {
     "cell_type": "code",
     "checksum": "86ef6ac50594512173d959494dba3da6",
     "grade": false,
     "grade_id": "cell-78353727eb378a16",
     "locked": true,
     "schema_version": 3,
     "solution": false,
     "task": false
    }
   },
   "outputs": [
    {
     "data": {
      "text/plain": [
       "defined \u001b[32mfunction\u001b[39m \u001b[36mpassed\u001b[39m"
      ]
     },
     "execution_count": 32,
     "metadata": {},
     "output_type": "execute_result"
    }
   ],
   "source": [
    "// TEST HELPER\n",
    "def passed(points: Int) {\n",
    "    require(points >=0)\n",
    "    if (points == 1) print(s\"Tests Passed (1 point)\")\n",
    "    else print(s\"Tests Passed ($points points)\") \n",
    "}"
   ]
  },
  {
   "cell_type": "markdown",
   "metadata": {
    "deletable": false,
    "editable": false,
    "nbgrader": {
     "cell_type": "markdown",
     "checksum": "530da9c5df21be47ea4a4ad30248eaf4",
     "grade": false,
     "grade_id": "cell-fbc647b0aaee3fc6",
     "locked": true,
     "schema_version": 3,
     "solution": false,
     "task": false
    }
   },
   "source": [
    "## Problem 1: Multiple Simultaneous Let Bindings (25 points)"
   ]
  },
  {
   "cell_type": "markdown",
   "metadata": {
    "deletable": false,
    "editable": false,
    "nbgrader": {
     "cell_type": "markdown",
     "checksum": "1f6511c4a5ec01a45fa967176ad990f6",
     "grade": false,
     "grade_id": "cell-23c9f7992612ebe8",
     "locked": true,
     "schema_version": 3,
     "solution": false,
     "task": false
    }
   },
   "source": [
    "In class, we studied let bindings that assigned a \"single\" identifier to a \"single\" expression. Here, we will extend lettuce with multiple let bindings at the same time:\n",
    "\n",
    "## Example 1 \n",
    "~~~\n",
    "let (x, y, z) = (10, 25.6, 30.3) in \n",
    "   x - y * z\n",
    "~~~\n",
    "\n",
    "The program computes `10 - 25.6 * 30.3`.\n",
    "\n",
    "## Example 2\n",
    "\n",
    " In multi-let binding, we treat all the assignments as happening \"sequentially\". For instance, the program \n",
    "\n",
    "~~~\n",
    "let (x, y, z) = (10, x, y - x) in \n",
    "  x - y * z\n",
    "~~~\n",
    "\n",
    "should evaluate the same as\n",
    "\n",
    "~~~\n",
    "let x = 10 in \n",
    "   let y = x in \n",
    "     let z = y - x in \n",
    "        x - y * z\n",
    "~~~\n",
    "\n",
    "I.e, it should evaluate to 10\n",
    "\n",
    "## Example 3\n",
    "\n",
    "~~~\n",
    "let x = 15 in \n",
    "  let (x, y, z) = (x*x, -10 *x, -2*x) in \n",
    "     x + y + z\n",
    "~~~\n",
    "\n",
    "Note that the usage `x*x` refers to the previous let binding that assigned `x` to `15`. However, the let bindings for `y` and `z` refer to the binding where `x` is redefined to be `15 * 15`.\n",
    "\n",
    "\n",
    "## Grammar of Lettuce\n",
    "\n",
    "Let us extend a minimalistic subset of Lettuce by adding a `MultiLet` statement as shown below.\n",
    "$$\\newcommand\\Expr{\\mathbf{Expr}}$$\n",
    "\n",
    "$$\\begin{array}{rcll}\n",
    "  \\Expr & \\Rightarrow & \\text{Const}(\\mathbf{Double}) \\\\\n",
    "  & | & \\text{Ident}(\\mathbf{String}) \\\\\n",
    "  & | & \\text{Plus}(\\mathbf{Expr}, \\mathbf{Expr}) \\\\\n",
    "  & | & \\text{Mult}(\\mathbf{Expr}, \\mathbf{Expr})\\\\\n",
    "  & | & \\text{Let}(\\mathbf{Ident}, \\mathbf{Expr}, \\mathbf{Expr}) \\\\\n",
    "  & | & \\text{MultiLet}(\\mathbf{Ident}*, \\mathbf{Expr}*, \\mathbf{Expr}) & \\leftarrow\\ \\text{ let (x1, .., xn) = (e1, ...,en) in e } \\\\\n",
    "  & & & \\text{Note: Number of identifiers n must match number of expressions n, or else evaluate to error }\\\\\n",
    "  \\end{array}$$\n",
    "  \n",
    "The scala definitions are given below."
   ]
  },
  {
   "cell_type": "code",
   "execution_count": 33,
   "metadata": {
    "deletable": false,
    "editable": false,
    "nbgrader": {
     "cell_type": "code",
     "checksum": "d3d2515164c83972e6486ae94811b707",
     "grade": false,
     "grade_id": "cell-0721126a00877145",
     "locked": true,
     "schema_version": 3,
     "solution": false,
     "task": false
    }
   },
   "outputs": [
    {
     "data": {
      "text/plain": [
       "defined \u001b[32mtrait\u001b[39m \u001b[36mExpr\u001b[39m\n",
       "defined \u001b[32mclass\u001b[39m \u001b[36mConst\u001b[39m\n",
       "defined \u001b[32mclass\u001b[39m \u001b[36mIdent\u001b[39m\n",
       "defined \u001b[32mclass\u001b[39m \u001b[36mPlus\u001b[39m\n",
       "defined \u001b[32mclass\u001b[39m \u001b[36mMult\u001b[39m\n",
       "defined \u001b[32mclass\u001b[39m \u001b[36mLet\u001b[39m\n",
       "defined \u001b[32mclass\u001b[39m \u001b[36mMultiLet\u001b[39m"
      ]
     },
     "execution_count": 33,
     "metadata": {},
     "output_type": "execute_result"
    }
   ],
   "source": [
    "sealed trait Expr\n",
    "case class Const(d: Double) extends Expr\n",
    "case class Ident(s: String) extends Expr\n",
    "case class Plus(e1: Expr, e2: Expr) extends Expr\n",
    "case class Mult(e1: Expr, e2: Expr) extends Expr \n",
    "case class Let(id: String, e1: Expr, e2: Expr) extends Expr\n",
    "case class MultiLet(id: List[String], eList: List[Expr], eBody: Expr) extends Expr"
   ]
  },
  {
   "cell_type": "markdown",
   "metadata": {
    "deletable": false,
    "editable": false,
    "nbgrader": {
     "cell_type": "markdown",
     "checksum": "b2e34a2942b28bd818ce6a22eaa83219",
     "grade": false,
     "grade_id": "cell-ff5684de0dab161b",
     "locked": true,
     "schema_version": 3,
     "solution": false,
     "task": false
    }
   },
   "source": [
    "## Semantics for MultiLet\n",
    "\n",
    "$$\\newcommand\\semrule[3]{\\begin{array}{c} #1 \\\\ \\hline #2 \\\\ \\end{array}(\\text{#3})} $$\n",
    "\n",
    "Let us write down the semantic rules for a multilet statement:\n",
    "\n",
    "$$\\newcommand\\eval{\\textit{eval}}$$\n",
    "$$\\semrule{ {n \\geq 1},\\  \\eval(\\texttt{e1}, \\texttt{env})= v_1,\\ v_1 \\not= \\mathbf{error},\\ \\texttt{newenv} = env \\circ \\{ \\texttt{x1} \\mapsto v_1\\} }{ \\eval( \\texttt{MultiLet([x1,..,xn], [e1,...,en], eBody), env}) = \\eval(\\texttt{MultiLet([x2,..., xn], [e2, ..., en], eBody)}, \\texttt{newenv})}{multilet-non-empty}$$\n",
    "\n",
    "The semantic rule above tells you that\n",
    "  - If $n \\geq 1$, i.e., your multilet statement has one more bindings happening,\n",
    "  - Evaluate the very first expression `e1`under the environment `env`.\n",
    "  - Next, if this is evaluated without an error, it tells you to update the map `env` by binding  `x1` to $v_1$, the result of evaluating `e1` to obtain a new environment called `newenv`.\n",
    "  - Finally, you should evaluate the \"remaining\" multilet binding that binds `[x2,...,xn]` to `[e2,...,en]`, respectively under the environment `newenv` from previous step. Note that we are providing a recursive definition of the `MultiLet` statement.\n",
    "\n",
    "We will now provide the last rule for an \"empty\" multilet statement:\n",
    "\n",
    "$$\\semrule{}{ \\eval( \\texttt{MultiLet([], [], eBody), env}) = \\eval(\\texttt{eBody}, env)}{multilet-empty}$$\n",
    "\n",
    "We will let you fill in the error rules. The interpreter will raise an `IllegalArgumentException` whenever an error is encountered.\n",
    "\n",
    "### Interpreter for MultiLet Statements\n",
    "\n",
    "Implement an interpreter for the lettuce language with `multi-let` statements. Your interpreter does not need to \"propagate\" error: instead you should throw an `IllegalArgumentException` whenever an error is encountered. \n",
    "\n",
    "### Style Guide\n",
    "\n",
    "Use of var/while/for loops in your solution below is disallowed.\n"
   ]
  },
  {
   "cell_type": "code",
   "execution_count": 34,
   "metadata": {
    "deletable": false,
    "nbgrader": {
     "cell_type": "code",
     "checksum": "f44e0721a6c334db26b9178d3629e6c1",
     "grade": false,
     "grade_id": "cell-b0c581e7fd05ee58",
     "locked": false,
     "schema_version": 3,
     "solution": true,
     "task": false
    }
   },
   "outputs": [
    {
     "data": {
      "text/plain": [
       "defined \u001b[32mtrait\u001b[39m \u001b[36mValue\u001b[39m\n",
       "defined \u001b[32mclass\u001b[39m \u001b[36mNumValue\u001b[39m\n",
       "defined \u001b[32mobject\u001b[39m \u001b[36mError\u001b[39m\n",
       "defined \u001b[32mtype\u001b[39m \u001b[36mEnvironment\u001b[39m\n",
       "defined \u001b[32mfunction\u001b[39m \u001b[36mevalExpr\u001b[39m"
      ]
     },
     "execution_count": 34,
     "metadata": {},
     "output_type": "execute_result"
    }
   ],
   "source": [
    "sealed trait Value\n",
    "case class NumValue(f: Double) extends Value\n",
    "case object Error extends Value /* -- Do not return Error -- simply throw an new IllegalArgumentException whenever you encounter an erroneous case --*/\n",
    "\n",
    "type Environment = Map[String, Value]\n",
    "\n",
    "def evalExpr(e: Expr, env: Environment): Value = {\n",
    "    \n",
    "    e match {\n",
    "        case Const(f) => NumValue(f)\n",
    "        case Ident(x) => { \n",
    "            if (env.contains(x)) { \n",
    "                env(x)\n",
    "            } else {\n",
    "                throw new IllegalArgumentException(\"Not found identifier\")\n",
    "            }\n",
    "        }\n",
    "        case Plus(e1, e2) => {\n",
    "            val v1 = evalExpr(e1, env)\n",
    "            val v2 = evalExpr(e2, env)\n",
    "            (v1, v2) match {\n",
    "                case (NumValue(f1), NumValue(f2)) => NumValue(f1 + f2)\n",
    "                case _ => throw new IllegalArgumentException(\"plus failed\")\n",
    "            }\n",
    "        }\n",
    "        case Mult(e1, e2) => {\n",
    "            val v1 = evalExpr(e1, env)\n",
    "            val v2 = evalExpr(e2, env)\n",
    "            (v1, v2) match {\n",
    "                case (NumValue(f1), NumValue(f2)) => NumValue(f1 * f2)\n",
    "                case _ => throw new IllegalArgumentException(\"mult failed\")\n",
    "            }\n",
    "        }\n",
    "        case Let(x, e1, e2) => {\n",
    "            // YOUR CODE HERE\n",
    "           val v1 = evalExpr(e1, env)\n",
    "           val env2=env++Map(x -> v1) \n",
    "           evalExpr(e2,env2)\n",
    "        }\n",
    "       case MultiLet(xList, eList, eBody) => {\n",
    "            // YOUR CODE HERE\n",
    "           (xList,eList)match\n",
    "           {\n",
    "               case(Nil,Nil)=>evalExpr(eBody,env)\n",
    "               case (x1::restX,e1::restE)=> {\n",
    "                   val v1= evalExpr(e1,env)\n",
    "                   val env2=env++Map(x1 -> v1)\n",
    "                   evalExpr(MultiLet(restX, restE, eBody),env2)\n",
    "           }\n",
    "           \n",
    "            case _ => throw new IllegalArgumentException\n",
    "            \n",
    "        }\n",
    "       }\n",
    "    }\n",
    "}"
   ]
  },
  {
   "cell_type": "code",
   "execution_count": 35,
   "metadata": {
    "deletable": false,
    "editable": false,
    "nbgrader": {
     "cell_type": "code",
     "checksum": "8b6d6117af9124f99b9f46f26e269b36",
     "grade": true,
     "grade_id": "cell-057ff52ae71bca9f",
     "locked": true,
     "points": 6,
     "schema_version": 3,
     "solution": false,
     "task": false
    }
   },
   "outputs": [
    {
     "name": "stdout",
     "output_type": "stream",
     "text": [
      "Tests Passed (6 points)"
     ]
    },
    {
     "data": {
      "text/plain": [
       "\u001b[36mx\u001b[39m: \u001b[32mIdent\u001b[39m = \u001b[33mIdent\u001b[39m(\u001b[32m\"x\"\u001b[39m)\n",
       "\u001b[36my\u001b[39m: \u001b[32mIdent\u001b[39m = \u001b[33mIdent\u001b[39m(\u001b[32m\"y\"\u001b[39m)\n",
       "\u001b[36mlet1\u001b[39m: \u001b[32mLet\u001b[39m = \u001b[33mLet\u001b[39m(\u001b[32m\"x\"\u001b[39m, \u001b[33mIdent\u001b[39m(\u001b[32m\"y\"\u001b[39m), \u001b[33mPlus\u001b[39m(\u001b[33mIdent\u001b[39m(\u001b[32m\"x\"\u001b[39m), \u001b[33mMult\u001b[39m(\u001b[33mIdent\u001b[39m(\u001b[32m\"x\"\u001b[39m), \u001b[33mIdent\u001b[39m(\u001b[32m\"y\"\u001b[39m))))\n",
       "\u001b[36mmlet1\u001b[39m: \u001b[32mMultiLet\u001b[39m = \u001b[33mMultiLet\u001b[39m(\n",
       "  \u001b[33mList\u001b[39m(\u001b[32m\"x\"\u001b[39m, \u001b[32m\"y\"\u001b[39m),\n",
       "  \u001b[33mList\u001b[39m(\u001b[33mConst\u001b[39m(\u001b[32m10.0\u001b[39m), \u001b[33mConst\u001b[39m(\u001b[32m20.0\u001b[39m)),\n",
       "  \u001b[33mLet\u001b[39m(\u001b[32m\"x\"\u001b[39m, \u001b[33mIdent\u001b[39m(\u001b[32m\"y\"\u001b[39m), \u001b[33mPlus\u001b[39m(\u001b[33mIdent\u001b[39m(\u001b[32m\"x\"\u001b[39m), \u001b[33mMult\u001b[39m(\u001b[33mIdent\u001b[39m(\u001b[32m\"x\"\u001b[39m), \u001b[33mIdent\u001b[39m(\u001b[32m\"y\"\u001b[39m))))\n",
       ")\n",
       "\u001b[36mv\u001b[39m: \u001b[32mValue\u001b[39m = \u001b[33mNumValue\u001b[39m(\u001b[32m420.0\u001b[39m)"
      ]
     },
     "execution_count": 35,
     "metadata": {},
     "output_type": "execute_result"
    }
   ],
   "source": [
    "//BEGIN TEST\n",
    "/*\n",
    " let (x, y) = (10, 20) in \n",
    "    let x = y in \n",
    "      x +  x * y\n",
    "*/\n",
    "val x = Ident(\"x\")\n",
    "val y = Ident(\"y\")\n",
    "val let1 = Let(\"x\", y, Plus(x, Mult(x, y)) )\n",
    "val mlet1 = MultiLet( List(\"x\", \"y\"), List(Const(10.0), Const(20.0)), let1)\n",
    "val v = evalExpr(mlet1, Map.empty)\n",
    "assert(v == NumValue(420.0), s\"Test 1 failed expected: NumValue(420.0), obtained $v\")\n",
    "\n",
    "passed(6)\n",
    "//END TEST"
   ]
  },
  {
   "cell_type": "code",
   "execution_count": 36,
   "metadata": {
    "deletable": false,
    "editable": false,
    "nbgrader": {
     "cell_type": "code",
     "checksum": "ae6d5326e075a154d030a74b442f5390",
     "grade": true,
     "grade_id": "cell-0e289e2aff61b5b0",
     "locked": true,
     "points": 6,
     "schema_version": 3,
     "solution": false,
     "task": false
    }
   },
   "outputs": [
    {
     "name": "stdout",
     "output_type": "stream",
     "text": [
      "Tests Passed (6 points)"
     ]
    },
    {
     "data": {
      "text/plain": [
       "\u001b[36mx\u001b[39m: \u001b[32mIdent\u001b[39m = \u001b[33mIdent\u001b[39m(\u001b[32m\"x\"\u001b[39m)\n",
       "\u001b[36my\u001b[39m: \u001b[32mIdent\u001b[39m = \u001b[33mIdent\u001b[39m(\u001b[32m\"y\"\u001b[39m)\n",
       "\u001b[36mlet1\u001b[39m: \u001b[32mLet\u001b[39m = \u001b[33mLet\u001b[39m(\u001b[32m\"x\"\u001b[39m, \u001b[33mIdent\u001b[39m(\u001b[32m\"y\"\u001b[39m), \u001b[33mPlus\u001b[39m(\u001b[33mIdent\u001b[39m(\u001b[32m\"x\"\u001b[39m), \u001b[33mMult\u001b[39m(\u001b[33mIdent\u001b[39m(\u001b[32m\"x\"\u001b[39m), \u001b[33mIdent\u001b[39m(\u001b[32m\"y\"\u001b[39m))))\n",
       "\u001b[36mmlet1\u001b[39m: \u001b[32mMultiLet\u001b[39m = \u001b[33mMultiLet\u001b[39m(\n",
       "  \u001b[33mList\u001b[39m(\u001b[32m\"x\"\u001b[39m, \u001b[32m\"y\"\u001b[39m),\n",
       "  \u001b[33mList\u001b[39m(\u001b[33mConst\u001b[39m(\u001b[32m10.0\u001b[39m), \u001b[33mIdent\u001b[39m(\u001b[32m\"x\"\u001b[39m)),\n",
       "  \u001b[33mLet\u001b[39m(\u001b[32m\"x\"\u001b[39m, \u001b[33mIdent\u001b[39m(\u001b[32m\"y\"\u001b[39m), \u001b[33mPlus\u001b[39m(\u001b[33mIdent\u001b[39m(\u001b[32m\"x\"\u001b[39m), \u001b[33mMult\u001b[39m(\u001b[33mIdent\u001b[39m(\u001b[32m\"x\"\u001b[39m), \u001b[33mIdent\u001b[39m(\u001b[32m\"y\"\u001b[39m))))\n",
       ")\n",
       "\u001b[36mv\u001b[39m: \u001b[32mValue\u001b[39m = \u001b[33mNumValue\u001b[39m(\u001b[32m110.0\u001b[39m)"
      ]
     },
     "execution_count": 36,
     "metadata": {},
     "output_type": "execute_result"
    }
   ],
   "source": [
    "//BEGIN TEST\n",
    "/*\n",
    " let (x, y) = (10, x) in \n",
    "    let x = y in \n",
    "      x +  x * y\n",
    "*/\n",
    "val x = Ident(\"x\")\n",
    "val y = Ident(\"y\")\n",
    "val let1 = Let(\"x\", y, Plus(x, Mult(x, y)) )\n",
    "val mlet1 = MultiLet( List(\"x\", \"y\"), List(Const(10.0), x), let1)\n",
    "val v = evalExpr(mlet1, Map.empty)\n",
    "assert(v == NumValue(110.0), s\"Test Failed: expected NumValue(110.0), your code returns $v\")\n",
    "\n",
    "\n",
    "passed(6)\n",
    "//END TEST"
   ]
  },
  {
   "cell_type": "code",
   "execution_count": 37,
   "metadata": {
    "deletable": false,
    "editable": false,
    "nbgrader": {
     "cell_type": "code",
     "checksum": "d7d3be714ad4a36eee0192e5e15861d1",
     "grade": true,
     "grade_id": "cell-0b8bac4591e81507",
     "locked": true,
     "points": 6,
     "schema_version": 3,
     "solution": false,
     "task": false
    }
   },
   "outputs": [
    {
     "name": "stdout",
     "output_type": "stream",
     "text": [
      "Tests Passed (6 points)"
     ]
    },
    {
     "data": {
      "text/plain": [
       "\u001b[36mx\u001b[39m: \u001b[32mIdent\u001b[39m = \u001b[33mIdent\u001b[39m(\u001b[32m\"x\"\u001b[39m)\n",
       "\u001b[36my\u001b[39m: \u001b[32mIdent\u001b[39m = \u001b[33mIdent\u001b[39m(\u001b[32m\"y\"\u001b[39m)\n",
       "\u001b[36mz\u001b[39m: \u001b[32mIdent\u001b[39m = \u001b[33mIdent\u001b[39m(\u001b[32m\"z\"\u001b[39m)\n",
       "\u001b[36mw\u001b[39m: \u001b[32mIdent\u001b[39m = \u001b[33mIdent\u001b[39m(\u001b[32m\"w\"\u001b[39m)\n",
       "\u001b[36mten\u001b[39m: \u001b[32mConst\u001b[39m = \u001b[33mConst\u001b[39m(\u001b[32m10.0\u001b[39m)\n",
       "\u001b[36mtwenty\u001b[39m: \u001b[32mConst\u001b[39m = \u001b[33mConst\u001b[39m(\u001b[32m20.0\u001b[39m)\n",
       "\u001b[36minnerLet2\u001b[39m: \u001b[32mLet\u001b[39m = \u001b[33mLet\u001b[39m(\n",
       "  \u001b[32m\"w\"\u001b[39m,\n",
       "  \u001b[33mIdent\u001b[39m(\u001b[32m\"w\"\u001b[39m),\n",
       "  \u001b[33mMult\u001b[39m(\u001b[33mIdent\u001b[39m(\u001b[32m\"x\"\u001b[39m), \u001b[33mPlus\u001b[39m(\u001b[33mIdent\u001b[39m(\u001b[32m\"y\"\u001b[39m), \u001b[33mIdent\u001b[39m(\u001b[32m\"w\"\u001b[39m)))\n",
       ")\n",
       "\u001b[36mmultiLet1\u001b[39m: \u001b[32mMultiLet\u001b[39m = \u001b[33mMultiLet\u001b[39m(\n",
       "  \u001b[33mList\u001b[39m(),\n",
       "  \u001b[33mList\u001b[39m(),\n",
       "  \u001b[33mLet\u001b[39m(\u001b[32m\"w\"\u001b[39m, \u001b[33mIdent\u001b[39m(\u001b[32m\"w\"\u001b[39m), \u001b[33mMult\u001b[39m(\u001b[33mIdent\u001b[39m(\u001b[32m\"x\"\u001b[39m), \u001b[33mPlus\u001b[39m(\u001b[33mIdent\u001b[39m(\u001b[32m\"y\"\u001b[39m), \u001b[33mIdent\u001b[39m(\u001b[32m\"w\"\u001b[39m))))\n",
       ")\n",
       "\u001b[36me\u001b[39m: \u001b[32mMultiLet\u001b[39m = \u001b[33mMultiLet\u001b[39m(\n",
       "  \u001b[33mList\u001b[39m(\u001b[32m\"x\"\u001b[39m, \u001b[32m\"y\"\u001b[39m, \u001b[32m\"z\"\u001b[39m, \u001b[32m\"w\"\u001b[39m),\n",
       "  \u001b[33mList\u001b[39m(\u001b[33mConst\u001b[39m(\u001b[32m10.0\u001b[39m), \u001b[33mConst\u001b[39m(\u001b[32m10.0\u001b[39m), \u001b[33mConst\u001b[39m(\u001b[32m10.0\u001b[39m), \u001b[33mConst\u001b[39m(\u001b[32m20.0\u001b[39m)),\n",
       "  \u001b[33mMultiLet\u001b[39m(\n",
       "    \u001b[33mList\u001b[39m(),\n",
       "    \u001b[33mList\u001b[39m(),\n",
       "    \u001b[33mLet\u001b[39m(\u001b[32m\"w\"\u001b[39m, \u001b[33mIdent\u001b[39m(\u001b[32m\"w\"\u001b[39m), \u001b[33mMult\u001b[39m(\u001b[33mIdent\u001b[39m(\u001b[32m\"x\"\u001b[39m), \u001b[33mPlus\u001b[39m(\u001b[33mIdent\u001b[39m(\u001b[32m\"y\"\u001b[39m), \u001b[33mIdent\u001b[39m(\u001b[32m\"w\"\u001b[39m))))\n",
       "  )\n",
       ")\n",
       "\u001b[36mv\u001b[39m: \u001b[32mValue\u001b[39m = \u001b[33mNumValue\u001b[39m(\u001b[32m300.0\u001b[39m)"
      ]
     },
     "execution_count": 37,
     "metadata": {},
     "output_type": "execute_result"
    }
   ],
   "source": [
    "//BEGIN TEST\n",
    "/*\n",
    "let (x, y, z, w) = (10, 10, 10, 20 ) in \n",
    "  let () = () in \n",
    "    let w = w in \n",
    "       x *( y + w )\n",
    "*/\n",
    "\n",
    "val x = Ident(\"x\")\n",
    "val y = Ident(\"y\")\n",
    "val z = Ident(\"z\")\n",
    "val w = Ident(\"w\")\n",
    "val ten = Const(10.0)\n",
    "val twenty = Const(20.0)\n",
    "val innerLet2 = Let(\"w\", w, Mult(x, Plus(y, w)))\n",
    "val multiLet1 = MultiLet(Nil, Nil, innerLet2)\n",
    "val e = MultiLet(List(\"x\",\"y\",\"z\",\"w\"), List(ten, ten, ten, twenty), multiLet1)\n",
    "val v = evalExpr(e, Map.empty)\n",
    "assert(v == NumValue(300.0), \"Test2 Failed -- expected value NumValue(300.0), obtained value $v\")\n",
    "\n",
    "passed(6)\n",
    "//END TEST"
   ]
  },
  {
   "cell_type": "code",
   "execution_count": 38,
   "metadata": {
    "deletable": false,
    "editable": false,
    "nbgrader": {
     "cell_type": "code",
     "checksum": "eeacf808256f1946ef253e7fef784b7f",
     "grade": true,
     "grade_id": "cell-cff3337c1cee8832",
     "locked": true,
     "points": 7,
     "schema_version": 3,
     "solution": false,
     "task": false
    }
   },
   "outputs": [
    {
     "name": "stdout",
     "output_type": "stream",
     "text": [
      "Tests Passed (7 points)"
     ]
    },
    {
     "data": {
      "text/plain": [
       "\u001b[36mx\u001b[39m: \u001b[32mIdent\u001b[39m = \u001b[33mIdent\u001b[39m(\u001b[32m\"x\"\u001b[39m)\n",
       "\u001b[36my\u001b[39m: \u001b[32mIdent\u001b[39m = \u001b[33mIdent\u001b[39m(\u001b[32m\"y\"\u001b[39m)\n",
       "\u001b[36mz\u001b[39m: \u001b[32mIdent\u001b[39m = \u001b[33mIdent\u001b[39m(\u001b[32m\"z\"\u001b[39m)\n",
       "\u001b[36mw\u001b[39m: \u001b[32mIdent\u001b[39m = \u001b[33mIdent\u001b[39m(\u001b[32m\"w\"\u001b[39m)\n",
       "\u001b[36mten\u001b[39m: \u001b[32mConst\u001b[39m = \u001b[33mConst\u001b[39m(\u001b[32m10.0\u001b[39m)\n",
       "defined \u001b[32mfunction\u001b[39m \u001b[36mpl\u001b[39m\n",
       "\u001b[36minnerLet2\u001b[39m: \u001b[32mLet\u001b[39m = \u001b[33mLet\u001b[39m(\n",
       "  \u001b[32m\"w\"\u001b[39m,\n",
       "  \u001b[33mIdent\u001b[39m(\u001b[32m\"w\"\u001b[39m),\n",
       "  \u001b[33mMult\u001b[39m(\u001b[33mIdent\u001b[39m(\u001b[32m\"x\"\u001b[39m), \u001b[33mPlus\u001b[39m(\u001b[33mIdent\u001b[39m(\u001b[32m\"y\"\u001b[39m), \u001b[33mIdent\u001b[39m(\u001b[32m\"w\"\u001b[39m)))\n",
       ")\n",
       "\u001b[36mmultiLet1\u001b[39m: \u001b[32mMultiLet\u001b[39m = \u001b[33mMultiLet\u001b[39m(\n",
       "  \u001b[33mList\u001b[39m(),\n",
       "  \u001b[33mList\u001b[39m(),\n",
       "  \u001b[33mLet\u001b[39m(\u001b[32m\"w\"\u001b[39m, \u001b[33mIdent\u001b[39m(\u001b[32m\"w\"\u001b[39m), \u001b[33mMult\u001b[39m(\u001b[33mIdent\u001b[39m(\u001b[32m\"x\"\u001b[39m), \u001b[33mPlus\u001b[39m(\u001b[33mIdent\u001b[39m(\u001b[32m\"y\"\u001b[39m), \u001b[33mIdent\u001b[39m(\u001b[32m\"w\"\u001b[39m))))\n",
       ")\n",
       "\u001b[36me\u001b[39m: \u001b[32mMultiLet\u001b[39m = \u001b[33mMultiLet\u001b[39m(\n",
       "  \u001b[33mList\u001b[39m(\u001b[32m\"x\"\u001b[39m, \u001b[32m\"y\"\u001b[39m, \u001b[32m\"z\"\u001b[39m, \u001b[32m\"w\"\u001b[39m),\n",
       "  \u001b[33mList\u001b[39m(\n",
       "    \u001b[33mConst\u001b[39m(\u001b[32m10.0\u001b[39m),\n",
       "    \u001b[33mPlus\u001b[39m(\u001b[33mIdent\u001b[39m(\u001b[32m\"x\"\u001b[39m), \u001b[33mConst\u001b[39m(\u001b[32m10.0\u001b[39m)),\n",
       "    \u001b[33mPlus\u001b[39m(\u001b[33mIdent\u001b[39m(\u001b[32m\"x\"\u001b[39m), \u001b[33mMult\u001b[39m(\u001b[33mConst\u001b[39m(\u001b[32m-1.0\u001b[39m), \u001b[33mIdent\u001b[39m(\u001b[32m\"y\"\u001b[39m))),\n",
       "    \u001b[33mPlus\u001b[39m(\u001b[33mIdent\u001b[39m(\u001b[32m\"z\"\u001b[39m), \u001b[33mIdent\u001b[39m(\u001b[32m\"x\"\u001b[39m))\n",
       "  ),\n",
       "  \u001b[33mMultiLet\u001b[39m(\n",
       "    \u001b[33mList\u001b[39m(),\n",
       "    \u001b[33mList\u001b[39m(),\n",
       "    \u001b[33mLet\u001b[39m(\u001b[32m\"w\"\u001b[39m, \u001b[33mIdent\u001b[39m(\u001b[32m\"w\"\u001b[39m), \u001b[33mMult\u001b[39m(\u001b[33mIdent\u001b[39m(\u001b[32m\"x\"\u001b[39m), \u001b[33mPlus\u001b[39m(\u001b[33mIdent\u001b[39m(\u001b[32m\"y\"\u001b[39m), \u001b[33mIdent\u001b[39m(\u001b[32m\"w\"\u001b[39m))))\n",
       "  )\n",
       ")\n",
       "\u001b[36mv\u001b[39m: \u001b[32mValue\u001b[39m = \u001b[33mNumValue\u001b[39m(\u001b[32m200.0\u001b[39m)"
      ]
     },
     "execution_count": 38,
     "metadata": {},
     "output_type": "execute_result"
    }
   ],
   "source": [
    "//BEGIN TEST\n",
    "/*\n",
    "let (x, y, z, w) = (10, x+10, x-y, z+x ) in \n",
    "  let () = () in \n",
    "    let w = w in \n",
    "       x *( y + w )\n",
    "*/\n",
    "\n",
    "val x = Ident(\"x\")\n",
    "val y = Ident(\"y\")\n",
    "val z = Ident(\"z\")\n",
    "val w = Ident(\"w\")\n",
    "val ten = Const(10.0)\n",
    "\n",
    "def pl(a: Expr,b:Int):Expr = Plus(a, Const(b))\n",
    "\n",
    "val innerLet2 = Let(\"w\", w, Mult(x, Plus(y, w)))\n",
    "val multiLet1 = MultiLet(Nil, Nil, innerLet2)\n",
    "val e = MultiLet(List(\"x\",\"y\",\"z\",\"w\"), List(ten, pl(x,10), Plus(x,Mult(Const(-1.0), y)), Plus(z,x)), multiLet1)\n",
    "val v = evalExpr(e, Map.empty)\n",
    "assert(v == NumValue(200.0), s\"Test2 Failed -- expected value NumValue(0.0), obtained value $v\")\n",
    "\n",
    "passed(7)\n",
    "//END TEST"
   ]
  },
  {
   "cell_type": "markdown",
   "metadata": {
    "deletable": false,
    "editable": false,
    "nbgrader": {
     "cell_type": "markdown",
     "checksum": "51a550ace4b305b9257ec6b49ce94d07",
     "grade": false,
     "grade_id": "cell-271c9f30e1d344b0",
     "locked": true,
     "schema_version": 3,
     "solution": false,
     "task": false
    }
   },
   "source": [
    "## Problem 2: Tag Usages of Identifiers with Definitions (35 points)\n",
    "\n",
    "In this problem, we will extend Lettuce by adding user-defined \"tags\" to the `Let` bindings/function definitions and usages `Ident` in the abstract syntax. The task is to produce a mapping from each ident-tag back to the tag of the let binding that defines the variable, such that scoping becomes explicit. This kind of analysis is called a \"use-def\" chain and is used in many compilers to optimize the code that is generated (https://en.wikipedia.org/wiki/Use-define_chain).\n",
    "\n",
    "## Example 1\n",
    "\n",
    "~~~\n",
    "let x (@tag1) = 10 in \n",
    "   let y (@tag2 ) = ( let x (@tag3) = 10 in x (@use1) + 100 ) in \n",
    "      x (@use2) + y (@use3)\n",
    "~~~\n",
    "\n",
    "In this example, we add \"comment tags\" to each let binding (`tag1`, `tag2` and `tag3`) and to each usage (`use1`, `use2`, `use3`). The tags play no role in the program execution other than giving names to refer to the appropriate definitions and usages of identifiers. \n",
    "\n",
    "The purpose of this analysis is to produce a Map that maps usage tags to the let binding tags.\n",
    "\n",
    "~~~\n",
    "use1 -> tag3\n",
    "use2 -> tag1\n",
    "use3 -> tag2\n",
    "~~~\n",
    "\n",
    "This denotes that that the usage tagged \"use1\" corresponds to the let-binding \"tag3\", \"use2\" usage corresponds to let binding \"tag1\" and \"use3\" usage corresponds to let binding \"tag2\".\n",
    "\n",
    "## Example 2\n",
    "\n",
    "Here is an example with function calls\n",
    "~~~\n",
    "let x @tag0 = 100 in \n",
    " let foo @tag3 = function (x @tag1) x @use1 + 100 in \n",
    "  let bar @tag4 = function (y @tag2 ) y @use2 + x @use3  in \n",
    "    bar@use5 (x@use4)\n",
    "~~~\n",
    "\n",
    "To understand the program, simply strip all the tags.\n",
    "\n",
    "~~~\n",
    "let x  = 100 in \n",
    " let foo = function (x ) x  + 100 in \n",
    "  let bar = function (y ) y  + x   in \n",
    "    bar (x)\n",
    "~~~\n",
    "\n",
    "We wish to produce the following mapping:\n",
    "\n",
    "~~~\n",
    "  use1 -> tag1,\n",
    "  use2 -> tag2,\n",
    "  use3 -> tag0,\n",
    "  use4 -> tag0,\n",
    "  use5 -> tag4\n",
    "~~~\n",
    "\n",
    "\n",
    "### Abstract Syntax\n",
    "\n",
    "$$\\begin{array}{rcll}\n",
    "  \\Expr & \\Rightarrow & \\text{Const}(\\mathbf{Double}) \\\\\n",
    "  & | & \\text{Ident}(\\mathbf{String}, \\color{red}{\\mathbf{Tag}} ) \\\\\n",
    "  & | & \\text{Plus}(\\mathbf{Expr}, \\mathbf{Expr}) \\\\\n",
    "  & | & \\text{Mult}(\\mathbf{Expr}, \\mathbf{Expr})\\\\\n",
    "  & | & \\text{Let}(\\mathbf{Ident}, \\color{red}{\\mathbf{Tag}}, \\mathbf{Expr}, \\mathbf{Expr}) \\\\\n",
    "  & | & \\text{FunDef}( \\mathbf{Ident}, \\color{red}{\\mathbf{Tag}}, \\mathbf{Expr}) \\\\\n",
    "  & | & \\text{FunCall}(\\mathbf{Expr}, \\mathbf{Expr}) \\\\[5pt]\n",
    "  \\color{red}{\\mathbf{Tag}} & \\Rightarrow & \\mathbf{String} \\\\\n",
    "  \\end{array}$$\n",
    "  \n",
    "We will modify the abstract syntax as shown by the grammar above. Note that we add a new non-terminal called __Tag__ that is simply another name for a scala String datatype. We add these tags to `Ident`, `Let` and `FunDef` which are the places where new identifiers are produced.\n",
    "\n",
    "Note: \n",
    "\n",
    " - We do not really differentiate use/def tags -- they are all strings that are user defined.\n",
    " - All tags must be distinct from one another. This need not be checked.\n",
    " \n",
    "\n",
    "### Part A: Write down Semantic Rules\n",
    "\n",
    "We will now define the function: `getAllUseDefLinks(e: Expr, env: Map[String, String]): Map[String, String]` that will return a map from the \"use tags\" strings to the \"def tags\" strings. \n",
    "  - We will use an extra parameter `env` to keep track of a \"tag environment\", which maps idenfiers to tags. This is similar in one sense to the environment we have seen for `eval` but rather than mapping to a `Value` for each identifier, it maps to a \"tag\".\n",
    "  \n",
    "  \n",
    "\n",
    "\n",
    "$$\\newcommand\\semrule[3]{\\begin{array}{c} #1 \\\\ \\hline #2 \\\\ \\end{array}(\\text{#3})} $$\n",
    "$$\\newcommand\\getAllUseDefLinks{\\textsf{getAllUseDefLinks}}$$\n",
    "\n",
    "Here is the rule for a let-binding:\n",
    "\n",
    "$$\\semrule{ \\getAllUseDefLinks(\\texttt{e1}, \\text{env}) = \\text{map1},\\ \\text{env}' = \\text{env}\\circ [id \\mapsto tag],\\ \\getAllUseDefLinks(\\texttt{e2}, \\text{env}') = \\text{map2} }{ \\getAllUseDefLinks(\\texttt{Let(id, tag, e1, e2)}, \\text{env}) = map1 + map2  }{let-binding}$$ \n",
    "\n",
    "  - First compute the use-def mappings for the RHS expression `e1`.\n",
    "  - Next, update the environment to note that identifier `id` is associated with `tag`.\n",
    "  - Now, compute the mappings for \"in\" expression `e2` under the new environment.\n",
    "  - Conjoin the two maps for `e1` and `e2`.\n",
    "\n",
    "Here is the rule for a function definition:\n",
    "\n",
    "$$\\semrule{ \\text{env}' = \\text{env} \\circ [\\texttt{param} \\mapsto tag],\\ \\getAllUseDefLinks(\\texttt{eBody}, \\text{env}') = \\text{map1}}{ \\getAllUseDefLinks(\\texttt{FunDef(param, tag, eBody)}, \\text{env}) = \\text{map1} } {fundef}$$ \n",
    "\n",
    "Here are two rules for a identifiers:\n",
    "\n",
    "\n",
    "$$\\semrule{ \\texttt{id} \\in \\mathsf{domain}(\\text{env})}{ \\getAllUseDefLinks(\\texttt{Ident(id, usetag)}, \\text{env}) = \\{ \\texttt{usetag} \\rightarrow \\text{env}(\\texttt{id}) \\} }{ident-undefined}$$ \n",
    "\n",
    "- If the identifier `id` belongs to the domain of the environment, then return a singleton mapping from the use-tag `usetag` associated with this use of `id` to the tag looked up from the environment.\n",
    "\n",
    "\n",
    "$$\\semrule{ \\texttt{id} \\not\\in \\mathsf{domain}(\\text{env})}{ \\getAllUseDefLinks(\\texttt{Ident(id, usetag)}, \\text{env}) = \\{ \\texttt{usetag} \\rightarrow  \\text{\"UNDEFINED\"} \\} }{ident-defined}$$ \n",
    "\n",
    "Note that we reserve a special tag name `UNDEFINED` (i.e., the string \"UNDEFINED\") to denote identifiers that are not defined in the current scope.\n",
    "\n",
    "- If the identifier `id` does not belong to the domain of the environment, then return a singleton mapping from the use-tag `usetag` associated with this use of `id` to the special tag `UNDEFINED`.\n",
    "\n",
    "\n",
    "### Part (A) : Complete the rule for Plus (5 points).\n",
    "\n",
    "$$\\semrule{ ???_1}{ \\getAllUseDefLinks(\\texttt{Plus(e1, e2)}, \\text{env}) = ???_1 }{plus}$$ \n",
    "\n",
    "Write down what should go in for $???_1$ and $???_2$ below.\n",
    "\n",
    " - If there are no antecedents just write \"blank\". \n",
    " - The empty map is represented as $\\{\\}$.\n",
    " - Concatenation of two maps is `map1` and `map2` is denoted `map1 + map2`."
   ]
  },
  {
   "cell_type": "markdown",
   "metadata": {
    "deletable": false,
    "nbgrader": {
     "cell_type": "markdown",
     "checksum": "a154c223c931e6334e525c9f7d9fdd14",
     "grade": true,
     "grade_id": "cell-8f70352346def39f",
     "locked": false,
     "points": 5,
     "schema_version": 3,
     "solution": true,
     "task": false
    }
   },
   "source": [
    "\n",
    "$$\\semrule{getAllUseDefLinks(e1,env)=map1,getAllUseDefLinks(e2,env)=map2 }{ \\getAllUseDefLinks(\\texttt{Plus(e1, e2)}, \\text{env}) = map1+map2 }{plus}$$ "
   ]
  },
  {
   "cell_type": "markdown",
   "metadata": {
    "deletable": false,
    "editable": false,
    "nbgrader": {
     "cell_type": "markdown",
     "checksum": "7a6a9295d13fcb7d9a5778cda42fe29e",
     "grade": false,
     "grade_id": "cell-b278b0e39de90227",
     "locked": true,
     "schema_version": 3,
     "solution": false,
     "task": false
    }
   },
   "source": [
    "## Complete the rule for FunCall (5 points)\n",
    "\n",
    "$$\\semrule{ ???_1}{ \\getAllUseDefLinks(\\texttt{FunCall(e1, e2)}, \\text{env}) = ???_1 }{funcall}$$ \n",
    "\n",
    "Write down what should go in for $???_1$ and $???_2$ below.\n",
    "\n",
    " - If there are no antecedents just write \"blank\". \n",
    " - The empty map is represented as $\\{\\}$.\n",
    " - Concatenation of two maps is `map1` and `map2` is denoted `map1 + map2`.\n"
   ]
  },
  {
   "cell_type": "markdown",
   "metadata": {
    "deletable": false,
    "nbgrader": {
     "cell_type": "markdown",
     "checksum": "efa3dd068f586da8f593541c7faf971d",
     "grade": true,
     "grade_id": "cell-f3bf73cc764f80b1",
     "locked": false,
     "points": 5,
     "schema_version": 3,
     "solution": true,
     "task": false
    }
   },
   "source": [
    "\n",
    "$$\\semrule{ getAllUseDefLinks(e1,env)=map1,getAllUseDefLinks(e2,env)=map2}{ \\getAllUseDefLinks(\\texttt{FunCall(e1, e2)}, \\text{env}) = map1+map2 }{funcall}$$ "
   ]
  },
  {
   "cell_type": "markdown",
   "metadata": {
    "deletable": false,
    "editable": false,
    "nbgrader": {
     "cell_type": "markdown",
     "checksum": "8c19fe866a01c5c6231e929fc15853a7",
     "grade": false,
     "grade_id": "cell-9a92a0ea5c5d7e97",
     "locked": true,
     "schema_version": 3,
     "solution": false,
     "task": false
    }
   },
   "source": [
    "## Complete the rule for Const (5 points)\n",
    "\n",
    "$$\\semrule{ ???_1}{ \\getAllUseDefLinks(\\texttt{Const(f)}, \\text{env}) = ???_1 }{funcall}$$ \n",
    "\n",
    "Write down what should go in for $???_1$ and $???_2$ below.\n",
    "\n",
    "  - If there are no antecedents just write \"blank\". \n",
    "  - The empty map is represented as $\\{\\}$.\n",
    "  - Concatenation of two maps is `map1` and `map2` is denoted `map1 + map2`."
   ]
  },
  {
   "cell_type": "markdown",
   "metadata": {
    "deletable": false,
    "nbgrader": {
     "cell_type": "markdown",
     "checksum": "b9cec56cdadf6d44fa296ce3e561410c",
     "grade": true,
     "grade_id": "cell-cd0d8ffe527bfebe",
     "locked": false,
     "points": 5,
     "schema_version": 3,
     "solution": true,
     "task": false
    }
   },
   "source": [
    "$$\\semrule{blank }{ \\getAllUseDefLinks(\\texttt{Const(f)}, \\text{env}) = \\{\\} }{funcall}$$ "
   ]
  },
  {
   "cell_type": "code",
   "execution_count": 39,
   "metadata": {
    "deletable": false,
    "editable": false,
    "nbgrader": {
     "cell_type": "code",
     "checksum": "aae37abb3b5994decbec30d8b68e72d8",
     "grade": false,
     "grade_id": "cell-97dae7e2ba3a272f",
     "locked": true,
     "schema_version": 3,
     "solution": false,
     "task": false
    }
   },
   "outputs": [
    {
     "data": {
      "text/plain": [
       "defined \u001b[32mtrait\u001b[39m \u001b[36mExpr\u001b[39m\n",
       "defined \u001b[32mtype\u001b[39m \u001b[36mTag\u001b[39m\n",
       "defined \u001b[32mtype\u001b[39m \u001b[36mIdentifier\u001b[39m\n",
       "defined \u001b[32mclass\u001b[39m \u001b[36mConst\u001b[39m\n",
       "defined \u001b[32mclass\u001b[39m \u001b[36mIdent\u001b[39m\n",
       "defined \u001b[32mclass\u001b[39m \u001b[36mPlus\u001b[39m\n",
       "defined \u001b[32mclass\u001b[39m \u001b[36mMult\u001b[39m\n",
       "defined \u001b[32mclass\u001b[39m \u001b[36mLet\u001b[39m\n",
       "defined \u001b[32mclass\u001b[39m \u001b[36mFunDef\u001b[39m\n",
       "defined \u001b[32mclass\u001b[39m \u001b[36mFunCall\u001b[39m\n",
       "defined \u001b[32mfunction\u001b[39m \u001b[36mx\u001b[39m\n",
       "defined \u001b[32mfunction\u001b[39m \u001b[36my\u001b[39m\n",
       "defined \u001b[32mfunction\u001b[39m \u001b[36mz\u001b[39m\n",
       "defined \u001b[32mfunction\u001b[39m \u001b[36mw\u001b[39m"
      ]
     },
     "execution_count": 39,
     "metadata": {},
     "output_type": "execute_result"
    }
   ],
   "source": [
    "sealed trait Expr\n",
    "type Tag = String \n",
    "type Identifier = String \n",
    "\n",
    "case class Const(d: Double) extends Expr\n",
    "case class Ident(id:Identifier, tag: Tag) extends Expr\n",
    "case class Plus(e1: Expr, e2: Expr) extends Expr\n",
    "case class Mult(e1: Expr, e2: Expr) extends Expr \n",
    "case class Let(id: Identifier, tag: Tag, e1: Expr, e2: Expr) extends Expr\n",
    "case class FunDef(param: Identifier, tag: Tag, body:Expr) extends Expr\n",
    "case class FunCall(e1: Expr, e2:Expr) extends Expr \n",
    "\n",
    "// Some helpful functions to write test cases -- you can ignore these.\n",
    "\n",
    "def x(tag:String):Expr = Ident(\"x\",  tag)\n",
    "def y(tag:String):Expr = Ident(\"y\",  tag)\n",
    "def z(tag:String):Expr = Ident(\"z\",  tag)\n",
    "def w(tag:String):Expr = Ident(\"w\", tag)\n",
    "\n",
    "\n"
   ]
  },
  {
   "cell_type": "code",
   "execution_count": 44,
   "metadata": {
    "deletable": false,
    "nbgrader": {
     "cell_type": "code",
     "checksum": "cbd66f96973157b9e3bb216c510b2f3a",
     "grade": false,
     "grade_id": "cell-f78988f9d5c35370",
     "locked": false,
     "schema_version": 3,
     "solution": true,
     "task": false
    }
   },
   "outputs": [
    {
     "data": {
      "text/plain": [
       "defined \u001b[32mfunction\u001b[39m \u001b[36mgetAllUseDefLinks\u001b[39m"
      ]
     },
     "execution_count": 44,
     "metadata": {},
     "output_type": "execute_result"
    }
   ],
   "source": [
    "def getAllUseDefLinks(e: Expr, env: Map[Identifier, Tag]): Map[Tag, Tag] = \n",
    "\n",
    "    e match {\n",
    "        case Const(_) => { Map.empty }\n",
    "        case Ident(id, usetag) => {\n",
    "            // YOUR CODE HERE\n",
    "            if (env.contains(id)) { \n",
    "                Map(usetag-> env(id))\n",
    "            } else {\n",
    "                Map(usetag->\"UNDEFINED\")\n",
    "            }\n",
    "        }\n",
    "    \n",
    "        case Plus(e1, e2) => {\n",
    "            // YOUR CODE HERE\n",
    "      \n",
    "          getAllUseDefLinks(e1,env)++getAllUseDefLinks(e2,env)\n",
    "            \n",
    "        }\n",
    "    \n",
    "        case Mult(e1, e2) => {\n",
    "            // YOUR CODE HERE\n",
    "         getAllUseDefLinks(e1,env)++getAllUseDefLinks(e2,env)\n",
    "\n",
    "            \n",
    "           \n",
    "        }\n",
    "    \n",
    "        case Let(x, tag, e1, e2) => {\n",
    "            // YOUR CODE HERE\n",
    "            val map1=getAllUseDefLinks(e1,env)\n",
    "            val env2=env+(x->tag)\n",
    "            val map2=getAllUseDefLinks(e2,env2)\n",
    "            map1++map2\n",
    "        }\n",
    "    \n",
    "        case FunDef(x, tag, eBody) => {\n",
    "            // YOUR CODE HERE\n",
    "            val env2=env+(x->tag)\n",
    "            getAllUseDefLinks(eBody,env2)\n",
    "            //Closure(x, e, env)\n",
    "        }\n",
    "    \n",
    "        case FunCall(e1, e2) => {\n",
    "            // YOUR CODE HERE\n",
    "            val map1 = getAllUseDefLinks(e1,env)\n",
    "            val map2 = getAllUseDefLinks(e2,env)\n",
    "               map1++map2\n",
    "        }\n",
    "}\n"
   ]
  },
  {
   "cell_type": "code",
   "execution_count": 45,
   "metadata": {
    "deletable": false,
    "editable": false,
    "nbgrader": {
     "cell_type": "code",
     "checksum": "63a0855ee68d1d39dc1922131ed16c4b",
     "grade": true,
     "grade_id": "cell-d5a3120cfef87e17",
     "locked": true,
     "points": 5,
     "schema_version": 3,
     "solution": false,
     "task": false
    }
   },
   "outputs": [
    {
     "name": "stdout",
     "output_type": "stream",
     "text": [
      "Tests Passed (5 points)"
     ]
    },
    {
     "data": {
      "text/plain": [
       "\u001b[36me\u001b[39m: \u001b[32mLet\u001b[39m = \u001b[33mLet\u001b[39m(\n",
       "  \u001b[32m\"y\"\u001b[39m,\n",
       "  \u001b[32m\"tag2\"\u001b[39m,\n",
       "  \u001b[33mIdent\u001b[39m(\u001b[32m\"x\"\u001b[39m, \u001b[32m\"use0\"\u001b[39m),\n",
       "  \u001b[33mLet\u001b[39m(\u001b[32m\"x\"\u001b[39m, \u001b[32m\"tag1\"\u001b[39m, \u001b[33mConst\u001b[39m(\u001b[32m10.0\u001b[39m), \u001b[33mPlus\u001b[39m(\u001b[33mIdent\u001b[39m(\u001b[32m\"x\"\u001b[39m, \u001b[32m\"use1\"\u001b[39m), \u001b[33mIdent\u001b[39m(\u001b[32m\"x\"\u001b[39m, \u001b[32m\"use2\"\u001b[39m)))\n",
       ")\n",
       "\u001b[36mmap\u001b[39m: \u001b[32mMap\u001b[39m[\u001b[32mTag\u001b[39m, \u001b[32mTag\u001b[39m] = \u001b[33mMap\u001b[39m(\n",
       "  \u001b[32m\"use0\"\u001b[39m -> \u001b[32m\"UNDEFINED\"\u001b[39m,\n",
       "  \u001b[32m\"use1\"\u001b[39m -> \u001b[32m\"tag1\"\u001b[39m,\n",
       "  \u001b[32m\"use2\"\u001b[39m -> \u001b[32m\"tag1\"\u001b[39m\n",
       ")"
      ]
     },
     "execution_count": 45,
     "metadata": {},
     "output_type": "execute_result"
    }
   ],
   "source": [
    "/*\n",
    " let y@tag2 = x @use0 in \n",
    "    let x @tag1 = 10 in \n",
    "       x@use1 + x@use2\n",
    "*/\n",
    "val e = Let(\"y\", \"tag2\", x(\"use0\"), Let (\"x\", \"tag1\", Const(10), Plus(x(\"use1\"), x(\"use2\"))))\n",
    "val map = getAllUseDefLinks(e, Map.empty)\n",
    "\n",
    "assert (map(\"use0\") == \"UNDEFINED\", s\"Test1 failed: use0 must be associated with UNDEFINED. Your code returns ${map(\"use0\")}\")\n",
    "assert (map(\"use1\") == \"tag1\", s\"Test1 failed: use0 must be associated with UNDEFINED. Your code returns ${map(\"use1\")}\")\n",
    "assert (map(\"use2\") == \"tag1\", s\"Test1 failed: use0 must be associated with UNDEFINED. Your code returns ${map(\"use2\")}\")\n",
    "\n",
    "passed(5)"
   ]
  },
  {
   "cell_type": "code",
   "execution_count": 46,
   "metadata": {
    "deletable": false,
    "editable": false,
    "nbgrader": {
     "cell_type": "code",
     "checksum": "7363ae4749bfa00cbf959decaea408da",
     "grade": true,
     "grade_id": "cell-0c9a1ff855474d92",
     "locked": true,
     "points": 5,
     "schema_version": 3,
     "solution": false,
     "task": false
    }
   },
   "outputs": [
    {
     "name": "stdout",
     "output_type": "stream",
     "text": [
      "Tests Passed (5 points)"
     ]
    },
    {
     "data": {
      "text/plain": [
       "\u001b[36me\u001b[39m: \u001b[32mLet\u001b[39m = \u001b[33mLet\u001b[39m(\n",
       "  \u001b[32m\"bar\"\u001b[39m,\n",
       "  \u001b[32m\"tag2\"\u001b[39m,\n",
       "  \u001b[33mFunDef\u001b[39m(\u001b[32m\"x\"\u001b[39m, \u001b[32m\"tag3\"\u001b[39m, \u001b[33mPlus\u001b[39m(\u001b[33mIdent\u001b[39m(\u001b[32m\"x\"\u001b[39m, \u001b[32m\"use0\"\u001b[39m), \u001b[33mConst\u001b[39m(\u001b[32m10.0\u001b[39m))),\n",
       "  \u001b[33mLet\u001b[39m(\u001b[32m\"y\"\u001b[39m, \u001b[32m\"tag1\"\u001b[39m, \u001b[33mConst\u001b[39m(\u001b[32m10.0\u001b[39m), \u001b[33mMult\u001b[39m(\u001b[33mIdent\u001b[39m(\u001b[32m\"x\"\u001b[39m, \u001b[32m\"use1\"\u001b[39m), \u001b[33mIdent\u001b[39m(\u001b[32m\"y\"\u001b[39m, \u001b[32m\"use2\"\u001b[39m)))\n",
       ")\n",
       "\u001b[36mmap\u001b[39m: \u001b[32mMap\u001b[39m[\u001b[32mTag\u001b[39m, \u001b[32mTag\u001b[39m] = \u001b[33mMap\u001b[39m(\n",
       "  \u001b[32m\"use0\"\u001b[39m -> \u001b[32m\"tag3\"\u001b[39m,\n",
       "  \u001b[32m\"use1\"\u001b[39m -> \u001b[32m\"UNDEFINED\"\u001b[39m,\n",
       "  \u001b[32m\"use2\"\u001b[39m -> \u001b[32m\"tag1\"\u001b[39m\n",
       ")"
      ]
     },
     "execution_count": 46,
     "metadata": {},
     "output_type": "execute_result"
    }
   ],
   "source": [
    "/* \n",
    "let bar @tag2 = function (x @tag3) x @use0 + 10 in \n",
    "   let y@tag1 = 10 in \n",
    "      x@use1 * y @use2 */\n",
    "\n",
    "val e = Let(\"bar\", \"tag2\", FunDef(\"x\", \"tag3\", Plus(x(\"use0\"), Const(10.0))), \n",
    "            Let (\"y\", \"tag1\", Const(10), Mult(x(\"use1\"), y(\"use2\"))))\n",
    "val map = getAllUseDefLinks(e, Map.empty)\n",
    "assert (map(\"use0\") == \"tag3\", s\"Test1 failed: use0 must be associated with UNDEFINED. Your code returns ${map(\"use0\")}\")\n",
    "assert (map(\"use1\") == \"UNDEFINED\", s\"Test1 failed: use1 must be associated with UNDEFINED. Your code returns ${map(\"use1\")}\")\n",
    "assert (map(\"use2\") == \"tag1\", s\"Test1 failed: use2 must be associated with tag1. Your code returns ${map(\"use2\")}\")\n",
    "\n",
    "passed(5)"
   ]
  },
  {
   "cell_type": "code",
   "execution_count": 47,
   "metadata": {
    "deletable": false,
    "editable": false,
    "nbgrader": {
     "cell_type": "code",
     "checksum": "07ed2db9a3e5c1221e92ba701eba3a7e",
     "grade": true,
     "grade_id": "cell-a4830d618cbf06ce",
     "locked": true,
     "points": 10,
     "schema_version": 3,
     "solution": false,
     "task": false
    }
   },
   "outputs": [
    {
     "name": "stdout",
     "output_type": "stream",
     "text": [
      "Tests Passed (10 points)"
     ]
    },
    {
     "data": {
      "text/plain": [
       "\u001b[36mfc\u001b[39m: \u001b[32mExpr\u001b[39m = \u001b[33mFunCall\u001b[39m(\n",
       "  \u001b[33mIdent\u001b[39m(\u001b[32m\"w\"\u001b[39m, \u001b[32m\"use4\"\u001b[39m),\n",
       "  \u001b[33mPlus\u001b[39m(\u001b[33mIdent\u001b[39m(\u001b[32m\"x\"\u001b[39m, \u001b[32m\"use2\"\u001b[39m), \u001b[33mIdent\u001b[39m(\u001b[32m\"y\"\u001b[39m, \u001b[32m\"use3\"\u001b[39m))\n",
       ")\n",
       "\u001b[36minnerLet2\u001b[39m: \u001b[32mExpr\u001b[39m = \u001b[33mLet\u001b[39m(\n",
       "  \u001b[32m\"y\"\u001b[39m,\n",
       "  \u001b[32m\"tag2\"\u001b[39m,\n",
       "  \u001b[33mIdent\u001b[39m(\u001b[32m\"x\"\u001b[39m, \u001b[32m\"use1\"\u001b[39m),\n",
       "  \u001b[33mFunCall\u001b[39m(\u001b[33mIdent\u001b[39m(\u001b[32m\"w\"\u001b[39m, \u001b[32m\"use4\"\u001b[39m), \u001b[33mPlus\u001b[39m(\u001b[33mIdent\u001b[39m(\u001b[32m\"x\"\u001b[39m, \u001b[32m\"use2\"\u001b[39m), \u001b[33mIdent\u001b[39m(\u001b[32m\"y\"\u001b[39m, \u001b[32m\"use3\"\u001b[39m)))\n",
       ")\n",
       "\u001b[36minnerLet1\u001b[39m: \u001b[32mExpr\u001b[39m = \u001b[33mLet\u001b[39m(\n",
       "  \u001b[32m\"w\"\u001b[39m,\n",
       "  \u001b[32m\"tag1\"\u001b[39m,\n",
       "  \u001b[33mFunDef\u001b[39m(\u001b[32m\"x\"\u001b[39m, \u001b[32m\"tag2\"\u001b[39m, \u001b[33mPlus\u001b[39m(\u001b[33mIdent\u001b[39m(\u001b[32m\"x\"\u001b[39m, \u001b[32m\"use0\"\u001b[39m), \u001b[33mConst\u001b[39m(\u001b[32m10.0\u001b[39m))),\n",
       "  \u001b[33mLet\u001b[39m(\n",
       "    \u001b[32m\"y\"\u001b[39m,\n",
       "    \u001b[32m\"tag2\"\u001b[39m,\n",
       "    \u001b[33mIdent\u001b[39m(\u001b[32m\"x\"\u001b[39m, \u001b[32m\"use1\"\u001b[39m),\n",
       "    \u001b[33mFunCall\u001b[39m(\u001b[33mIdent\u001b[39m(\u001b[32m\"w\"\u001b[39m, \u001b[32m\"use4\"\u001b[39m), \u001b[33mPlus\u001b[39m(\u001b[33mIdent\u001b[39m(\u001b[32m\"x\"\u001b[39m, \u001b[32m\"use2\"\u001b[39m), \u001b[33mIdent\u001b[39m(\u001b[32m\"y\"\u001b[39m, \u001b[32m\"use3\"\u001b[39m)))\n",
       "  )\n",
       ")\n",
       "\u001b[36me\u001b[39m: \u001b[32mLet\u001b[39m = \u001b[33mLet\u001b[39m(\n",
       "  \u001b[32m\"x\"\u001b[39m,\n",
       "  \u001b[32m\"tag0\"\u001b[39m,\n",
       "  \u001b[33mConst\u001b[39m(\u001b[32m10.0\u001b[39m),\n",
       "  \u001b[33mLet\u001b[39m(\n",
       "    \u001b[32m\"w\"\u001b[39m,\n",
       "    \u001b[32m\"tag1\"\u001b[39m,\n",
       "    \u001b[33mFunDef\u001b[39m(\u001b[32m\"x\"\u001b[39m, \u001b[32m\"tag2\"\u001b[39m, \u001b[33mPlus\u001b[39m(\u001b[33mIdent\u001b[39m(\u001b[32m\"x\"\u001b[39m, \u001b[32m\"use0\"\u001b[39m), \u001b[33mConst\u001b[39m(\u001b[32m10.0\u001b[39m))),\n",
       "    \u001b[33mLet\u001b[39m(\n",
       "      \u001b[32m\"y\"\u001b[39m,\n",
       "      \u001b[32m\"tag2\"\u001b[39m,\n",
       "      \u001b[33mIdent\u001b[39m(\u001b[32m\"x\"\u001b[39m, \u001b[32m\"use1\"\u001b[39m),\n",
       "      \u001b[33mFunCall\u001b[39m(\u001b[33mIdent\u001b[39m(\u001b[32m\"w\"\u001b[39m, \u001b[32m\"use4\"\u001b[39m), \u001b[33mPlus\u001b[39m(\u001b[33mIdent\u001b[39m(\u001b[32m\"x\"\u001b[39m, \u001b[32m\"use2\"\u001b[39m), \u001b[33mIdent\u001b[39m(\u001b[32m\"y\"\u001b[39m, \u001b[32m\"use3\"\u001b[39m)))\n",
       "    )\n",
       "  )\n",
       ")\n",
       "\u001b[36mmap\u001b[39m: \u001b[32mMap\u001b[39m[\u001b[32mTag\u001b[39m, \u001b[32mTag\u001b[39m] = \u001b[33mHashMap\u001b[39m(\n",
       "  \u001b[32m\"use3\"\u001b[39m -> \u001b[32m\"tag2\"\u001b[39m,\n",
       "  \u001b[32m\"use4\"\u001b[39m -> \u001b[32m\"tag1\"\u001b[39m,\n",
       "  \u001b[32m\"use0\"\u001b[39m -> \u001b[32m\"tag2\"\u001b[39m,\n",
       "  \u001b[32m\"use1\"\u001b[39m -> \u001b[32m\"tag0\"\u001b[39m,\n",
       "  \u001b[32m\"use2\"\u001b[39m -> \u001b[32m\"tag0\"\u001b[39m\n",
       ")"
      ]
     },
     "execution_count": 47,
     "metadata": {},
     "output_type": "execute_result"
    }
   ],
   "source": [
    "/* \n",
    "let x @tag0 = 10 in \n",
    "let w@tag1 = function (x @tag2) x @use0 + 10 in \n",
    "   let y@tag2 = x@use1 in \n",
    "      w@use4 (x@use2 * y @use3) */\n",
    "\n",
    "\n",
    "val fc:Expr = FunCall( w(\"use4\"), Plus(x(\"use2\"), y(\"use3\")))\n",
    "val innerLet2:Expr = Let(\"y\", \"tag2\", x(\"use1\"), fc)\n",
    "val innerLet1:Expr = Let(\"w\", \"tag1\", FunDef(\"x\", \"tag2\", Plus(x(\"use0\"), Const(10))), innerLet2)\n",
    "val e = Let(\"x\", \"tag0\", Const(10), innerLet1)\n",
    "\n",
    "\n",
    "val map = getAllUseDefLinks(e, Map.empty)\n",
    "\n",
    "assert (map(\"use0\") == \"tag2\", s\"Test1 failed: use0 must be associated with tag2. Your code returns ${map(\"use0\")}\")\n",
    "assert (map(\"use1\") == \"tag0\", s\"Test2 failed: use1 must be associated with tag0. Your code returns ${map(\"use1\")}\")\n",
    "assert (map(\"use2\") == \"tag0\", s\"Test3 failed: use2 must be associated with tag0. Your code returns ${map(\"use2\")}\")\n",
    "assert (map(\"use3\") == \"tag2\", s\"Test4 failed: use2 must be associated with tag2. Your code returns ${map(\"use2\")}\")\n",
    "assert (map(\"use4\") == \"tag1\", s\"Test5 failed: use2 must be associated with tag1. Your code returns ${map(\"use2\")}\")\n",
    "\n",
    "\n",
    "passed(10)"
   ]
  },
  {
   "cell_type": "markdown",
   "metadata": {
    "deletable": false,
    "editable": false,
    "nbgrader": {
     "cell_type": "markdown",
     "checksum": "815cb943215ed589b739fd472dea71cc",
     "grade": false,
     "grade_id": "cell-46a1251969156bb2",
     "locked": true,
     "schema_version": 3,
     "solution": false,
     "task": false
    }
   },
   "source": [
    "## That's All Folks"
   ]
  }
 ],
 "metadata": {
  "kernelspec": {
   "display_name": "Scala",
   "language": "scala",
   "name": "scala"
  },
  "language_info": {
   "codemirror_mode": "text/x-scala",
   "file_extension": ".sc",
   "mimetype": "text/x-scala",
   "name": "scala",
   "nbconvert_exporter": "script",
   "version": "2.13.3"
  }
 },
 "nbformat": 4,
 "nbformat_minor": 4
}
