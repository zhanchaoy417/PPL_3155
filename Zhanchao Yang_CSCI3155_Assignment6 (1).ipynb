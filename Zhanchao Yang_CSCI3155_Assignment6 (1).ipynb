{
 "cells": [
  {
   "cell_type": "markdown",
   "metadata": {},
   "source": [
    "Before you turn this problem in, make sure everything runs as expected. \n",
    "  1. First, **restart the kernel** (in the menubar, select Kernel$\\rightarrow$Restart) and \n",
    "  2. Then **run all cells** (in the menubar, select Cell$\\rightarrow$Run All).\n",
    "\n",
    "Make sure you fill in any place that says `YOUR CODE HERE` or \"YOUR ANSWER HERE\", as well as your name below. "
   ]
  },
  {
   "cell_type": "markdown",
   "metadata": {},
   "source": [
    "---"
   ]
  },
  {
   "cell_type": "markdown",
   "metadata": {
    "deletable": false,
    "editable": false,
    "nbgrader": {
     "cell_type": "markdown",
     "checksum": "1c3e2b1e210d3c606307b31782f1351f",
     "grade": false,
     "grade_id": "cell-b80729316cfd2e18",
     "locked": true,
     "schema_version": 3,
     "solution": false
    }
   },
   "source": [
    "# CSCI 3155: Assignment 6\n",
    "\n",
    "Topics Covered:"
   ]
  },
  {
   "cell_type": "markdown",
   "metadata": {},
   "source": [
    "__Name__: WRITE YOUR NAME HERE"
   ]
  },
  {
   "cell_type": "code",
   "execution_count": 24,
   "metadata": {
    "deletable": false,
    "editable": false,
    "nbgrader": {
     "cell_type": "code",
     "checksum": "10edc34beb31e64b0c799cd4fbb457e6",
     "grade": false,
     "grade_id": "cell-03363e9b41cd8f58",
     "locked": true,
     "schema_version": 3,
     "solution": false
    }
   },
   "outputs": [
    {
     "data": {
      "text/plain": [
       "defined \u001b[32mfunction\u001b[39m \u001b[36mpassed\u001b[39m"
      ]
     },
     "execution_count": 24,
     "metadata": {},
     "output_type": "execute_result"
    }
   ],
   "source": [
    "// TEST HELPER\n",
    "def passed(points: Int) {\n",
    "    require(points >=0)\n",
    "    if (points == 1) print(s\"\\n*** Tests Passed (1 point) ***\\n\")\n",
    "    else print(s\"\\n*** Tests Passed ($points points) ***\\n\")\n",
    "}"
   ]
  },
  {
   "cell_type": "markdown",
   "metadata": {
    "deletable": false,
    "editable": false,
    "nbgrader": {
     "cell_type": "markdown",
     "checksum": "cec995df346dea90848c437d2cbf195b",
     "grade": false,
     "grade_id": "cell-dd929d42e73e7730",
     "locked": true,
     "schema_version": 3,
     "solution": false
    }
   },
   "source": [
    "## Problem 1 (30 Points): Mutual Recursion in Lettuce\n",
    "\n",
    "In class, we have explored recursive functions in lettuce using the _let rec_ syntax. In this problem, we will \n",
    "explore, mutually recursive function, specifically two mutually recursive functions.\n",
    "\n",
    "Consider: \n",
    "\n",
    "~~~\n",
    "let rec \n",
    "        pos = function (x) \n",
    "                 if (x >= 0)\n",
    "                 then x\n",
    "                 else neg(x)\n",
    "        neg = function (y)\n",
    "                 if (y <= 0)\n",
    "                 then pos (1 + y * y)\n",
    "                 else pos(1 - y)\n",
    "   in \n",
    "     neg(10.0)\n",
    "~~~\n",
    "\n",
    "The two functions are _mutually recursive_ since `pos` calls `neg` and vice-versa.\n",
    "Convince yourself that thhe program must return `82`."
   ]
  },
  {
   "cell_type": "markdown",
   "metadata": {
    "deletable": false,
    "editable": false,
    "nbgrader": {
     "cell_type": "markdown",
     "checksum": "e2530f10596f384b185a68f041752af1",
     "grade": false,
     "grade_id": "cell-6b9f8af95e1ee726",
     "locked": true,
     "schema_version": 3,
     "solution": false
    }
   },
   "source": [
    "## 1A (5 points): Extending the Abstract Syntax\n",
    "\n",
    "Consider the grammar specification we have seen thus far.\n",
    "\n",
    "$$\\begin{array}{rcll}\n",
    "\\mathbf{Program} & \\rightarrow & TopLevel(\\mathbf{Expr}) \\\\[5pt]\n",
    "\\mathbf{Expr} & \\rightarrow & Const(\\mathbf{Number}) \\\\\n",
    " & | & Ident(\\mathbf{Identifier}) \\\\\n",
    " & | & Plus(\\mathbf{Expr}, \\mathbf{Expr}) \\\\\n",
    " & | & Mult(\\mathbf{Expr}, \\mathbf{Expr}) \\\\\n",
    " & | & Eq(\\mathbf{Expr}, \\mathbf{Expr}) \\\\\n",
    " & | & Geq (\\mathbf{Expr}, \\mathbf{Expr}) \\\\\n",
    " & | & IfThenElse(\\mathbf{Expr}, \\mathbf{Expr}, \\mathbf{Expr}) & \\text{if (expr) then expr else expr} \\\\\n",
    " & | & Let( \\mathbf{Identifier}, \\mathbf{Expr}, \\mathbf{Expr}) & \\text{let identifier = expr in expr} \\\\\n",
    " & | & FunDef( \\mathbf{Identifier}, \\mathbf{Expr}) & \\text{function (identifier-formal-parameter) expr } \\\\ \n",
    " & | & FunCall(\\mathbf{Expr}, \\mathbf{Expr}) & \\text{function call - expr(expr)} \\\\\n",
    " & | & LetRec(\\mathbf{Identifier}, \\mathbf{Identifier}, \\mathbf{Expr}, \\mathbf{Expr})  \\\\\n",
    "\\end{array}$$\n",
    "\n",
    "We wish to add a new rule for two mutually recursive functions\n",
    "\n",
    "$$ \\mathbf{Expr}\\ \\rightarrow\\ LetRec2( \\mathbf{Identifier}, \\mathbf{Identifier}, \\mathbf{Expr}, \\mathbf{Identifier}, \\mathbf{Identifier}, \\mathbf{Expr}, \\mathbf{Expr} ) $$\n",
    "\n",
    "Such that a mutual call such as\n",
    "\n",
    "~~~\n",
    "let rec \n",
    "         f1 = function (x1) e1\n",
    "         f2 = function (x2) e2\n",
    "     in \n",
    "         e3\n",
    "~~~\n",
    "is represented in the AST as\n",
    "\n",
    "~~~\n",
    "LetRec2(f1, x1, e1, f2, x2, e2, e3)\n",
    "~~~\n",
    "\n",
    "Extend the existing AST specification to add support for `LetRec2`."
   ]
  },
  {
   "cell_type": "code",
   "execution_count": 25,
   "metadata": {
    "deletable": false,
    "nbgrader": {
     "cell_type": "code",
     "checksum": "edc9183f60a9b0b7461b13dfbc10b624",
     "grade": false,
     "grade_id": "cell-925e2ee1e5248e66",
     "locked": false,
     "schema_version": 3,
     "solution": true
    }
   },
   "outputs": [
    {
     "data": {
      "text/plain": [
       "defined \u001b[32mtrait\u001b[39m \u001b[36mProgram\u001b[39m\n",
       "defined \u001b[32mtrait\u001b[39m \u001b[36mExpr\u001b[39m\n",
       "defined \u001b[32mclass\u001b[39m \u001b[36mConst\u001b[39m\n",
       "defined \u001b[32mclass\u001b[39m \u001b[36mIdent\u001b[39m\n",
       "defined \u001b[32mclass\u001b[39m \u001b[36mMinus\u001b[39m\n",
       "defined \u001b[32mclass\u001b[39m \u001b[36mPlus\u001b[39m\n",
       "defined \u001b[32mclass\u001b[39m \u001b[36mMult\u001b[39m\n",
       "defined \u001b[32mclass\u001b[39m \u001b[36mEq\u001b[39m\n",
       "defined \u001b[32mclass\u001b[39m \u001b[36mGeq\u001b[39m\n",
       "defined \u001b[32mclass\u001b[39m \u001b[36mIfThenElse\u001b[39m\n",
       "defined \u001b[32mclass\u001b[39m \u001b[36mLet\u001b[39m\n",
       "defined \u001b[32mclass\u001b[39m \u001b[36mFunDef\u001b[39m\n",
       "defined \u001b[32mclass\u001b[39m \u001b[36mFunCall\u001b[39m\n",
       "defined \u001b[32mclass\u001b[39m \u001b[36mLetRec\u001b[39m\n",
       "defined \u001b[32mclass\u001b[39m \u001b[36mLetRec2\u001b[39m\n",
       "defined \u001b[32mclass\u001b[39m \u001b[36mTopLevel\u001b[39m"
      ]
     },
     "execution_count": 25,
     "metadata": {},
     "output_type": "execute_result"
    }
   ],
   "source": [
    "sealed trait Program\n",
    "sealed trait Expr\n",
    "case class Const(f: Double) extends Expr\n",
    "case class Ident(s: String) extends Expr\n",
    "case class Minus(e1: Expr, e2: Expr) extends Expr\n",
    "case class Plus(e1: Expr, e2: Expr) extends Expr\n",
    "case class Mult(e1: Expr, e2: Expr) extends Expr\n",
    "case class Eq(e1: Expr, e2: Expr) extends Expr\n",
    "case class Geq(e1: Expr, e2: Expr) extends Expr\n",
    "case class IfThenElse(e1: Expr, e2: Expr, e3: Expr) extends Expr\n",
    "case class Let(x: String, e1: Expr, e2: Expr) extends Expr\n",
    "case class FunDef(id: String, e: Expr) extends Expr\n",
    "case class FunCall(calledFun: Expr, argExpr: Expr) extends Expr\n",
    "case class LetRec(funName: String, param: String, funExpr: Expr, bodyExpr: Expr) extends Expr\n",
    "\n",
    "// YOUR CODE HERE\n",
    "case class LetRec2(funName1: String, param1: String, funExpr1: Expr,\n",
    "                  funName2: String, param2: String, funExpr2: Expr,bodyExpr: Expr) extends Expr\n",
    "case class TopLevel(e: Expr) extends Program"
   ]
  },
  {
   "cell_type": "code",
   "execution_count": 26,
   "metadata": {
    "deletable": false,
    "editable": false,
    "nbgrader": {
     "cell_type": "code",
     "checksum": "c24cdb28a36ce5b273103ff28056f4ce",
     "grade": true,
     "grade_id": "cell-0a323348d10eb569",
     "locked": true,
     "points": 3,
     "schema_version": 3,
     "solution": false
    }
   },
   "outputs": [
    {
     "name": "stdout",
     "output_type": "stream",
     "text": [
      "\n",
      "*** Tests Passed (3 points) ***\n"
     ]
    },
    {
     "data": {
      "text/plain": [
       "\u001b[36mx\u001b[39m: \u001b[32mIdent\u001b[39m = \u001b[33mIdent\u001b[39m(\u001b[32m\"x\"\u001b[39m)\n",
       "\u001b[36my\u001b[39m: \u001b[32mIdent\u001b[39m = \u001b[33mIdent\u001b[39m(\u001b[32m\"y\"\u001b[39m)\n",
       "\u001b[36mfoo\u001b[39m: \u001b[32mIdent\u001b[39m = \u001b[33mIdent\u001b[39m(\u001b[32m\"foo\"\u001b[39m)\n",
       "\u001b[36mbar\u001b[39m: \u001b[32mIdent\u001b[39m = \u001b[33mIdent\u001b[39m(\u001b[32m\"bar\"\u001b[39m)\n",
       "\u001b[36me1\u001b[39m: \u001b[32mIfThenElse\u001b[39m = \u001b[33mIfThenElse\u001b[39m(\n",
       "  \u001b[33mGeq\u001b[39m(\u001b[33mIdent\u001b[39m(\u001b[32m\"x\"\u001b[39m), \u001b[33mConst\u001b[39m(\u001b[32m0.0\u001b[39m)),\n",
       "  \u001b[33mIdent\u001b[39m(\u001b[32m\"x\"\u001b[39m),\n",
       "  \u001b[33mFunCall\u001b[39m(\u001b[33mIdent\u001b[39m(\u001b[32m\"bar\"\u001b[39m), \u001b[33mPlus\u001b[39m(\u001b[33mIdent\u001b[39m(\u001b[32m\"x\"\u001b[39m), \u001b[33mConst\u001b[39m(\u001b[32m1.0\u001b[39m)))\n",
       ")\n",
       "\u001b[36me2\u001b[39m: \u001b[32mIfThenElse\u001b[39m = \u001b[33mIfThenElse\u001b[39m(\n",
       "  \u001b[33mGeq\u001b[39m(\u001b[33mConst\u001b[39m(\u001b[32m1.0\u001b[39m), \u001b[33mIdent\u001b[39m(\u001b[32m\"x\"\u001b[39m)),\n",
       "  \u001b[33mPlus\u001b[39m(\u001b[33mConst\u001b[39m(\u001b[32m2.0\u001b[39m), \u001b[33mIdent\u001b[39m(\u001b[32m\"x\"\u001b[39m)),\n",
       "  \u001b[33mFunCall\u001b[39m(\u001b[33mIdent\u001b[39m(\u001b[32m\"foo\"\u001b[39m), \u001b[33mMinus\u001b[39m(\u001b[33mIdent\u001b[39m(\u001b[32m\"x\"\u001b[39m), \u001b[33mConst\u001b[39m(\u001b[32m2.0\u001b[39m)))\n",
       ")\n",
       "\u001b[36me3\u001b[39m: \u001b[32mFunCall\u001b[39m = \u001b[33mFunCall\u001b[39m(\u001b[33mIdent\u001b[39m(\u001b[32m\"bar\"\u001b[39m), \u001b[33mConst\u001b[39m(\u001b[32m10.0\u001b[39m))\n",
       "\u001b[36mlr2\u001b[39m: \u001b[32mLetRec2\u001b[39m = \u001b[33mLetRec2\u001b[39m(\n",
       "  \u001b[32m\"foo\"\u001b[39m,\n",
       "  \u001b[32m\"x\"\u001b[39m,\n",
       "  \u001b[33mIfThenElse\u001b[39m(\n",
       "    \u001b[33mGeq\u001b[39m(\u001b[33mIdent\u001b[39m(\u001b[32m\"x\"\u001b[39m), \u001b[33mConst\u001b[39m(\u001b[32m0.0\u001b[39m)),\n",
       "    \u001b[33mIdent\u001b[39m(\u001b[32m\"x\"\u001b[39m),\n",
       "    \u001b[33mFunCall\u001b[39m(\u001b[33mIdent\u001b[39m(\u001b[32m\"bar\"\u001b[39m), \u001b[33mPlus\u001b[39m(\u001b[33mIdent\u001b[39m(\u001b[32m\"x\"\u001b[39m), \u001b[33mConst\u001b[39m(\u001b[32m1.0\u001b[39m)))\n",
       "  ),\n",
       "  \u001b[32m\"bar\"\u001b[39m,\n",
       "  \u001b[32m\"x\"\u001b[39m,\n",
       "  \u001b[33mIfThenElse\u001b[39m(\n",
       "    \u001b[33mGeq\u001b[39m(\u001b[33mConst\u001b[39m(\u001b[32m1.0\u001b[39m), \u001b[33mIdent\u001b[39m(\u001b[32m\"x\"\u001b[39m)),\n",
       "    \u001b[33mPlus\u001b[39m(\u001b[33mConst\u001b[39m(\u001b[32m2.0\u001b[39m), \u001b[33mIdent\u001b[39m(\u001b[32m\"x\"\u001b[39m)),\n",
       "    \u001b[33mFunCall\u001b[39m(\u001b[33mIdent\u001b[39m(\u001b[32m\"foo\"\u001b[39m), \u001b[33mMinus\u001b[39m(\u001b[33mIdent\u001b[39m(\u001b[32m\"x\"\u001b[39m), \u001b[33mConst\u001b[39m(\u001b[32m2.0\u001b[39m)))\n",
       "  ),\n",
       "  \u001b[33mFunCall\u001b[39m(\u001b[33mIdent\u001b[39m(\u001b[32m\"bar\"\u001b[39m), \u001b[33mConst\u001b[39m(\u001b[32m10.0\u001b[39m))\n",
       ")\n",
       "\u001b[36mp1\u001b[39m: \u001b[32mTopLevel\u001b[39m = \u001b[33mTopLevel\u001b[39m(\n",
       "  \u001b[33mLetRec2\u001b[39m(\n",
       "    \u001b[32m\"foo\"\u001b[39m,\n",
       "    \u001b[32m\"x\"\u001b[39m,\n",
       "    \u001b[33mIfThenElse\u001b[39m(\n",
       "      \u001b[33mGeq\u001b[39m(\u001b[33mIdent\u001b[39m(\u001b[32m\"x\"\u001b[39m), \u001b[33mConst\u001b[39m(\u001b[32m0.0\u001b[39m)),\n",
       "      \u001b[33mIdent\u001b[39m(\u001b[32m\"x\"\u001b[39m),\n",
       "      \u001b[33mFunCall\u001b[39m(\u001b[33mIdent\u001b[39m(\u001b[32m\"bar\"\u001b[39m), \u001b[33mPlus\u001b[39m(\u001b[33mIdent\u001b[39m(\u001b[32m\"x\"\u001b[39m), \u001b[33mConst\u001b[39m(\u001b[32m1.0\u001b[39m)))\n",
       "    ),\n",
       "    \u001b[32m\"bar\"\u001b[39m,\n",
       "    \u001b[32m\"x\"\u001b[39m,\n",
       "    \u001b[33mIfThenElse\u001b[39m(\n",
       "      \u001b[33mGeq\u001b[39m(\u001b[33mConst\u001b[39m(\u001b[32m1.0\u001b[39m), \u001b[33mIdent\u001b[39m(\u001b[32m\"x\"\u001b[39m)),\n",
       "      \u001b[33mPlus\u001b[39m(\u001b[33mConst\u001b[39m(\u001b[32m2.0\u001b[39m), \u001b[33mIdent\u001b[39m(\u001b[32m\"x\"\u001b[39m)),\n",
       "      \u001b[33mFunCall\u001b[39m(\u001b[33mIdent\u001b[39m(\u001b[32m\"foo\"\u001b[39m), \u001b[33mMinus\u001b[39m(\u001b[33mIdent\u001b[39m(\u001b[32m\"x\"\u001b[39m), \u001b[33mConst\u001b[39m(\u001b[32m2.0\u001b[39m)))\n",
       "    ),\n",
       "    \u001b[33mFunCall\u001b[39m(\u001b[33mIdent\u001b[39m(\u001b[32m\"bar\"\u001b[39m), \u001b[33mConst\u001b[39m(\u001b[32m10.0\u001b[39m))\n",
       "  )\n",
       ")"
      ]
     },
     "execution_count": 26,
     "metadata": {},
     "output_type": "execute_result"
    }
   ],
   "source": [
    "//BEGIN TEST\n",
    "val x = Ident(\"x\")\n",
    "val y = Ident(\"y\")\n",
    "val foo = Ident(\"foo\")\n",
    "val bar = Ident(\"bar\")\n",
    "\n",
    "val e1 = IfThenElse( Geq(x, Const(0.0)), x, FunCall(bar, Plus(x, Const(1.0)))) // if x >= 0 then x else bar(1 + x)\n",
    "val e2 = IfThenElse( Geq(Const(1.0), x), Plus(Const(2.0), x), FunCall(foo, Minus(x, Const(2.0)))) // if 1 >= x then 2 + x else foo(x-2)\n",
    "val e3 = FunCall(bar, Const(10))\n",
    "val lr2 = LetRec2(\"foo\", \"x\", e1, \"bar\", \"x\", e2, e3)\n",
    "val p1 = TopLevel(lr2)\n",
    "passed(3)\n",
    "//END TEST"
   ]
  },
  {
   "cell_type": "code",
   "execution_count": 27,
   "metadata": {
    "deletable": false,
    "editable": false,
    "nbgrader": {
     "cell_type": "code",
     "checksum": "eedc926f3742471cff2597f6dd5eb4f4",
     "grade": true,
     "grade_id": "cell-ac281039a6b38cb1",
     "locked": true,
     "points": 2,
     "schema_version": 3,
     "solution": false
    }
   },
   "outputs": [
    {
     "name": "stdout",
     "output_type": "stream",
     "text": [
      "\n",
      "*** Tests Passed (2 points) ***\n"
     ]
    },
    {
     "data": {
      "text/plain": [
       "\u001b[36mx\u001b[39m: \u001b[32mIdent\u001b[39m = \u001b[33mIdent\u001b[39m(\u001b[32m\"x\"\u001b[39m)\n",
       "\u001b[36my\u001b[39m: \u001b[32mIdent\u001b[39m = \u001b[33mIdent\u001b[39m(\u001b[32m\"y\"\u001b[39m)\n",
       "\u001b[36mfoo\u001b[39m: \u001b[32mIdent\u001b[39m = \u001b[33mIdent\u001b[39m(\u001b[32m\"foo\"\u001b[39m)\n",
       "\u001b[36mbar\u001b[39m: \u001b[32mIdent\u001b[39m = \u001b[33mIdent\u001b[39m(\u001b[32m\"bar\"\u001b[39m)\n",
       "\u001b[36me11\u001b[39m: \u001b[32mIfThenElse\u001b[39m = \u001b[33mIfThenElse\u001b[39m(\n",
       "  \u001b[33mGeq\u001b[39m(\u001b[33mIdent\u001b[39m(\u001b[32m\"x\"\u001b[39m), \u001b[33mConst\u001b[39m(\u001b[32m0.0\u001b[39m)),\n",
       "  \u001b[33mFunCall\u001b[39m(\u001b[33mIdent\u001b[39m(\u001b[32m\"bar\"\u001b[39m), \u001b[33mMinus\u001b[39m(\u001b[33mConst\u001b[39m(\u001b[32m1.0\u001b[39m), \u001b[33mIdent\u001b[39m(\u001b[32m\"x\"\u001b[39m))),\n",
       "  \u001b[33mMult\u001b[39m(\u001b[33mIdent\u001b[39m(\u001b[32m\"x\"\u001b[39m), \u001b[33mFunCall\u001b[39m(\u001b[33mIdent\u001b[39m(\u001b[32m\"foo\"\u001b[39m), \u001b[33mMinus\u001b[39m(\u001b[33mIdent\u001b[39m(\u001b[32m\"x\"\u001b[39m), \u001b[33mConst\u001b[39m(\u001b[32m1.0\u001b[39m))))\n",
       ")\n",
       "\u001b[36me1\u001b[39m: \u001b[32mIfThenElse\u001b[39m = \u001b[33mIfThenElse\u001b[39m(\n",
       "  \u001b[33mEq\u001b[39m(\u001b[33mIdent\u001b[39m(\u001b[32m\"x\"\u001b[39m), \u001b[33mConst\u001b[39m(\u001b[32m0.0\u001b[39m)),\n",
       "  \u001b[33mConst\u001b[39m(\u001b[32m1.0\u001b[39m),\n",
       "  \u001b[33mIfThenElse\u001b[39m(\n",
       "    \u001b[33mGeq\u001b[39m(\u001b[33mIdent\u001b[39m(\u001b[32m\"x\"\u001b[39m), \u001b[33mConst\u001b[39m(\u001b[32m0.0\u001b[39m)),\n",
       "    \u001b[33mFunCall\u001b[39m(\u001b[33mIdent\u001b[39m(\u001b[32m\"bar\"\u001b[39m), \u001b[33mMinus\u001b[39m(\u001b[33mConst\u001b[39m(\u001b[32m1.0\u001b[39m), \u001b[33mIdent\u001b[39m(\u001b[32m\"x\"\u001b[39m))),\n",
       "    \u001b[33mMult\u001b[39m(\u001b[33mIdent\u001b[39m(\u001b[32m\"x\"\u001b[39m), \u001b[33mFunCall\u001b[39m(\u001b[33mIdent\u001b[39m(\u001b[32m\"foo\"\u001b[39m), \u001b[33mMinus\u001b[39m(\u001b[33mIdent\u001b[39m(\u001b[32m\"x\"\u001b[39m), \u001b[33mConst\u001b[39m(\u001b[32m1.0\u001b[39m))))\n",
       "  )\n",
       ")\n",
       "\u001b[36me2\u001b[39m: \u001b[32mIfThenElse\u001b[39m = \u001b[33mIfThenElse\u001b[39m(\n",
       "  \u001b[33mGeq\u001b[39m(\u001b[33mConst\u001b[39m(\u001b[32m0.0\u001b[39m), \u001b[33mIdent\u001b[39m(\u001b[32m\"y\"\u001b[39m)),\n",
       "  \u001b[33mMult\u001b[39m(\u001b[33mConst\u001b[39m(\u001b[32m-0.5\u001b[39m), \u001b[33mIdent\u001b[39m(\u001b[32m\"y\"\u001b[39m)),\n",
       "  \u001b[33mFunCall\u001b[39m(\u001b[33mIdent\u001b[39m(\u001b[32m\"foo\"\u001b[39m), \u001b[33mIdent\u001b[39m(\u001b[32m\"y\"\u001b[39m))\n",
       ")\n",
       "\u001b[36me3\u001b[39m: \u001b[32mFunCall\u001b[39m = \u001b[33mFunCall\u001b[39m(\u001b[33mIdent\u001b[39m(\u001b[32m\"foo\"\u001b[39m), \u001b[33mConst\u001b[39m(\u001b[32m10.5\u001b[39m))\n",
       "\u001b[36mlr3\u001b[39m: \u001b[32mLetRec2\u001b[39m = \u001b[33mLetRec2\u001b[39m(\n",
       "  \u001b[32m\"foo\"\u001b[39m,\n",
       "  \u001b[32m\"x\"\u001b[39m,\n",
       "  \u001b[33mIfThenElse\u001b[39m(\n",
       "    \u001b[33mEq\u001b[39m(\u001b[33mIdent\u001b[39m(\u001b[32m\"x\"\u001b[39m), \u001b[33mConst\u001b[39m(\u001b[32m0.0\u001b[39m)),\n",
       "    \u001b[33mConst\u001b[39m(\u001b[32m1.0\u001b[39m),\n",
       "    \u001b[33mIfThenElse\u001b[39m(\n",
       "      \u001b[33mGeq\u001b[39m(\u001b[33mIdent\u001b[39m(\u001b[32m\"x\"\u001b[39m), \u001b[33mConst\u001b[39m(\u001b[32m0.0\u001b[39m)),\n",
       "      \u001b[33mFunCall\u001b[39m(\u001b[33mIdent\u001b[39m(\u001b[32m\"bar\"\u001b[39m), \u001b[33mMinus\u001b[39m(\u001b[33mConst\u001b[39m(\u001b[32m1.0\u001b[39m), \u001b[33mIdent\u001b[39m(\u001b[32m\"x\"\u001b[39m))),\n",
       "      \u001b[33mMult\u001b[39m(\u001b[33mIdent\u001b[39m(\u001b[32m\"x\"\u001b[39m), \u001b[33mFunCall\u001b[39m(\u001b[33mIdent\u001b[39m(\u001b[32m\"foo\"\u001b[39m), \u001b[33mMinus\u001b[39m(\u001b[33mIdent\u001b[39m(\u001b[32m\"x\"\u001b[39m), \u001b[33mConst\u001b[39m(\u001b[32m1.0\u001b[39m))))\n",
       "    )\n",
       "  ),\n",
       "  \u001b[32m\"bar\"\u001b[39m,\n",
       "  \u001b[32m\"y\"\u001b[39m,\n",
       "  \u001b[33mIfThenElse\u001b[39m(\n",
       "    \u001b[33mGeq\u001b[39m(\u001b[33mConst\u001b[39m(\u001b[32m0.0\u001b[39m), \u001b[33mIdent\u001b[39m(\u001b[32m\"y\"\u001b[39m)),\n",
       "    \u001b[33mMult\u001b[39m(\u001b[33mConst\u001b[39m(\u001b[32m-0.5\u001b[39m), \u001b[33mIdent\u001b[39m(\u001b[32m\"y\"\u001b[39m)),\n",
       "    \u001b[33mFunCall\u001b[39m(\u001b[33mIdent\u001b[39m(\u001b[32m\"foo\"\u001b[39m), \u001b[33mIdent\u001b[39m(\u001b[32m\"y\"\u001b[39m))\n",
       "  ),\n",
       "  \u001b[33mFunCall\u001b[39m(\u001b[33mIdent\u001b[39m(\u001b[32m\"foo\"\u001b[39m), \u001b[33mConst\u001b[39m(\u001b[32m10.5\u001b[39m))\n",
       ")"
      ]
     },
     "execution_count": 27,
     "metadata": {},
     "output_type": "execute_result"
    }
   ],
   "source": [
    "//BEGIN TEST\n",
    "val x = Ident(\"x\")\n",
    "val y = Ident(\"y\")\n",
    "val foo = Ident(\"foo\")\n",
    "val bar = Ident(\"bar\")\n",
    "val e11 = IfThenElse(Geq(x, Const(0.0)), FunCall(bar, Minus(Const(1.0), x)),Mult(x, FunCall(foo,  Minus(x, Const(1.0))) ))\n",
    "val e1 = IfThenElse(Eq(x, Const(0.0)), Const(1.0), e11)\n",
    "val e2 = IfThenElse(Geq(Const(0.0), y), Mult(Const(-0.5), y) , FunCall(foo, y))\n",
    "val e3 = FunCall(foo, Const(10.5))\n",
    "val lr3 = LetRec2(\"foo\", \"x\", e1, \"bar\", \"y\", e2, e3)\n",
    "passed(2)\n",
    "//END TEST"
   ]
  },
  {
   "cell_type": "markdown",
   "metadata": {
    "deletable": false,
    "editable": false,
    "nbgrader": {
     "cell_type": "markdown",
     "checksum": "45d444ff83da4aecdcecfea7ee458535",
     "grade": false,
     "grade_id": "cell-ea94ae8aa9613fa0",
     "locked": true,
     "schema_version": 3,
     "solution": false
    }
   },
   "source": [
    "## 1B (10 points): Build an Environment to Handle Mutual Recursion\n",
    "\n",
    "In class we saw how to build an environment that handles recursive calls using the `ExtendRec` construct.\n",
    "\n",
    "Now we propose an `ExtendMutualRec2` construct such that\n",
    "\n",
    "$$\\begin{array}{c}\n",
    "\\\\\n",
    "\\hline\n",
    "{\\tiny \\text{eval}(\\texttt{LetRec2(f1, x1, e1, f2, x2, e2, e)}, \\sigma) = \\text{eval}(e, \\texttt{ExtendMutualRec2}(\\texttt{f1, x1, e1, f2, x2, e2}, \\sigma)) } \\\\\n",
    "\\end{array}(\\text{(Mutual-Rec-OK})$$\n",
    "\n",
    "\n",
    "Complete the mathematical specification of $\\texttt{ExtendMutualRec2}$. Let $\\pi = \\texttt{ExtendMutualRec2}(\\texttt{f1, x1, e1, f2, x2, e2}, \\sigma))$.\n",
    "\n",
    "$$ \\pi(y) = \\begin{cases}\n",
    "\\color{red}{1} & \\mbox{if}\\ y = \\texttt{f1} \\\\\n",
    "\\color{red}{2} & \\mbox{if}\\ y = \\texttt{f2} \\\\\n",
    "\\color{red}{3} & \\text{otherwise}\\\\\n",
    "\\end{cases}$$\n",
    "\n",
    "Fill in the appropriate values for  $\\color{red}{1}, \\color{red}{2}, \\color{red}{3}$.\n",
    "\n",
    "Write your answer in the cell bellow. You can make a numbered list in markdown to represent your answers as follows:\n",
    "1. First\n",
    "2. Second\n",
    "3. And so on..."
   ]
  },
  {
   "cell_type": "markdown",
   "metadata": {
    "deletable": false,
    "nbgrader": {
     "cell_type": "markdown",
     "checksum": "6601f43e26065bd587b1109600ffbf78",
     "grade": true,
     "grade_id": "cell-1abd841e6b9c51a0",
     "locked": false,
     "points": 10,
     "schema_version": 3,
     "solution": true
    }
   },
   "source": [
    "1. Closure(x1,e1,pi)\n",
    "2. Closure(x2,e2,pi)\n",
    "3. sigma(y)"
   ]
  },
  {
   "cell_type": "markdown",
   "metadata": {
    "deletable": false,
    "editable": false,
    "nbgrader": {
     "cell_type": "markdown",
     "checksum": "c5f1862bce1394bd0307ffb79b2412e2",
     "grade": false,
     "grade_id": "cell-ad409563be803122",
     "locked": true,
     "schema_version": 3,
     "solution": false
    }
   },
   "source": [
    "## 1C (9 points): Code up the Environment Spec\n",
    "\n",
    "Implement the environment for `ExtendMutualRec`."
   ]
  },
  {
   "cell_type": "code",
   "execution_count": 28,
   "metadata": {
    "deletable": false,
    "nbgrader": {
     "cell_type": "code",
     "checksum": "b827bd248e905c9899a9d82b5df973da",
     "grade": false,
     "grade_id": "cell-3434b5a2dc583c19",
     "locked": false,
     "schema_version": 3,
     "solution": true
    }
   },
   "outputs": [
    {
     "data": {
      "text/plain": [
       "defined \u001b[32mtrait\u001b[39m \u001b[36mEnvironment\u001b[39m\n",
       "defined \u001b[32mtrait\u001b[39m \u001b[36mValue\u001b[39m\n",
       "defined \u001b[32mobject\u001b[39m \u001b[36mEmptyEnv\u001b[39m\n",
       "defined \u001b[32mclass\u001b[39m \u001b[36mExtend\u001b[39m\n",
       "defined \u001b[32mclass\u001b[39m \u001b[36mExtendRec\u001b[39m\n",
       "defined \u001b[32mclass\u001b[39m \u001b[36mExtendMutualRec2\u001b[39m\n",
       "defined \u001b[32mclass\u001b[39m \u001b[36mNumValue\u001b[39m\n",
       "defined \u001b[32mclass\u001b[39m \u001b[36mBoolValue\u001b[39m\n",
       "defined \u001b[32mclass\u001b[39m \u001b[36mClosure\u001b[39m\n",
       "defined \u001b[32mobject\u001b[39m \u001b[36mErrorValue\u001b[39m\n",
       "defined \u001b[32mfunction\u001b[39m \u001b[36mvalueToNumber\u001b[39m\n",
       "defined \u001b[32mfunction\u001b[39m \u001b[36mvalueToBoolean\u001b[39m\n",
       "defined \u001b[32mfunction\u001b[39m \u001b[36mvalueToClosure\u001b[39m\n",
       "defined \u001b[32mfunction\u001b[39m \u001b[36mlookupEnv\u001b[39m"
      ]
     },
     "execution_count": 28,
     "metadata": {},
     "output_type": "execute_result"
    }
   ],
   "source": [
    "sealed trait Environment \n",
    "sealed trait Value\n",
    "\n",
    "case object EmptyEnv extends Environment\n",
    "case class Extend(x: String, v: Value, sigma: Environment) extends Environment\n",
    "case class ExtendRec(f: String, x: String, e: Expr, sigma: Environment ) extends Environment\n",
    "case class ExtendMutualRec2(\n",
    "    // YOUR CODE HERE\n",
    "   f1: String, x1: String, e1: Expr,f2: String, x2: String, e2: Expr, sigma: Environment\n",
    ") extends Environment\n",
    "\n",
    "/* -- We need to redefine values to accomodate the new representation of environments --*/\n",
    "case class NumValue(d: Double) extends Value\n",
    "case class BoolValue(b: Boolean) extends Value\n",
    "case class Closure(x: String, e: Expr, pi: Environment) extends Value\n",
    "case object ErrorValue extends Value\n",
    "\n",
    "\n",
    "/*2. Operators on values */\n",
    "\n",
    "def valueToNumber(v: Value): Double = v match {\n",
    "    case NumValue(d) => d\n",
    "    case _ => throw new IllegalArgumentException(s\"Error: Asking me to convert Value: $v to a number\")\n",
    "}\n",
    "\n",
    "def valueToBoolean(v: Value): Boolean = v match {\n",
    "    case BoolValue(b) => b\n",
    "    case _ => throw new IllegalArgumentException(s\"Error: Asking me to convert Value: $v to a boolean\")\n",
    "}\n",
    "\n",
    "def valueToClosure(v: Value): Closure = v match {\n",
    "    case Closure(x, e, pi) => Closure(x, e, pi)\n",
    "    case _ =>  throw new IllegalArgumentException(s\"Error: Asking me to convert Value: $v to a closure\")\n",
    "}\n",
    "\n",
    "\n",
    "/*-- Operations on environments --*/\n",
    "\n",
    "def lookupEnv(sigma: Environment, x: String): Value = sigma match {\n",
    "    case EmptyEnv => throw new IllegalArgumentException(s\"Error could not find string $x in environment\")\n",
    "    case Extend(y, v, _) if y == x => v\n",
    "    case Extend(_, _, pi) => lookupEnv(pi, x)\n",
    "    case ExtendRec(f, y, e, pi) => if (x == f) \n",
    "                                          Closure(y, e, sigma)\n",
    "                                   else\n",
    "                                          lookupEnv(pi, x)\n",
    "    case ExtendMutualRec2(f1, x1, e1, f2, x2, e2, pi ) => \n",
    "    {\n",
    "        // YOUR CODE HERE\n",
    "        if(x==f1){ Closure(x1,e1,sigma)}\n",
    "        else if(x==f2){Closure(x2,e2,sigma)}\n",
    "        else {    lookupEnv(pi,x)}\n",
    "    }\n",
    "}"
   ]
  },
  {
   "cell_type": "code",
   "execution_count": 29,
   "metadata": {
    "deletable": false,
    "editable": false,
    "nbgrader": {
     "cell_type": "code",
     "checksum": "d1fd695996298d3f0abaad9534cfbc5e",
     "grade": true,
     "grade_id": "cell-09250a1750e80318",
     "locked": true,
     "points": 4,
     "schema_version": 3,
     "solution": false
    }
   },
   "outputs": [
    {
     "name": "stdout",
     "output_type": "stream",
     "text": [
      "\n",
      "*** Tests Passed (4 points) ***\n"
     ]
    },
    {
     "data": {
      "text/plain": [
       "\u001b[36menv\u001b[39m: \u001b[32mEnvironment\u001b[39m = \u001b[33mExtendMutualRec2\u001b[39m(\n",
       "  \u001b[32m\"f1\"\u001b[39m,\n",
       "  \u001b[32m\"x1\"\u001b[39m,\n",
       "  \u001b[33mConst\u001b[39m(\u001b[32m0.0\u001b[39m),\n",
       "  \u001b[32m\"f2\"\u001b[39m,\n",
       "  \u001b[32m\"x2\"\u001b[39m,\n",
       "  \u001b[33mConst\u001b[39m(\u001b[32m0.0\u001b[39m),\n",
       "  EmptyEnv\n",
       ")"
      ]
     },
     "execution_count": 29,
     "metadata": {},
     "output_type": "execute_result"
    }
   ],
   "source": [
    "// BEGIN TEST\n",
    "val env: Environment = ExtendMutualRec2(\"f1\", \"x1\", Const(0.0), \"f2\", \"x2\", Const(0.0), EmptyEnv)\n",
    "passed(4)\n",
    "// END TEST"
   ]
  },
  {
   "cell_type": "code",
   "execution_count": 30,
   "metadata": {
    "deletable": false,
    "editable": false,
    "nbgrader": {
     "cell_type": "code",
     "checksum": "d0c29cd2147eb4ce9ebd115fa3bb30a5",
     "grade": true,
     "grade_id": "cell-ad403275ebacb8fc",
     "locked": true,
     "points": 5,
     "schema_version": 3,
     "solution": false
    }
   },
   "outputs": [
    {
     "name": "stdout",
     "output_type": "stream",
     "text": [
      "\n",
      "*** Tests Passed (5 points) ***\n"
     ]
    },
    {
     "data": {
      "text/plain": [
       "\u001b[36menv\u001b[39m: \u001b[32mEnvironment\u001b[39m = \u001b[33mExtendMutualRec2\u001b[39m(\n",
       "  \u001b[32m\"f1\"\u001b[39m,\n",
       "  \u001b[32m\"x1\"\u001b[39m,\n",
       "  \u001b[33mConst\u001b[39m(\u001b[32m0.0\u001b[39m),\n",
       "  \u001b[32m\"f2\"\u001b[39m,\n",
       "  \u001b[32m\"x2\"\u001b[39m,\n",
       "  \u001b[33mConst\u001b[39m(\u001b[32m0.0\u001b[39m),\n",
       "  EmptyEnv\n",
       ")\n",
       "\u001b[36mf1\u001b[39m: \u001b[32mClosure\u001b[39m = \u001b[33mClosure\u001b[39m(\n",
       "  \u001b[32m\"x1\"\u001b[39m,\n",
       "  \u001b[33mConst\u001b[39m(\u001b[32m0.0\u001b[39m),\n",
       "  \u001b[33mExtendMutualRec2\u001b[39m(\u001b[32m\"f1\"\u001b[39m, \u001b[32m\"x1\"\u001b[39m, \u001b[33mConst\u001b[39m(\u001b[32m0.0\u001b[39m), \u001b[32m\"f2\"\u001b[39m, \u001b[32m\"x2\"\u001b[39m, \u001b[33mConst\u001b[39m(\u001b[32m0.0\u001b[39m), EmptyEnv)\n",
       ")\n",
       "\u001b[36mpi1\u001b[39m: \u001b[32mEnvironment\u001b[39m = \u001b[33mExtendMutualRec2\u001b[39m(\n",
       "  \u001b[32m\"f1\"\u001b[39m,\n",
       "  \u001b[32m\"x1\"\u001b[39m,\n",
       "  \u001b[33mConst\u001b[39m(\u001b[32m0.0\u001b[39m),\n",
       "  \u001b[32m\"f2\"\u001b[39m,\n",
       "  \u001b[32m\"x2\"\u001b[39m,\n",
       "  \u001b[33mConst\u001b[39m(\u001b[32m0.0\u001b[39m),\n",
       "  EmptyEnv\n",
       ")\n",
       "\u001b[36mf2\u001b[39m: \u001b[32mClosure\u001b[39m = \u001b[33mClosure\u001b[39m(\n",
       "  \u001b[32m\"x2\"\u001b[39m,\n",
       "  \u001b[33mConst\u001b[39m(\u001b[32m0.0\u001b[39m),\n",
       "  \u001b[33mExtendMutualRec2\u001b[39m(\u001b[32m\"f1\"\u001b[39m, \u001b[32m\"x1\"\u001b[39m, \u001b[33mConst\u001b[39m(\u001b[32m0.0\u001b[39m), \u001b[32m\"f2\"\u001b[39m, \u001b[32m\"x2\"\u001b[39m, \u001b[33mConst\u001b[39m(\u001b[32m0.0\u001b[39m), EmptyEnv)\n",
       ")\n",
       "\u001b[36mpi2\u001b[39m: \u001b[32mEnvironment\u001b[39m = \u001b[33mExtendMutualRec2\u001b[39m(\n",
       "  \u001b[32m\"f1\"\u001b[39m,\n",
       "  \u001b[32m\"x1\"\u001b[39m,\n",
       "  \u001b[33mConst\u001b[39m(\u001b[32m0.0\u001b[39m),\n",
       "  \u001b[32m\"f2\"\u001b[39m,\n",
       "  \u001b[32m\"x2\"\u001b[39m,\n",
       "  \u001b[33mConst\u001b[39m(\u001b[32m0.0\u001b[39m),\n",
       "  EmptyEnv\n",
       ")\n",
       "\u001b[36mres29_3\u001b[39m: \u001b[32mBoolean\u001b[39m = true\n",
       "\u001b[36mres29_4\u001b[39m: \u001b[32mBoolean\u001b[39m = true\n",
       "\u001b[36mres29_5\u001b[39m: \u001b[32mBoolean\u001b[39m = false\n",
       "\u001b[36mres29_6\u001b[39m: \u001b[32mBoolean\u001b[39m = true"
      ]
     },
     "execution_count": 30,
     "metadata": {},
     "output_type": "execute_result"
    }
   ],
   "source": [
    "// BEGIN TEST\n",
    "val env: Environment = ExtendMutualRec2(\"f1\", \"x1\", Const(0.0), \"f2\", \"x2\", Const(0.0), EmptyEnv)\n",
    "// Ensure looking up either function gets us the right value, no matter how many times we recurse.\n",
    "val f1 @ Closure(_, _, pi1) = lookupEnv(env, \"f1\")\n",
    "val f2 @ Closure(_, _, pi2) = lookupEnv(env, \"f2\")\n",
    "lookupEnv(pi1, \"f1\") == f1\n",
    "lookupEnv(pi1, \"f2\") == f2\n",
    "lookupEnv(pi2, \"f2\") == f1\n",
    "lookupEnv(pi2, \"f2\") == f2\n",
    "passed(5)\n",
    "// END TEST"
   ]
  },
  {
   "cell_type": "markdown",
   "metadata": {
    "deletable": false,
    "editable": false,
    "nbgrader": {
     "cell_type": "markdown",
     "checksum": "e1ba18821645c8cf7ea70810d6f309bf",
     "grade": false,
     "grade_id": "cell-4c4fd48f051219e5",
     "locked": true,
     "schema_version": 3,
     "solution": false
    }
   },
   "source": [
    "## 1D (6 points): Interpreter\n",
    "\n",
    "Complete the interpreter for this new node."
   ]
  },
  {
   "cell_type": "code",
   "execution_count": 31,
   "metadata": {
    "deletable": false,
    "nbgrader": {
     "cell_type": "code",
     "checksum": "fe6338a40839fbdd0a68456794daba26",
     "grade": false,
     "grade_id": "cell-85f9226991a2aa7d",
     "locked": false,
     "schema_version": 3,
     "solution": true
    }
   },
   "outputs": [
    {
     "data": {
      "text/plain": [
       "defined \u001b[32mfunction\u001b[39m \u001b[36mevalExpr\u001b[39m\n",
       "defined \u001b[32mfunction\u001b[39m \u001b[36mevalProgram\u001b[39m"
      ]
     },
     "execution_count": 31,
     "metadata": {},
     "output_type": "execute_result"
    }
   ],
   "source": [
    "def evalExpr(e: Expr, env: Environment): Value =  {\n",
    "    \n",
    "    /* Method to deal with binary arithmetic operations */\n",
    "    def applyArith2 (e1: Expr, e2: Expr) (fun: (Double , Double) => Double) = {\n",
    "        val v1 = valueToNumber(evalExpr(e1, env))\n",
    "        val v2 = valueToNumber(evalExpr(e2, env))\n",
    "        val v3 = fun(v1, v2)\n",
    "        NumValue(v3)\n",
    "    }  /* -- We have deliberately curried the method --*/\n",
    "    \n",
    "    /* Helper method to deal with unary arithmetic */\n",
    "    def applyArith1(e: Expr) (fun: Double => Double) = {\n",
    "        val v = valueToNumber(evalExpr(e, env))\n",
    "        val v1 = fun(v)\n",
    "        NumValue(v1)\n",
    "    }\n",
    "    \n",
    "    /* Helper method to deal with comparison operators */\n",
    "    def applyComp(e1: Expr, e2: Expr) (fun: (Double, Double) => Boolean) = {\n",
    "        val v1 = valueToNumber(evalExpr(e1, env))\n",
    "        val v2 = valueToNumber(evalExpr(e2, env))\n",
    "        val v3 = fun(v1, v2)\n",
    "        BoolValue(v3)\n",
    "    }\n",
    "    \n",
    "   \n",
    "    e match {\n",
    "        case Const(f) => NumValue(f) // Same as before\n",
    "        \n",
    "        case Ident(x) => lookupEnv(env, x) // Changed to accomodate the new environment definitions.\n",
    "    \n",
    "        /* Ditto as before */\n",
    "        case Plus(e1, e2) => applyArith2 (e1, e2) ( _ + _ )\n",
    "        /* Ditto as before */\n",
    "        case Minus(e1, e2) => applyArith2(e1, e2) ( _ - _ )\n",
    "        /* Ditto as before */\n",
    "        case Mult(e1, e2) =>  applyArith2(e1, e2) (_ * _)\n",
    "        /* Ditto as before */\n",
    "        case Geq(e1, e2) => applyComp(e1, e2)(_ >= _)\n",
    "        /* Ditto as before */\n",
    "        case Eq(e1, e2) => applyComp(e1, e2)(_ == _)\n",
    "        /* Ditto as before */\n",
    "        case IfThenElse(e1, e2, e3) => {\n",
    "            val v = evalExpr(e1, env)\n",
    "            v match {\n",
    "                case BoolValue(true) => evalExpr(e2, env)\n",
    "                case BoolValue(false) => evalExpr(e3, env)\n",
    "                case _ => throw new IllegalArgumentException(s\"If-then-else condition expr: ${e1} is non-boolean -- evaluates to ${v}\")\n",
    "            }\n",
    "        }\n",
    "        /* Ditto as before */\n",
    "        case Let(x, e1, e2) => {\n",
    "            val v1 = evalExpr(e1, env)  // eval e1\n",
    "            val env2 = Extend(x, v1, env) // create a new extended env\n",
    "            evalExpr(e2, env2) // eval e2 under that.\n",
    "        }\n",
    "        /* Ditto as before */\n",
    "        case FunDef(x, e) => {\n",
    "            Closure(x, e, env) // Return a closure with the current enviroment.\n",
    "        }\n",
    "        /* Ditto as before */\n",
    "        case FunCall(e1, e2) => {\n",
    "            val v1 = evalExpr(e1, env)\n",
    "            val v2 = evalExpr(e2, env)\n",
    "            v1 match {\n",
    "                case Closure(x, closure_ex, closed_env) => {\n",
    "                    // First extend closed_env by binding x to v2\n",
    "                    val new_env = Extend(x, v2, closed_env)\n",
    "                    // Evaluate the body of the closure under the extended environment.\n",
    "                    evalExpr(closure_ex, new_env)\n",
    "                }\n",
    "                case _ => throw new IllegalArgumentException(s\"Function call error: expression $e1 does not evaluate to a closure\")\n",
    "            }\n",
    "        }\n",
    "    \n",
    "        case LetRec(rfun, x, fExpr, bExpr) => {\n",
    "            val env2 = ExtendRec(rfun, x, fExpr, env)\n",
    "            evalExpr(bExpr, env2)\n",
    "        }\n",
    "        \n",
    "        case LetRec2(f1, x1, e1, f2, x2, e2, e) => {\n",
    "            // YOUR CODE HERE\n",
    "            val env2 = ExtendMutualRec2(f1, x1, e1, f2, x2, e2, env)\n",
    "            evalExpr(e, env2)\n",
    "        }\n",
    "    }\n",
    "}\n",
    "\n",
    "def evalProgram(p: Program) = {\n",
    "    p match { \n",
    "        case TopLevel(e) => evalExpr(e, EmptyEnv)\n",
    "    }\n",
    "}\n"
   ]
  },
  {
   "cell_type": "code",
   "execution_count": 32,
   "metadata": {
    "deletable": false,
    "editable": false,
    "nbgrader": {
     "cell_type": "code",
     "checksum": "2bd9306a1892dc19dfb594b5a49a5b75",
     "grade": true,
     "grade_id": "cell-def22c2fe2823f5e",
     "locked": true,
     "points": 6,
     "schema_version": 3,
     "solution": false
    }
   },
   "outputs": [
    {
     "name": "stdout",
     "output_type": "stream",
     "text": [
      "\n",
      "*** Tests Passed (6 points) ***\n"
     ]
    },
    {
     "data": {
      "text/plain": [
       "\u001b[36mx\u001b[39m: \u001b[32mIdent\u001b[39m = \u001b[33mIdent\u001b[39m(\u001b[32m\"x\"\u001b[39m)\n",
       "\u001b[36my\u001b[39m: \u001b[32mIdent\u001b[39m = \u001b[33mIdent\u001b[39m(\u001b[32m\"y\"\u001b[39m)\n",
       "\u001b[36mfoo\u001b[39m: \u001b[32mIdent\u001b[39m = \u001b[33mIdent\u001b[39m(\u001b[32m\"foo\"\u001b[39m)\n",
       "\u001b[36mbar\u001b[39m: \u001b[32mIdent\u001b[39m = \u001b[33mIdent\u001b[39m(\u001b[32m\"bar\"\u001b[39m)\n",
       "\u001b[36me1\u001b[39m: \u001b[32mIfThenElse\u001b[39m = \u001b[33mIfThenElse\u001b[39m(\n",
       "  \u001b[33mGeq\u001b[39m(\u001b[33mIdent\u001b[39m(\u001b[32m\"x\"\u001b[39m), \u001b[33mConst\u001b[39m(\u001b[32m0.0\u001b[39m)),\n",
       "  \u001b[33mIdent\u001b[39m(\u001b[32m\"x\"\u001b[39m),\n",
       "  \u001b[33mFunCall\u001b[39m(\u001b[33mIdent\u001b[39m(\u001b[32m\"bar\"\u001b[39m), \u001b[33mPlus\u001b[39m(\u001b[33mIdent\u001b[39m(\u001b[32m\"x\"\u001b[39m), \u001b[33mConst\u001b[39m(\u001b[32m1.0\u001b[39m)))\n",
       ")\n",
       "\u001b[36me2\u001b[39m: \u001b[32mIfThenElse\u001b[39m = \u001b[33mIfThenElse\u001b[39m(\n",
       "  \u001b[33mGeq\u001b[39m(\u001b[33mConst\u001b[39m(\u001b[32m1.0\u001b[39m), \u001b[33mIdent\u001b[39m(\u001b[32m\"x\"\u001b[39m)),\n",
       "  \u001b[33mPlus\u001b[39m(\u001b[33mConst\u001b[39m(\u001b[32m2.0\u001b[39m), \u001b[33mIdent\u001b[39m(\u001b[32m\"x\"\u001b[39m)),\n",
       "  \u001b[33mFunCall\u001b[39m(\u001b[33mIdent\u001b[39m(\u001b[32m\"foo\"\u001b[39m), \u001b[33mMinus\u001b[39m(\u001b[33mIdent\u001b[39m(\u001b[32m\"x\"\u001b[39m), \u001b[33mConst\u001b[39m(\u001b[32m2.0\u001b[39m)))\n",
       ")\n",
       "\u001b[36me3\u001b[39m: \u001b[32mFunCall\u001b[39m = \u001b[33mFunCall\u001b[39m(\u001b[33mIdent\u001b[39m(\u001b[32m\"bar\"\u001b[39m), \u001b[33mConst\u001b[39m(\u001b[32m10.0\u001b[39m))\n",
       "\u001b[36mlr2\u001b[39m: \u001b[32mLetRec2\u001b[39m = \u001b[33mLetRec2\u001b[39m(\n",
       "  \u001b[32m\"foo\"\u001b[39m,\n",
       "  \u001b[32m\"x\"\u001b[39m,\n",
       "  \u001b[33mIfThenElse\u001b[39m(\n",
       "    \u001b[33mGeq\u001b[39m(\u001b[33mIdent\u001b[39m(\u001b[32m\"x\"\u001b[39m), \u001b[33mConst\u001b[39m(\u001b[32m0.0\u001b[39m)),\n",
       "    \u001b[33mIdent\u001b[39m(\u001b[32m\"x\"\u001b[39m),\n",
       "    \u001b[33mFunCall\u001b[39m(\u001b[33mIdent\u001b[39m(\u001b[32m\"bar\"\u001b[39m), \u001b[33mPlus\u001b[39m(\u001b[33mIdent\u001b[39m(\u001b[32m\"x\"\u001b[39m), \u001b[33mConst\u001b[39m(\u001b[32m1.0\u001b[39m)))\n",
       "  ),\n",
       "  \u001b[32m\"bar\"\u001b[39m,\n",
       "  \u001b[32m\"x\"\u001b[39m,\n",
       "  \u001b[33mIfThenElse\u001b[39m(\n",
       "    \u001b[33mGeq\u001b[39m(\u001b[33mConst\u001b[39m(\u001b[32m1.0\u001b[39m), \u001b[33mIdent\u001b[39m(\u001b[32m\"x\"\u001b[39m)),\n",
       "    \u001b[33mPlus\u001b[39m(\u001b[33mConst\u001b[39m(\u001b[32m2.0\u001b[39m), \u001b[33mIdent\u001b[39m(\u001b[32m\"x\"\u001b[39m)),\n",
       "    \u001b[33mFunCall\u001b[39m(\u001b[33mIdent\u001b[39m(\u001b[32m\"foo\"\u001b[39m), \u001b[33mMinus\u001b[39m(\u001b[33mIdent\u001b[39m(\u001b[32m\"x\"\u001b[39m), \u001b[33mConst\u001b[39m(\u001b[32m2.0\u001b[39m)))\n",
       "  ),\n",
       "  \u001b[33mFunCall\u001b[39m(\u001b[33mIdent\u001b[39m(\u001b[32m\"bar\"\u001b[39m), \u001b[33mConst\u001b[39m(\u001b[32m10.0\u001b[39m))\n",
       ")\n",
       "\u001b[36mp1\u001b[39m: \u001b[32mTopLevel\u001b[39m = \u001b[33mTopLevel\u001b[39m(\n",
       "  \u001b[33mLetRec2\u001b[39m(\n",
       "    \u001b[32m\"foo\"\u001b[39m,\n",
       "    \u001b[32m\"x\"\u001b[39m,\n",
       "    \u001b[33mIfThenElse\u001b[39m(\n",
       "      \u001b[33mGeq\u001b[39m(\u001b[33mIdent\u001b[39m(\u001b[32m\"x\"\u001b[39m), \u001b[33mConst\u001b[39m(\u001b[32m0.0\u001b[39m)),\n",
       "      \u001b[33mIdent\u001b[39m(\u001b[32m\"x\"\u001b[39m),\n",
       "      \u001b[33mFunCall\u001b[39m(\u001b[33mIdent\u001b[39m(\u001b[32m\"bar\"\u001b[39m), \u001b[33mPlus\u001b[39m(\u001b[33mIdent\u001b[39m(\u001b[32m\"x\"\u001b[39m), \u001b[33mConst\u001b[39m(\u001b[32m1.0\u001b[39m)))\n",
       "    ),\n",
       "    \u001b[32m\"bar\"\u001b[39m,\n",
       "    \u001b[32m\"x\"\u001b[39m,\n",
       "    \u001b[33mIfThenElse\u001b[39m(\n",
       "      \u001b[33mGeq\u001b[39m(\u001b[33mConst\u001b[39m(\u001b[32m1.0\u001b[39m), \u001b[33mIdent\u001b[39m(\u001b[32m\"x\"\u001b[39m)),\n",
       "      \u001b[33mPlus\u001b[39m(\u001b[33mConst\u001b[39m(\u001b[32m2.0\u001b[39m), \u001b[33mIdent\u001b[39m(\u001b[32m\"x\"\u001b[39m)),\n",
       "      \u001b[33mFunCall\u001b[39m(\u001b[33mIdent\u001b[39m(\u001b[32m\"foo\"\u001b[39m), \u001b[33mMinus\u001b[39m(\u001b[33mIdent\u001b[39m(\u001b[32m\"x\"\u001b[39m), \u001b[33mConst\u001b[39m(\u001b[32m2.0\u001b[39m)))\n",
       "    ),\n",
       "    \u001b[33mFunCall\u001b[39m(\u001b[33mIdent\u001b[39m(\u001b[32m\"bar\"\u001b[39m), \u001b[33mConst\u001b[39m(\u001b[32m10.0\u001b[39m))\n",
       "  )\n",
       ")\n",
       "\u001b[36me4\u001b[39m: \u001b[32mFunCall\u001b[39m = \u001b[33mFunCall\u001b[39m(\u001b[33mIdent\u001b[39m(\u001b[32m\"foo\"\u001b[39m), \u001b[33mConst\u001b[39m(\u001b[32m12.0\u001b[39m))\n",
       "\u001b[36mp2\u001b[39m: \u001b[32mTopLevel\u001b[39m = \u001b[33mTopLevel\u001b[39m(\n",
       "  \u001b[33mLetRec2\u001b[39m(\n",
       "    \u001b[32m\"foo\"\u001b[39m,\n",
       "    \u001b[32m\"x\"\u001b[39m,\n",
       "    \u001b[33mIfThenElse\u001b[39m(\n",
       "      \u001b[33mGeq\u001b[39m(\u001b[33mIdent\u001b[39m(\u001b[32m\"x\"\u001b[39m), \u001b[33mConst\u001b[39m(\u001b[32m0.0\u001b[39m)),\n",
       "      \u001b[33mIdent\u001b[39m(\u001b[32m\"x\"\u001b[39m),\n",
       "      \u001b[33mFunCall\u001b[39m(\u001b[33mIdent\u001b[39m(\u001b[32m\"bar\"\u001b[39m), \u001b[33mPlus\u001b[39m(\u001b[33mIdent\u001b[39m(\u001b[32m\"x\"\u001b[39m), \u001b[33mConst\u001b[39m(\u001b[32m1.0\u001b[39m)))\n",
       "    ),\n",
       "    \u001b[32m\"bar\"\u001b[39m,\n",
       "    \u001b[32m\"x\"\u001b[39m,\n",
       "    \u001b[33mIfThenElse\u001b[39m(\n",
       "      \u001b[33mGeq\u001b[39m(\u001b[33mConst\u001b[39m(\u001b[32m1.0\u001b[39m), \u001b[33mIdent\u001b[39m(\u001b[32m\"x\"\u001b[39m)),\n",
       "      \u001b[33mPlus\u001b[39m(\u001b[33mConst\u001b[39m(\u001b[32m2.0\u001b[39m), \u001b[33mIdent\u001b[39m(\u001b[32m\"x\"\u001b[39m)),\n",
       "      \u001b[33mFunCall\u001b[39m(\u001b[33mIdent\u001b[39m(\u001b[32m\"foo\"\u001b[39m), \u001b[33mMinus\u001b[39m(\u001b[33mIdent\u001b[39m(\u001b[32m\"x\"\u001b[39m), \u001b[33mConst\u001b[39m(\u001b[32m2.0\u001b[39m)))\n",
       "    ),\n",
       "    \u001b[33mFunCall\u001b[39m(\u001b[33mIdent\u001b[39m(\u001b[32m\"foo\"\u001b[39m), \u001b[33mConst\u001b[39m(\u001b[32m12.0\u001b[39m))\n",
       "  )\n",
       ")\n",
       "\u001b[36me5\u001b[39m: \u001b[32mFunCall\u001b[39m = \u001b[33mFunCall\u001b[39m(\u001b[33mIdent\u001b[39m(\u001b[32m\"foo\"\u001b[39m), \u001b[33mConst\u001b[39m(\u001b[32m-12.0\u001b[39m))\n",
       "\u001b[36mp3\u001b[39m: \u001b[32mTopLevel\u001b[39m = \u001b[33mTopLevel\u001b[39m(\n",
       "  \u001b[33mLetRec2\u001b[39m(\n",
       "    \u001b[32m\"foo\"\u001b[39m,\n",
       "    \u001b[32m\"x\"\u001b[39m,\n",
       "    \u001b[33mIfThenElse\u001b[39m(\n",
       "      \u001b[33mGeq\u001b[39m(\u001b[33mIdent\u001b[39m(\u001b[32m\"x\"\u001b[39m), \u001b[33mConst\u001b[39m(\u001b[32m0.0\u001b[39m)),\n",
       "      \u001b[33mIdent\u001b[39m(\u001b[32m\"x\"\u001b[39m),\n",
       "      \u001b[33mFunCall\u001b[39m(\u001b[33mIdent\u001b[39m(\u001b[32m\"bar\"\u001b[39m), \u001b[33mPlus\u001b[39m(\u001b[33mIdent\u001b[39m(\u001b[32m\"x\"\u001b[39m), \u001b[33mConst\u001b[39m(\u001b[32m1.0\u001b[39m)))\n",
       "    ),\n",
       "    \u001b[32m\"bar\"\u001b[39m,\n",
       "    \u001b[32m\"x\"\u001b[39m,\n",
       "    \u001b[33mIfThenElse\u001b[39m(\n",
       "      \u001b[33mGeq\u001b[39m(\u001b[33mConst\u001b[39m(\u001b[32m1.0\u001b[39m), \u001b[33mIdent\u001b[39m(\u001b[32m\"x\"\u001b[39m)),\n",
       "      \u001b[33mPlus\u001b[39m(\u001b[33mConst\u001b[39m(\u001b[32m2.0\u001b[39m), \u001b[33mIdent\u001b[39m(\u001b[32m\"x\"\u001b[39m)),\n",
       "      \u001b[33mFunCall\u001b[39m(\u001b[33mIdent\u001b[39m(\u001b[32m\"foo\"\u001b[39m), \u001b[33mMinus\u001b[39m(\u001b[33mIdent\u001b[39m(\u001b[32m\"x\"\u001b[39m), \u001b[33mConst\u001b[39m(\u001b[32m2.0\u001b[39m)))\n",
       "    ),\n",
       "    \u001b[33mFunCall\u001b[39m(\u001b[33mIdent\u001b[39m(\u001b[32m\"foo\"\u001b[39m), \u001b[33mConst\u001b[39m(\u001b[32m-12.0\u001b[39m))\n",
       "  )\n",
       ")\n",
       "\u001b[36me6\u001b[39m: \u001b[32mFunCall\u001b[39m = \u001b[33mFunCall\u001b[39m(\u001b[33mIdent\u001b[39m(\u001b[32m\"bar\"\u001b[39m), \u001b[33mConst\u001b[39m(\u001b[32m-12.0\u001b[39m))\n",
       "\u001b[36mp4\u001b[39m: \u001b[32mTopLevel\u001b[39m = \u001b[33mTopLevel\u001b[39m(\n",
       "  \u001b[33mLetRec2\u001b[39m(\n",
       "    \u001b[32m\"foo\"\u001b[39m,\n",
       "    \u001b[32m\"x\"\u001b[39m,\n",
       "    \u001b[33mIfThenElse\u001b[39m(\n",
       "      \u001b[33mGeq\u001b[39m(\u001b[33mIdent\u001b[39m(\u001b[32m\"x\"\u001b[39m), \u001b[33mConst\u001b[39m(\u001b[32m0.0\u001b[39m)),\n",
       "      \u001b[33mIdent\u001b[39m(\u001b[32m\"x\"\u001b[39m),\n",
       "      \u001b[33mFunCall\u001b[39m(\u001b[33mIdent\u001b[39m(\u001b[32m\"bar\"\u001b[39m), \u001b[33mPlus\u001b[39m(\u001b[33mIdent\u001b[39m(\u001b[32m\"x\"\u001b[39m), \u001b[33mConst\u001b[39m(\u001b[32m1.0\u001b[39m)))\n",
       "    ),\n",
       "    \u001b[32m\"bar\"\u001b[39m,\n",
       "    \u001b[32m\"x\"\u001b[39m,\n",
       "    \u001b[33mIfThenElse\u001b[39m(\n",
       "      \u001b[33mGeq\u001b[39m(\u001b[33mConst\u001b[39m(\u001b[32m1.0\u001b[39m), \u001b[33mIdent\u001b[39m(\u001b[32m\"x\"\u001b[39m)),\n",
       "      \u001b[33mPlus\u001b[39m(\u001b[33mConst\u001b[39m(\u001b[32m2.0\u001b[39m), \u001b[33mIdent\u001b[39m(\u001b[32m\"x\"\u001b[39m)),\n",
       "      \u001b[33mFunCall\u001b[39m(\u001b[33mIdent\u001b[39m(\u001b[32m\"foo\"\u001b[39m), \u001b[33mMinus\u001b[39m(\u001b[33mIdent\u001b[39m(\u001b[32m\"x\"\u001b[39m), \u001b[33mConst\u001b[39m(\u001b[32m2.0\u001b[39m)))\n",
       "    ),\n",
       "    \u001b[33mFunCall\u001b[39m(\u001b[33mIdent\u001b[39m(\u001b[32m\"bar\"\u001b[39m), \u001b[33mConst\u001b[39m(\u001b[32m-12.0\u001b[39m))\n",
       "  )\n",
       ")\n",
       "\u001b[36me7\u001b[39m: \u001b[32mFunCall\u001b[39m = \u001b[33mFunCall\u001b[39m(\u001b[33mIdent\u001b[39m(\u001b[32m\"bar\"\u001b[39m), \u001b[33mConst\u001b[39m(\u001b[32m1.9\u001b[39m))\n",
       "\u001b[36mp5\u001b[39m: \u001b[32mTopLevel\u001b[39m = \u001b[33mTopLevel\u001b[39m(\n",
       "  \u001b[33mLetRec2\u001b[39m(\n",
       "    \u001b[32m\"foo\"\u001b[39m,\n",
       "    \u001b[32m\"x\"\u001b[39m,\n",
       "    \u001b[33mIfThenElse\u001b[39m(\n",
       "      \u001b[33mGeq\u001b[39m(\u001b[33mIdent\u001b[39m(\u001b[32m\"x\"\u001b[39m), \u001b[33mConst\u001b[39m(\u001b[32m0.0\u001b[39m)),\n",
       "      \u001b[33mIdent\u001b[39m(\u001b[32m\"x\"\u001b[39m),\n",
       "      \u001b[33mFunCall\u001b[39m(\u001b[33mIdent\u001b[39m(\u001b[32m\"bar\"\u001b[39m), \u001b[33mPlus\u001b[39m(\u001b[33mIdent\u001b[39m(\u001b[32m\"x\"\u001b[39m), \u001b[33mConst\u001b[39m(\u001b[32m1.0\u001b[39m)))\n",
       "    ),\n",
       "    \u001b[32m\"bar\"\u001b[39m,\n",
       "    \u001b[32m\"x\"\u001b[39m,\n",
       "    \u001b[33mIfThenElse\u001b[39m(\n",
       "      \u001b[33mGeq\u001b[39m(\u001b[33mConst\u001b[39m(\u001b[32m1.0\u001b[39m), \u001b[33mIdent\u001b[39m(\u001b[32m\"x\"\u001b[39m)),\n",
       "      \u001b[33mPlus\u001b[39m(\u001b[33mConst\u001b[39m(\u001b[32m2.0\u001b[39m), \u001b[33mIdent\u001b[39m(\u001b[32m\"x\"\u001b[39m)),\n",
       "      \u001b[33mFunCall\u001b[39m(\u001b[33mIdent\u001b[39m(\u001b[32m\"foo\"\u001b[39m), \u001b[33mMinus\u001b[39m(\u001b[33mIdent\u001b[39m(\u001b[32m\"x\"\u001b[39m), \u001b[33mConst\u001b[39m(\u001b[32m2.0\u001b[39m)))\n",
       "    ),\n",
       "    \u001b[33mFunCall\u001b[39m(\u001b[33mIdent\u001b[39m(\u001b[32m\"bar\"\u001b[39m), \u001b[33mConst\u001b[39m(\u001b[32m1.9\u001b[39m))\n",
       "  )\n",
       ")"
      ]
     },
     "execution_count": 32,
     "metadata": {},
     "output_type": "execute_result"
    }
   ],
   "source": [
    "//BEGIN TEST\n",
    "val x = Ident(\"x\")\n",
    "val y = Ident(\"y\")\n",
    "val foo = Ident(\"foo\")\n",
    "val bar = Ident(\"bar\")\n",
    "\n",
    "val e1 = IfThenElse( Geq(x, Const(0.0)), x, FunCall(bar, Plus(x, Const(1.0)))) // if x >= 0 then x else bar(1 + x)\n",
    "val e2 = IfThenElse( Geq(Const(1.0), x), Plus(Const(2.0), x), FunCall(foo, Minus(x, Const(2.0)))) // if 1 >= x then 2 + x else foo(x-2)\n",
    "val e3 = FunCall(bar, Const(10))\n",
    "\n",
    "val lr2 = LetRec2(\"foo\", \"x\", e1, \"bar\", \"x\", e2, e3)\n",
    "val p1 = TopLevel(lr2)\n",
    "assert(evalProgram(p1) == NumValue(8.0), \"Test 1 of Set 1 failed\")\n",
    "\n",
    "val e4 = FunCall(foo, Const(12.0))\n",
    "val p2 = TopLevel(LetRec2(\"foo\", \"x\", e1, \"bar\", \"x\", e2, e4))\n",
    "assert(evalProgram(p2) == NumValue(12.0), \"Test 2 of Set 1 failed\")\n",
    "\n",
    "val e5 = FunCall(foo, Const(-12.0))\n",
    "val p3 = TopLevel(LetRec2(\"foo\", \"x\", e1, \"bar\", \"x\", e2, e5))\n",
    "assert(evalProgram(p3) == NumValue(-9.0), \"Test 3 of Set 1 failed\")\n",
    "\n",
    "val e6 = FunCall(bar, Const(-12.0))\n",
    "val p4 = TopLevel(LetRec2(\"foo\", \"x\", e1, \"bar\", \"x\", e2, e6))\n",
    "assert(evalProgram(p4) == NumValue(-10.0), \"Test 4 of Set 1 failed\")\n",
    "\n",
    "val e7 = FunCall(bar, Const(1.9))\n",
    "val p5 = TopLevel(LetRec2(\"foo\", \"x\", e1, \"bar\", \"x\", e2, e7))\n",
    "assert(evalProgram(p5) == NumValue(2.9), \"Test 5 of Set 1 failed\")\n",
    "\n",
    "passed(6)\n",
    "//END TEST"
   ]
  },
  {
   "cell_type": "markdown",
   "metadata": {
    "deletable": false,
    "editable": false,
    "nbgrader": {
     "cell_type": "markdown",
     "checksum": "bf0aa5fe919c5832763699d82db20290",
     "grade": false,
     "grade_id": "cell-2677f129ee439d32",
     "locked": true,
     "schema_version": 3,
     "solution": false,
     "task": false
    }
   },
   "source": [
    "## Problem 2: Convert Recursions Into Continuation Passing Style\n",
    "\n",
    "For each of the non-tail recursive functions below, convert them into continuation passing style."
   ]
  },
  {
   "cell_type": "markdown",
   "metadata": {
    "deletable": false,
    "editable": false,
    "nbgrader": {
     "cell_type": "markdown",
     "checksum": "bcbf8c4d33b58901773eda1ff7c5467c",
     "grade": false,
     "grade_id": "cell-4e76fd38b861e923",
     "locked": true,
     "schema_version": 3,
     "solution": false,
     "task": false
    }
   },
   "source": [
    "## 2A : Neganacci Function \n",
    "\n",
    "Convert the neganacci function below into a tail recursive function using continuation passing style."
   ]
  },
  {
   "cell_type": "code",
   "execution_count": 33,
   "metadata": {
    "deletable": false,
    "editable": false,
    "nbgrader": {
     "cell_type": "code",
     "checksum": "6352ff0d72e508f088f9cb78e60b2b31",
     "grade": false,
     "grade_id": "cell-7b9fd2f090f8bd37",
     "locked": true,
     "schema_version": 3,
     "solution": false,
     "task": false
    }
   },
   "outputs": [
    {
     "data": {
      "text/plain": [
       "defined \u001b[32mfunction\u001b[39m \u001b[36mneganacci\u001b[39m"
      ]
     },
     "execution_count": 33,
     "metadata": {},
     "output_type": "execute_result"
    }
   ],
   "source": [
    "def neganacci(x: Int): Int = {\n",
    "    if (x <= 2){\n",
    "        1\n",
    "    } else {\n",
    "        neganacci(x -1) - neganacci(x-2) + 1\n",
    "    }\n",
    "}"
   ]
  },
  {
   "cell_type": "markdown",
   "metadata": {
    "deletable": false,
    "editable": false,
    "nbgrader": {
     "cell_type": "markdown",
     "checksum": "74766ded5bfe74a642b9280d03cecc96",
     "grade": false,
     "grade_id": "cell-ab9c2aa5cd982852",
     "locked": true,
     "schema_version": 3,
     "solution": false,
     "task": false
    }
   },
   "source": [
    "__Hint__ It may help to write out the function as \n",
    "\n",
    "```scala\n",
    "def neganacci(x: Int): Int = {\n",
    "    if (x <= 2){\n",
    "        1\n",
    "    } else {\n",
    "        val v1 = neganacci(x -1) \n",
    "        val v2 = neganacci(x - 2)\n",
    "        v1 - v2 + 1\n",
    "    }\n",
    "}\n",
    "```\n",
    "\n",
    "before converting to CPS."
   ]
  },
  {
   "cell_type": "code",
   "execution_count": 34,
   "metadata": {
    "deletable": false,
    "nbgrader": {
     "cell_type": "code",
     "checksum": "d8b04f0c6ae2fd1b3df55f128f3026d4",
     "grade": false,
     "grade_id": "cell-73e8a018549615cf",
     "locked": false,
     "schema_version": 3,
     "solution": true,
     "task": false
    }
   },
   "outputs": [
    {
     "data": {
      "text/plain": [
       "defined \u001b[32mfunction\u001b[39m \u001b[36mneganacci_cps\u001b[39m"
      ]
     },
     "execution_count": 34,
     "metadata": {},
     "output_type": "execute_result"
    }
   ],
   "source": [
    "def neganacci_cps(x: Int, k: Int => Int): Int = {\n",
    "    // YOUR CODE HERE\n",
    "    if (x <= 2){\n",
    "       k(1)\n",
    "    } else {\n",
    "     neganacci_cps(x-1,v1=> neganacci_cps(x-2,v2=> {k(v1-v2+1)}))\n",
    "    }\n",
    "}"
   ]
  },
  {
   "cell_type": "code",
   "execution_count": 35,
   "metadata": {
    "deletable": false,
    "editable": false,
    "nbgrader": {
     "cell_type": "code",
     "checksum": "3a6610809fb2e08ce4edf09852775e63",
     "grade": true,
     "grade_id": "cell-a104ec1cf158fcc0",
     "locked": true,
     "points": 6,
     "schema_version": 3,
     "solution": false,
     "task": false
    }
   },
   "outputs": [
    {
     "name": "stdout",
     "output_type": "stream",
     "text": [
      "\n",
      "*** Tests Passed (6 points) ***\n"
     ]
    }
   ],
   "source": [
    "(1 to 12).foreach (x => assert(neganacci(x) == neganacci_cps(x, v => v), s\"failed for input $x\"))\n",
    "passed(6)"
   ]
  },
  {
   "cell_type": "markdown",
   "metadata": {
    "deletable": false,
    "editable": false,
    "nbgrader": {
     "cell_type": "markdown",
     "checksum": "c5535e9d79eb2f359a5ac55919d855f3",
     "grade": false,
     "grade_id": "cell-c035f4b510e19930",
     "locked": true,
     "schema_version": 3,
     "solution": false,
     "task": false
    }
   },
   "source": [
    "## 2B: McCarthy's 91 Function\n",
    "\n",
    "We have given you an implementation of McCarthy's 91 function that is not tail recursive. Convert it to a tail recursive function."
   ]
  },
  {
   "cell_type": "code",
   "execution_count": 36,
   "metadata": {
    "deletable": false,
    "editable": false,
    "nbgrader": {
     "cell_type": "code",
     "checksum": "a011d7c758cb159033299db0a50a7c48",
     "grade": false,
     "grade_id": "cell-024e9cba698a63a8",
     "locked": true,
     "schema_version": 3,
     "solution": false,
     "task": false
    }
   },
   "outputs": [
    {
     "data": {
      "text/plain": [
       "defined \u001b[32mfunction\u001b[39m \u001b[36mmcCarthy91\u001b[39m"
      ]
     },
     "execution_count": 36,
     "metadata": {},
     "output_type": "execute_result"
    }
   ],
   "source": [
    "def mcCarthy91(x: Int): Int = {\n",
    "    if (x > 100){\n",
    "        x  - 10\n",
    "    } else {\n",
    "        mcCarthy91(mcCarthy91(x + 11 ))\n",
    "    }\n",
    "}"
   ]
  },
  {
   "cell_type": "code",
   "execution_count": 37,
   "metadata": {
    "deletable": false,
    "nbgrader": {
     "cell_type": "code",
     "checksum": "2fbc2fdbdfa73eeacbd31823d8390654",
     "grade": false,
     "grade_id": "cell-65687d254174af18",
     "locked": false,
     "schema_version": 3,
     "solution": true,
     "task": false
    }
   },
   "outputs": [
    {
     "data": {
      "text/plain": [
       "defined \u001b[32mfunction\u001b[39m \u001b[36mmcCarthy91_k\u001b[39m"
      ]
     },
     "execution_count": 37,
     "metadata": {},
     "output_type": "execute_result"
    }
   ],
   "source": [
    "def mcCarthy91_k[T](x: Int, k: Int => T): T = {\n",
    "    // YOUR CODE HERE\n",
    "     if (x > 100){\n",
    "      k(x-10)\n",
    "    } else {\n",
    "     mcCarthy91_k[T](x+11,v1=> { mcCarthy91_k[T](v1, v2=> {k(v2) }) })\n",
    "\n",
    "    }\n",
    "}"
   ]
  },
  {
   "cell_type": "code",
   "execution_count": 38,
   "metadata": {
    "deletable": false,
    "editable": false,
    "nbgrader": {
     "cell_type": "code",
     "checksum": "be44331f1b524edd14685c9561fd3053",
     "grade": true,
     "grade_id": "cell-d8889120bbee14c5",
     "locked": true,
     "points": 9,
     "schema_version": 3,
     "solution": false,
     "task": false
    }
   },
   "outputs": [
    {
     "name": "stdout",
     "output_type": "stream",
     "text": [
      "\n",
      "*** Tests Passed (9 points) ***\n"
     ]
    },
    {
     "data": {
      "text/plain": [
       "\u001b[36mt1\u001b[39m: \u001b[32mInt\u001b[39m = \u001b[32m91\u001b[39m\n",
       "\u001b[36mt2\u001b[39m: \u001b[32mString\u001b[39m = \u001b[32m\"91\"\u001b[39m\n",
       "\u001b[36mt3\u001b[39m: \u001b[32mDouble\u001b[39m = \u001b[32m91.0\u001b[39m\n",
       "\u001b[36mt4\u001b[39m: \u001b[32mInt\u001b[39m = \u001b[32m101\u001b[39m"
      ]
     },
     "execution_count": 38,
     "metadata": {},
     "output_type": "execute_result"
    }
   ],
   "source": [
    "val t1 = mcCarthy91_k(1, x => x)\n",
    "assert( t1 == 91,  s\" Test 1 failed: Expected answer = 91, your code returned $t1\")\n",
    "\n",
    "val t2:String = mcCarthy91_k(-15, x => x.toString)\n",
    "assert(t2 == \"91\", s\"Test 2 failed: Expected answer = 91, your code returned: $t2\")\n",
    "\n",
    "val t3 = mcCarthy91_k(90, x => x.toDouble)\n",
    "assert(t3 == 91.0, s\"Test 3 failed: Expected answer = 91.0, your code returned $t3\")\n",
    "\n",
    "val t4 = mcCarthy91_k(111, x => x )\n",
    "assert (t4 == 101, s\"Test 4 failed: expected answer = 101, your code returned $t4\")\n",
    "passed(9)"
   ]
  },
  {
   "cell_type": "markdown",
   "metadata": {
    "deletable": false,
    "editable": false,
    "nbgrader": {
     "cell_type": "markdown",
     "checksum": "d0bd12b92add9614c1acb6ba013af524",
     "grade": false,
     "grade_id": "cell-d36c12a09ff44604",
     "locked": true,
     "schema_version": 3,
     "solution": false,
     "task": false
    }
   },
   "source": [
    "## 2C: Convert Takeuchi's Tarai Recursion\n",
    "\n",
    "Given below is Takeuchi's \"Tarai\" function. Convert it to CPS style."
   ]
  },
  {
   "cell_type": "code",
   "execution_count": 39,
   "metadata": {
    "deletable": false,
    "editable": false,
    "nbgrader": {
     "cell_type": "code",
     "checksum": "2414238764727529d7befd1a915f163d",
     "grade": false,
     "grade_id": "cell-632daae6b69fac62",
     "locked": true,
     "schema_version": 3,
     "solution": false,
     "task": false
    }
   },
   "outputs": [
    {
     "data": {
      "text/plain": [
       "defined \u001b[32mfunction\u001b[39m \u001b[36mtak\u001b[39m"
      ]
     },
     "execution_count": 39,
     "metadata": {},
     "output_type": "execute_result"
    }
   ],
   "source": [
    "def tak(x: Int, y: Int, z: Int):Int = {\n",
    "    if (y < x) {\n",
    "        tak( \n",
    "             tak(x-1, y, z),\n",
    "             tak(y-1, z, x),\n",
    "             tak(z-1, x, y)\n",
    "           )\n",
    "    } else {\n",
    "        z\n",
    "    }\n",
    "}"
   ]
  },
  {
   "cell_type": "markdown",
   "metadata": {
    "deletable": false,
    "editable": false,
    "nbgrader": {
     "cell_type": "markdown",
     "checksum": "23fa81a19c23d1f0c6ec769398dea183",
     "grade": false,
     "grade_id": "cell-a0716b186662afb2",
     "locked": true,
     "schema_version": 3,
     "solution": false,
     "task": false
    }
   },
   "source": [
    "__Hint:__ It helps to rewrite the function as\n",
    "\n",
    "```scala\n",
    "def tak(x: Int, y: Int, z: Int):Int = {\n",
    "    if (y < x) {\n",
    "        val v1 = tak(x-1, y, z)\n",
    "        val v2 = tak(y-1, z, x)\n",
    "        val v3 = tak(z-1, x, y)\n",
    "        tak( v1, v2, v3)\n",
    "    } else {\n",
    "        z\n",
    "    }\n",
    "}\n",
    "```\n",
    "before converting it into CPS."
   ]
  },
  {
   "cell_type": "code",
   "execution_count": 40,
   "metadata": {
    "deletable": false,
    "nbgrader": {
     "cell_type": "code",
     "checksum": "d255ee49e24aa785eb68b6b810be6736",
     "grade": false,
     "grade_id": "cell-70d09a5957fbf11f",
     "locked": false,
     "schema_version": 3,
     "solution": true,
     "task": false
    }
   },
   "outputs": [
    {
     "data": {
      "text/plain": [
       "defined \u001b[32mfunction\u001b[39m \u001b[36mtak_k\u001b[39m"
      ]
     },
     "execution_count": 40,
     "metadata": {},
     "output_type": "execute_result"
    }
   ],
   "source": [
    "def tak_k[T](x: Int, y: Int, z: Int, k: Int => T): T = {\n",
    "    // YOUR CODE HERE\n",
    "     if (y < x) {\n",
    "        tak_k[T]( x-1, y, z,v1=>{\n",
    "            tak_k[T]( y-1, z, x,v2=>{\n",
    "                tak_k[T]( z-1, x, y,v3=>{\n",
    "                    tak_k[T]( v1,v2,v3,v4=>{\n",
    "                        k(v4)\n",
    "                    })\n",
    "                })\n",
    "            })\n",
    "        })\n",
    "    } else {\n",
    "        k(z)\n",
    "    }\n",
    "}\n"
   ]
  },
  {
   "cell_type": "code",
   "execution_count": 41,
   "metadata": {
    "deletable": false,
    "editable": false,
    "nbgrader": {
     "cell_type": "code",
     "checksum": "c389fb4fab85f63c67e0a665a9901d7a",
     "grade": true,
     "grade_id": "cell-f08b7dbc64ddbb88",
     "locked": true,
     "points": 10,
     "schema_version": 3,
     "solution": false,
     "task": false
    }
   },
   "outputs": [
    {
     "name": "stdout",
     "output_type": "stream",
     "text": [
      "\n",
      "*** Tests Passed (8 points) ***\n"
     ]
    }
   ],
   "source": [
    "(1 to 5).foreach ( x => \n",
    "                 (1 to 5).foreach (y => \n",
    "                                  (1 to 5).foreach (z => {\n",
    "                                      assert(tak_k(x, y, z, v => v) == tak(x, y, z), s\"failed for x = $x. y = $y, z = $z\")\n",
    "                                  })))\n",
    "passed(8)"
   ]
  },
  {
   "cell_type": "markdown",
   "metadata": {
    "deletable": false,
    "editable": false,
    "nbgrader": {
     "cell_type": "markdown",
     "checksum": "a9dfee3076fb141a941ff06322275048",
     "grade": false,
     "grade_id": "cell-6157629574575a27",
     "locked": true,
     "schema_version": 3,
     "solution": false,
     "task": false
    }
   },
   "source": [
    "## That's All Folks!"
   ]
  },
  {
   "cell_type": "code",
   "execution_count": null,
   "metadata": {},
   "outputs": [],
   "source": []
  }
 ],
 "metadata": {
  "kernelspec": {
   "display_name": "Scala",
   "language": "scala",
   "name": "scala"
  },
  "language_info": {
   "codemirror_mode": "text/x-scala",
   "file_extension": ".sc",
   "mimetype": "text/x-scala",
   "name": "scala",
   "nbconvert_exporter": "script",
   "version": "2.13.3"
  }
 },
 "nbformat": 4,
 "nbformat_minor": 2
}
