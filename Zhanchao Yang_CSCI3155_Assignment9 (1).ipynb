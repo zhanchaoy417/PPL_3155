{
 "cells": [
  {
   "cell_type": "markdown",
   "metadata": {},
   "source": [
    "Before you turn this problem in, make sure everything runs as expected. \n",
    "  1. First, **restart the kernel** (in the menubar, select Kernel$\\rightarrow$Restart) and \n",
    "  2. Then **run all cells** (in the menubar, select Cell$\\rightarrow$Run All).\n",
    "\n",
    "Make sure you fill in any place that says `YOUR CODE HERE` or \"YOUR ANSWER HERE\", as well as your name below. "
   ]
  },
  {
   "cell_type": "markdown",
   "metadata": {},
   "source": [
    "---"
   ]
  },
  {
   "cell_type": "markdown",
   "metadata": {
    "deletable": false,
    "editable": false,
    "nbgrader": {
     "cell_type": "markdown",
     "checksum": "8b522b7c01a8bfa16356addf448005aa",
     "grade": false,
     "grade_id": "cell-85f9949b10f864e9",
     "locked": true,
     "schema_version": 3,
     "solution": false
    }
   },
   "source": [
    "# CSCI 3155: Assignment 9\n",
    "\n",
    "Topics: \n",
    "- Type Checking\n",
    "- Basics of Objects\n",
    "- Generics\n",
    "\n",
    "Readings: Notes posted on canvas."
   ]
  },
  {
   "cell_type": "markdown",
   "metadata": {},
   "source": [
    "__Name__: WRITE YOUR NAME HERE"
   ]
  },
  {
   "cell_type": "code",
   "execution_count": 42,
   "metadata": {
    "deletable": false,
    "editable": false,
    "nbgrader": {
     "cell_type": "code",
     "checksum": "890f58d38014511ff702c223111348bb",
     "grade": false,
     "grade_id": "cell-2fff161b494615e6",
     "locked": true,
     "schema_version": 3,
     "solution": false
    }
   },
   "outputs": [
    {
     "data": {
      "text/plain": [
       "defined \u001b[32mfunction\u001b[39m \u001b[36mpassed\u001b[39m"
      ]
     },
     "execution_count": 42,
     "metadata": {},
     "output_type": "execute_result"
    }
   ],
   "source": [
    "// TEST HELPER\n",
    "def passed(points: Int) {\n",
    "    require(points >=0)\n",
    "    if (points == 1) print(s\"\\n*** Tests Passed (1 point) ***\\n\")\n",
    "    else print(s\"\\n*** Tests Passed ($points points) ***\\n\")\n",
    "}"
   ]
  },
  {
   "cell_type": "markdown",
   "metadata": {
    "deletable": false,
    "editable": false,
    "nbgrader": {
     "cell_type": "markdown",
     "checksum": "d4ca32f4022089aa3de9c7fa4ddd53fa",
     "grade": false,
     "grade_id": "cell-e3b8bb9409e25f68",
     "locked": true,
     "schema_version": 3,
     "solution": false,
     "task": false
    }
   },
   "source": [
    "## Problem 1 (20 points)\n",
    "\n",
    "Suppose we wish to define an abstract class called `Shape` that is a geometric shape. It needs to have methods such as  `getCenter`,  and `translate`.\n",
    "\n",
    "  - `getCenter` : Gets the center of the shape. For a polygon the center is the \"average\" of the coordinates of its vertices. For a circle/ellipse, the center is part of the description of the object (see below).\n",
    "  - `translate`: Translates the shape along some given values of `xShift` and `yShift`.\n",
    "\n",
    "\n",
    "We will define a trait called `WithCorners` that define shapes with corners. This trait will implement a function called `getVertices`.\n",
    "\n",
    "There are many classes that inherit from `Shape` including `Polygon` and `Ellipse`. The classes `Triangle` and `Rectangle` inherit from `Polygon` and `Circle` inherits from `Ellipse`. \n",
    "\n",
    "Also the class `Polygon` and all its derived classes must mixin the trait `WithCorners` but the class `Ellipse` and its derived classes should not.\n",
    "\n",
    "- class `Triangle(x0: (Double, Double), x1: (Double, Double), x2: (Double, Double)))` must have three class parameters representing the three corners of the triangle.\n",
    "  - It must inherit from `Polygon`.\n",
    "  - It must mixin the trait `WithCorners`.\n",
    "  - It must override the `translate` method so that `translate` called on a `Triangle` returns an instance of a `Triangle`.\n",
    "  \n",
    "- class `Rectangle(lowerLeft: (Double, Double), height: Double, width: Double)` must have the class parameters representing the lower left coordinate, height and width.\n",
    "  - It must inherit from `Polygon`.\n",
    "  - It must mixin the trait `WithCorners`.\n",
    "  - It must override the `translate` method so that `translate` called on a `Rectangle` returns an instance of a `Rectangle`.\n",
    "  \n",
    "- class `Circle(center: (Double, Double), rad: Double)` must have its center coordinate and radius as class paramters.\n",
    "  - It must inherit from Ellipse.\n",
    "  - It must override the `translate` methodd so that `translate` called on a `Circle` returns an instance of a `Circle`.\n",
    "\n",
    "\n",
    "\n",
    "\n",
    "\n",
    "### Part A\n",
    "Complete the definitions below so that your code compiles.\n",
    "\n",
    "**Restrictions** No loops, mutables (var) or recursion. Please use functors `map`, `foldLeft` etc.. when possible.\n"
   ]
  },
  {
   "cell_type": "code",
   "execution_count": 55,
   "metadata": {
    "deletable": false,
    "nbgrader": {
     "cell_type": "code",
     "checksum": "0ed838dc7307aed40c3ec038c5fd14c1",
     "grade": false,
     "grade_id": "cell-f3c8a032a2efce9b",
     "locked": false,
     "schema_version": 3,
     "solution": true,
     "task": false
    }
   },
   "outputs": [
    {
     "data": {
      "text/plain": [
       "defined \u001b[32mclass\u001b[39m \u001b[36mShape\u001b[39m\n",
       "defined \u001b[32mtrait\u001b[39m \u001b[36mWithCorners\u001b[39m\n",
       "defined \u001b[32mclass\u001b[39m \u001b[36mEllipse\u001b[39m\n",
       "defined \u001b[32mclass\u001b[39m \u001b[36mPolygon\u001b[39m\n",
       "defined \u001b[32mclass\u001b[39m \u001b[36mTriangle\u001b[39m\n",
       "defined \u001b[32mclass\u001b[39m \u001b[36mRectangle\u001b[39m\n",
       "defined \u001b[32mclass\u001b[39m \u001b[36mCircle\u001b[39m"
      ]
     },
     "execution_count": 55,
     "metadata": {},
     "output_type": "execute_result"
    }
   ],
   "source": [
    "abstract class Shape {\n",
    "    def getCenter:(Double, Double)\n",
    "    def translate(xShift: Double, yShift: Double): Shape\n",
    "}\n",
    "\n",
    "trait WithCorners {\n",
    "    def getVertices: List[(Double, Double)]\n",
    "}\n",
    "\n",
    "class Ellipse(val center: (Double, Double), val axisLengths: (Double, Double)) extends Shape {\n",
    "    //TODO: Finish the methods that need to be implemented.\n",
    "    // YOUR CODE HERE\n",
    "      override def getCenter:(Double, Double)=center\n",
    "   override def translate(xShift: Double, yShift: Double): Ellipse=\n",
    "    {\n",
    "        new Ellipse((center._1+xShift,center._2+yShift),axisLengths)\n",
    "    }\n",
    "}\n",
    "\n",
    "class Polygon(val listOfVerts: List[(Double, Double)]) extends Shape with WithCorners {\n",
    "     assert(listOfVerts.length >= 1)\n",
    "    // TODO: Finish the methods that need to be implemented.\n",
    "    // YOUR CODE HERE\n",
    "    override def getCenter:(Double, Double)=\n",
    "    {\n",
    "        val totalLength=listOfVerts.length\n",
    "        val x=listOfVerts.foldLeft(0.0)((acc:Double,element:(Double,Double)) => acc+element._1)\n",
    "        val y=listOfVerts.foldLeft(0.0)((acc:Double,element:(Double,Double)) => acc+element._2)\n",
    "        return (x/totalLength,y/totalLength)\n",
    "    }\n",
    "   override def translate(xShift: Double, yShift: Double): Polygon=\n",
    "    {\n",
    "        new Polygon(listOfVerts.map(x=>(x._1+xShift,x._2+yShift)))\n",
    "    }\n",
    "    override def getVertices: List[(Double, Double)]=listOfVerts\n",
    "}\n",
    "\n",
    "//TODO: Complete definitions of triangle, rectangle and circle classes.\n",
    "// YOUR CODE HERE\n",
    "class Triangle(x0: (Double, Double), x1: (Double, Double), x2: (Double, Double))extends Polygon(List(x0,x1,x2)) with WithCorners\n",
    "{\n",
    "   override def translate(xShift: Double, yShift: Double): Triangle=\n",
    "    {\n",
    "        new Triangle((x0._1+xShift,x0._2+yShift),(x1._1+xShift,x1._2+yShift),(x2._1+xShift,x2._2+yShift))\n",
    "    }\n",
    "}\n",
    "class Rectangle(lowerLeft: (Double, Double), height: Double, width: Double)extends \n",
    "Polygon(List(lowerLeft,(lowerLeft._1,lowerLeft._2+width),(lowerLeft._1+height,lowerLeft._2),(lowerLeft._1+height,lowerLeft._2+width) )) with WithCorners\n",
    "{\n",
    "    override def translate(xShift: Double, yShift: Double): Rectangle=\n",
    "    {\n",
    "        new Rectangle((lowerLeft._1+xShift,lowerLeft._2+yShift),height,width)\n",
    "    }\n",
    "}\n",
    "class Circle(center: (Double, Double), rad: Double)extends Ellipse(center,(rad,rad)) \n",
    "{\n",
    "     override def translate(xShift: Double, yShift: Double): Circle=\n",
    "    {\n",
    "        new Circle( (center._1+xShift,center._2+yShift),rad)\n",
    "    }\n",
    "}"
   ]
  },
  {
   "cell_type": "code",
   "execution_count": 56,
   "metadata": {
    "deletable": false,
    "editable": false,
    "nbgrader": {
     "cell_type": "code",
     "checksum": "0e9e453a9dbbbf4580b8ab60fefd9782",
     "grade": true,
     "grade_id": "cell-e38ff7897d7788b7",
     "locked": true,
     "points": 10,
     "schema_version": 3,
     "solution": false,
     "task": false
    }
   },
   "outputs": [
    {
     "name": "stdout",
     "output_type": "stream",
     "text": [
      "\n",
      "*** Tests Passed (10 points) ***\n"
     ]
    },
    {
     "data": {
      "text/plain": [
       "\u001b[36mel1\u001b[39m: \u001b[32mEllipse\u001b[39m = ammonite.$sess.cmd54$Helper$Ellipse@6d295cdb\n",
       "\u001b[36mel2\u001b[39m: \u001b[32mEllipse\u001b[39m = ammonite.$sess.cmd54$Helper$Ellipse@45a5c8c3\n",
       "\u001b[36mpl1\u001b[39m: \u001b[32mPolygon\u001b[39m = ammonite.$sess.cmd54$Helper$Polygon@4301179c"
      ]
     },
     "execution_count": 56,
     "metadata": {},
     "output_type": "execute_result"
    }
   ],
   "source": [
    "val el1 = new Ellipse((5.0, -3.5), (2.1, 1.3))\n",
    "val el2 = el1.translate(3,4)\n",
    "assert (el2.center == (8.0, 0.5 ), \"Test failed: After translation, the center must be (8,0.5)\")\n",
    "\n",
    "val pl1 = new Polygon(List((0,0), (2,1)))\n",
    "assert (pl1.getCenter == (1.0, 0.5), \"center must be (1,0.5)\")\n",
    "\n",
    "passed(10)"
   ]
  },
  {
   "cell_type": "code",
   "execution_count": 57,
   "metadata": {
    "deletable": false,
    "editable": false,
    "nbgrader": {
     "cell_type": "code",
     "checksum": "770920f78c952634dea6e3bc21bb2fb4",
     "grade": true,
     "grade_id": "cell-86f964f4436e9d8b",
     "locked": true,
     "points": 5,
     "schema_version": 3,
     "solution": false,
     "task": false
    }
   },
   "outputs": [
    {
     "name": "stdout",
     "output_type": "stream",
     "text": [
      "(2.0,1.3333333333333333)\n",
      "*** Tests Passed (5 points) ***\n"
     ]
    },
    {
     "data": {
      "text/plain": [
       "\u001b[36mtri\u001b[39m: \u001b[32mTriangle\u001b[39m = ammonite.$sess.cmd54$Helper$Triangle@5f328922\n",
       "\u001b[36mtri2\u001b[39m: \u001b[32mTriangle\u001b[39m = ammonite.$sess.cmd54$Helper$Triangle@3b2fcb90"
      ]
     },
     "execution_count": 57,
     "metadata": {},
     "output_type": "execute_result"
    }
   ],
   "source": [
    "val tri = new Triangle( (0,0), (2,0), (1,1))\n",
    "val tri2 = tri.translate(1,1)\n",
    "assert (tri2.isInstanceOf[Triangle])\n",
    "print(tri2.getCenter)\n",
    "assert(tri2.getCenter._1 == 2.0)\n",
    "assert(1.3333333 <= tri2.getCenter._2 && tri2.getCenter._2 <= 1.333333334)\n",
    "passed(5)"
   ]
  },
  {
   "cell_type": "code",
   "execution_count": 58,
   "metadata": {
    "deletable": false,
    "editable": false,
    "nbgrader": {
     "cell_type": "code",
     "checksum": "b86f1acff8c7a13320e1c113152eeb6b",
     "grade": true,
     "grade_id": "cell-0278b6bfaa79e728",
     "locked": true,
     "points": 5,
     "schema_version": 3,
     "solution": false,
     "task": false
    }
   },
   "outputs": [
    {
     "name": "stdout",
     "output_type": "stream",
     "text": [
      "\n",
      "*** Tests Passed (5 points) ***\n"
     ]
    },
    {
     "data": {
      "text/plain": [
       "\u001b[36mrect\u001b[39m: \u001b[32mRectangle\u001b[39m = ammonite.$sess.cmd54$Helper$Rectangle@4ca780b\n",
       "\u001b[36mlistOfVerts\u001b[39m: \u001b[32mList\u001b[39m[(\u001b[32mDouble\u001b[39m, \u001b[32mDouble\u001b[39m)] = \u001b[33mList\u001b[39m(\n",
       "  (\u001b[32m-1.0\u001b[39m, \u001b[32m-1.0\u001b[39m),\n",
       "  (\u001b[32m-1.0\u001b[39m, \u001b[32m1.0\u001b[39m),\n",
       "  (\u001b[32m1.0\u001b[39m, \u001b[32m-1.0\u001b[39m),\n",
       "  (\u001b[32m1.0\u001b[39m, \u001b[32m1.0\u001b[39m)\n",
       ")\n",
       "\u001b[36mrect2\u001b[39m: \u001b[32mRectangle\u001b[39m = ammonite.$sess.cmd54$Helper$Rectangle@33e00bbd"
      ]
     },
     "execution_count": 58,
     "metadata": {},
     "output_type": "execute_result"
    }
   ],
   "source": [
    "val rect = new Rectangle((-1,-1), 2, 2)\n",
    "val listOfVerts = rect.getVertices\n",
    "assert(listOfVerts.length == 4)\n",
    "assert (rect.getCenter == (0,0))\n",
    "val rect2: Rectangle = rect.translate(1,1)\n",
    "assert(rect2.getCenter == (1,1))\n",
    "passed(5)"
   ]
  },
  {
   "cell_type": "code",
   "execution_count": 59,
   "metadata": {
    "deletable": false,
    "editable": false,
    "nbgrader": {
     "cell_type": "code",
     "checksum": "4297fd57d169b0510e33b58b2bd61a09",
     "grade": true,
     "grade_id": "cell-4e0c0f9982403849",
     "locked": true,
     "points": 5,
     "schema_version": 3,
     "solution": false,
     "task": false
    }
   },
   "outputs": [
    {
     "name": "stdout",
     "output_type": "stream",
     "text": [
      "\n",
      "*** Tests Passed (5 points) ***\n"
     ]
    },
    {
     "data": {
      "text/plain": [
       "\u001b[36mcirc\u001b[39m: \u001b[32mCircle\u001b[39m = ammonite.$sess.cmd54$Helper$Circle@359abd68\n",
       "\u001b[36mnew_circ\u001b[39m: \u001b[32mCircle\u001b[39m = ammonite.$sess.cmd54$Helper$Circle@290f6443"
      ]
     },
     "execution_count": 59,
     "metadata": {},
     "output_type": "execute_result"
    }
   ],
   "source": [
    "val circ = new Circle((1,1), 3)\n",
    "val new_circ: Circle = circ.translate(2,2)\n",
    "assert (new_circ.center == (3,3))\n",
    "passed(5)"
   ]
  },
  {
   "cell_type": "markdown",
   "metadata": {
    "deletable": false,
    "editable": false,
    "nbgrader": {
     "cell_type": "markdown",
     "checksum": "4a016bff002158ee98df17dae92786ea",
     "grade": false,
     "grade_id": "cell-fc669f259da557f7",
     "locked": true,
     "schema_version": 3,
     "solution": false
    }
   },
   "source": [
    "## Problem 2 (20 points): Objects in Scala\n",
    "\n",
    "### A (12 points)\n",
    "Consider the class below for an employee record in an organization that has three fields `name`, `eid` (employee id) and `salary`.\n",
    "\n",
    "1) As given, scala will complain that class employee cannot extend the abstract class People. Add the missing methods to enable the class Employee to properly extend People\n",
    "\n",
    "2) Write a factory pattern that takes in a formatted string of the form \"John Doe,29585,33110\" consisting of a string and two numbers, to extract the name and salaries for each employee. You may want to use `scala.util.matching.Regex` [https://www.scala-lang.org/api/2.9.2/scala/util/matching/Regex.html]\n",
    "If the input fails to match the pattern, an `IllegalArgumentException` must be thrown\n",
    "\n",
    "Companion objects are covered in scala book Chapter 4.3. Also lookup here: https://alvinalexander.com/scala/factory-pattern-in-scala-design-patterns"
   ]
  },
  {
   "cell_type": "code",
   "execution_count": 60,
   "metadata": {
    "deletable": false,
    "nbgrader": {
     "cell_type": "code",
     "checksum": "7e41a7e1e82535fe06c272bbb6f46c17",
     "grade": false,
     "grade_id": "cell-f80a491b407a7ab7",
     "locked": false,
     "schema_version": 3,
     "solution": true
    }
   },
   "outputs": [
    {
     "data": {
      "text/plain": [
       "\u001b[32mimport \u001b[39m\u001b[36mscala.util.matching.Regex\n",
       "\n",
       "\u001b[39m\n",
       "defined \u001b[32mclass\u001b[39m \u001b[36mPeople\u001b[39m\n",
       "defined \u001b[32mclass\u001b[39m \u001b[36mEmployee\u001b[39m\n",
       "defined \u001b[32mobject\u001b[39m \u001b[36mEmployee\u001b[39m"
      ]
     },
     "execution_count": 60,
     "metadata": {},
     "output_type": "execute_result"
    }
   ],
   "source": [
    "import scala.util.matching.Regex\n",
    "\n",
    "abstract class People {\n",
    "    /* I need the ability to convert every person to a string */\n",
    "    def toString: String\n",
    "    /* I need the ability to check if two people are the same */\n",
    "    def equals (p: People): Boolean\n",
    "}\n",
    "\n",
    "/* \n",
    "  Note that for an employee to be equal to an object of type People, that object\n",
    "  must be an employee with matching eid number \n",
    "*/\n",
    "\n",
    "class Employee( val name: String, val eid: Int, var salary: Int) extends People {\n",
    "    // YOUR CODE HERE\n",
    "   override def toString=name\n",
    "    override  def equals(people:People):Boolean=\n",
    "    {\n",
    "        if(people.isInstanceOf[Employee] && people.asInstanceOf[Employee].eid==eid)\n",
    "        {\n",
    "         true\n",
    "        }\n",
    "        else\n",
    "        {\n",
    "             false\n",
    "        }\n",
    "    }\n",
    "}\n",
    "\n",
    "object Employee {\n",
    "    def apply(formattedInput: String): Employee = {\n",
    "        /* \n",
    "        Input format must be \n",
    "        (full name with possible spaces)[optional whitespaces],[optional whitespaces](employee ID number)[optional whitespaces],[optional whitespaces](employee salary)\n",
    "        */\n",
    "        // YOUR CODE HERE\n",
    "        val form=\"\"\"([a-zA-Z\\s]+?)\\s*,\\s*(\\d+)\\s*,\\s*(\\d+)\"\"\".r //deal with formatted,like extra space\n",
    "        formattedInput match\n",
    "        {\n",
    "            case form(name,eid,salary)=>new Employee(name,eid.toInt,salary.toInt)\n",
    "            case _ => throw new IllegalArgumentException\n",
    "        }\n",
    "        \n",
    "    }\n",
    "}"
   ]
  },
  {
   "cell_type": "code",
   "execution_count": 61,
   "metadata": {
    "deletable": false,
    "editable": false,
    "nbgrader": {
     "cell_type": "code",
     "checksum": "c6d2d14956085587a39f901925e4ccbb",
     "grade": true,
     "grade_id": "cell-e1ec3bf75d6f6de5",
     "locked": true,
     "points": 4,
     "schema_version": 3,
     "solution": false
    }
   },
   "outputs": [
    {
     "name": "stdout",
     "output_type": "stream",
     "text": [
      "Jonathan Doe\n",
      "\n",
      "*** Tests Passed (4 points) ***\n"
     ]
    },
    {
     "data": {
      "text/plain": [
       "\u001b[36me1\u001b[39m: \u001b[32mEmployee\u001b[39m = Jonathan Doe"
      ]
     },
     "execution_count": 61,
     "metadata": {},
     "output_type": "execute_result"
    }
   ],
   "source": [
    "//BEGIN TEST\n",
    "val e1 = Employee(\"Jonathan Doe, 12893, 39813\")\n",
    "println(e1.toString)\n",
    "assert(e1.name == \"Jonathan Doe\", \"Failed\")\n",
    "assert(e1.eid == 12893, \"Failed\")\n",
    "assert(e1.salary == 39813, \"Failed\")\n",
    "assert(e1.equals(new Employee(\"whoknows\", 12893, 39813)))\n",
    "passed(4)\n",
    "//END TEST"
   ]
  },
  {
   "cell_type": "code",
   "execution_count": 62,
   "metadata": {
    "deletable": false,
    "editable": false,
    "nbgrader": {
     "cell_type": "code",
     "checksum": "6138f02889df76e4750f0cf3c331f1d0",
     "grade": true,
     "grade_id": "cell-9d823f9842fd95a7",
     "locked": true,
     "points": 4,
     "schema_version": 3,
     "solution": false
    }
   },
   "outputs": [
    {
     "name": "stdout",
     "output_type": "stream",
     "text": [
      "Expected behavior seen\n",
      "\n",
      "*** Tests Passed (4 points) ***\n"
     ]
    }
   ],
   "source": [
    "//BEGIN TEST\n",
    "try {\n",
    "    val e2 = Employee(\"Badly Formatted String, 29812, $3102\")\n",
    "    assert(false, \"Failed, the string is badly formatted but your code is OK with it.\")\n",
    "} catch {\n",
    "    case e => println(s\"Expected behavior seen\")\n",
    "}\n",
    "passed(4)\n",
    "//END TEST"
   ]
  },
  {
   "cell_type": "code",
   "execution_count": 63,
   "metadata": {
    "deletable": false,
    "editable": false,
    "nbgrader": {
     "cell_type": "code",
     "checksum": "96ccf01bbc32931d4c9b0c1e5d6f0ea8",
     "grade": true,
     "grade_id": "cell-00d1907d97c7da69",
     "locked": true,
     "points": 4,
     "schema_version": 3,
     "solution": false
    }
   },
   "outputs": [
    {
     "name": "stdout",
     "output_type": "stream",
     "text": [
      "Janet Maria Catherine Doe\n",
      "\n",
      "*** Tests Passed (4 points) ***\n"
     ]
    },
    {
     "data": {
      "text/plain": [
       "\u001b[36me1\u001b[39m: \u001b[32mEmployee\u001b[39m = Janet Maria Catherine Doe"
      ]
     },
     "execution_count": 63,
     "metadata": {},
     "output_type": "execute_result"
    }
   ],
   "source": [
    "//BEGIN TEST\n",
    "val e1 = Employee(\"Janet Maria Catherine Doe    , 12894   , 121331\")\n",
    "println(e1.toString)\n",
    "assert(e1.name == \"Janet Maria Catherine Doe\", \"Failed\")\n",
    "assert(e1.eid == 12894, \"Failed\")\n",
    "assert(e1.salary == 121331, \"Failed\")\n",
    "assert(e1.equals(new Employee(\"random\", 12894, 121332)))\n",
    "passed(4)\n",
    "//END TEST"
   ]
  },
  {
   "cell_type": "markdown",
   "metadata": {
    "deletable": false,
    "editable": false,
    "nbgrader": {
     "cell_type": "markdown",
     "checksum": "dc3ffa5f1aa4790acf0aa138ea4b339e",
     "grade": false,
     "grade_id": "cell-67af0a2a1259bfec",
     "locked": true,
     "schema_version": 3,
     "solution": false
    }
   },
   "source": [
    "### B (8 points)\n",
    "We wish to add a new class of people to our system. These are \"Contractor\" with the information associated should involve their name (string), contract ID (Integer) and contract supervisor (Employee).\n",
    "\n",
    "Write a new class named `Contractor` whose constructor should take in the name of the person (String), their ID number (Integer) and Supervisor (Employee) and extend from People. \n",
    "\n",
    "A contractor object is equal to an object p of type People, only if p is actually an instance of contractor, and if their names are the same and they have the same contract ID number."
   ]
  },
  {
   "cell_type": "code",
   "execution_count": 64,
   "metadata": {
    "deletable": false,
    "nbgrader": {
     "cell_type": "code",
     "checksum": "0462512eff9761a7bea81c11297cd17f",
     "grade": false,
     "grade_id": "cell-97ab958367cfbd0a",
     "locked": false,
     "schema_version": 3,
     "solution": true
    }
   },
   "outputs": [
    {
     "data": {
      "text/plain": [
       "defined \u001b[32mclass\u001b[39m \u001b[36mContractor\u001b[39m"
      ]
     },
     "execution_count": 64,
     "metadata": {},
     "output_type": "execute_result"
    }
   ],
   "source": [
    "// YOUR CODE HERE\n",
    "\n",
    "class Contractor( val name: String, val cid: Int, var supervisor: Employee) extends People\n",
    "{\n",
    "    override def toString=name\n",
    "    //use p as people, p has type People\n",
    "    override def equals(p:People):Boolean=\n",
    "    {\n",
    "        if(p.isInstanceOf[Contractor] && p.asInstanceOf[Contractor].name==name&&p.asInstanceOf[Contractor].cid==cid )\n",
    "        {\n",
    "             true\n",
    "        }\n",
    "        else\n",
    "        {\n",
    "             false\n",
    "        }\n",
    "    }\n",
    "}"
   ]
  },
  {
   "cell_type": "code",
   "execution_count": 65,
   "metadata": {
    "deletable": false,
    "editable": false,
    "nbgrader": {
     "cell_type": "code",
     "checksum": "b72fe8c57faa88c846a5735f178f68d7",
     "grade": true,
     "grade_id": "cell-82cc00e175a12efe",
     "locked": true,
     "points": 4,
     "schema_version": 3,
     "solution": false
    }
   },
   "outputs": [
    {
     "name": "stdout",
     "output_type": "stream",
     "text": [
      "\n",
      "*** Tests Passed (4 points) ***\n"
     ]
    },
    {
     "data": {
      "text/plain": [
       "\u001b[36me1\u001b[39m: \u001b[32mEmployee\u001b[39m = Jonathan Doe\n",
       "\u001b[36mc1\u001b[39m: \u001b[32mContractor\u001b[39m = John Contract Worker"
      ]
     },
     "execution_count": 65,
     "metadata": {},
     "output_type": "execute_result"
    }
   ],
   "source": [
    "//BEGIN TEST\n",
    "val e1 = Employee(\"Jonathan Doe, 12893, 39813\")\n",
    "val c1 = new Contractor(\"John Contract Worker\", 12093, e1)\n",
    "assert( !c1.equals(e1), \"Failed\")\n",
    "assert( c1.equals(c1), \"Failed\")\n",
    "passed(4)\n",
    "//END TEST"
   ]
  },
  {
   "cell_type": "code",
   "execution_count": 66,
   "metadata": {
    "deletable": false,
    "editable": false,
    "nbgrader": {
     "cell_type": "code",
     "checksum": "aa0af82250f3291296d944f3eea05b35",
     "grade": true,
     "grade_id": "cell-62fa2e0b66f58862",
     "locked": true,
     "points": 4,
     "schema_version": 3,
     "solution": false
    }
   },
   "outputs": [
    {
     "name": "stdout",
     "output_type": "stream",
     "text": [
      "\n",
      "*** Tests Passed (4 points) ***\n"
     ]
    },
    {
     "data": {
      "text/plain": [
       "\u001b[36me1\u001b[39m: \u001b[32mEmployee\u001b[39m = Jonathan Doe\n",
       "\u001b[36me2\u001b[39m: \u001b[32mEmployee\u001b[39m = Jane Doe\n",
       "\u001b[36mc1\u001b[39m: \u001b[32mContractor\u001b[39m = John Contract Worker\n",
       "\u001b[36mc2\u001b[39m: \u001b[32mContractor\u001b[39m = John Contract Worker"
      ]
     },
     "execution_count": 66,
     "metadata": {},
     "output_type": "execute_result"
    }
   ],
   "source": [
    "//BEGIN TEST\n",
    "val e1 = Employee(\"Jonathan Doe, 12893, 39813\")\n",
    "val e2 = Employee(\"Jane Doe, 12894, 43814\")\n",
    "val c1 = new Contractor(\"John Contract Worker\", 12093, e2)\n",
    "val c2 = new Contractor(\"John Contract Worker\", 12093, e1)\n",
    "assert( c1.equals(c2), \"Failed\")\n",
    "passed(4)\n",
    "//END TEST"
   ]
  },
  {
   "cell_type": "markdown",
   "metadata": {
    "deletable": false,
    "editable": false,
    "nbgrader": {
     "cell_type": "markdown",
     "checksum": "ffaeb5bd98912b6cde1a4a1590f634e8",
     "grade": false,
     "grade_id": "cell-0117fb3b4cff7be1",
     "locked": true,
     "schema_version": 3,
     "solution": false
    }
   },
   "source": [
    "## Problem 3 (10 points): Traits in Scala\n",
    "\n",
    "For this problem, we have defined two traits: `NumberOfLegs` that helps us define how many legs a given animal has and `WarmBlooded` that applies to warm blooded animals."
   ]
  },
  {
   "cell_type": "code",
   "execution_count": 67,
   "metadata": {
    "deletable": false,
    "editable": false,
    "nbgrader": {
     "cell_type": "code",
     "checksum": "0bb523308ae2b8bf935fde421bce866f",
     "grade": false,
     "grade_id": "cell-a6b29f417cfcdb22",
     "locked": true,
     "schema_version": 3,
     "solution": false
    }
   },
   "outputs": [
    {
     "data": {
      "text/plain": [
       "defined \u001b[32mclass\u001b[39m \u001b[36mAnimal\u001b[39m\n",
       "defined \u001b[32mtrait\u001b[39m \u001b[36mNumberOfLegs\u001b[39m\n",
       "defined \u001b[32mtrait\u001b[39m \u001b[36mWarmBlooded\u001b[39m"
      ]
     },
     "execution_count": 67,
     "metadata": {},
     "output_type": "execute_result"
    }
   ],
   "source": [
    "abstract class Animal \n",
    "\n",
    "trait NumberOfLegs {\n",
    "    val nLegs: Int\n",
    "    def getNumberOfLegs: Int = nLegs\n",
    "}\n",
    "\n",
    "trait WarmBlooded extends Animal {\n",
    "    val bodyTempMaintained: Double\n",
    "    def getBodyTemp: Double = bodyTempMaintained \n",
    "}"
   ]
  },
  {
   "cell_type": "markdown",
   "metadata": {
    "deletable": false,
    "editable": false,
    "nbgrader": {
     "cell_type": "markdown",
     "checksum": "a36beaf2d9df6f83f37c9e3102b6a9b1",
     "grade": false,
     "grade_id": "cell-abf7a17d89f0fb99",
     "locked": true,
     "schema_version": 3,
     "solution": false
    }
   },
   "source": [
    "### A (5 points)\n",
    "\n",
    "Define a class `Human` that inherits from `Animal` and mixes in the traits `NumberOfLegs` with `nLegs = 2` and `WarmBlooded` with `bodyTempMaintained = 98`. The class `Human` must take in a parameter called `name` of type `String` and implement a `getName` method without any parameters."
   ]
  },
  {
   "cell_type": "code",
   "execution_count": 68,
   "metadata": {
    "deletable": false,
    "nbgrader": {
     "cell_type": "code",
     "checksum": "aea16333c450777c4ed8300a0fc7dd5c",
     "grade": false,
     "grade_id": "cell-e7a4a9275bd24e24",
     "locked": false,
     "schema_version": 3,
     "solution": true
    }
   },
   "outputs": [
    {
     "data": {
      "text/plain": [
       "defined \u001b[32mclass\u001b[39m \u001b[36mHuman\u001b[39m"
      ]
     },
     "execution_count": 68,
     "metadata": {},
     "output_type": "execute_result"
    }
   ],
   "source": [
    "// YOUR CODE HERE\n",
    "class Human(val name:String,val nLegs:Int=2,val bodyTempMaintained:Double=98 )extends \n",
    "WarmBlooded with NumberOfLegs{\n",
    "    def getName=name\n",
    "}"
   ]
  },
  {
   "cell_type": "code",
   "execution_count": 69,
   "metadata": {
    "deletable": false,
    "editable": false,
    "nbgrader": {
     "cell_type": "code",
     "checksum": "dcc2176381176fc647c1b7a461c843de",
     "grade": true,
     "grade_id": "cell-f9b7ae8902326372",
     "locked": true,
     "points": 5,
     "schema_version": 3,
     "solution": false
    }
   },
   "outputs": [
    {
     "name": "stdout",
     "output_type": "stream",
     "text": [
      "\n",
      "*** Tests Passed (5 points) ***\n"
     ]
    },
    {
     "data": {
      "text/plain": [
       "\u001b[36mt1\u001b[39m: \u001b[32mHuman\u001b[39m = ammonite.$sess.cmd67$Helper$Human@49587c1e"
      ]
     },
     "execution_count": 69,
     "metadata": {},
     "output_type": "execute_result"
    }
   ],
   "source": [
    "//BEGIN TEST\n",
    "val t1 = new Human(\"Jane Smith\")\n",
    "assert(t1.getNumberOfLegs == 2, \"Your human does not have two legs\")\n",
    "assert(t1.bodyTempMaintained == 98.0, \"Your human does not maintain a body temp of 98\")\n",
    "assert(t1.getBodyTemp == 98.0, \"Your human's getBodyTemp Function is not working\")\n",
    "assert(t1.getName == \"Jane Smith\", \"Your human's name is not setting correctly\")\n",
    "passed(5)\n",
    "//END TEST"
   ]
  },
  {
   "cell_type": "markdown",
   "metadata": {
    "deletable": false,
    "editable": false,
    "nbgrader": {
     "cell_type": "markdown",
     "checksum": "a5bc893bc737b747e230e3b97acf7c9d",
     "grade": false,
     "grade_id": "cell-439f7e10a3556ae4",
     "locked": true,
     "schema_version": 3,
     "solution": false
    }
   },
   "source": [
    "### B (5 points)\n",
    "Define a class named `Table` that mixes in the trait `NumberOfLegs` with `nLegs = 4`. \n",
    "\n",
    "_Note:_ `Table` cannot mixin the trait `WarmBlooded` (make sure you understand why that is as a quick check of concepts)."
   ]
  },
  {
   "cell_type": "code",
   "execution_count": 70,
   "metadata": {
    "deletable": false,
    "nbgrader": {
     "cell_type": "code",
     "checksum": "923986841009232fcd56f108cf6ae098",
     "grade": false,
     "grade_id": "cell-8145df690b6f6588",
     "locked": false,
     "schema_version": 3,
     "solution": true
    }
   },
   "outputs": [
    {
     "data": {
      "text/plain": [
       "defined \u001b[32mclass\u001b[39m \u001b[36mTable\u001b[39m"
      ]
     },
     "execution_count": 70,
     "metadata": {},
     "output_type": "execute_result"
    }
   ],
   "source": [
    "// YOUR CODE HERE\n",
    "class Table(val nLegs:Int =4) extends NumberOfLegs"
   ]
  },
  {
   "cell_type": "code",
   "execution_count": 7,
   "metadata": {
    "deletable": false,
    "editable": false,
    "nbgrader": {
     "cell_type": "code",
     "checksum": "d6049664a92410089eaa8c5561d5c8bb",
     "grade": true,
     "grade_id": "cell-d34b29b062b93894",
     "locked": true,
     "points": 5,
     "schema_version": 3,
     "solution": false
    }
   },
   "outputs": [
    {
     "name": "stdout",
     "output_type": "stream",
     "text": [
      "\n",
      "*** Tests Passed (5 points) ***\n"
     ]
    },
    {
     "data": {
      "text/plain": [
       "\u001b[36mtbl\u001b[39m: \u001b[32mTable\u001b[39m = ammonite.$sess.cmd5$Helper$Table@33fb2f13"
      ]
     },
     "execution_count": 7,
     "metadata": {},
     "output_type": "execute_result"
    }
   ],
   "source": [
    "//BEGIN TEST\n",
    "val tbl = new Table()\n",
    "assert(tbl.getNumberOfLegs == 4, \"A Table must have four legs\")\n",
    "passed(5)\n",
    "//END TEST"
   ]
  },
  {
   "cell_type": "code",
   "execution_count": null,
   "metadata": {},
   "outputs": [],
   "source": []
  }
 ],
 "metadata": {
  "kernelspec": {
   "display_name": "Scala",
   "language": "scala",
   "name": "scala"
  },
  "language_info": {
   "codemirror_mode": "text/x-scala",
   "file_extension": ".sc",
   "mimetype": "text/x-scala",
   "name": "scala",
   "nbconvert_exporter": "script",
   "version": "2.13.3"
  }
 },
 "nbformat": 4,
 "nbformat_minor": 2
}
