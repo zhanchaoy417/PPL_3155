{
 "cells": [
  {
   "cell_type": "markdown",
   "metadata": {},
   "source": [
    "Before you turn this problem in, make sure everything runs as expected. \n",
    "  1. First, **restart the kernel** (in the menubar, select Kernel$\\rightarrow$Restart) and \n",
    "  2. Then **run all cells** (in the menubar, select Cell$\\rightarrow$Run All).\n",
    "\n",
    "Make sure you fill in any place that says `YOUR CODE HERE` or \"YOUR ANSWER HERE\", as well as your name below. "
   ]
  },
  {
   "cell_type": "markdown",
   "metadata": {},
   "source": [
    "---"
   ]
  },
  {
   "cell_type": "code",
   "execution_count": 66,
   "metadata": {
    "deletable": false,
    "editable": false,
    "nbgrader": {
     "cell_type": "code",
     "checksum": "f32b4ce4bbc3d62547205989ac0d965a",
     "grade": false,
     "grade_id": "cell-871b68d0fb3c07d6",
     "locked": true,
     "schema_version": 3,
     "solution": false,
     "task": false
    }
   },
   "outputs": [
    {
     "data": {
      "text/plain": [
       "defined \u001b[32mfunction\u001b[39m \u001b[36mpassed\u001b[39m"
      ]
     },
     "execution_count": 66,
     "metadata": {},
     "output_type": "execute_result"
    }
   ],
   "source": [
    "// TEST HELPER\n",
    "def passed(points: Int) {\n",
    "    require(points >=0)\n",
    "    if (points == 1) print(s\"\\n*** Tests Passed (1 point) ***\\n\")\n",
    "    else print(s\"\\n*** Tests Passed ($points points) ***\\n\")\n",
    "}"
   ]
  },
  {
   "cell_type": "markdown",
   "metadata": {
    "deletable": false,
    "editable": false,
    "nbgrader": {
     "cell_type": "markdown",
     "checksum": "87a8f86d6408044005685948a05b89a8",
     "grade": false,
     "grade_id": "cell-eb59c334eb5773ec",
     "locked": true,
     "schema_version": 3,
     "solution": false,
     "task": false
    }
   },
   "source": [
    "## P1 :  Functional Programming Finite State Machines.\n",
    "\n",
    "In this assignment, we understand how to program a finite state machines (FSM). A FSM has the following components:\n",
    "  - A set of states $Q: \\{s_1, \\ldots, s_n \\}$.\n",
    "  - A set of input alphabet: $\\Sigma: \\{ a_1, \\ldots, a_m \\}$.\n",
    "  - A transition function from each state, given an input to a new state: $ \\delta: Q \\times \\Sigma \\rightarrow Q$ wherein $\\delta(s_j, a_k)$ is a state $s_l$ that is reached when the alphabet $a_k$ is encountered in state $s_j$.\n",
    "  - An initial state $s_0 \\in Q$ and \n",
    "  - A set of accepting states $F \\subseteq Q$.\n",
    "\n",
    "If you have never encountered an FSM or its definition in the past (ouch!), then please look up these notes online: http://infolab.stanford.edu/~ullman/ialc/spr10/slides/fa2.pdf\n",
    "\n",
    "Let us implement FSMs using mutables complete the missing functions."
   ]
  },
  {
   "cell_type": "code",
   "execution_count": 67,
   "metadata": {
    "deletable": false,
    "nbgrader": {
     "cell_type": "code",
     "checksum": "fd54fd25cbd8be9030eb910da295602a",
     "grade": false,
     "grade_id": "cell-7630d029573bbdcd",
     "locked": false,
     "schema_version": 3,
     "solution": true,
     "task": false
    }
   },
   "outputs": [
    {
     "data": {
      "text/plain": [
       "defined \u001b[32mtype\u001b[39m \u001b[36mStateID\u001b[39m\n",
       "defined \u001b[32mtype\u001b[39m \u001b[36mAlph\u001b[39m\n",
       "defined \u001b[32mclass\u001b[39m \u001b[36mMutableFSM\u001b[39m"
      ]
     },
     "execution_count": 67,
     "metadata": {},
     "output_type": "execute_result"
    }
   ],
   "source": [
    "type StateID = Int\n",
    "type Alph = Int\n",
    "\n",
    "class MutableFSM(val delta: StateID => Alph => StateID,\n",
    "          val init_state_id: StateID, \n",
    "          val is_accepting: StateID => Boolean){\n",
    "    \n",
    "    /*-- Maintain the ID of the current state --*/\n",
    "    var current_state_id : StateID = init_state_id\n",
    "    /*-- A getter for the current state --*/\n",
    "    def get_current_state: StateID = { current_state_id }\n",
    "    /*-- Is the current state accepting? --*/\n",
    "    def accepting: Boolean =  { is_accepting(current_state_id) }\n",
    "    /*-- Apply transition from current state for alphabet `alph`--*/\n",
    "    def step(alph: Int):Unit ={\n",
    "        // YOUR CODE HERE\n",
    "        // find the rule from page 11 basis\n",
    "       current_state_id = delta(current_state_id )(alph)\n",
    "        return current_state_id \n",
    "    }\n",
    "    /*-- multiple_steps on a list of alphabets\n",
    "    Use of for-loops ALLOWED for this one problem!\n",
    "    --*/\n",
    "    def multiple_steps(alph_seq: List[Int]): Unit = {\n",
    "        // YOUR CODE HERE\n",
    "        for(alph <- alph_seq)\n",
    "        {\n",
    "            step(alph)\n",
    "        }\n",
    "    }\n",
    "}"
   ]
  },
  {
   "cell_type": "code",
   "execution_count": 68,
   "metadata": {
    "deletable": false,
    "editable": false,
    "nbgrader": {
     "cell_type": "code",
     "checksum": "7ce881da045997317d75e4b2fb54f2a1",
     "grade": true,
     "grade_id": "cell-0a30439f4a9147d3",
     "locked": true,
     "points": 5,
     "schema_version": 3,
     "solution": false,
     "task": false
    }
   },
   "outputs": [
    {
     "name": "stdout",
     "output_type": "stream",
     "text": [
      "\n",
      "*** Tests Passed (5 points) ***\n"
     ]
    },
    {
     "data": {
      "text/plain": [
       "defined \u001b[32mfunction\u001b[39m \u001b[36mdelta\u001b[39m\n",
       "defined \u001b[32mfunction\u001b[39m \u001b[36mis_accepting\u001b[39m\n",
       "\u001b[36mmfsm\u001b[39m: \u001b[32mMutableFSM\u001b[39m = ammonite.$sess.cmd66$Helper$MutableFSM@1e6f3cbe"
      ]
     },
     "execution_count": 68,
     "metadata": {},
     "output_type": "execute_result"
    }
   ],
   "source": [
    "//BEGIN TESTS\n",
    "def delta (st: StateID) (alph: Alph) = (st, alph) match {\n",
    "    case (0, 0) => 1\n",
    "    case (0, 1) => 0\n",
    "    case (0, 2) => 1\n",
    "    case (1, 0) => 1\n",
    "    case (1, 1) => 1\n",
    "    case (1, 2) => 2\n",
    "    case (2, 1) => 0\n",
    "    case (2, 0) => 1\n",
    "    case (2, 2) => 2\n",
    "}\n",
    "\n",
    "def is_accepting(st: StateID) = { st == 2 }\n",
    "\n",
    "val mfsm = new MutableFSM(delta, 0, is_accepting)\n",
    "\n",
    "mfsm.step(0)\n",
    "assert (mfsm.get_current_state == 1, s\"A: expected state: 1, your code returns: ${mfsm.get_current_state}\")\n",
    "mfsm.step(1)\n",
    "assert (mfsm.get_current_state == 1, s\"B: expected state: 1, your code returns: ${mfsm.get_current_state}\")\n",
    "mfsm.step(2)\n",
    "assert (mfsm.get_current_state == 2, s\"C: expected state: 2, your code returns: ${mfsm.get_current_state}\")\n",
    "mfsm.step(2)\n",
    "assert (mfsm.get_current_state == 2, s\"D: expected state: 2, your code returns: ${mfsm.get_current_state}\")\n",
    "mfsm.step(0)\n",
    "assert (mfsm.get_current_state == 1, s\"E: expected state: 1, your code returns: ${mfsm.get_current_state}\")\n",
    "mfsm.step(1)\n",
    "assert (mfsm.get_current_state == 1, s\"F: expected state: 1, your code returns: ${mfsm.get_current_state}\")\n",
    "mfsm.step(1)\n",
    "assert (mfsm.get_current_state == 1, s\"G: expected state: 1, your code returns: ${mfsm.get_current_state}\")\n",
    "mfsm.step(2)\n",
    "assert (mfsm.get_current_state == 2, s\"H: expected state: 2, your code returns: ${mfsm.get_current_state}\")\n",
    "mfsm.step(1)\n",
    "assert (mfsm.get_current_state == 0, s\"I: expected state: 0, your code returns: ${mfsm.get_current_state}\")\n",
    "mfsm.multiple_steps(List(0,1,2,2,0,1,1,2,1))\n",
    "assert (mfsm.get_current_state == 0, s\"I: expected state: 0, your code returns: ${mfsm.get_current_state}\")\n",
    "passed(5)\n",
    "//END TESTS"
   ]
  },
  {
   "cell_type": "markdown",
   "metadata": {
    "deletable": false,
    "editable": false,
    "nbgrader": {
     "cell_type": "markdown",
     "checksum": "d2f22e0c9536b9f9311a5a0ac79ada7c",
     "grade": false,
     "grade_id": "cell-f317ca61d00fe632",
     "locked": true,
     "schema_version": 3,
     "solution": false,
     "task": false
    }
   },
   "source": [
    "Let us now explore a functional style of implementing a FSM.\n",
    "Note the following changes:\n",
    "  - `current_state_id` is immutable now.\n",
    "  - The function `step` returns a new FSM whose current state must be set to the next state from current state and alphabet.\n",
    "  - Similarly the function `multiple_step` returns a new FSM structure. \n",
    "  \n",
    " __Restrictions__  For the problem, below you are not allowed to use `var` or loops.  Please use `foldLeft` to implement `multiple_step` function."
   ]
  },
  {
   "cell_type": "code",
   "execution_count": 69,
   "metadata": {
    "deletable": false,
    "nbgrader": {
     "cell_type": "code",
     "checksum": "403f7b48d2601ba52458faa93e462a42",
     "grade": false,
     "grade_id": "cell-699c60a77901c447",
     "locked": false,
     "schema_version": 3,
     "solution": true,
     "task": false
    }
   },
   "outputs": [
    {
     "data": {
      "text/plain": [
       "defined \u001b[32mclass\u001b[39m \u001b[36mFSM\u001b[39m"
      ]
     },
     "execution_count": 69,
     "metadata": {},
     "output_type": "execute_result"
    }
   ],
   "source": [
    "class FSM(val current_state_id: StateID,\n",
    "          val delta: StateID => Alph => StateID,\n",
    "          val is_accepting: StateID => Boolean) {\n",
    "    /*-- A getter for the current state --*/\n",
    "    def get_current_state: Int = current_state_id\n",
    "    /*-- Is the current state accepting? --*/\n",
    "    def accepting: Boolean = is_accepting(current_state_id)\n",
    "    /*-- Apply transition from current state for alphabet `alph`--*/\n",
    "    def step(alph: Int): FSM= {\n",
    "        // YOUR CODE HERE\n",
    "        val current_id=delta(current_state_id)(alph)\n",
    "        return new FSM(current_id, delta, is_accepting)\n",
    "    }\n",
    "    /*-- multiple_steps on a list of alphabets\n",
    "    Use of var/loops not allowed.\n",
    "    --*/\n",
    "    def multiple_steps(alph_seq: List[Alph]):FSM = {\n",
    "        // YOUR CODE HERE\n",
    "      alph_seq.foldLeft(new FSM(current_state_id, delta, is_accepting))\n",
    "        {(acc:FSM,alph:Int)=>step(alph)\n",
    "       }\n",
    "    }\n",
    "}"
   ]
  },
  {
   "cell_type": "code",
   "execution_count": 70,
   "metadata": {
    "deletable": false,
    "editable": false,
    "nbgrader": {
     "cell_type": "code",
     "checksum": "aadb37e7eeb26b4ab0b2e91fd9ca8d33",
     "grade": true,
     "grade_id": "cell-eb3207dd4c0c0006",
     "locked": true,
     "points": 10,
     "schema_version": 3,
     "solution": false,
     "task": false
    }
   },
   "outputs": [
    {
     "name": "stdout",
     "output_type": "stream",
     "text": [
      "\n",
      "*** Tests Passed (10 points) ***\n"
     ]
    },
    {
     "data": {
      "text/plain": [
       "defined \u001b[32mfunction\u001b[39m \u001b[36mdelta\u001b[39m\n",
       "defined \u001b[32mfunction\u001b[39m \u001b[36mis_accepting\u001b[39m\n",
       "\u001b[36mmfsm0\u001b[39m: \u001b[32mFSM\u001b[39m = ammonite.$sess.cmd68$Helper$FSM@15ca9c5d\n",
       "\u001b[36mmfsm1\u001b[39m: \u001b[32mFSM\u001b[39m = ammonite.$sess.cmd68$Helper$FSM@4e3ef386\n",
       "\u001b[36mmfsm2\u001b[39m: \u001b[32mFSM\u001b[39m = ammonite.$sess.cmd68$Helper$FSM@30e704cb\n",
       "\u001b[36mmfsm3\u001b[39m: \u001b[32mFSM\u001b[39m = ammonite.$sess.cmd68$Helper$FSM@76793d3a\n",
       "\u001b[36mmfsm4\u001b[39m: \u001b[32mFSM\u001b[39m = ammonite.$sess.cmd68$Helper$FSM@2813eeda\n",
       "\u001b[36mmfsm5\u001b[39m: \u001b[32mFSM\u001b[39m = ammonite.$sess.cmd68$Helper$FSM@29c680dc\n",
       "\u001b[36mmfsm6\u001b[39m: \u001b[32mFSM\u001b[39m = ammonite.$sess.cmd68$Helper$FSM@43a7f591\n",
       "\u001b[36mmfsm7\u001b[39m: \u001b[32mFSM\u001b[39m = ammonite.$sess.cmd68$Helper$FSM@13349b93\n",
       "\u001b[36mmfsm8\u001b[39m: \u001b[32mFSM\u001b[39m = ammonite.$sess.cmd68$Helper$FSM@488e8e61\n",
       "\u001b[36mmfsm9\u001b[39m: \u001b[32mFSM\u001b[39m = ammonite.$sess.cmd68$Helper$FSM@3d442c32\n",
       "\u001b[36mmfsm10\u001b[39m: \u001b[32mFSM\u001b[39m = ammonite.$sess.cmd68$Helper$FSM@6e528401"
      ]
     },
     "execution_count": 70,
     "metadata": {},
     "output_type": "execute_result"
    }
   ],
   "source": [
    "//BEGIN TEST\n",
    "def delta (st: StateID) (alph: Alph) = (st, alph) match {\n",
    "    case (0, 0) => 1\n",
    "    case (0, 1) => 0\n",
    "    case (0, 2) => 1\n",
    "    case (1, 0) => 1\n",
    "    case (1, 1) => 1\n",
    "    case (1, 2) => 2\n",
    "    case (2, 1) => 0\n",
    "    case (2, 0) => 1\n",
    "    case (2, 2) => 2\n",
    "}\n",
    "\n",
    "def is_accepting(st: StateID) = { st == 2 }\n",
    "\n",
    "val mfsm0 = new FSM(0, delta, is_accepting)\n",
    "\n",
    "val mfsm1 = mfsm0.step(0)\n",
    "assert (mfsm1.get_current_state == 1, s\"A: expected state: 1, your code returns: ${mfsm.get_current_state}\")\n",
    "val mfsm2 = mfsm1.step(1)\n",
    "assert (mfsm2.get_current_state == 1, s\"B: expected state: 1, your code returns: ${mfsm.get_current_state}\")\n",
    "val mfsm3 = mfsm2.step(2)\n",
    "assert (mfsm3.get_current_state == 2, s\"C: expected state: 2, your code returns: ${mfsm.get_current_state}\")\n",
    "val mfsm4 = mfsm3.step(2)\n",
    "assert (mfsm4.get_current_state == 2, s\"D: expected state: 2, your code returns: ${mfsm.get_current_state}\")\n",
    "val mfsm5 = mfsm4.step(0)\n",
    "assert (mfsm5.get_current_state == 1, s\"E: expected state: 1, your code returns: ${mfsm.get_current_state}\")\n",
    "val mfsm6 = mfsm5.step(1)\n",
    "assert (mfsm6.get_current_state == 1, s\"F: expected state: 1, your code returns: ${mfsm.get_current_state}\")\n",
    "val mfsm7 = mfsm6.step(1)\n",
    "assert (mfsm7.get_current_state == 1, s\"G: expected state: 1, your code returns: ${mfsm.get_current_state}\")\n",
    "val mfsm8 = mfsm7.step(2)\n",
    "assert (mfsm8.get_current_state == 2, s\"H: expected state: 2, your code returns: ${mfsm.get_current_state}\")\n",
    "val mfsm9 = mfsm8.step(1)\n",
    "assert (mfsm9.get_current_state == 0, s\"I: expected state: 0, your code returns: ${mfsm.get_current_state}\")\n",
    "val mfsm10 = mfsm9.multiple_steps(List(0,1,2,2,0,1,1,2,1))\n",
    "assert (mfsm10.get_current_state == 0, s\"I: expected state: 0, your code returns: ${mfsm.get_current_state}\")\n",
    "passed(10)\n",
    "//END TEST"
   ]
  },
  {
   "cell_type": "markdown",
   "metadata": {},
   "source": [
    "# Problem 2: Block of Statements in Lettuce with References (20 points).\n",
    "\n",
    "You have been using a sequence of statements in almost all languages that you have learned but for Lettuce.  If we write a sequence of expressions (statements) as follows\n",
    "\n",
    "~~~\n",
    "<expression 1> ;\n",
    "<expression 2> ;\n",
    "<expression 3> ;\n",
    "<expression 4> ;\n",
    "... \n",
    "<expression n>\n",
    "~~~\n",
    "Each of these expressions is interpreted in sequence starting from 1 to n. The return value of the entire\n",
    "block of expressions (statements) is simply the value returned by the very last statement. \n",
    "\n",
    "We would like to add this to Lettuce in the form of a new production.\n",
    "\n",
    "$$\\mathbf{Expr} \\ \\rightarrow\\ Seq(\\mathbf{Expr}, \\mathbf{Expr})$$\n",
    "\n",
    "The expression $\\texttt{Seq(e1, e2)}$ is a sequence `e1` followed by `e2`. The overall value of a `Seq` is that\n",
    "returned by `e2`. However, since we have Lettuce with references, it is possible that `e1` may have side effects that are visible in `e2`.\n",
    "\n",
    "Longer compositions can be obtained by nesting Seq.\n",
    "\n",
    "~~~\n",
    "Seq( e1, Seq(e2, Seq(e3, Seq(e4, e5))))\n",
    "~~~\n",
    "\n",
    "## 2 A (5 points): Extend the abstract syntax with Seq"
   ]
  },
  {
   "cell_type": "code",
   "execution_count": 71,
   "metadata": {
    "deletable": false,
    "nbgrader": {
     "cell_type": "code",
     "checksum": "452ac17ec1c6448ad2b634132b763a72",
     "grade": false,
     "grade_id": "cell-40407b7559e0fe5c",
     "locked": false,
     "schema_version": 3,
     "solution": true,
     "task": false
    }
   },
   "outputs": [
    {
     "data": {
      "text/plain": [
       "defined \u001b[32mtrait\u001b[39m \u001b[36mProgram\u001b[39m\n",
       "defined \u001b[32mtrait\u001b[39m \u001b[36mExpr\u001b[39m\n",
       "defined \u001b[32mclass\u001b[39m \u001b[36mTopLevel\u001b[39m\n",
       "defined \u001b[32mclass\u001b[39m \u001b[36mConst\u001b[39m\n",
       "defined \u001b[32mclass\u001b[39m \u001b[36mIdent\u001b[39m\n",
       "defined \u001b[32mclass\u001b[39m \u001b[36mPlus\u001b[39m\n",
       "defined \u001b[32mclass\u001b[39m \u001b[36mMinus\u001b[39m\n",
       "defined \u001b[32mclass\u001b[39m \u001b[36mMult\u001b[39m\n",
       "defined \u001b[32mclass\u001b[39m \u001b[36mGeq\u001b[39m\n",
       "defined \u001b[32mclass\u001b[39m \u001b[36mEq\u001b[39m\n",
       "defined \u001b[32mclass\u001b[39m \u001b[36mIfThenElse\u001b[39m\n",
       "defined \u001b[32mclass\u001b[39m \u001b[36mLet\u001b[39m\n",
       "defined \u001b[32mclass\u001b[39m \u001b[36mFunDef\u001b[39m\n",
       "defined \u001b[32mclass\u001b[39m \u001b[36mFunCall\u001b[39m\n",
       "defined \u001b[32mclass\u001b[39m \u001b[36mNewRef\u001b[39m\n",
       "defined \u001b[32mclass\u001b[39m \u001b[36mDeRef\u001b[39m\n",
       "defined \u001b[32mclass\u001b[39m \u001b[36mAssignRef\u001b[39m\n",
       "defined \u001b[32mclass\u001b[39m \u001b[36mSeq\u001b[39m"
      ]
     },
     "execution_count": 71,
     "metadata": {},
     "output_type": "execute_result"
    }
   ],
   "source": [
    "sealed trait Program\n",
    "sealed trait Expr\n",
    "\n",
    "case class TopLevel(e: Expr) extends Program\n",
    "\n",
    "case class Const(v: Double) extends Expr // Expr -> Const(v)\n",
    "case class Ident(s: String) extends Expr // Expr -> Ident(s)\n",
    "\n",
    "// Arithmetic Expressions\n",
    "case class Plus(e1: Expr, e2: Expr) extends Expr // Expr -> Plus(Expr, Expr)\n",
    "case class Minus(e1: Expr, e2: Expr) extends Expr // Expr -> Minus(Expr, Expr)\n",
    "case class Mult(e1: Expr, e2: Expr) extends Expr // Expr -> Mult (Expr, Expr)\n",
    "\n",
    "// Boolean Expressions\n",
    "case class Geq(e1: Expr, e2:Expr) extends Expr\n",
    "case class Eq(e1: Expr, e2: Expr) extends Expr\n",
    "\n",
    "//If then else\n",
    "case class IfThenElse(e: Expr, eIf: Expr, eElse: Expr) extends Expr\n",
    "\n",
    "//Let bindings\n",
    "case class Let(s: String, defExpr: Expr, bodyExpr: Expr) extends Expr\n",
    "\n",
    "//Function definition\n",
    "case class FunDef(param: String, bodyExpr: Expr) extends Expr\n",
    "\n",
    "// Function call\n",
    "case class FunCall(funCalled: Expr, argExpr: Expr) extends Expr\n",
    "\n",
    "// New Ref\n",
    "case class NewRef(e: Expr) extends Expr\n",
    "\n",
    "//DeRef\n",
    "case class DeRef(lval: Expr) extends Expr\n",
    "\n",
    "//AssignRef\n",
    "case class AssignRef(lval: Expr, rval: Expr) extends Expr\n",
    "\n",
    "// Seq\n",
    "// YOUR CODE HERE\n",
    "case class Seq(e1: Expr, e2: Expr) extends Expr"
   ]
  },
  {
   "cell_type": "code",
   "execution_count": 72,
   "metadata": {
    "deletable": false,
    "editable": false,
    "nbgrader": {
     "cell_type": "code",
     "checksum": "20d1342315ff62229e3eba421d797431",
     "grade": true,
     "grade_id": "cell-a6fdda508167cea9",
     "locked": true,
     "points": 5,
     "schema_version": 3,
     "solution": false,
     "task": false
    }
   },
   "outputs": [
    {
     "name": "stdout",
     "output_type": "stream",
     "text": [
      "\n",
      "*** Tests Passed (5 points) ***\n"
     ]
    },
    {
     "data": {
      "text/plain": [
       "\u001b[36ms1\u001b[39m: \u001b[32mSeq\u001b[39m = \u001b[33mSeq\u001b[39m(\u001b[33mConst\u001b[39m(\u001b[32m10.0\u001b[39m), \u001b[33mNewRef\u001b[39m(\u001b[33mConst\u001b[39m(\u001b[32m15.0\u001b[39m)))\n",
       "\u001b[36ms2\u001b[39m: \u001b[32mSeq\u001b[39m = \u001b[33mSeq\u001b[39m(\n",
       "  \u001b[33mDeRef\u001b[39m(\u001b[33mNewRef\u001b[39m(\u001b[33mConst\u001b[39m(\u001b[32m20.0\u001b[39m))),\n",
       "  \u001b[33mLet\u001b[39m(\u001b[32m\"x\"\u001b[39m, \u001b[33mDeRef\u001b[39m(\u001b[33mNewRef\u001b[39m(\u001b[33mConst\u001b[39m(\u001b[32m25.0\u001b[39m))), \u001b[33mIdent\u001b[39m(\u001b[32m\"x\"\u001b[39m))\n",
       ")\n",
       "\u001b[36ms3\u001b[39m: \u001b[32mSeq\u001b[39m = \u001b[33mSeq\u001b[39m(\u001b[33mConst\u001b[39m(\u001b[32m10.0\u001b[39m), \u001b[33mSeq\u001b[39m(\u001b[33mConst\u001b[39m(\u001b[32m25.0\u001b[39m), \u001b[33mConst\u001b[39m(\u001b[32m35.0\u001b[39m)))\n",
       "\u001b[36ms4\u001b[39m: \u001b[32mSeq\u001b[39m = \u001b[33mSeq\u001b[39m(\u001b[33mSeq\u001b[39m(\u001b[33mConst\u001b[39m(\u001b[32m5.0\u001b[39m), \u001b[33mConst\u001b[39m(\u001b[32m10.0\u001b[39m)), \u001b[33mSeq\u001b[39m(\u001b[33mConst\u001b[39m(\u001b[32m25.0\u001b[39m), \u001b[33mConst\u001b[39m(\u001b[32m35.0\u001b[39m)))"
      ]
     },
     "execution_count": 72,
     "metadata": {},
     "output_type": "execute_result"
    }
   ],
   "source": [
    "//BEGIN TEST\n",
    "val s1 = Seq(Const(10.0), NewRef(Const(15.0)))\n",
    "val s2 = Seq(DeRef(NewRef(Const(20.0))), Let(\"x\", DeRef(NewRef(Const(25.0))), Ident(\"x\")))\n",
    "val s3 = Seq(Const(10.0), Seq(Const(25.0), Const(35.0)))\n",
    "val s4 = Seq(Seq(Const(5.0), Const(10.0)),  Seq(Const(25.0), Const(35.0)) )\n",
    "\n",
    "passed(5)\n",
    "//END TEST"
   ]
  },
  {
   "cell_type": "markdown",
   "metadata": {
    "deletable": false,
    "editable": false,
    "nbgrader": {
     "cell_type": "markdown",
     "checksum": "1218922fe5a82750b5942464c98ccef7",
     "grade": false,
     "grade_id": "cell-e851e415e0153b9d",
     "locked": true,
     "schema_version": 3,
     "solution": false,
     "task": false
    }
   },
   "source": [
    "## 2 B (5 Points): Write Semantics\n",
    "\n",
    "We would like to write a semantic rule for evaluating $\\texttt{Seq(e1, e2)}$. Complete the rules for the\n",
    "OK and error cases by filling in the ??? marks below.\n",
    "\n",
    "$$\\begin{array}{c}\n",
    "\\mathbf{eval}(\\texttt{e1}, \\sigma, s) = (v_1, s_1),\\;\\; v_1 \\not= \\mathbf{error},\\;\\;\\mathbf{eval}(\\texttt{e2}, \\sigma, \\color{red}{1} ) = (v_2, s_2)\\\\\n",
    "\\hline\n",
    "\\mathbf{eval}(\\texttt{Seq(e1, e2)}, \\sigma, s) = \\color{red}{2} \\\\\n",
    "\\end{array}(\\text{seq-ok})$$\n",
    "\n",
    "\n",
    "$$\\begin{array}{c}\n",
    "\\mathbf{eval}(\\texttt{e1}, \\sigma, s) = (v_1, s_1),\\;\\; v_1 = \\mathbf{error} \\\\\n",
    "\\hline\n",
    "\\mathbf{eval}(\\texttt{Seq(e1, e2)}, \\sigma, s) = \\color{red}{3} \\\\\n",
    "\\end{array}(\\text{seq-nok})$$\n",
    "\n",
    "Fill in the appropriate values for  $\\color{red}{1}, \\color{red}{2}, \\color{red}{3}$.\n",
    "\n",
    "Write your answer in the cell below. You can make a numbered list in markdown to represent your answers as follows:\n",
    "1. First\n",
    "2. Second\n",
    "3. And so on..."
   ]
  },
  {
   "cell_type": "markdown",
   "metadata": {
    "deletable": false,
    "nbgrader": {
     "cell_type": "markdown",
     "checksum": "37924d44d9064daf54a42dc7e89643d5",
     "grade": true,
     "grade_id": "cell-5d7667041c3ca7ed",
     "locked": false,
     "points": 5,
     "schema_version": 3,
     "solution": true,
     "task": false
    }
   },
   "source": [
    "1. s1\n",
    "2. (v2,s2)\n",
    "3. (error,s1)"
   ]
  },
  {
   "cell_type": "markdown",
   "metadata": {
    "deletable": false,
    "editable": false,
    "nbgrader": {
     "cell_type": "markdown",
     "checksum": "1871aee2458e5ab815a1080b3c74c4a0",
     "grade": false,
     "grade_id": "cell-03a60942037605b3",
     "locked": true,
     "schema_version": 3,
     "solution": false,
     "task": false
    }
   },
   "source": [
    "## 2 C (10 points): Implement the code\n",
    "\n",
    "Extend the implementation of the interpreter from the notebook on references to add support for Seq."
   ]
  },
  {
   "cell_type": "code",
   "execution_count": 30,
   "metadata": {
    "deletable": false,
    "nbgrader": {
     "cell_type": "code",
     "checksum": "28422c68ade4270a2f71d6ad5719eac0",
     "grade": false,
     "grade_id": "cell-c84dcd0a1328989e",
     "locked": false,
     "schema_version": 3,
     "solution": true,
     "task": false
    }
   },
   "outputs": [
    {
     "data": {
      "text/plain": [
       "defined \u001b[32mtrait\u001b[39m \u001b[36mValue\u001b[39m\n",
       "defined \u001b[32mclass\u001b[39m \u001b[36mNumValue\u001b[39m\n",
       "defined \u001b[32mclass\u001b[39m \u001b[36mBoolValue\u001b[39m\n",
       "defined \u001b[32mclass\u001b[39m \u001b[36mClosure\u001b[39m\n",
       "defined \u001b[32mclass\u001b[39m \u001b[36mReference\u001b[39m\n",
       "defined \u001b[32mobject\u001b[39m \u001b[36mErrorValue\u001b[39m\n",
       "defined \u001b[32mfunction\u001b[39m \u001b[36mvalueToNumber\u001b[39m\n",
       "defined \u001b[32mfunction\u001b[39m \u001b[36mvalueToBoolean\u001b[39m\n",
       "defined \u001b[32mfunction\u001b[39m \u001b[36mvalueToClosure\u001b[39m\n",
       "defined \u001b[32mclass\u001b[39m \u001b[36mImmutableStore\u001b[39m\n",
       "defined \u001b[32mfunction\u001b[39m \u001b[36mcreateNewCell\u001b[39m\n",
       "defined \u001b[32mfunction\u001b[39m \u001b[36mlookupCellValue\u001b[39m\n",
       "defined \u001b[32mfunction\u001b[39m \u001b[36massignToCell\u001b[39m\n",
       "defined \u001b[32mfunction\u001b[39m \u001b[36mevalExpr\u001b[39m\n",
       "defined \u001b[32mfunction\u001b[39m \u001b[36mevalProgram\u001b[39m"
      ]
     },
     "execution_count": 30,
     "metadata": {},
     "output_type": "execute_result"
    }
   ],
   "source": [
    "sealed trait Value\n",
    "/*-- Now we can finish the rest --*/\n",
    "case class NumValue(f: Double) extends Value\n",
    "case class BoolValue(b: Boolean) extends Value\n",
    "/*-- Note: to get recursion working, we will need to make environments different --*/\n",
    "case class Closure(x: String, e: Expr, pi: Map[String, Value]) extends Value \n",
    "/* -- references are here -- */\n",
    "case class Reference(j: Int) extends Value\n",
    "case object ErrorValue extends Value\n",
    "/*2. Operators on values */\n",
    "def valueToNumber(v: Value): Double = v match {\n",
    "    case NumValue(d) => d\n",
    "    case _ => throw new IllegalArgumentException(s\"Error: Asking me to convert Value: $v to a number\")\n",
    "}\n",
    "def valueToBoolean(v: Value): Boolean = v match {\n",
    "    case BoolValue(b) => b\n",
    "    case _ => throw new IllegalArgumentException(s\"Error: Asking me to convert Value: $v to a boolean\")\n",
    "}\n",
    "def valueToClosure(v: Value): Closure = v match {\n",
    "    case Closure(x, e, pi) => Closure(x, e, pi)\n",
    "    case _ =>  throw new IllegalArgumentException(s\"Error: Asking me to convert Value: $v to a closure\")\n",
    "}\n",
    "\n",
    "/*3. Immutable Store */\n",
    "case class ImmutableStore(val nCells: Int, val storeMap: Map[Int, Value])\n",
    "def createNewCell(s: ImmutableStore, v: Value): (ImmutableStore, Int) = {\n",
    "        /*- make a new cell -*/\n",
    "        val j = s.nCells\n",
    "        val nMap = s.storeMap + (j -> v)\n",
    "        val nStore = ImmutableStore(s.nCells + 1, nMap) // Make a new store with one more cell\n",
    "        (nStore, j)\n",
    "}\n",
    "def lookupCellValue(s: ImmutableStore, j: Int): Value = {\n",
    "        if (s.storeMap.contains(j)){\n",
    "            s.storeMap(j)\n",
    "        } else {\n",
    "            throw new IllegalArgumentException(s\"Illegal lookup of nonexistant location $j\")\n",
    "        }\n",
    "}\n",
    "def assignToCell(s: ImmutableStore, j: Int, v: Value): ImmutableStore = {\n",
    "        if (s.storeMap.contains(j)){\n",
    "            val nMap = s.storeMap + (j -> v) // Update the store map.\n",
    "            ImmutableStore(s.nCells, nMap)\n",
    "        } else {\n",
    "            throw new IllegalArgumentException(s\"Illegal assignment to nonexistent location $j\")\n",
    "        }\n",
    "    }\n",
    "    \n",
    "def evalExpr(e: Expr, env: Map[String, Value], store: ImmutableStore): (Value, ImmutableStore) = {\n",
    "      /* Method to deal with binary arithmetic operations */\n",
    "    \n",
    "    def applyArith2 (e1: Expr, e2: Expr) (fun: (Double , Double) => Double) = {\n",
    "        val (v1, store1) = evalExpr(e1, env, store)\n",
    "        val (v2, store2) = evalExpr(e2, env, store1)\n",
    "        val v3 = fun(valueToNumber(v1), valueToNumber(v2))\n",
    "        (NumValue(v3), store2)\n",
    "    }  /* -- We have deliberately curried the method --*/\n",
    "    \n",
    "    /* Helper method to deal with unary arithmetic */\n",
    "    def applyArith1(e: Expr) (fun: Double => Double) = {\n",
    "        val (v,store1) = evalExpr(e, env, store)\n",
    "        val v1 = fun(valueToNumber(v))\n",
    "        (NumValue(v1), store1)\n",
    "    }\n",
    "    \n",
    "    /* Helper method to deal with comparison operators */\n",
    "    def applyComp(e1: Expr, e2: Expr) (fun: (Double, Double) => Boolean) = {\n",
    "        val (v1, store1) = evalExpr(e1, env, store)\n",
    "        val (v2, store2) = evalExpr(e2, env, store1)\n",
    "        val v3 = fun(valueToNumber(v1), valueToNumber(v2))\n",
    "        (BoolValue(v3), store2)\n",
    "    }\n",
    "    \n",
    "    e match {\n",
    "        case Const(f) => (NumValue(f), store)\n",
    "        \n",
    "        case Ident(x) => {\n",
    "            if (env contains x) \n",
    "                (env(x), store)\n",
    "            else \n",
    "                throw new IllegalArgumentException(s\"Undefined identifier $x\")\n",
    "        }\n",
    "    \n",
    "    \n",
    "        case Plus(e1, e2) => applyArith2 (e1, e2) ( _ + _ )\n",
    "            \n",
    "        case Minus(e1, e2) => applyArith2(e1, e2) ( _ - _ )\n",
    "    \n",
    "        case Mult(e1, e2) =>  applyArith2(e1, e2) (_ * _)\n",
    "        \n",
    "        case Geq(e1, e2) => applyComp(e1, e2)(_ >= _)\n",
    "    \n",
    "        case Eq(e1, e2) => applyComp(e1, e2)(_ == _)\n",
    "        \n",
    "        case IfThenElse(e1, e2, e3) => {\n",
    "            val (v, store1) = evalExpr(e1, env, store)\n",
    "            v match {\n",
    "                case BoolValue(true) => evalExpr(e2, env, store1)\n",
    "                case BoolValue(false) => evalExpr(e3, env, store1)\n",
    "                case _ => throw new IllegalArgumentException(s\"If-then-else condition expr: ${e1} is non-boolean -- evaluates to ${v}\")\n",
    "            }\n",
    "        }\n",
    "        \n",
    "        case Let(x, e1, e2) => {\n",
    "            val (v1, store1) = evalExpr(e1, env, store)  // eval e1\n",
    "            val env2 = env + (x -> v1) // create a new extended env\n",
    "            evalExpr(e2, env2, store1) // eval e2 under that.\n",
    "        }\n",
    "    \n",
    "        case FunDef(x, e) => {\n",
    "            (Closure(x, e, env), store) // Return a closure with the current enviroment.\n",
    "        }\n",
    "        \n",
    "        case FunCall(e1, e2) => {\n",
    "            val (v1, store1) = evalExpr(e1, env, store)\n",
    "            val (v2, store2) = evalExpr(e2, env, store1)\n",
    "            v1 match {\n",
    "                case Closure(x, closure_ex, closed_env) => {\n",
    "                    // First extend closed_env by binding x to v2\n",
    "                    val new_env = closed_env + ( x -> v2)\n",
    "                    // Evaluate the body of the closure under the extended environment.\n",
    "                    evalExpr(closure_ex, new_env, store2)\n",
    "                }\n",
    "                case _ => throw new IllegalArgumentException(s\"Function call error: expression $e1 does not evaluate to a closure\")\n",
    "            }\n",
    "        }\n",
    "        \n",
    "        case NewRef(e) => {\n",
    "            val (v, store1) = evalExpr(e, env, store)\n",
    "            val (store2, j) = createNewCell(store1, v)\n",
    "            (Reference(j), store2)\n",
    "        }\n",
    "        \n",
    "        case DeRef(e) => {\n",
    "            val (v, store1) = evalExpr(e, env, store)\n",
    "            v match {\n",
    "                case Reference(j) => {\n",
    "                    val v = lookupCellValue(store1, j)\n",
    "                    (v, store1)\n",
    "                }\n",
    "                case _ => throw new IllegalArgumentException(s\"Deref applied to an expression that does not evaluate to a reference\")\n",
    "            }\n",
    "        }\n",
    "        \n",
    "        case AssignRef(e1, e2) => {\n",
    "            val (v1, store1) = evalExpr(e1, env, store)\n",
    "            v1 match {\n",
    "                case Reference(j) => {\n",
    "                    val (v2, store2) = evalExpr(e2, env, store1)\n",
    "                    val store3 = assignToCell(store2, j, v2)\n",
    "                    (v2, store3)\n",
    "                }\n",
    "                case _ => throw new IllegalArgumentException(s\"AssignRef applied to argument that is not a reference\")\n",
    "                \n",
    "            }\n",
    "        }\n",
    "        \n",
    "        case Seq(e1, e2) => {\n",
    "            // YOUR CODE HERE\n",
    "             val (v1, store1) = evalExpr(e1, env, store)\n",
    "            val (v2, store2) = evalExpr(e2, env, store1)\n",
    "             (v2,store2)\n",
    "        }\n",
    "        \n",
    "    }\n",
    "\n",
    "}\n",
    "\n",
    "def evalProgram(p: Program) = p match {\n",
    "        case TopLevel(e) => { \n",
    "            // Start with empty environment and empty store\n",
    "            val (v1, s1) = evalExpr(e, Map(), new ImmutableStore(0, Map()))\n",
    "            v1\n",
    "        }\n",
    "}\n",
    "    "
   ]
  },
  {
   "cell_type": "code",
   "execution_count": 31,
   "metadata": {
    "deletable": false,
    "editable": false,
    "nbgrader": {
     "cell_type": "code",
     "checksum": "5bc341e0b355d99eb877428b2b8e9aac",
     "grade": true,
     "grade_id": "cell-e826f68824b1b86f",
     "locked": true,
     "points": 10,
     "schema_version": 3,
     "solution": false,
     "task": false
    }
   },
   "outputs": [
    {
     "name": "stdout",
     "output_type": "stream",
     "text": [
      "\n",
      "*** Tests Passed (5 points) ***\n"
     ]
    },
    {
     "data": {
      "text/plain": [
       "\u001b[36mincr\u001b[39m: \u001b[32mIdent\u001b[39m = \u001b[33mIdent\u001b[39m(\u001b[32m\"incr\"\u001b[39m)\n",
       "\u001b[36mdecr\u001b[39m: \u001b[32mIdent\u001b[39m = \u001b[33mIdent\u001b[39m(\u001b[32m\"decr\"\u001b[39m)\n",
       "\u001b[36mzero\u001b[39m: \u001b[32mIdent\u001b[39m = \u001b[33mIdent\u001b[39m(\u001b[32m\"zero\"\u001b[39m)\n",
       "\u001b[36mr\u001b[39m: \u001b[32mIdent\u001b[39m = \u001b[33mIdent\u001b[39m(\u001b[32m\"r\"\u001b[39m)\n",
       "\u001b[36mx\u001b[39m: \u001b[32mIdent\u001b[39m = \u001b[33mIdent\u001b[39m(\u001b[32m\"x\"\u001b[39m)\n",
       "\u001b[36me4\u001b[39m: \u001b[32mSeq\u001b[39m = \u001b[33mSeq\u001b[39m(\n",
       "  \u001b[33mSeq\u001b[39m(\n",
       "    \u001b[33mSeq\u001b[39m(\u001b[33mFunCall\u001b[39m(\u001b[33mIdent\u001b[39m(\u001b[32m\"zero\"\u001b[39m), \u001b[33mIdent\u001b[39m(\u001b[32m\"r\"\u001b[39m)), \u001b[33mFunCall\u001b[39m(\u001b[33mIdent\u001b[39m(\u001b[32m\"incr\"\u001b[39m), \u001b[33mIdent\u001b[39m(\u001b[32m\"r\"\u001b[39m))),\n",
       "    \u001b[33mSeq\u001b[39m(\u001b[33mFunCall\u001b[39m(\u001b[33mIdent\u001b[39m(\u001b[32m\"incr\"\u001b[39m), \u001b[33mIdent\u001b[39m(\u001b[32m\"r\"\u001b[39m)), \u001b[33mFunCall\u001b[39m(\u001b[33mIdent\u001b[39m(\u001b[32m\"incr\"\u001b[39m), \u001b[33mIdent\u001b[39m(\u001b[32m\"r\"\u001b[39m)))\n",
       "  ),\n",
       "  \u001b[33mSeq\u001b[39m(\u001b[33mFunCall\u001b[39m(\u001b[33mIdent\u001b[39m(\u001b[32m\"decr\"\u001b[39m), \u001b[33mIdent\u001b[39m(\u001b[32m\"r\"\u001b[39m)), \u001b[33mFunCall\u001b[39m(\u001b[33mIdent\u001b[39m(\u001b[32m\"decr\"\u001b[39m), \u001b[33mIdent\u001b[39m(\u001b[32m\"r\"\u001b[39m)))\n",
       ")\n",
       "\u001b[36mrr\u001b[39m: \u001b[32mLet\u001b[39m = \u001b[33mLet\u001b[39m(\n",
       "  \u001b[32m\"r\"\u001b[39m,\n",
       "  \u001b[33mNewRef\u001b[39m(\u001b[33mConst\u001b[39m(\u001b[32m15.0\u001b[39m)),\n",
       "  \u001b[33mSeq\u001b[39m(\n",
       "    \u001b[33mSeq\u001b[39m(\n",
       "      \u001b[33mSeq\u001b[39m(\n",
       "        \u001b[33mFunCall\u001b[39m(\u001b[33mIdent\u001b[39m(\u001b[32m\"zero\"\u001b[39m), \u001b[33mIdent\u001b[39m(\u001b[32m\"r\"\u001b[39m)),\n",
       "        \u001b[33mFunCall\u001b[39m(\u001b[33mIdent\u001b[39m(\u001b[32m\"incr\"\u001b[39m), \u001b[33mIdent\u001b[39m(\u001b[32m\"r\"\u001b[39m))\n",
       "      ),\n",
       "      \u001b[33mSeq\u001b[39m(\n",
       "        \u001b[33mFunCall\u001b[39m(\u001b[33mIdent\u001b[39m(\u001b[32m\"incr\"\u001b[39m), \u001b[33mIdent\u001b[39m(\u001b[32m\"r\"\u001b[39m)),\n",
       "        \u001b[33mFunCall\u001b[39m(\u001b[33mIdent\u001b[39m(\u001b[32m\"incr\"\u001b[39m), \u001b[33mIdent\u001b[39m(\u001b[32m\"r\"\u001b[39m))\n",
       "      )\n",
       "    ),\n",
       "    \u001b[33mSeq\u001b[39m(\u001b[33mFunCall\u001b[39m(\u001b[33mIdent\u001b[39m(\u001b[32m\"decr\"\u001b[39m), \u001b[33mIdent\u001b[39m(\u001b[32m\"r\"\u001b[39m)), \u001b[33mFunCall\u001b[39m(\u001b[33mIdent\u001b[39m(\u001b[32m\"decr\"\u001b[39m), \u001b[33mIdent\u001b[39m(\u001b[32m\"r\"\u001b[39m)))\n",
       "  )\n",
       ")\n",
       "\u001b[36mz\u001b[39m: \u001b[32mLet\u001b[39m = \u001b[33mLet\u001b[39m(\n",
       "  \u001b[32m\"zero\"\u001b[39m,\n",
       "  \u001b[33mFunDef\u001b[39m(\u001b[32m\"x\"\u001b[39m, \u001b[33mAssignRef\u001b[39m(\u001b[33mIdent\u001b[39m(\u001b[32m\"x\"\u001b[39m), \u001b[33mConst\u001b[39m(\u001b[32m0.0\u001b[39m))),\n",
       "  \u001b[33mLet\u001b[39m(\n",
       "    \u001b[32m\"r\"\u001b[39m,\n",
       "    \u001b[33mNewRef\u001b[39m(\u001b[33mConst\u001b[39m(\u001b[32m15.0\u001b[39m)),\n",
       "    \u001b[33mSeq\u001b[39m(\n",
       "      \u001b[33mSeq\u001b[39m(\n",
       "        \u001b[33mSeq\u001b[39m(\n",
       "          \u001b[33mFunCall\u001b[39m(\u001b[33mIdent\u001b[39m(\u001b[32m\"zero\"\u001b[39m), \u001b[33mIdent\u001b[39m(\u001b[32m\"r\"\u001b[39m)),\n",
       "          \u001b[33mFunCall\u001b[39m(\u001b[33mIdent\u001b[39m(\u001b[32m\"incr\"\u001b[39m), \u001b[33mIdent\u001b[39m(\u001b[32m\"r\"\u001b[39m))\n",
       "        ),\n",
       "        \u001b[33mSeq\u001b[39m(\n",
       "          \u001b[33mFunCall\u001b[39m(\u001b[33mIdent\u001b[39m(\u001b[32m\"incr\"\u001b[39m), \u001b[33mIdent\u001b[39m(\u001b[32m\"r\"\u001b[39m)),\n",
       "          \u001b[33mFunCall\u001b[39m(\u001b[33mIdent\u001b[39m(\u001b[32m\"incr\"\u001b[39m), \u001b[33mIdent\u001b[39m(\u001b[32m\"r\"\u001b[39m))\n",
       "        )\n",
       "      ),\n",
       "      \u001b[33mSeq\u001b[39m(\n",
       "        \u001b[33mFunCall\u001b[39m(\u001b[33mIdent\u001b[39m(\u001b[32m\"decr\"\u001b[39m), \u001b[33mIdent\u001b[39m(\u001b[32m\"r\"\u001b[39m)),\n",
       "        \u001b[33mFunCall\u001b[39m(\u001b[33mIdent\u001b[39m(\u001b[32m\"decr\"\u001b[39m), \u001b[33mIdent\u001b[39m(\u001b[32m\"r\"\u001b[39m))\n",
       "      )\n",
       "    )\n",
       "  )\n",
       ")\n",
       "\u001b[36md\u001b[39m: \u001b[32mLet\u001b[39m = \u001b[33mLet\u001b[39m(\n",
       "  \u001b[32m\"decr\"\u001b[39m,\n",
       "  \u001b[33mFunDef\u001b[39m(\u001b[32m\"x\"\u001b[39m, \u001b[33mAssignRef\u001b[39m(\u001b[33mIdent\u001b[39m(\u001b[32m\"x\"\u001b[39m), \u001b[33mMinus\u001b[39m(\u001b[33mDeRef\u001b[39m(\u001b[33mIdent\u001b[39m(\u001b[32m\"x\"\u001b[39m)), \u001b[33mConst\u001b[39m(\u001b[32m1.0\u001b[39m)))),\n",
       "  \u001b[33mLet\u001b[39m(\n",
       "    \u001b[32m\"zero\"\u001b[39m,\n",
       "    \u001b[33mFunDef\u001b[39m(\u001b[32m\"x\"\u001b[39m, \u001b[33mAssignRef\u001b[39m(\u001b[33mIdent\u001b[39m(\u001b[32m\"x\"\u001b[39m), \u001b[33mConst\u001b[39m(\u001b[32m0.0\u001b[39m))),\n",
       "    \u001b[33mLet\u001b[39m(\n",
       "      \u001b[32m\"r\"\u001b[39m,\n",
       "      \u001b[33mNewRef\u001b[39m(\u001b[33mConst\u001b[39m(\u001b[32m15.0\u001b[39m)),\n",
       "      \u001b[33mSeq\u001b[39m(\n",
       "        \u001b[33mSeq\u001b[39m(\n",
       "          \u001b[33mSeq\u001b[39m(\n",
       "            \u001b[33mFunCall\u001b[39m(\u001b[33mIdent\u001b[39m(\u001b[32m\"zero\"\u001b[39m), \u001b[33mIdent\u001b[39m(\u001b[32m\"r\"\u001b[39m)),\n",
       "            \u001b[33mFunCall\u001b[39m(\u001b[33mIdent\u001b[39m(\u001b[32m\"incr\"\u001b[39m), \u001b[33mIdent\u001b[39m(\u001b[32m\"r\"\u001b[39m))\n",
       "          ),\n",
       "          \u001b[33mSeq\u001b[39m(\n",
       "            \u001b[33mFunCall\u001b[39m(\u001b[33mIdent\u001b[39m(\u001b[32m\"incr\"\u001b[39m), \u001b[33mIdent\u001b[39m(\u001b[32m\"r\"\u001b[39m)),\n",
       "            \u001b[33mFunCall\u001b[39m(\u001b[33mIdent\u001b[39m(\u001b[32m\"incr\"\u001b[39m), \u001b[33mIdent\u001b[39m(\u001b[32m\"r\"\u001b[39m))\n",
       "          )\n",
       "        ),\n",
       "        \u001b[33mSeq\u001b[39m(\n",
       "          \u001b[33mFunCall\u001b[39m(\u001b[33mIdent\u001b[39m(\u001b[32m\"decr\"\u001b[39m), \u001b[33mIdent\u001b[39m(\u001b[32m\"r\"\u001b[39m)),\n",
       "          \u001b[33mFunCall\u001b[39m(\u001b[33mIdent\u001b[39m(\u001b[32m\"decr\"\u001b[39m), \u001b[33mIdent\u001b[39m(\u001b[32m\"r\"\u001b[39m))\n",
       "        )\n",
       "      )\n",
       "    )\n",
       "  )\n",
       ")\n",
       "\u001b[36mi\u001b[39m: \u001b[32mLet\u001b[39m = \u001b[33mLet\u001b[39m(\n",
       "  \u001b[32m\"incr\"\u001b[39m,\n",
       "  \u001b[33mFunDef\u001b[39m(\u001b[32m\"x\"\u001b[39m, \u001b[33mAssignRef\u001b[39m(\u001b[33mIdent\u001b[39m(\u001b[32m\"x\"\u001b[39m), \u001b[33mPlus\u001b[39m(\u001b[33mDeRef\u001b[39m(\u001b[33mIdent\u001b[39m(\u001b[32m\"x\"\u001b[39m)), \u001b[33mConst\u001b[39m(\u001b[32m1.0\u001b[39m)))),\n",
       "  \u001b[33mLet\u001b[39m(\n",
       "    \u001b[32m\"decr\"\u001b[39m,\n",
       "    \u001b[33mFunDef\u001b[39m(\u001b[32m\"x\"\u001b[39m, \u001b[33mAssignRef\u001b[39m(\u001b[33mIdent\u001b[39m(\u001b[32m\"x\"\u001b[39m), \u001b[33mMinus\u001b[39m(\u001b[33mDeRef\u001b[39m(\u001b[33mIdent\u001b[39m(\u001b[32m\"x\"\u001b[39m)), \u001b[33mConst\u001b[39m(\u001b[32m1.0\u001b[39m)))),\n",
       "    \u001b[33mLet\u001b[39m(\n",
       "      \u001b[32m\"zero\"\u001b[39m,\n",
       "      \u001b[33mFunDef\u001b[39m(\u001b[32m\"x\"\u001b[39m, \u001b[33mAssignRef\u001b[39m(\u001b[33mIdent\u001b[39m(\u001b[32m\"x\"\u001b[39m), \u001b[33mConst\u001b[39m(\u001b[32m0.0\u001b[39m))),\n",
       "      \u001b[33mLet\u001b[39m(\n",
       "        \u001b[32m\"r\"\u001b[39m,\n",
       "        \u001b[33mNewRef\u001b[39m(\u001b[33mConst\u001b[39m(\u001b[32m15.0\u001b[39m)),\n",
       "        \u001b[33mSeq\u001b[39m(\n",
       "          \u001b[33mSeq\u001b[39m(\n",
       "            \u001b[33mSeq\u001b[39m(\n",
       "              \u001b[33mFunCall\u001b[39m(\u001b[33mIdent\u001b[39m(\u001b[32m\"zero\"\u001b[39m), \u001b[33mIdent\u001b[39m(\u001b[32m\"r\"\u001b[39m)),\n",
       "              \u001b[33mFunCall\u001b[39m(\u001b[33mIdent\u001b[39m(\u001b[32m\"incr\"\u001b[39m), \u001b[33mIdent\u001b[39m(\u001b[32m\"r\"\u001b[39m))\n",
       "            ),\n",
       "            \u001b[33mSeq\u001b[39m(\n",
       "              \u001b[33mFunCall\u001b[39m(\u001b[33mIdent\u001b[39m(\u001b[32m\"incr\"\u001b[39m), \u001b[33mIdent\u001b[39m(\u001b[32m\"r\"\u001b[39m)),\n",
       "              \u001b[33mFunCall\u001b[39m(\u001b[33mIdent\u001b[39m(\u001b[32m\"incr\"\u001b[39m), \u001b[33mIdent\u001b[39m(\u001b[32m\"r\"\u001b[39m))\n",
       "            )\n",
       "          ),\n",
       "          \u001b[33mSeq\u001b[39m(\n",
       "            \u001b[33mFunCall\u001b[39m(\u001b[33mIdent\u001b[39m(\u001b[32m\"decr\"\u001b[39m), \u001b[33mIdent\u001b[39m(\u001b[32m\"r\"\u001b[39m)),\n",
       "            \u001b[33mFunCall\u001b[39m(\u001b[33mIdent\u001b[39m(\u001b[32m\"decr\"\u001b[39m), \u001b[33mIdent\u001b[39m(\u001b[32m\"r\"\u001b[39m))\n",
       "          )\n",
       "        )\n",
       "      )\n",
       "    )\n",
       "  )\n",
       ")\n",
       "\u001b[36mprog\u001b[39m: \u001b[32mTopLevel\u001b[39m = \u001b[33mTopLevel\u001b[39m(\n",
       "  \u001b[33mLet\u001b[39m(\n",
       "    \u001b[32m\"incr\"\u001b[39m,\n",
       "    \u001b[33mFunDef\u001b[39m(\u001b[32m\"x\"\u001b[39m, \u001b[33mAssignRef\u001b[39m(\u001b[33mIdent\u001b[39m(\u001b[32m\"x\"\u001b[39m), \u001b[33mPlus\u001b[39m(\u001b[33mDeRef\u001b[39m(\u001b[33mIdent\u001b[39m(\u001b[32m\"x\"\u001b[39m)), \u001b[33mConst\u001b[39m(\u001b[32m1.0\u001b[39m)))),\n",
       "    \u001b[33mLet\u001b[39m(\n",
       "      \u001b[32m\"decr\"\u001b[39m,\n",
       "      \u001b[33mFunDef\u001b[39m(\u001b[32m\"x\"\u001b[39m, \u001b[33mAssignRef\u001b[39m(\u001b[33mIdent\u001b[39m(\u001b[32m\"x\"\u001b[39m), \u001b[33mMinus\u001b[39m(\u001b[33mDeRef\u001b[39m(\u001b[33mIdent\u001b[39m(\u001b[32m\"x\"\u001b[39m)), \u001b[33mConst\u001b[39m(\u001b[32m1.0\u001b[39m)))),\n",
       "      \u001b[33mLet\u001b[39m(\n",
       "        \u001b[32m\"zero\"\u001b[39m,\n",
       "        \u001b[33mFunDef\u001b[39m(\u001b[32m\"x\"\u001b[39m, \u001b[33mAssignRef\u001b[39m(\u001b[33mIdent\u001b[39m(\u001b[32m\"x\"\u001b[39m), \u001b[33mConst\u001b[39m(\u001b[32m0.0\u001b[39m))),\n",
       "        \u001b[33mLet\u001b[39m(\n",
       "          \u001b[32m\"r\"\u001b[39m,\n",
       "          \u001b[33mNewRef\u001b[39m(\u001b[33mConst\u001b[39m(\u001b[32m15.0\u001b[39m)),\n",
       "          \u001b[33mSeq\u001b[39m(\n",
       "            \u001b[33mSeq\u001b[39m(\n",
       "              \u001b[33mSeq\u001b[39m(\n",
       "                \u001b[33mFunCall\u001b[39m(\u001b[33mIdent\u001b[39m(\u001b[32m\"zero\"\u001b[39m), \u001b[33mIdent\u001b[39m(\u001b[32m\"r\"\u001b[39m)),\n",
       "                \u001b[33mFunCall\u001b[39m(\u001b[33mIdent\u001b[39m(\u001b[32m\"incr\"\u001b[39m), \u001b[33mIdent\u001b[39m(\u001b[32m\"r\"\u001b[39m))\n",
       "              ),\n",
       "              \u001b[33mSeq\u001b[39m(\n",
       "                \u001b[33mFunCall\u001b[39m(\u001b[33mIdent\u001b[39m(\u001b[32m\"incr\"\u001b[39m), \u001b[33mIdent\u001b[39m(\u001b[32m\"r\"\u001b[39m)),\n",
       "                \u001b[33mFunCall\u001b[39m(\u001b[33mIdent\u001b[39m(\u001b[32m\"incr\"\u001b[39m), \u001b[33mIdent\u001b[39m(\u001b[32m\"r\"\u001b[39m))\n",
       "              )\n",
       "            ),\n",
       "            \u001b[33mSeq\u001b[39m(\n",
       "              \u001b[33mFunCall\u001b[39m(\u001b[33mIdent\u001b[39m(\u001b[32m\"decr\"\u001b[39m), \u001b[33mIdent\u001b[39m(\u001b[32m\"r\"\u001b[39m)),\n",
       "              \u001b[33mFunCall\u001b[39m(\u001b[33mIdent\u001b[39m(\u001b[32m\"decr\"\u001b[39m), \u001b[33mIdent\u001b[39m(\u001b[32m\"r\"\u001b[39m))\n",
       "            )\n",
       "          )\n",
       "        )\n",
       "      )\n",
       "    )\n",
       "  )\n",
       ")"
      ]
     },
     "execution_count": 31,
     "metadata": {},
     "output_type": "execute_result"
    }
   ],
   "source": [
    "//BEGIN TEST\n",
    "\n",
    "val incr = Ident(\"incr\")\n",
    "val decr = Ident(\"decr\")\n",
    "val zero = Ident(\"zero\")\n",
    "val r = Ident(\"r\")\n",
    "val x = Ident(\"x\")\n",
    "val e4 = Seq(Seq(Seq(FunCall(zero, r), FunCall(incr, r)), Seq(FunCall(incr, r), FunCall(incr, r))), Seq(FunCall(decr, r), FunCall(decr,r)))\n",
    "val rr = Let(\"r\", NewRef(Const(15.0)), e4)\n",
    "val z = Let(\"zero\", FunDef(\"x\", AssignRef(x, Const(0.0))), rr)\n",
    "val d = Let(\"decr\", FunDef(\"x\", AssignRef(x, Minus(DeRef(x), Const(1.0)))), z)\n",
    "val i = Let(\"incr\",FunDef(\"x\", AssignRef(x, Plus(DeRef(x), Const(1.0)))), d )\n",
    "val prog = TopLevel(i)\n",
    "             \n",
    "assert(evalProgram(prog) == NumValue(1.0), \"Test 1 Set 3 Failed\")\n",
    "\n",
    "passed(5)\n",
    "//END TEST"
   ]
  },
  {
   "cell_type": "markdown",
   "metadata": {
    "deletable": false,
    "editable": false,
    "nbgrader": {
     "cell_type": "markdown",
     "checksum": "43050088582a671a7c1c000f385206ee",
     "grade": false,
     "grade_id": "cell-4945b7110b624f47",
     "locked": true,
     "schema_version": 3,
     "solution": false,
     "task": false
    }
   },
   "source": [
    "## Problem 3  (25 points): Regular Expression Pattern Matching and Continuations\n",
    "\n",
    "Consider the problem of pattern matching regular expressions. The grammar for regular expressions are given as\n",
    "\n",
    "$$ \\begin{array}{rcl}\n",
    "\\mathbf{RegExpr} & \\rightarrow & \\text{Atom}(String) \\\\\n",
    "& | & \\text{Or}(\\mathbf{RegExpr}, \\mathbf{RegExpr}) \\\\\n",
    "& | &  \\text{Concat} (\\mathbf{RegExpr}, \\mathbf{RegExpr}) \\\\\n",
    "& | & \\text{KleeneStar}( \\mathbf{RegExpr} ) \\\\\n",
    "& | & \\text{And} (\\mathbf{RegExpr}, \\mathbf{RegExpr}) \\\\\n",
    "\\end{array}$$\n",
    "\n",
    "\n",
    "Given a string, $s$ and regular expression $r$, we wish to define a function $\\mathbf{Matches}(r, s)$ which returns a tuple $(v_1, j)$\n",
    "- Wherein $v_1$ is either $true$ if some _prefix_ of the string $s$ matches the expression $r$ or $false$ otherwise. \n",
    "- If $v_1 = true$, then $j$ denotes the position where the match ends, such that $j \\geq 0$ and $j < \\text{length}(s)$. In other words,  the substring $s(0), \\ldots, s(j)$ matches the regular expression $r$.\n",
    "- If $false$, we will simply set $j = -1$.\n",
    "\n",
    "We will use operational semantics rules to define $\\mathbf{Matches}$. \n",
    "\n",
    "### Atom\n",
    "\n",
    "$$\\newcommand\\semRule[3]{\\begin{array}{c} #1 \\\\ \\hline #2 \\\\ \\end{array} (\\text{#3}) }$$\n",
    "\n",
    "$$\\semRule{ s(0,\\ldots, j) = t }{ \\mathbf{Matches}(\\texttt{Atom(t)}, s) = (true, j)}{atom-match}$$ \n",
    "\n",
    "$$\\semRule{ t\\ \\text{is not a prefix of}\\ s }{ \\mathbf{Matches}(\\texttt{Atom(t)}, s) = (false, -1)}{atom-no-match}$$ \n",
    "\n",
    "### Or\n",
    "\n",
    "$$\\semRule{ \\mathbf{Matches}(\\texttt{r1}, s) = (v_1, j_1),\\ \\mathbf{Matches}(\\texttt{r2}, s) = (v_2, j_2) }{ \\mathbf{Matches}(\\texttt{Or(r1, r2)}, s) = (v_1\\ \\textit{or}\\ v_2, \\max(j_1, j_2))}{or-match}$$ \n",
    "\n",
    "### Concat\n",
    "\n",
    "$$\\semRule{ n = \\textsf{length}(s),\\ \\mathbf{Matches}(\\texttt{r1}, s) = (true, j_1), \\mathbf{Matches}(\\texttt{r2}, s(j_1+1,\\ldots, n)) = (true, j_2) }{ \\mathbf{Matches}(\\texttt{Concat(r1, r2)}, s) = (true, j_1+j_2+1)}{concat-match}$$ \n",
    "\n",
    "$$\\semRule{ \\mathbf{Matches}(\\texttt{r1}, s) = (false, -1)  }{ \\mathbf{Matches}(\\texttt{Concat(r1, r2)}, s) = (false, -1)}{concat-no-match-1}$$ \n",
    "\n",
    "$$\\semRule{ \\mathbf{Matches}(\\texttt{r1}, s) = (true, j_1),\\ \\ \\mathbf{Matches}(\\texttt{r2}, s) = (false, -1) }{ \\mathbf{Matches}(\\texttt{Concat(r1, r2)}, s) = (false, -1)}{concat-no-match-2}$$ \n",
    "\n",
    "### Kleene Star\n",
    "\n",
    "$$\\semRule{ \\mathbf{Matches}(\\texttt{r}, s) = (true, j_1),\\ n = \\text{length}(s),\\ \\mathbf{Matches}(\\texttt{KleeneStar(r)}, s(j+1,\\ldots,n) ) = (true, j_2) }{ \\mathbf{Matches}(\\texttt{KleeneStar(r)}, s) = (true, j_1+j_2+1) }{kleene-star-match}$$ \n",
    "\n",
    "$$\\semRule{ \\mathbf{Matches}(\\texttt{r}, s) = (false, -1) }{ \\mathbf{Matches}(\\texttt{KleeneStar(r)}, s) = (true, -1) }{kleene-star-no-match}$$ \n",
    "\n",
    "The Kleene-star-no-match rule looks very strange on first sight. But really, it is trying to say that any string \n",
    "matches the Kleene star of a regular expression. However, if the inner regular expression does not match, the Kleene star matches trivially with a match of length 0.\n",
    "\n",
    "\n",
    "### A (10 points)\n",
    "Complete the code below for evaluating the semantics above.\n"
   ]
  },
  {
   "cell_type": "code",
   "execution_count": 73,
   "metadata": {
    "deletable": false,
    "nbgrader": {
     "cell_type": "code",
     "checksum": "59868064fc75603b441ef8b9ef368f81",
     "grade": false,
     "grade_id": "cell-901f115e74671c4b",
     "locked": false,
     "schema_version": 3,
     "solution": true,
     "task": false
    }
   },
   "outputs": [
    {
     "data": {
      "text/plain": [
       "defined \u001b[32mtrait\u001b[39m \u001b[36mRegExp\u001b[39m\n",
       "defined \u001b[32mclass\u001b[39m \u001b[36mAtom\u001b[39m\n",
       "defined \u001b[32mclass\u001b[39m \u001b[36mOr\u001b[39m\n",
       "defined \u001b[32mclass\u001b[39m \u001b[36mConcat\u001b[39m\n",
       "defined \u001b[32mclass\u001b[39m \u001b[36mKleeneStar\u001b[39m\n",
       "defined \u001b[32mfunction\u001b[39m \u001b[36misPrefixOf\u001b[39m\n",
       "defined \u001b[32mfunction\u001b[39m \u001b[36mevalRegexp\u001b[39m"
      ]
     },
     "execution_count": 73,
     "metadata": {},
     "output_type": "execute_result"
    }
   ],
   "source": [
    "sealed trait RegExp\n",
    "case class Atom(s: String) extends RegExp\n",
    "case class Or(r1: RegExp, r2: RegExp) extends RegExp\n",
    "case class Concat(r1: RegExp, r2: RegExp) extends RegExp\n",
    "case class KleeneStar(r1: RegExp) extends RegExp\n",
    "\n",
    "def isPrefixOf(t: String, s: String) = {\n",
    "    /* If string t is a prefix of s, then return true,\n",
    "       else return false\n",
    "       */\n",
    "    s.startsWith(t)\n",
    "}\n",
    "\n",
    "def evalRegexp(r: RegExp, s: String ): (Boolean, Int) = r match {\n",
    "    case Atom(t) => {\n",
    "        // YOUR CODE HERE\n",
    "        if(isPrefixOf(t,s))\n",
    "        {\n",
    "            (true,t.length-1)\n",
    "        }\n",
    "        else\n",
    "        {\n",
    "            (false,-1)\n",
    "        }\n",
    "    }\n",
    "    \n",
    "    case Or(r1, r2) => {\n",
    "        val (v1, j1) = evalRegexp(r1, s)\n",
    "        val (v2, j2) = evalRegexp(r2, s)\n",
    "        ((v1||v2), math.max(j1, j2) )\n",
    "    }\n",
    "    \n",
    "    case Concat(r1, r2) => {\n",
    "        // YOUR CODE HERE\n",
    "           val n=s.length\n",
    "           val (v1, j1) = evalRegexp(r1, s)\n",
    "        if (v1) {\n",
    "            val (v2, j2) = evalRegexp(r2, s.substring(j1+1, n))\n",
    "            (true, j1+j2+1)\n",
    "        } else {\n",
    "            (false, -1)\n",
    "            \n",
    "        }\n",
    "    }\n",
    "    \n",
    "    case KleeneStar(rHat) => {\n",
    "        // First match rHat to s\n",
    "        val (v1, j1) = evalRegexp(rHat, s)\n",
    "        if (v1) {\n",
    "            // If match found, recursively match KleeneStar(rHat) to remainder of the string\n",
    "            val (v2, j2) = evalRegexp(KleeneStar(rHat), s.substring(j1+1, s.length))\n",
    "            (true, j1+1+j2)\n",
    "            // Return true and match index\n",
    "        } else {\n",
    "            // Otherwise, match is the empty string\n",
    "            // return true for match succeeding since Kleenestar always succeeds\n",
    "            // return -1 for the ending index of the match to signal an empty string\n",
    "            (true, -1)\n",
    "            \n",
    "        }\n",
    "    }\n",
    "    \n",
    "    \n",
    "}"
   ]
  },
  {
   "cell_type": "code",
   "execution_count": 74,
   "metadata": {
    "deletable": false,
    "editable": false,
    "nbgrader": {
     "cell_type": "code",
     "checksum": "3cb7607317a8ef0aea5a8581d7ab6df4",
     "grade": true,
     "grade_id": "cell-d0ceb6ac43b3fe2c",
     "locked": true,
     "points": 4,
     "schema_version": 3,
     "solution": false,
     "task": false
    }
   },
   "outputs": [
    {
     "name": "stdout",
     "output_type": "stream",
     "text": [
      "\n",
      "*** Tests Passed (4 points) ***\n"
     ]
    }
   ],
   "source": [
    "//BEGIN TEST\n",
    "assert( evalRegexp(Atom(\"hello\"), \"helloworld\") == (true, 4) , \"Test 1 failed\")\n",
    "assert(evalRegexp(Atom(\"hello\"), \"Helloworld\") == (false, -1), \"Test 2 failed\")\n",
    "assert(evalRegexp(Or(Atom(\"hello\"), Atom(\"Hellow\")), \"Helloworld\") == (true, 5), \"Test 3 failed\")\n",
    "passed(4)\n",
    "//END TEST"
   ]
  },
  {
   "cell_type": "code",
   "execution_count": 75,
   "metadata": {
    "deletable": false,
    "editable": false,
    "nbgrader": {
     "cell_type": "code",
     "checksum": "b64d94c0d5aea066b33cc70f7eeb3947",
     "grade": true,
     "grade_id": "cell-1cad2cf8ec7b3ed8",
     "locked": true,
     "points": 3,
     "schema_version": 3,
     "solution": false,
     "task": false
    }
   },
   "outputs": [
    {
     "name": "stdout",
     "output_type": "stream",
     "text": [
      "\n",
      "*** Tests Passed (3 points) ***\n"
     ]
    }
   ],
   "source": [
    "//BEGIN TEST\n",
    "assert(evalRegexp(KleeneStar(Atom(\"H\")), \"Helloworld\") == (true, 0), \"Test 4 failed\")\n",
    "assert(evalRegexp(Concat(Atom(\"hell\"), Atom(\"owor\")), \"helloworld\") == (true, 7), \"Test 5 failed\")\n",
    "passed(3)\n",
    "//END TEST"
   ]
  },
  {
   "cell_type": "code",
   "execution_count": 76,
   "metadata": {
    "deletable": false,
    "editable": false,
    "nbgrader": {
     "cell_type": "code",
     "checksum": "c077f93281cde533929b1caa7736740d",
     "grade": true,
     "grade_id": "cell-2d3bbc9559c9bdc9",
     "locked": true,
     "points": 3,
     "schema_version": 3,
     "solution": false,
     "task": false
    }
   },
   "outputs": [
    {
     "name": "stdout",
     "output_type": "stream",
     "text": [
      "(true,20)\n",
      "\n",
      "*** Tests Passed (3 points) ***\n"
     ]
    },
    {
     "data": {
      "text/plain": [
       "\u001b[36mcodeRes\u001b[39m: (\u001b[32mBoolean\u001b[39m, \u001b[32mInt\u001b[39m) = (true, \u001b[32m20\u001b[39m)"
      ]
     },
     "execution_count": 76,
     "metadata": {},
     "output_type": "execute_result"
    }
   ],
   "source": [
    "//BEGIN TEST\n",
    "val codeRes = evalRegexp(Concat( Or( Atom(\"what\"), Or(Atom(\"why\"), Atom(\"when\") )), KleeneStar(Or(Atom(\"what\"), Atom(\"why\") ))), \"whywhywhatwhatwhatwhywhenwhere\") \n",
    "println(codeRes)\n",
    "assert(codeRes == (true, 20), \"Test 6 failed \")\n",
    "passed(3)\n",
    "//END TEST"
   ]
  },
  {
   "cell_type": "markdown",
   "metadata": {
    "deletable": false,
    "editable": false,
    "nbgrader": {
     "cell_type": "markdown",
     "checksum": "de5d02d1730a623505e84743070359fc",
     "grade": false,
     "grade_id": "cell-085420b90e1e6eb2",
     "locked": true,
     "schema_version": 3,
     "solution": false,
     "task": false
    }
   },
   "source": [
    "### B (15 points)\n",
    "\n",
    "Reimplement the interpreter in the CPS so that all recursion happens at the tail position."
   ]
  },
  {
   "cell_type": "code",
   "execution_count": 77,
   "metadata": {
    "deletable": false,
    "nbgrader": {
     "cell_type": "code",
     "checksum": "75dce4d146a66b08f634e273e6ea76dc",
     "grade": false,
     "grade_id": "cell-e898883beaef582d",
     "locked": false,
     "schema_version": 3,
     "solution": true,
     "task": false
    }
   },
   "outputs": [
    {
     "data": {
      "text/plain": [
       "defined \u001b[32mfunction\u001b[39m \u001b[36misPrefixOf_k\u001b[39m\n",
       "defined \u001b[32mfunction\u001b[39m \u001b[36mevalRegexp_k\u001b[39m"
      ]
     },
     "execution_count": 77,
     "metadata": {},
     "output_type": "execute_result"
    }
   ],
   "source": [
    "def isPrefixOf_k[T](t: String, s: String, k: Boolean => T): T = {\n",
    "    /* If string t is a prefix of s, then return true,\n",
    "       else return false\n",
    "       */\n",
    "    // YOUR CODE HERE\n",
    "     k(s.startsWith(t))\n",
    "}\n",
    "\n",
    "\n",
    "def evalRegexp_k[T](r: RegExp, s: String, k: (Boolean, Int) => T ): T = r match {\n",
    "    case Atom(t) => {\n",
    "        isPrefixOf_k(t, s, v => {\n",
    "            // YOUR CODE HERE\n",
    "           if(isPrefixOf(t,s)) {k(true,t.length-1)}\n",
    "        else {k(false,-1)}\n",
    "\n",
    "        }) \n",
    "    }\n",
    "    \n",
    "    case Or(r1, r2) => {\n",
    "        // YOUR CODE HERE\n",
    "        val (v1, j1) = evalRegexp(r1, s)\n",
    "        val (v2, j2) = evalRegexp(r2, s)\n",
    "        k((v1||v2), math.max(j1, j2) )\n",
    "    }\n",
    "    \n",
    "    case Concat(r1, r2) => {\n",
    "        // YOUR CODE HERE\n",
    "         val n=s.length\n",
    "           val (v1, j1) = evalRegexp(r1, s)\n",
    "        if (v1) {\n",
    "            val (v2, j2) = evalRegexp(r2, s.substring(j1+1, n))\n",
    "            k(true, j1+j2+1)\n",
    "        } else {\n",
    "            k(false, -1)\n",
    "            \n",
    "        }\n",
    "    }\n",
    "    \n",
    "    case KleeneStar(rHat) => {\n",
    "        evalRegexp_k(rHat, s, (v1: Boolean, j1: Int) => {\n",
    "                // YOUR CODE HERE\n",
    "                  val (v1, j1) = evalRegexp(rHat, s)\n",
    "        if (v1) {\n",
    "            val (v2, j2) = evalRegexp(KleeneStar(rHat), s.substring(j1+1, s.length))\n",
    "            k(true, j1+1+j2)\n",
    "        } else {\n",
    "            k(true, -1)\n",
    "            \n",
    "        }\n",
    "        })\n",
    "        \n",
    "    }\n",
    "    \n",
    "    \n",
    "}"
   ]
  },
  {
   "cell_type": "code",
   "execution_count": 78,
   "metadata": {
    "deletable": false,
    "editable": false,
    "nbgrader": {
     "cell_type": "code",
     "checksum": "911caea23085527eb2420d1fb97dd6ca",
     "grade": true,
     "grade_id": "cell-daa53316f7eab40c",
     "locked": true,
     "points": 5,
     "schema_version": 3,
     "solution": false,
     "task": false
    }
   },
   "outputs": [
    {
     "name": "stdout",
     "output_type": "stream",
     "text": [
      "\n",
      "*** Tests Passed (5 points) ***\n"
     ]
    }
   ],
   "source": [
    "//BEGIN TEST\n",
    "assert( evalRegexp_k[Int](Atom(\"hello\"), \"helloworld\", (x: Boolean, y: Int) => {y} ) == 4, \"Test 1 failed\")\n",
    "assert( evalRegexp_k[Boolean](Atom(\"hello\"), \"Helloworld\", (x: Boolean, y: Int) => {x} ) == false, \"Test 2 failed\")\n",
    "passed(5)\n",
    "//END TEST"
   ]
  },
  {
   "cell_type": "code",
   "execution_count": 79,
   "metadata": {
    "deletable": false,
    "editable": false,
    "nbgrader": {
     "cell_type": "code",
     "checksum": "b4b947032a53a0ee93202aae7adb1c04",
     "grade": true,
     "grade_id": "cell-007822b694265eb3",
     "locked": true,
     "points": 5,
     "schema_version": 3,
     "solution": false,
     "task": false
    }
   },
   "outputs": [
    {
     "name": "stdout",
     "output_type": "stream",
     "text": [
      "\n",
      "*** Tests Passed (5 points) ***\n"
     ]
    }
   ],
   "source": [
    "//BEGIN TEST\n",
    "assert( evalRegexp_k[String](Or(Atom(\"hello\"), Atom(\"Hellow\")), \"Helloworld\", (x: Boolean, y: Int) => {y.toString} ) == \"5\", \"Test 2 failed\")\n",
    "passed(5)\n",
    "//END TEST"
   ]
  },
  {
   "cell_type": "code",
   "execution_count": 80,
   "metadata": {
    "deletable": false,
    "editable": false,
    "nbgrader": {
     "cell_type": "code",
     "checksum": "043a97a365a80a0f65580ea3b2bb2a56",
     "grade": true,
     "grade_id": "cell-d267b02fa34d941b",
     "locked": true,
     "points": 5,
     "schema_version": 3,
     "solution": false,
     "task": false
    }
   },
   "outputs": [
    {
     "name": "stdout",
     "output_type": "stream",
     "text": [
      "\n",
      "*** Tests Passed (5 points) ***\n"
     ]
    }
   ],
   "source": [
    "//BEGIN TEST\n",
    "assert(evalRegexp_k(KleeneStar(Atom(\"H\")), \"HHHHHelloworld\", (x: Boolean, y: Int) => (x,y)) == (true, 4), \"Test 4 failed\")\n",
    "assert(evalRegexp_k(Concat(Atom(\"hell\"), Atom(\"owor\")), \"helloworld\", (x: Boolean, y: Int) => (y)) == 7, \"Test 5 failed\")\n",
    "assert(evalRegexp_k(Concat( Or( Atom(\"what\"), Or(Atom(\"why\"), Atom(\"when\") )), KleeneStar(Or(Atom(\"what\"), Atom(\"why\") ))), \"whywhywhatwhatwhatwhywhenwhere\", (x: Boolean, y:Int) => (x, y)) == (true, 20), \"Test 6 failed\")\n",
    "passed(5)\n",
    "//END TEST"
   ]
  },
  {
   "cell_type": "markdown",
   "metadata": {
    "deletable": false,
    "editable": false,
    "nbgrader": {
     "cell_type": "markdown",
     "checksum": "4151f63a5a892d69b0430d2a69b8bd8d",
     "grade": false,
     "grade_id": "cell-88735f88e2d20cb6",
     "locked": true,
     "schema_version": 3,
     "solution": false,
     "task": false
    }
   },
   "source": [
    "## That's All Folks"
   ]
  },
  {
   "cell_type": "code",
   "execution_count": null,
   "metadata": {},
   "outputs": [],
   "source": []
  }
 ],
 "metadata": {
  "kernelspec": {
   "display_name": "Scala",
   "language": "scala",
   "name": "scala"
  },
  "language_info": {
   "codemirror_mode": "text/x-scala",
   "file_extension": ".sc",
   "mimetype": "text/x-scala",
   "name": "scala",
   "nbconvert_exporter": "script",
   "version": "2.13.3"
  }
 },
 "nbformat": 4,
 "nbformat_minor": 5
}
