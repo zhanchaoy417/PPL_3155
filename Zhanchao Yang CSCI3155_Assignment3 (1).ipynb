{
 "cells": [
  {
   "cell_type": "markdown",
   "metadata": {},
   "source": [
    "Before you turn this problem in, make sure everything runs as expected. \n",
    "  1. First, **restart the kernel** (in the menubar, select Kernel$\\rightarrow$Restart) and \n",
    "  2. Then **run all cells** (in the menubar, select Cell$\\rightarrow$Run All).\n",
    "\n",
    "Make sure you fill in any place that says `YOUR CODE HERE` or \"YOUR ANSWER HERE\", as well as your name below. "
   ]
  },
  {
   "cell_type": "markdown",
   "metadata": {},
   "source": [
    "---"
   ]
  },
  {
   "cell_type": "markdown",
   "metadata": {
    "deletable": false,
    "editable": false,
    "nbgrader": {
     "cell_type": "markdown",
     "checksum": "f67fff858a73d6cd9520e1ea188ab10e",
     "grade": false,
     "grade_id": "cell-224ca5a0097f63b5",
     "locked": true,
     "schema_version": 3,
     "solution": false
    }
   },
   "source": [
    "# CSCI 3155: Assignment 3 \n",
    "\n",
    "Topics covered:Abstract Syntax of Programming Languages, and Operations on Inductive Definitions Using Pattern Matching.\n",
    "\n",
    "Read quickly about the use of \"Option\" types for Problem 3A --  https://www.geeksforgeeks.org/scala-option/\n"
   ]
  },
  {
   "cell_type": "code",
   "execution_count": 1,
   "metadata": {
    "deletable": false,
    "editable": false,
    "nbgrader": {
     "cell_type": "code",
     "checksum": "7f1326e22a77065e280ecdfc467fd178",
     "grade": false,
     "grade_id": "cell-7e3b987db2733a1c",
     "locked": true,
     "schema_version": 3,
     "solution": false
    }
   },
   "outputs": [
    {
     "data": {
      "text/plain": [
       "defined \u001b[32mfunction\u001b[39m \u001b[36mpassed\u001b[39m"
      ]
     },
     "execution_count": 1,
     "metadata": {},
     "output_type": "execute_result"
    }
   ],
   "source": [
    "// TEST HELPER\n",
    "def passed(points: Int) {\n",
    "    require(points >=0)\n",
    "    if (points == 1) print(s\"\\n*** Tests Passed (1 point) ***\\n\")\n",
    "    else print(s\"\\n*** Tests Passed ($points points) ***\\n\")\n",
    "}"
   ]
  },
  {
   "cell_type": "markdown",
   "metadata": {
    "deletable": false,
    "editable": false,
    "nbgrader": {
     "cell_type": "markdown",
     "checksum": "f9239084bcbef2a4840314444d518cc6",
     "grade": false,
     "grade_id": "cell-a3d45980c5a3961a",
     "locked": true,
     "schema_version": 3,
     "solution": false
    }
   },
   "source": [
    "## Problem 1 (15 points)\n",
    "\n",
    "Develop a multi-switch statement for the `mython` (var) language developed in class. A multi-switch statement is a generalization of the popular switch statement to multiple expressions, i.e., instead of case-matching on one expression, we case-match on multiple expressions. The concrete syntax would look like this:\n",
    "\n",
    "#### Example (Concrete Syntax)\n",
    "\n",
    "~~~\n",
    "switch (x, y, x-2*y, z) {\n",
    "    case (1, 2.5, z, w) => { y = y + 10; z = y; }\n",
    "    case (0, -1.5, 2.3, w-z+ 2*x) => { y = y - 10; z = 10}\n",
    "    default => { z = 0 }\n",
    "}\n",
    "~~~\n",
    "\n",
    "In this example, you are doing a multiway comparison on four expressions. The precise semantics of how such a statement would work are not relevant at this stage of the course. We ask you to help extend the _abstract syntax tree_ of Mython with these features.\n",
    "\n",
    "Note that a valid multi-switch statement must enforce that if we are switching on k expressions at the same time, each case must provide k values to compare. We assume that this is taken care of by a check implemented by the parser. Ignore this consideration for the rest of the problem.\n",
    "\n",
    "\n",
    "#### Grammar Specification for Multi-Switch\n",
    "\n",
    "The syntax for the proposed multi-switch statement is given in terms of additional rules shown below that add to the existing definitions for the Mython language in the class notes on Inductive Definition (posted week 2).\n",
    "\n",
    "$$\\begin{array}{rcl}\n",
    "\\mathbf{Statement} & \\rightarrow & \\text{Switch}(\\mathbf{Expr}*,  \\mathbf{Case}* ) \\\\[5pt]\n",
    "\\mathbf{Case} & \\rightarrow & \\text{SwitchCase}(\\mathbf{Expr}*, \\mathbf{Statement}* ) \\\\[5pt]\n",
    "& | & \\text{DefaultCase}(\\mathbf{Statement}*) \\\\\n",
    "\\end{array}$$\n",
    "\n",
    "Note:\n",
    "  - The  $*$ after a expression denotes \"Kleene star\" which is one or more instances of. \n",
    "  - As discussed in class and notes, we will use scala Lists to implement this.\n",
    "  - The non-terminal __Case__ is being addded to the Mython grammar.\n",
    "  - The non-terminal __Statement__ already exists and we are adding a new rule that makes _switch_ statements a new statement type.\n",
    "\n",
    "The existing scala language definitions for `mython` are recalled for below from the class notes.\n",
    "\n",
    "\n",
    "Augment the definitions by adding the extra definitions to support switch statements. Please use\n",
    "the same constructor names as in the grammar: `Switch` for the switch statement and \n",
    "`SwitchCase` and `DefaultCase` for the two rules corresponding to the __Case__ specifications.\n",
    "\n",
    "For your convenience, the definitions used in the class are given. Add your solution at the end.\n"
   ]
  },
  {
   "cell_type": "code",
   "execution_count": 6,
   "metadata": {
    "deletable": false,
    "nbgrader": {
     "cell_type": "code",
     "checksum": "c9d932e156658ce3d9a02618bc0adabd",
     "grade": false,
     "grade_id": "cell-a3a78387d2a93841",
     "locked": false,
     "schema_version": 3,
     "solution": true
    }
   },
   "outputs": [
    {
     "data": {
      "text/plain": [
       "defined \u001b[32mtrait\u001b[39m \u001b[36mExpr\u001b[39m\n",
       "defined \u001b[32mclass\u001b[39m \u001b[36mConst\u001b[39m\n",
       "defined \u001b[32mclass\u001b[39m \u001b[36mIdent\u001b[39m\n",
       "defined \u001b[32mclass\u001b[39m \u001b[36mPlus\u001b[39m\n",
       "defined \u001b[32mclass\u001b[39m \u001b[36mMinus\u001b[39m\n",
       "defined \u001b[32mclass\u001b[39m \u001b[36mMult\u001b[39m\n",
       "defined \u001b[32mclass\u001b[39m \u001b[36mDiv\u001b[39m\n",
       "defined \u001b[32mclass\u001b[39m \u001b[36mNegate\u001b[39m\n",
       "defined \u001b[32mclass\u001b[39m \u001b[36mLog\u001b[39m\n",
       "defined \u001b[32mclass\u001b[39m \u001b[36mExp\u001b[39m\n",
       "defined \u001b[32mclass\u001b[39m \u001b[36mSine\u001b[39m\n",
       "defined \u001b[32mclass\u001b[39m \u001b[36mCosine\u001b[39m\n",
       "defined \u001b[32mtrait\u001b[39m \u001b[36mCondExpr\u001b[39m\n",
       "defined \u001b[32mobject\u001b[39m \u001b[36mConstTrue\u001b[39m\n",
       "defined \u001b[32mobject\u001b[39m \u001b[36mConstFalse\u001b[39m\n",
       "defined \u001b[32mclass\u001b[39m \u001b[36mGeq\u001b[39m\n",
       "defined \u001b[32mclass\u001b[39m \u001b[36mLeq\u001b[39m\n",
       "defined \u001b[32mclass\u001b[39m \u001b[36mEq\u001b[39m\n",
       "defined \u001b[32mclass\u001b[39m \u001b[36mAnd\u001b[39m\n",
       "defined \u001b[32mclass\u001b[39m \u001b[36mOr\u001b[39m\n",
       "defined \u001b[32mclass\u001b[39m \u001b[36mNot\u001b[39m\n",
       "defined \u001b[32mtrait\u001b[39m \u001b[36mDeclaration\u001b[39m\n",
       "defined \u001b[32mtrait\u001b[39m \u001b[36mStatement\u001b[39m\n",
       "defined \u001b[32mtrait\u001b[39m \u001b[36mMythonProgram\u001b[39m\n",
       "defined \u001b[32mclass\u001b[39m \u001b[36mProgram\u001b[39m\n",
       "defined \u001b[32mclass\u001b[39m \u001b[36mVarDecl\u001b[39m\n",
       "defined \u001b[32mclass\u001b[39m \u001b[36mAssignStmt\u001b[39m\n",
       "defined \u001b[32mclass\u001b[39m \u001b[36mWhileStmt\u001b[39m\n",
       "defined \u001b[32mclass\u001b[39m \u001b[36mIfThenElseStmt\u001b[39m\n",
       "defined \u001b[32mclass\u001b[39m \u001b[36mReturnStmt\u001b[39m\n",
       "defined \u001b[32mtrait\u001b[39m \u001b[36mCase\u001b[39m\n",
       "defined \u001b[32mclass\u001b[39m \u001b[36mSwitchCase\u001b[39m\n",
       "defined \u001b[32mclass\u001b[39m \u001b[36mDefaultCase\u001b[39m\n",
       "defined \u001b[32mclass\u001b[39m \u001b[36mSwitch\u001b[39m"
      ]
     },
     "execution_count": 6,
     "metadata": {},
     "output_type": "execute_result"
    }
   ],
   "source": [
    "/*-- Arithmetic Expressions --*/\n",
    "sealed trait Expr\n",
    "case class Const(d: Double) extends Expr \n",
    "case class Ident(s: String) extends Expr\n",
    "case class Plus(e1: Expr, e2: Expr ) extends Expr\n",
    "case class Minus(e1: Expr, e2: Expr) extends Expr\n",
    "case class Mult(e1: Expr, e2: Expr) extends Expr\n",
    "case class Div(e1: Expr, e2: Expr) extends Expr\n",
    "case class Negate(e: Expr) extends Expr\n",
    "case class Log(e: Expr) extends Expr\n",
    "case class Exp(e: Expr) extends Expr\n",
    "case class Sine(e: Expr) extends Expr\n",
    "case class Cosine(e: Expr) extends Expr\n",
    "\n",
    "/*-- Conditional Expressions --*/\n",
    "sealed trait CondExpr\n",
    "case object ConstTrue extends CondExpr\n",
    "case object ConstFalse extends CondExpr\n",
    "case class Geq(e1: Expr, e2: Expr) extends CondExpr\n",
    "case class Leq(e1: Expr, e2: Expr) extends CondExpr\n",
    "case class Eq(e1: Expr, e2: Expr) extends CondExpr\n",
    "case class And(c1: CondExpr, c2: CondExpr) extends CondExpr\n",
    "case class Or(c1: CondExpr, c2: CondExpr) extends CondExpr\n",
    "case class Not(c: CondExpr) extends CondExpr\n",
    "\n",
    "/*-- Declarations, Statements and such.. --*/\n",
    "sealed trait Declaration\n",
    "sealed trait Statement\n",
    "sealed trait MythonProgram\n",
    "\n",
    "case class Program(decls: List[Declaration], stmts: List[Statement], returnAtEnd: Expr) extends MythonProgram // We stripped the ReturnStmt tag since it is redundant\n",
    "case class VarDecl(identifier: String, rhsExpr: Expr) extends Declaration\n",
    "case class AssignStmt(identifier: String, rhsExpr: Expr) extends Statement\n",
    "case class WhileStmt(cond: CondExpr, stmts: List[Statement]) extends Statement\n",
    "case class IfThenElseStmt(cond: CondExpr, stmtsThen: List[Statement], stmtsElse: List[Statement]) extends Statement\n",
    "case class ReturnStmt(retExpr: Expr) extends Statement\n",
    "\n",
    "/*-- Write down the definitions of switch cases here --*/\n",
    "// YOUR CODE HERE\n",
    "\n",
    "sealed trait Case\n",
    "case class SwitchCase(e:List[Expr],stmts:List[Statement]) extends Case\n",
    "case class DefaultCase(stmts:List[Statement]) extends Case\n",
    "case class Switch(e:List[Expr],c:List[Case]) extends Statement"
   ]
  },
  {
   "cell_type": "code",
   "execution_count": 3,
   "metadata": {
    "deletable": false,
    "editable": false,
    "jupyter": {
     "outputs_hidden": true
    },
    "nbgrader": {
     "cell_type": "code",
     "checksum": "11290feb499558dbeeb52d450088f0be",
     "grade": true,
     "grade_id": "cell-b4433298fac96b06",
     "locked": true,
     "points": 5,
     "schema_version": 3,
     "solution": false
    }
   },
   "outputs": [
    {
     "name": "stdout",
     "output_type": "stream",
     "text": [
      "\n",
      "*** Tests Passed (5 points) ***\n"
     ]
    },
    {
     "data": {
      "text/plain": [
       "\u001b[36me1\u001b[39m: \u001b[32mPlus\u001b[39m = \u001b[33mPlus\u001b[39m(\n",
       "  \u001b[33mIdent\u001b[39m(\u001b[32m\"y\"\u001b[39m),\n",
       "  \u001b[33mPlus\u001b[39m(\u001b[33mIdent\u001b[39m(\u001b[32m\"z\"\u001b[39m), \u001b[33mExp\u001b[39m(\u001b[33mMinus\u001b[39m(\u001b[33mIdent\u001b[39m(\u001b[32m\"x\"\u001b[39m), \u001b[33mIdent\u001b[39m(\u001b[32m\"y\"\u001b[39m))))\n",
       ")\n",
       "\u001b[36me2\u001b[39m: \u001b[32mDiv\u001b[39m = \u001b[33mDiv\u001b[39m(\u001b[33mPlus\u001b[39m(\u001b[33mIdent\u001b[39m(\u001b[32m\"x\"\u001b[39m), \u001b[33mIdent\u001b[39m(\u001b[32m\"y\"\u001b[39m)), \u001b[33mConst\u001b[39m(\u001b[32m2.0\u001b[39m))\n",
       "\u001b[36mstmt1\u001b[39m: \u001b[32mAssignStmt\u001b[39m = \u001b[33mAssignStmt\u001b[39m(\n",
       "  \u001b[32m\"x\"\u001b[39m,\n",
       "  \u001b[33mPlus\u001b[39m(\u001b[33mIdent\u001b[39m(\u001b[32m\"y\"\u001b[39m), \u001b[33mPlus\u001b[39m(\u001b[33mIdent\u001b[39m(\u001b[32m\"z\"\u001b[39m), \u001b[33mExp\u001b[39m(\u001b[33mMinus\u001b[39m(\u001b[33mIdent\u001b[39m(\u001b[32m\"x\"\u001b[39m), \u001b[33mIdent\u001b[39m(\u001b[32m\"y\"\u001b[39m)))))\n",
       ")\n",
       "\u001b[36mcond1\u001b[39m: \u001b[32mLeq\u001b[39m = \u001b[33mLeq\u001b[39m(\u001b[33mIdent\u001b[39m(\u001b[32m\"y\"\u001b[39m), \u001b[33mConst\u001b[39m(\u001b[32m15.0\u001b[39m))\n",
       "\u001b[36mstmt2\u001b[39m: \u001b[32mAssignStmt\u001b[39m = \u001b[33mAssignStmt\u001b[39m(\u001b[32m\"y\"\u001b[39m, \u001b[33mMinus\u001b[39m(\u001b[33mIdent\u001b[39m(\u001b[32m\"y\"\u001b[39m), \u001b[33mIdent\u001b[39m(\u001b[32m\"x\"\u001b[39m)))\n",
       "\u001b[36mcond2\u001b[39m: \u001b[32mLeq\u001b[39m = \u001b[33mLeq\u001b[39m(\u001b[33mIdent\u001b[39m(\u001b[32m\"x\"\u001b[39m), \u001b[33mConst\u001b[39m(\u001b[32m0.0\u001b[39m))\n",
       "\u001b[36mstmt3\u001b[39m: \u001b[32mAssignStmt\u001b[39m = \u001b[33mAssignStmt\u001b[39m(\u001b[32m\"x\"\u001b[39m, \u001b[33mMinus\u001b[39m(\u001b[33mConst\u001b[39m(\u001b[32m0.0\u001b[39m), \u001b[33mIdent\u001b[39m(\u001b[32m\"x\"\u001b[39m)))\n",
       "\u001b[36mifStmt\u001b[39m: \u001b[32mIfThenElseStmt\u001b[39m = \u001b[33mIfThenElseStmt\u001b[39m(\n",
       "  \u001b[33mLeq\u001b[39m(\u001b[33mIdent\u001b[39m(\u001b[32m\"x\"\u001b[39m), \u001b[33mConst\u001b[39m(\u001b[32m0.0\u001b[39m)),\n",
       "  \u001b[33mList\u001b[39m(\u001b[33mAssignStmt\u001b[39m(\u001b[32m\"x\"\u001b[39m, \u001b[33mMinus\u001b[39m(\u001b[33mConst\u001b[39m(\u001b[32m0.0\u001b[39m), \u001b[33mIdent\u001b[39m(\u001b[32m\"x\"\u001b[39m)))),\n",
       "  \u001b[33mList\u001b[39m()\n",
       ")\n",
       "\u001b[36mwhileStmt\u001b[39m: \u001b[32mWhileStmt\u001b[39m = \u001b[33mWhileStmt\u001b[39m(\n",
       "  \u001b[33mLeq\u001b[39m(\u001b[33mIdent\u001b[39m(\u001b[32m\"y\"\u001b[39m), \u001b[33mConst\u001b[39m(\u001b[32m15.0\u001b[39m)),\n",
       "  \u001b[33mList\u001b[39m(\n",
       "    \u001b[33mAssignStmt\u001b[39m(\u001b[32m\"y\"\u001b[39m, \u001b[33mMinus\u001b[39m(\u001b[33mIdent\u001b[39m(\u001b[32m\"y\"\u001b[39m), \u001b[33mIdent\u001b[39m(\u001b[32m\"x\"\u001b[39m))),\n",
       "    \u001b[33mIfThenElseStmt\u001b[39m(\n",
       "      \u001b[33mLeq\u001b[39m(\u001b[33mIdent\u001b[39m(\u001b[32m\"x\"\u001b[39m), \u001b[33mConst\u001b[39m(\u001b[32m0.0\u001b[39m)),\n",
       "      \u001b[33mList\u001b[39m(\u001b[33mAssignStmt\u001b[39m(\u001b[32m\"x\"\u001b[39m, \u001b[33mMinus\u001b[39m(\u001b[33mConst\u001b[39m(\u001b[32m0.0\u001b[39m), \u001b[33mIdent\u001b[39m(\u001b[32m\"x\"\u001b[39m)))),\n",
       "      \u001b[33mList\u001b[39m()\n",
       "    )\n",
       "  )\n",
       ")\n",
       "\u001b[36mallstmts\u001b[39m: \u001b[32mList\u001b[39m[\u001b[32mProduct\u001b[39m with \u001b[32mStatement\u001b[39m with \u001b[32mSerializable\u001b[39m] = \u001b[33mList\u001b[39m(\n",
       "  \u001b[33mAssignStmt\u001b[39m(\n",
       "    \u001b[32m\"x\"\u001b[39m,\n",
       "    \u001b[33mPlus\u001b[39m(\u001b[33mIdent\u001b[39m(\u001b[32m\"y\"\u001b[39m), \u001b[33mPlus\u001b[39m(\u001b[33mIdent\u001b[39m(\u001b[32m\"z\"\u001b[39m), \u001b[33mExp\u001b[39m(\u001b[33mMinus\u001b[39m(\u001b[33mIdent\u001b[39m(\u001b[32m\"x\"\u001b[39m), \u001b[33mIdent\u001b[39m(\u001b[32m\"y\"\u001b[39m)))))\n",
       "  ),\n",
       "  \u001b[33mWhileStmt\u001b[39m(\n",
       "    \u001b[33mLeq\u001b[39m(\u001b[33mIdent\u001b[39m(\u001b[32m\"y\"\u001b[39m), \u001b[33mConst\u001b[39m(\u001b[32m15.0\u001b[39m)),\n",
       "    \u001b[33mList\u001b[39m(\n",
       "      \u001b[33mAssignStmt\u001b[39m(\u001b[32m\"y\"\u001b[39m, \u001b[33mMinus\u001b[39m(\u001b[33mIdent\u001b[39m(\u001b[32m\"y\"\u001b[39m), \u001b[33mIdent\u001b[39m(\u001b[32m\"x\"\u001b[39m))),\n",
       "      \u001b[33mIfThenElseStmt\u001b[39m(\n",
       "        \u001b[33mLeq\u001b[39m(\u001b[33mIdent\u001b[39m(\u001b[32m\"x\"\u001b[39m), \u001b[33mConst\u001b[39m(\u001b[32m0.0\u001b[39m)),\n",
       "        \u001b[33mList\u001b[39m(\u001b[33mAssignStmt\u001b[39m(\u001b[32m\"x\"\u001b[39m, \u001b[33mMinus\u001b[39m(\u001b[33mConst\u001b[39m(\u001b[32m0.0\u001b[39m), \u001b[33mIdent\u001b[39m(\u001b[32m\"x\"\u001b[39m)))),\n",
       "        \u001b[33mList\u001b[39m()\n",
       "      )\n",
       "    )\n",
       "  )\n",
       ")\n",
       "\u001b[36mretExpr\u001b[39m: \u001b[32mMinus\u001b[39m = \u001b[33mMinus\u001b[39m(\u001b[33mIdent\u001b[39m(\u001b[32m\"y\"\u001b[39m), \u001b[33mIdent\u001b[39m(\u001b[32m\"x\"\u001b[39m))\n",
       "\u001b[36mc1\u001b[39m: \u001b[32mSwitchCase\u001b[39m = \u001b[33mSwitchCase\u001b[39m(\n",
       "  \u001b[33mList\u001b[39m(\u001b[33mConst\u001b[39m(\u001b[32m2.0\u001b[39m), \u001b[33mConst\u001b[39m(\u001b[32m3.0\u001b[39m)),\n",
       "  \u001b[33mList\u001b[39m(\n",
       "    \u001b[33mAssignStmt\u001b[39m(\n",
       "      \u001b[32m\"x\"\u001b[39m,\n",
       "      \u001b[33mPlus\u001b[39m(\u001b[33mIdent\u001b[39m(\u001b[32m\"y\"\u001b[39m), \u001b[33mPlus\u001b[39m(\u001b[33mIdent\u001b[39m(\u001b[32m\"z\"\u001b[39m), \u001b[33mExp\u001b[39m(\u001b[33mMinus\u001b[39m(\u001b[33mIdent\u001b[39m(\u001b[32m\"x\"\u001b[39m), \u001b[33mIdent\u001b[39m(\u001b[32m\"y\"\u001b[39m)))))\n",
       "    ),\n",
       "    \u001b[33mAssignStmt\u001b[39m(\u001b[32m\"x\"\u001b[39m, \u001b[33mMinus\u001b[39m(\u001b[33mConst\u001b[39m(\u001b[32m0.0\u001b[39m), \u001b[33mIdent\u001b[39m(\u001b[32m\"x\"\u001b[39m)))\n",
       "  )\n",
       ")\n",
       "\u001b[36mc3\u001b[39m: \u001b[32mSwitchCase\u001b[39m = \u001b[33mSwitchCase\u001b[39m(\n",
       "  \u001b[33mList\u001b[39m(\u001b[33mIdent\u001b[39m(\u001b[32m\"y\"\u001b[39m), \u001b[33mIdent\u001b[39m(\u001b[32m\"z\"\u001b[39m)),\n",
       "  \u001b[33mList\u001b[39m(\n",
       "    \u001b[33mAssignStmt\u001b[39m(\n",
       "      \u001b[32m\"x\"\u001b[39m,\n",
       "      \u001b[33mPlus\u001b[39m(\u001b[33mIdent\u001b[39m(\u001b[32m\"y\"\u001b[39m), \u001b[33mPlus\u001b[39m(\u001b[33mIdent\u001b[39m(\u001b[32m\"z\"\u001b[39m), \u001b[33mExp\u001b[39m(\u001b[33mMinus\u001b[39m(\u001b[33mIdent\u001b[39m(\u001b[32m\"x\"\u001b[39m), \u001b[33mIdent\u001b[39m(\u001b[32m\"y\"\u001b[39m)))))\n",
       "    ),\n",
       "    \u001b[33mAssignStmt\u001b[39m(\u001b[32m\"y\"\u001b[39m, \u001b[33mMinus\u001b[39m(\u001b[33mIdent\u001b[39m(\u001b[32m\"y\"\u001b[39m), \u001b[33mIdent\u001b[39m(\u001b[32m\"x\"\u001b[39m))),\n",
       "    \u001b[33mWhileStmt\u001b[39m(\n",
       "      \u001b[33mLeq\u001b[39m(\u001b[33mIdent\u001b[39m(\u001b[32m\"y\"\u001b[39m), \u001b[33mConst\u001b[39m(\u001b[32m15.0\u001b[39m)),\n",
       "      \u001b[33mList\u001b[39m(\n",
       "        \u001b[33mAssignStmt\u001b[39m(\u001b[32m\"y\"\u001b[39m, \u001b[33mMinus\u001b[39m(\u001b[33mIdent\u001b[39m(\u001b[32m\"y\"\u001b[39m), \u001b[33mIdent\u001b[39m(\u001b[32m\"x\"\u001b[39m))),\n",
       "        \u001b[33mIfThenElseStmt\u001b[39m(\n",
       "          \u001b[33mLeq\u001b[39m(\u001b[33mIdent\u001b[39m(\u001b[32m\"x\"\u001b[39m), \u001b[33mConst\u001b[39m(\u001b[32m0.0\u001b[39m)),\n",
       "          \u001b[33mList\u001b[39m(\u001b[33mAssignStmt\u001b[39m(\u001b[32m\"x\"\u001b[39m, \u001b[33mMinus\u001b[39m(\u001b[33mConst\u001b[39m(\u001b[32m0.0\u001b[39m), \u001b[33mIdent\u001b[39m(\u001b[32m\"x\"\u001b[39m)))),\n",
       "          \u001b[33mList\u001b[39m()\n",
       "        )\n",
       "      )\n",
       "    )\n",
       "  )\n",
       ")"
      ]
     },
     "execution_count": 3,
     "metadata": {},
     "output_type": "execute_result"
    }
   ],
   "source": [
    "//BEGIN TEST\n",
    "val e1 = Plus(Ident(\"y\"), Plus( Ident(\"z\"), Exp( Minus(Ident(\"x\"), Ident(\"y\")) ) )) // y + z + exp(x - y)\n",
    "val e2 = Div(Plus(Ident(\"x\"), Ident(\"y\")), Const(2)) // (x + y)/2 \n",
    "val stmt1 = AssignStmt(\"x\", e1) // x = y + z + exp(x - y)\n",
    "// Let us make up the parts of the while statement\n",
    "val cond1 = Leq(Ident(\"y\"), Const(15.0f)) // y <= 15\n",
    "// The assignment inside the while\n",
    "val stmt2 = AssignStmt(\"y\", Minus(Ident(\"y\"), Ident(\"x\"))) // y = y - x\n",
    "// The condition for the if statement\n",
    "val cond2 = Leq(Ident(\"x\"), Const(0.0f)) // x <= 0.0\n",
    "val stmt3 = AssignStmt(\"x\", Minus(Const(0.0f), Ident(\"x\"))) // x= 0 - x\n",
    "val ifStmt = IfThenElseStmt(cond2, List(stmt3), List()) // if ( x <= 0) x = -x else nothing\n",
    "val whileStmt = WhileStmt(cond1, List(stmt2, ifStmt)) // while loop \n",
    "val allstmts = List(stmt1, whileStmt)\n",
    "val retExpr = Minus(Ident(\"y\"), Ident(\"x\")) // y - x to be returned\n",
    "\n",
    "// If this goes through without an error, you passed the tests\n",
    "val c1 = SwitchCase(List(Const(2.0), Const(3.0)), List(stmt1, stmt3))\n",
    "val c3 = SwitchCase(List(Ident(\"y\"), Ident(\"z\")), List(stmt1, stmt2, whileStmt))\n",
    "\n",
    "passed(5)\n",
    "//END TEST"
   ]
  },
  {
   "cell_type": "code",
   "execution_count": 4,
   "metadata": {
    "deletable": false,
    "editable": false,
    "jupyter": {
     "outputs_hidden": true
    },
    "nbgrader": {
     "cell_type": "code",
     "checksum": "06cfc605ee29edabda62d24f757230f2",
     "grade": true,
     "grade_id": "cell-590403a05cbd399c",
     "locked": true,
     "points": 5,
     "schema_version": 3,
     "solution": false
    }
   },
   "outputs": [
    {
     "name": "stdout",
     "output_type": "stream",
     "text": [
      "\n",
      "*** Tests Passed (5 points) ***\n"
     ]
    },
    {
     "data": {
      "text/plain": [
       "\u001b[36me1\u001b[39m: \u001b[32mPlus\u001b[39m = \u001b[33mPlus\u001b[39m(\n",
       "  \u001b[33mIdent\u001b[39m(\u001b[32m\"y\"\u001b[39m),\n",
       "  \u001b[33mPlus\u001b[39m(\u001b[33mIdent\u001b[39m(\u001b[32m\"z\"\u001b[39m), \u001b[33mExp\u001b[39m(\u001b[33mMinus\u001b[39m(\u001b[33mIdent\u001b[39m(\u001b[32m\"x\"\u001b[39m), \u001b[33mIdent\u001b[39m(\u001b[32m\"y\"\u001b[39m))))\n",
       ")\n",
       "\u001b[36me2\u001b[39m: \u001b[32mDiv\u001b[39m = \u001b[33mDiv\u001b[39m(\u001b[33mPlus\u001b[39m(\u001b[33mIdent\u001b[39m(\u001b[32m\"x\"\u001b[39m), \u001b[33mIdent\u001b[39m(\u001b[32m\"y\"\u001b[39m)), \u001b[33mConst\u001b[39m(\u001b[32m2.0\u001b[39m))\n",
       "\u001b[36mstmt1\u001b[39m: \u001b[32mAssignStmt\u001b[39m = \u001b[33mAssignStmt\u001b[39m(\n",
       "  \u001b[32m\"x\"\u001b[39m,\n",
       "  \u001b[33mPlus\u001b[39m(\u001b[33mIdent\u001b[39m(\u001b[32m\"y\"\u001b[39m), \u001b[33mPlus\u001b[39m(\u001b[33mIdent\u001b[39m(\u001b[32m\"z\"\u001b[39m), \u001b[33mExp\u001b[39m(\u001b[33mMinus\u001b[39m(\u001b[33mIdent\u001b[39m(\u001b[32m\"x\"\u001b[39m), \u001b[33mIdent\u001b[39m(\u001b[32m\"y\"\u001b[39m)))))\n",
       ")\n",
       "\u001b[36mcond1\u001b[39m: \u001b[32mLeq\u001b[39m = \u001b[33mLeq\u001b[39m(\u001b[33mIdent\u001b[39m(\u001b[32m\"y\"\u001b[39m), \u001b[33mConst\u001b[39m(\u001b[32m15.0\u001b[39m))\n",
       "\u001b[36mstmt2\u001b[39m: \u001b[32mAssignStmt\u001b[39m = \u001b[33mAssignStmt\u001b[39m(\u001b[32m\"y\"\u001b[39m, \u001b[33mMinus\u001b[39m(\u001b[33mIdent\u001b[39m(\u001b[32m\"y\"\u001b[39m), \u001b[33mIdent\u001b[39m(\u001b[32m\"x\"\u001b[39m)))\n",
       "\u001b[36mcond2\u001b[39m: \u001b[32mLeq\u001b[39m = \u001b[33mLeq\u001b[39m(\u001b[33mIdent\u001b[39m(\u001b[32m\"x\"\u001b[39m), \u001b[33mConst\u001b[39m(\u001b[32m0.0\u001b[39m))\n",
       "\u001b[36mstmt3\u001b[39m: \u001b[32mAssignStmt\u001b[39m = \u001b[33mAssignStmt\u001b[39m(\u001b[32m\"x\"\u001b[39m, \u001b[33mMinus\u001b[39m(\u001b[33mConst\u001b[39m(\u001b[32m0.0\u001b[39m), \u001b[33mIdent\u001b[39m(\u001b[32m\"x\"\u001b[39m)))\n",
       "\u001b[36mifStmt\u001b[39m: \u001b[32mIfThenElseStmt\u001b[39m = \u001b[33mIfThenElseStmt\u001b[39m(\n",
       "  \u001b[33mLeq\u001b[39m(\u001b[33mIdent\u001b[39m(\u001b[32m\"x\"\u001b[39m), \u001b[33mConst\u001b[39m(\u001b[32m0.0\u001b[39m)),\n",
       "  \u001b[33mList\u001b[39m(\u001b[33mAssignStmt\u001b[39m(\u001b[32m\"x\"\u001b[39m, \u001b[33mMinus\u001b[39m(\u001b[33mConst\u001b[39m(\u001b[32m0.0\u001b[39m), \u001b[33mIdent\u001b[39m(\u001b[32m\"x\"\u001b[39m)))),\n",
       "  \u001b[33mList\u001b[39m()\n",
       ")\n",
       "\u001b[36mwhileStmt\u001b[39m: \u001b[32mWhileStmt\u001b[39m = \u001b[33mWhileStmt\u001b[39m(\n",
       "  \u001b[33mLeq\u001b[39m(\u001b[33mIdent\u001b[39m(\u001b[32m\"y\"\u001b[39m), \u001b[33mConst\u001b[39m(\u001b[32m15.0\u001b[39m)),\n",
       "  \u001b[33mList\u001b[39m(\n",
       "    \u001b[33mAssignStmt\u001b[39m(\u001b[32m\"y\"\u001b[39m, \u001b[33mMinus\u001b[39m(\u001b[33mIdent\u001b[39m(\u001b[32m\"y\"\u001b[39m), \u001b[33mIdent\u001b[39m(\u001b[32m\"x\"\u001b[39m))),\n",
       "    \u001b[33mIfThenElseStmt\u001b[39m(\n",
       "      \u001b[33mLeq\u001b[39m(\u001b[33mIdent\u001b[39m(\u001b[32m\"x\"\u001b[39m), \u001b[33mConst\u001b[39m(\u001b[32m0.0\u001b[39m)),\n",
       "      \u001b[33mList\u001b[39m(\u001b[33mAssignStmt\u001b[39m(\u001b[32m\"x\"\u001b[39m, \u001b[33mMinus\u001b[39m(\u001b[33mConst\u001b[39m(\u001b[32m0.0\u001b[39m), \u001b[33mIdent\u001b[39m(\u001b[32m\"x\"\u001b[39m)))),\n",
       "      \u001b[33mList\u001b[39m()\n",
       "    )\n",
       "  )\n",
       ")\n",
       "\u001b[36mallstmts\u001b[39m: \u001b[32mList\u001b[39m[\u001b[32mProduct\u001b[39m with \u001b[32mStatement\u001b[39m with \u001b[32mSerializable\u001b[39m] = \u001b[33mList\u001b[39m(\n",
       "  \u001b[33mAssignStmt\u001b[39m(\n",
       "    \u001b[32m\"x\"\u001b[39m,\n",
       "    \u001b[33mPlus\u001b[39m(\u001b[33mIdent\u001b[39m(\u001b[32m\"y\"\u001b[39m), \u001b[33mPlus\u001b[39m(\u001b[33mIdent\u001b[39m(\u001b[32m\"z\"\u001b[39m), \u001b[33mExp\u001b[39m(\u001b[33mMinus\u001b[39m(\u001b[33mIdent\u001b[39m(\u001b[32m\"x\"\u001b[39m), \u001b[33mIdent\u001b[39m(\u001b[32m\"y\"\u001b[39m)))))\n",
       "  ),\n",
       "  \u001b[33mWhileStmt\u001b[39m(\n",
       "    \u001b[33mLeq\u001b[39m(\u001b[33mIdent\u001b[39m(\u001b[32m\"y\"\u001b[39m), \u001b[33mConst\u001b[39m(\u001b[32m15.0\u001b[39m)),\n",
       "    \u001b[33mList\u001b[39m(\n",
       "      \u001b[33mAssignStmt\u001b[39m(\u001b[32m\"y\"\u001b[39m, \u001b[33mMinus\u001b[39m(\u001b[33mIdent\u001b[39m(\u001b[32m\"y\"\u001b[39m), \u001b[33mIdent\u001b[39m(\u001b[32m\"x\"\u001b[39m))),\n",
       "      \u001b[33mIfThenElseStmt\u001b[39m(\n",
       "        \u001b[33mLeq\u001b[39m(\u001b[33mIdent\u001b[39m(\u001b[32m\"x\"\u001b[39m), \u001b[33mConst\u001b[39m(\u001b[32m0.0\u001b[39m)),\n",
       "        \u001b[33mList\u001b[39m(\u001b[33mAssignStmt\u001b[39m(\u001b[32m\"x\"\u001b[39m, \u001b[33mMinus\u001b[39m(\u001b[33mConst\u001b[39m(\u001b[32m0.0\u001b[39m), \u001b[33mIdent\u001b[39m(\u001b[32m\"x\"\u001b[39m)))),\n",
       "        \u001b[33mList\u001b[39m()\n",
       "      )\n",
       "    )\n",
       "  )\n",
       ")\n",
       "\u001b[36mretExpr\u001b[39m: \u001b[32mMinus\u001b[39m = \u001b[33mMinus\u001b[39m(\u001b[33mIdent\u001b[39m(\u001b[32m\"y\"\u001b[39m), \u001b[33mIdent\u001b[39m(\u001b[32m\"x\"\u001b[39m))\n",
       "\u001b[36mc2\u001b[39m: \u001b[32mDefaultCase\u001b[39m = \u001b[33mDefaultCase\u001b[39m(\n",
       "  \u001b[33mList\u001b[39m(\n",
       "    \u001b[33mIfThenElseStmt\u001b[39m(\n",
       "      \u001b[33mLeq\u001b[39m(\u001b[33mIdent\u001b[39m(\u001b[32m\"x\"\u001b[39m), \u001b[33mConst\u001b[39m(\u001b[32m0.0\u001b[39m)),\n",
       "      \u001b[33mList\u001b[39m(\u001b[33mAssignStmt\u001b[39m(\u001b[32m\"x\"\u001b[39m, \u001b[33mMinus\u001b[39m(\u001b[33mConst\u001b[39m(\u001b[32m0.0\u001b[39m), \u001b[33mIdent\u001b[39m(\u001b[32m\"x\"\u001b[39m)))),\n",
       "      \u001b[33mList\u001b[39m()\n",
       "    )\n",
       "  )\n",
       ")"
      ]
     },
     "execution_count": 4,
     "metadata": {},
     "output_type": "execute_result"
    }
   ],
   "source": [
    "//BEGIN TEST\n",
    "val e1 = Plus(Ident(\"y\"), Plus( Ident(\"z\"), Exp( Minus(Ident(\"x\"), Ident(\"y\")) ) )) // y + z + exp(x - y)\n",
    "val e2 = Div(Plus(Ident(\"x\"), Ident(\"y\")), Const(2)) // (x + y)/2 \n",
    "val stmt1 = AssignStmt(\"x\", e1) // x = y + z + exp(x - y)\n",
    "// Let us make up the parts of the while statement\n",
    "val cond1 = Leq(Ident(\"y\"), Const(15.0f)) // y <= 15\n",
    "// The assignment inside the while\n",
    "val stmt2 = AssignStmt(\"y\", Minus(Ident(\"y\"), Ident(\"x\"))) // y = y - x\n",
    "// The condition for the if statement\n",
    "val cond2 = Leq(Ident(\"x\"), Const(0.0f)) // x <= 0.0\n",
    "val stmt3 = AssignStmt(\"x\", Minus(Const(0.0f), Ident(\"x\"))) // x= 0 - x\n",
    "val ifStmt = IfThenElseStmt(cond2, List(stmt3), List()) // if ( x <= 0) x = -x else nothing\n",
    "val whileStmt = WhileStmt(cond1, List(stmt2, ifStmt)) // while loop \n",
    "val allstmts = List(stmt1, whileStmt)\n",
    "val retExpr = Minus(Ident(\"y\"), Ident(\"x\")) // y - x to be returned\n",
    "// Check if we can write a default case with an if statement\n",
    "val c2 = DefaultCase(List(ifStmt))\n",
    "\n",
    "passed(5)\n",
    "//END TEST"
   ]
  },
  {
   "cell_type": "code",
   "execution_count": 5,
   "metadata": {
    "deletable": false,
    "editable": false,
    "jupyter": {
     "outputs_hidden": true
    },
    "nbgrader": {
     "cell_type": "code",
     "checksum": "cf8bf7593efee523bc81953e6c2b8e9c",
     "grade": true,
     "grade_id": "cell-73f9de24de44bb2f",
     "locked": true,
     "points": 5,
     "schema_version": 3,
     "solution": false
    }
   },
   "outputs": [
    {
     "name": "stdout",
     "output_type": "stream",
     "text": [
      "\n",
      "*** Tests Passed (5 points) ***\n"
     ]
    },
    {
     "data": {
      "text/plain": [
       "\u001b[36me1\u001b[39m: \u001b[32mPlus\u001b[39m = \u001b[33mPlus\u001b[39m(\n",
       "  \u001b[33mIdent\u001b[39m(\u001b[32m\"y\"\u001b[39m),\n",
       "  \u001b[33mPlus\u001b[39m(\u001b[33mIdent\u001b[39m(\u001b[32m\"z\"\u001b[39m), \u001b[33mExp\u001b[39m(\u001b[33mMinus\u001b[39m(\u001b[33mIdent\u001b[39m(\u001b[32m\"x\"\u001b[39m), \u001b[33mIdent\u001b[39m(\u001b[32m\"y\"\u001b[39m))))\n",
       ")\n",
       "\u001b[36me2\u001b[39m: \u001b[32mDiv\u001b[39m = \u001b[33mDiv\u001b[39m(\u001b[33mPlus\u001b[39m(\u001b[33mIdent\u001b[39m(\u001b[32m\"x\"\u001b[39m), \u001b[33mIdent\u001b[39m(\u001b[32m\"y\"\u001b[39m)), \u001b[33mConst\u001b[39m(\u001b[32m2.0\u001b[39m))\n",
       "\u001b[36mstmt1\u001b[39m: \u001b[32mAssignStmt\u001b[39m = \u001b[33mAssignStmt\u001b[39m(\n",
       "  \u001b[32m\"x\"\u001b[39m,\n",
       "  \u001b[33mPlus\u001b[39m(\u001b[33mIdent\u001b[39m(\u001b[32m\"y\"\u001b[39m), \u001b[33mPlus\u001b[39m(\u001b[33mIdent\u001b[39m(\u001b[32m\"z\"\u001b[39m), \u001b[33mExp\u001b[39m(\u001b[33mMinus\u001b[39m(\u001b[33mIdent\u001b[39m(\u001b[32m\"x\"\u001b[39m), \u001b[33mIdent\u001b[39m(\u001b[32m\"y\"\u001b[39m)))))\n",
       ")\n",
       "\u001b[36mcond1\u001b[39m: \u001b[32mLeq\u001b[39m = \u001b[33mLeq\u001b[39m(\u001b[33mIdent\u001b[39m(\u001b[32m\"y\"\u001b[39m), \u001b[33mConst\u001b[39m(\u001b[32m15.0\u001b[39m))\n",
       "\u001b[36mstmt2\u001b[39m: \u001b[32mAssignStmt\u001b[39m = \u001b[33mAssignStmt\u001b[39m(\u001b[32m\"y\"\u001b[39m, \u001b[33mMinus\u001b[39m(\u001b[33mIdent\u001b[39m(\u001b[32m\"y\"\u001b[39m), \u001b[33mIdent\u001b[39m(\u001b[32m\"x\"\u001b[39m)))\n",
       "\u001b[36mcond2\u001b[39m: \u001b[32mLeq\u001b[39m = \u001b[33mLeq\u001b[39m(\u001b[33mIdent\u001b[39m(\u001b[32m\"x\"\u001b[39m), \u001b[33mConst\u001b[39m(\u001b[32m0.0\u001b[39m))\n",
       "\u001b[36mstmt3\u001b[39m: \u001b[32mAssignStmt\u001b[39m = \u001b[33mAssignStmt\u001b[39m(\u001b[32m\"x\"\u001b[39m, \u001b[33mMinus\u001b[39m(\u001b[33mConst\u001b[39m(\u001b[32m0.0\u001b[39m), \u001b[33mIdent\u001b[39m(\u001b[32m\"x\"\u001b[39m)))\n",
       "\u001b[36mifStmt\u001b[39m: \u001b[32mIfThenElseStmt\u001b[39m = \u001b[33mIfThenElseStmt\u001b[39m(\n",
       "  \u001b[33mLeq\u001b[39m(\u001b[33mIdent\u001b[39m(\u001b[32m\"x\"\u001b[39m), \u001b[33mConst\u001b[39m(\u001b[32m0.0\u001b[39m)),\n",
       "  \u001b[33mList\u001b[39m(\u001b[33mAssignStmt\u001b[39m(\u001b[32m\"x\"\u001b[39m, \u001b[33mMinus\u001b[39m(\u001b[33mConst\u001b[39m(\u001b[32m0.0\u001b[39m), \u001b[33mIdent\u001b[39m(\u001b[32m\"x\"\u001b[39m)))),\n",
       "  \u001b[33mList\u001b[39m()\n",
       ")\n",
       "\u001b[36mwhileStmt\u001b[39m: \u001b[32mWhileStmt\u001b[39m = \u001b[33mWhileStmt\u001b[39m(\n",
       "  \u001b[33mLeq\u001b[39m(\u001b[33mIdent\u001b[39m(\u001b[32m\"y\"\u001b[39m), \u001b[33mConst\u001b[39m(\u001b[32m15.0\u001b[39m)),\n",
       "  \u001b[33mList\u001b[39m(\n",
       "    \u001b[33mAssignStmt\u001b[39m(\u001b[32m\"y\"\u001b[39m, \u001b[33mMinus\u001b[39m(\u001b[33mIdent\u001b[39m(\u001b[32m\"y\"\u001b[39m), \u001b[33mIdent\u001b[39m(\u001b[32m\"x\"\u001b[39m))),\n",
       "    \u001b[33mIfThenElseStmt\u001b[39m(\n",
       "      \u001b[33mLeq\u001b[39m(\u001b[33mIdent\u001b[39m(\u001b[32m\"x\"\u001b[39m), \u001b[33mConst\u001b[39m(\u001b[32m0.0\u001b[39m)),\n",
       "      \u001b[33mList\u001b[39m(\u001b[33mAssignStmt\u001b[39m(\u001b[32m\"x\"\u001b[39m, \u001b[33mMinus\u001b[39m(\u001b[33mConst\u001b[39m(\u001b[32m0.0\u001b[39m), \u001b[33mIdent\u001b[39m(\u001b[32m\"x\"\u001b[39m)))),\n",
       "      \u001b[33mList\u001b[39m()\n",
       "    )\n",
       "  )\n",
       ")\n",
       "\u001b[36mallstmts\u001b[39m: \u001b[32mList\u001b[39m[\u001b[32mProduct\u001b[39m with \u001b[32mStatement\u001b[39m with \u001b[32mSerializable\u001b[39m] = \u001b[33mList\u001b[39m(\n",
       "  \u001b[33mAssignStmt\u001b[39m(\n",
       "    \u001b[32m\"x\"\u001b[39m,\n",
       "    \u001b[33mPlus\u001b[39m(\u001b[33mIdent\u001b[39m(\u001b[32m\"y\"\u001b[39m), \u001b[33mPlus\u001b[39m(\u001b[33mIdent\u001b[39m(\u001b[32m\"z\"\u001b[39m), \u001b[33mExp\u001b[39m(\u001b[33mMinus\u001b[39m(\u001b[33mIdent\u001b[39m(\u001b[32m\"x\"\u001b[39m), \u001b[33mIdent\u001b[39m(\u001b[32m\"y\"\u001b[39m)))))\n",
       "  ),\n",
       "  \u001b[33mWhileStmt\u001b[39m(\n",
       "    \u001b[33mLeq\u001b[39m(\u001b[33mIdent\u001b[39m(\u001b[32m\"y\"\u001b[39m), \u001b[33mConst\u001b[39m(\u001b[32m15.0\u001b[39m)),\n",
       "    \u001b[33mList\u001b[39m(\n",
       "      \u001b[33mAssignStmt\u001b[39m(\u001b[32m\"y\"\u001b[39m, \u001b[33mMinus\u001b[39m(\u001b[33mIdent\u001b[39m(\u001b[32m\"y\"\u001b[39m), \u001b[33mIdent\u001b[39m(\u001b[32m\"x\"\u001b[39m))),\n",
       "      \u001b[33mIfThenElseStmt\u001b[39m(\n",
       "        \u001b[33mLeq\u001b[39m(\u001b[33mIdent\u001b[39m(\u001b[32m\"x\"\u001b[39m), \u001b[33mConst\u001b[39m(\u001b[32m0.0\u001b[39m)),\n",
       "        \u001b[33mList\u001b[39m(\u001b[33mAssignStmt\u001b[39m(\u001b[32m\"x\"\u001b[39m, \u001b[33mMinus\u001b[39m(\u001b[33mConst\u001b[39m(\u001b[32m0.0\u001b[39m), \u001b[33mIdent\u001b[39m(\u001b[32m\"x\"\u001b[39m)))),\n",
       "        \u001b[33mList\u001b[39m()\n",
       "      )\n",
       "    )\n",
       "  )\n",
       ")\n",
       "\u001b[36mretExpr\u001b[39m: \u001b[32mMinus\u001b[39m = \u001b[33mMinus\u001b[39m(\u001b[33mIdent\u001b[39m(\u001b[32m\"y\"\u001b[39m), \u001b[33mIdent\u001b[39m(\u001b[32m\"x\"\u001b[39m))\n",
       "\u001b[36mc1\u001b[39m: \u001b[32mSwitchCase\u001b[39m = \u001b[33mSwitchCase\u001b[39m(\n",
       "  \u001b[33mList\u001b[39m(\u001b[33mConst\u001b[39m(\u001b[32m2.0\u001b[39m), \u001b[33mConst\u001b[39m(\u001b[32m3.0\u001b[39m)),\n",
       "  \u001b[33mList\u001b[39m(\n",
       "    \u001b[33mAssignStmt\u001b[39m(\n",
       "      \u001b[32m\"x\"\u001b[39m,\n",
       "      \u001b[33mPlus\u001b[39m(\u001b[33mIdent\u001b[39m(\u001b[32m\"y\"\u001b[39m), \u001b[33mPlus\u001b[39m(\u001b[33mIdent\u001b[39m(\u001b[32m\"z\"\u001b[39m), \u001b[33mExp\u001b[39m(\u001b[33mMinus\u001b[39m(\u001b[33mIdent\u001b[39m(\u001b[32m\"x\"\u001b[39m), \u001b[33mIdent\u001b[39m(\u001b[32m\"y\"\u001b[39m)))))\n",
       "    ),\n",
       "    \u001b[33mAssignStmt\u001b[39m(\u001b[32m\"x\"\u001b[39m, \u001b[33mMinus\u001b[39m(\u001b[33mConst\u001b[39m(\u001b[32m0.0\u001b[39m), \u001b[33mIdent\u001b[39m(\u001b[32m\"x\"\u001b[39m)))\n",
       "  )\n",
       ")\n",
       "\u001b[36mc3\u001b[39m: \u001b[32mSwitchCase\u001b[39m = \u001b[33mSwitchCase\u001b[39m(\n",
       "  \u001b[33mList\u001b[39m(\u001b[33mIdent\u001b[39m(\u001b[32m\"y\"\u001b[39m), \u001b[33mIdent\u001b[39m(\u001b[32m\"z\"\u001b[39m)),\n",
       "  \u001b[33mList\u001b[39m(\n",
       "    \u001b[33mAssignStmt\u001b[39m(\n",
       "      \u001b[32m\"x\"\u001b[39m,\n",
       "      \u001b[33mPlus\u001b[39m(\u001b[33mIdent\u001b[39m(\u001b[32m\"y\"\u001b[39m), \u001b[33mPlus\u001b[39m(\u001b[33mIdent\u001b[39m(\u001b[32m\"z\"\u001b[39m), \u001b[33mExp\u001b[39m(\u001b[33mMinus\u001b[39m(\u001b[33mIdent\u001b[39m(\u001b[32m\"x\"\u001b[39m), \u001b[33mIdent\u001b[39m(\u001b[32m\"y\"\u001b[39m)))))\n",
       "    ),\n",
       "    \u001b[33mAssignStmt\u001b[39m(\u001b[32m\"y\"\u001b[39m, \u001b[33mMinus\u001b[39m(\u001b[33mIdent\u001b[39m(\u001b[32m\"y\"\u001b[39m), \u001b[33mIdent\u001b[39m(\u001b[32m\"x\"\u001b[39m))),\n",
       "    \u001b[33mWhileStmt\u001b[39m(\n",
       "      \u001b[33mLeq\u001b[39m(\u001b[33mIdent\u001b[39m(\u001b[32m\"y\"\u001b[39m), \u001b[33mConst\u001b[39m(\u001b[32m15.0\u001b[39m)),\n",
       "      \u001b[33mList\u001b[39m(\n",
       "        \u001b[33mAssignStmt\u001b[39m(\u001b[32m\"y\"\u001b[39m, \u001b[33mMinus\u001b[39m(\u001b[33mIdent\u001b[39m(\u001b[32m\"y\"\u001b[39m), \u001b[33mIdent\u001b[39m(\u001b[32m\"x\"\u001b[39m))),\n",
       "        \u001b[33mIfThenElseStmt\u001b[39m(\n",
       "          \u001b[33mLeq\u001b[39m(\u001b[33mIdent\u001b[39m(\u001b[32m\"x\"\u001b[39m), \u001b[33mConst\u001b[39m(\u001b[32m0.0\u001b[39m)),\n",
       "          \u001b[33mList\u001b[39m(\u001b[33mAssignStmt\u001b[39m(\u001b[32m\"x\"\u001b[39m, \u001b[33mMinus\u001b[39m(\u001b[33mConst\u001b[39m(\u001b[32m0.0\u001b[39m), \u001b[33mIdent\u001b[39m(\u001b[32m\"x\"\u001b[39m)))),\n",
       "          \u001b[33mList\u001b[39m()\n",
       "        )\n",
       "      )\n",
       "    )\n",
       "  )\n",
       ")\n",
       "\u001b[36mc2\u001b[39m: \u001b[32mDefaultCase\u001b[39m = \u001b[33mDefaultCase\u001b[39m(\n",
       "  \u001b[33mList\u001b[39m(\n",
       "    \u001b[33mIfThenElseStmt\u001b[39m(\n",
       "      \u001b[33mLeq\u001b[39m(\u001b[33mIdent\u001b[39m(\u001b[32m\"x\"\u001b[39m), \u001b[33mConst\u001b[39m(\u001b[32m0.0\u001b[39m)),\n",
       "      \u001b[33mList\u001b[39m(\u001b[33mAssignStmt\u001b[39m(\u001b[32m\"x\"\u001b[39m, \u001b[33mMinus\u001b[39m(\u001b[33mConst\u001b[39m(\u001b[32m0.0\u001b[39m), \u001b[33mIdent\u001b[39m(\u001b[32m\"x\"\u001b[39m)))),\n",
       "      \u001b[33mList\u001b[39m()\n",
       "    )\n",
       "  )\n",
       ")\n",
       "\u001b[36mv1\u001b[39m: \u001b[32mSwitch\u001b[39m = \u001b[33mSwitch\u001b[39m(\n",
       "  \u001b[33mList\u001b[39m(\n",
       "    \u001b[33mPlus\u001b[39m(\u001b[33mIdent\u001b[39m(\u001b[32m\"y\"\u001b[39m), \u001b[33mPlus\u001b[39m(\u001b[33mIdent\u001b[39m(\u001b[32m\"z\"\u001b[39m), \u001b[33mExp\u001b[39m(\u001b[33mMinus\u001b[39m(\u001b[33mIdent\u001b[39m(\u001b[32m\"x\"\u001b[39m), \u001b[33mIdent\u001b[39m(\u001b[32m\"y\"\u001b[39m))))),\n",
       "    \u001b[33mDiv\u001b[39m(\u001b[33mPlus\u001b[39m(\u001b[33mIdent\u001b[39m(\u001b[32m\"x\"\u001b[39m), \u001b[33mIdent\u001b[39m(\u001b[32m\"y\"\u001b[39m)), \u001b[33mConst\u001b[39m(\u001b[32m2.0\u001b[39m))\n",
       "  ),\n",
       "  \u001b[33mList\u001b[39m(\n",
       "    \u001b[33mSwitchCase\u001b[39m(\n",
       "      \u001b[33mList\u001b[39m(\u001b[33mConst\u001b[39m(\u001b[32m2.0\u001b[39m), \u001b[33mConst\u001b[39m(\u001b[32m3.0\u001b[39m)),\n",
       "      \u001b[33mList\u001b[39m(\n",
       "        \u001b[33mAssignStmt\u001b[39m(\n",
       "          \u001b[32m\"x\"\u001b[39m,\n",
       "          \u001b[33mPlus\u001b[39m(\u001b[33mIdent\u001b[39m(\u001b[32m\"y\"\u001b[39m), \u001b[33mPlus\u001b[39m(\u001b[33mIdent\u001b[39m(\u001b[32m\"z\"\u001b[39m), \u001b[33mExp\u001b[39m(\u001b[33mMinus\u001b[39m(\u001b[33mIdent\u001b[39m(\u001b[32m\"x\"\u001b[39m), \u001b[33mIdent\u001b[39m(\u001b[32m\"y\"\u001b[39m)))))\n",
       "        ),\n",
       "        \u001b[33mAssignStmt\u001b[39m(\u001b[32m\"x\"\u001b[39m, \u001b[33mMinus\u001b[39m(\u001b[33mConst\u001b[39m(\u001b[32m0.0\u001b[39m), \u001b[33mIdent\u001b[39m(\u001b[32m\"x\"\u001b[39m)))\n",
       "      )\n",
       "    ),\n",
       "    \u001b[33mDefaultCase\u001b[39m(\n",
       "      \u001b[33mList\u001b[39m(\n",
       "        \u001b[33mIfThenElseStmt\u001b[39m(\n",
       "          \u001b[33mLeq\u001b[39m(\u001b[33mIdent\u001b[39m(\u001b[32m\"x\"\u001b[39m), \u001b[33mConst\u001b[39m(\u001b[32m0.0\u001b[39m)),\n",
       "          \u001b[33mList\u001b[39m(\u001b[33mAssignStmt\u001b[39m(\u001b[32m\"x\"\u001b[39m, \u001b[33mMinus\u001b[39m(\u001b[33mConst\u001b[39m(\u001b[32m0.0\u001b[39m), \u001b[33mIdent\u001b[39m(\u001b[32m\"x\"\u001b[39m)))),\n",
       "          \u001b[33mList\u001b[39m()\n",
       "        )\n",
       "      )\n",
       "    ),\n",
       "    \u001b[33mSwitchCase\u001b[39m(\n",
       "      \u001b[33mList\u001b[39m(\u001b[33mIdent\u001b[39m(\u001b[32m\"y\"\u001b[39m), \u001b[33mIdent\u001b[39m(\u001b[32m\"z\"\u001b[39m)),\n",
       "      \u001b[33mList\u001b[39m(\n",
       "        \u001b[33mAssignStmt\u001b[39m(\n",
       "          \u001b[32m\"x\"\u001b[39m,\n",
       "          \u001b[33mPlus\u001b[39m(\u001b[33mIdent\u001b[39m(\u001b[32m\"y\"\u001b[39m), \u001b[33mPlus\u001b[39m(\u001b[33mIdent\u001b[39m(\u001b[32m\"z\"\u001b[39m), \u001b[33mExp\u001b[39m(\u001b[33mMinus\u001b[39m(\u001b[33mIdent\u001b[39m(\u001b[32m\"x\"\u001b[39m), \u001b[33mIdent\u001b[39m(\u001b[32m\"y\"\u001b[39m)))))\n",
       "        ),\n",
       "        \u001b[33mAssignStmt\u001b[39m(\u001b[32m\"y\"\u001b[39m, \u001b[33mMinus\u001b[39m(\u001b[33mIdent\u001b[39m(\u001b[32m\"y\"\u001b[39m), \u001b[33mIdent\u001b[39m(\u001b[32m\"x\"\u001b[39m))),\n",
       "        \u001b[33mWhileStmt\u001b[39m(\n",
       "          \u001b[33mLeq\u001b[39m(\u001b[33mIdent\u001b[39m(\u001b[32m\"y\"\u001b[39m), \u001b[33mConst\u001b[39m(\u001b[32m15.0\u001b[39m)),\n",
       "          \u001b[33mList\u001b[39m(\n",
       "            \u001b[33mAssignStmt\u001b[39m(\u001b[32m\"y\"\u001b[39m, \u001b[33mMinus\u001b[39m(\u001b[33mIdent\u001b[39m(\u001b[32m\"y\"\u001b[39m), \u001b[33mIdent\u001b[39m(\u001b[32m\"x\"\u001b[39m))),\n",
       "            \u001b[33mIfThenElseStmt\u001b[39m(\n",
       "              \u001b[33mLeq\u001b[39m(\u001b[33mIdent\u001b[39m(\u001b[32m\"x\"\u001b[39m), \u001b[33mConst\u001b[39m(\u001b[32m0.0\u001b[39m)),\n",
       "..."
      ]
     },
     "execution_count": 5,
     "metadata": {},
     "output_type": "execute_result"
    }
   ],
   "source": [
    "//BEGIN TEST\n",
    "val e1 = Plus(Ident(\"y\"), Plus( Ident(\"z\"), Exp( Minus(Ident(\"x\"), Ident(\"y\")) ) )) // y + z + exp(x - y)\n",
    "val e2 = Div(Plus(Ident(\"x\"), Ident(\"y\")), Const(2)) // (x + y)/2 \n",
    "val stmt1 = AssignStmt(\"x\", e1) // x = y + z + exp(x - y)\n",
    "// Let us make up the parts of the while statement\n",
    "val cond1 = Leq(Ident(\"y\"), Const(15.0f)) // y <= 15\n",
    "// The assignment inside the while\n",
    "val stmt2 = AssignStmt(\"y\", Minus(Ident(\"y\"), Ident(\"x\"))) // y = y - x\n",
    "// The condition for the if statement\n",
    "val cond2 = Leq(Ident(\"x\"), Const(0.0f)) // x <= 0.0\n",
    "val stmt3 = AssignStmt(\"x\", Minus(Const(0.0f), Ident(\"x\"))) // x= 0 - x\n",
    "val ifStmt = IfThenElseStmt(cond2, List(stmt3), List()) // if ( x <= 0) x = -x else nothing\n",
    "val whileStmt = WhileStmt(cond1, List(stmt2, ifStmt)) // while loop \n",
    "val allstmts = List(stmt1, whileStmt)\n",
    "val retExpr = Minus(Ident(\"y\"), Ident(\"x\")) // y - x to be returned\n",
    "\n",
    "val c1 = SwitchCase(List(Const(2.0), Const(3.0)), List(stmt1, stmt3))\n",
    "val c3 = SwitchCase(List(Ident(\"y\"), Ident(\"z\")), List(stmt1, stmt2, whileStmt))\n",
    "val c2 = DefaultCase(List(ifStmt))\n",
    "\n",
    "// Check if we can write a multiway switch\n",
    "val v1 = Switch(List(e1,e2), List(c1, c2, c3))\n",
    "\n",
    "passed(5)\n",
    "//END TEST"
   ]
  },
  {
   "cell_type": "markdown",
   "metadata": {
    "deletable": false,
    "editable": false,
    "nbgrader": {
     "cell_type": "markdown",
     "checksum": "12dfe0e50941771acddd6bc35df1b49c",
     "grade": false,
     "grade_id": "cell-55543ed7e443b655",
     "locked": true,
     "schema_version": 3,
     "solution": false
    }
   },
   "source": [
    "## Problem 2 (15 Points)\n",
    "\n",
    "Add list manipulation expressions to the allowed expressions in the `mython` language. \n",
    "\n",
    "We allow list expressions (use a new non terminal called __ListExpr__).\n",
    "\n",
    "Formally, a list expression is defined as one of the following:\n",
    "- The **empty list**: use a constructor symbol `EmptyList`. It should not have arguments.\n",
    "- A  **new list** made up of zero or more arithmetic expressions: use constructor symbol `NewList`. It has as arguments a list of arithmetic expressions. Use Kleene-star in your grammar to specify \"one or more of\".\n",
    "- Appending an arithmetic expression to the front of a list: use constructor symbol `Cons`. `Cons` must have two arguments: first argument is an arithmetic expression and second argument is a list expression.\n",
    "- Concatenate two lists defined by list expressions: use constructor symbol `Concat`. It must have two arguments that are both list expressions.\n",
    "- Filter elements of a list which meet a certain condition: use constructor symbol `Filter`. It must have three arguments: (a) a list expression denoting the list being filtered, (b) an identifier name (use the nonterminal __Identifier__), and (c) a conditional expression capturing the filtering criterion. We would use such an expression, for instance, as following: `filter (x in my_list) where x>0`. This would create a new list with all elements `x` from `my_list` where `x>0`.\n",
    "\n",
    "Next, we add the following rule to  __CondExpr__  (conditional expressions):\n",
    "- A condition expression to check if a list is empty:  Use constructor `IsEmptyList`. Its argument must be a list expression that we check for emptiness.\n",
    "\n",
    "Finally, we add a special foreach loop statement over the elements of a list.\n",
    "\n",
    "`foreach (x in list_expr) begin  .. list of statements...  end `\n",
    "\n",
    "- Add a statement to loop over the elements of a list: use constructor`ForEach`. Its arguments must include (a) the identifier, (b) the list expression to be iterated over and (c) the body of the loop (list of statements).\n",
    "\n",
    "Write down the extra grammar rules that you would add to the overall \n",
    "`mython` grammar to create these functionalities."
   ]
  },
  {
   "cell_type": "markdown",
   "metadata": {
    "deletable": false,
    "nbgrader": {
     "cell_type": "markdown",
     "checksum": "bf288e8c6c49bee728f46c0a7081beda",
     "grade": true,
     "grade_id": "cell-76cfd1d2c6a5898d",
     "locked": false,
     "points": 20,
     "schema_version": 3,
     "solution": true
    }
   },
   "source": [
    "YOUR ANSWER HERE"
   ]
  },
  {
   "cell_type": "markdown",
   "metadata": {},
   "source": [
    "$$\\begin{array}{rcl}\n",
    "\\mathbf{ListExpr} & \\rightarrow & \\text{EmptyList} \\\\\n",
    "& | & \\text{NewList} (\\mathbf{Expr}^*)\\\\\n",
    "& | & \\text{Cons} (\\mathbf{Expr},\\mathbf{ListExpr})\\\\\n",
    "& | & \\text{Concat} (\\mathbf{ListExpr} , \\mathbf{ListExpr})\\\\\n",
    "& | & \\text{Filter} (\\mathbf{ListExpr},\\mathbf{Identifier},\\mathbf{CondExpr})\\\\\n",
    "\\mathbf{CondExpr} & \\rightarrow & \\text{IsEmptyList}(\\mathbf{ListExpr}) \\\\\n",
    "\\mathbf{Statement} & \\rightarrow & \\text{ForEach}(\\mathbf{Identifier},\\mathbf{ListExpr},\\mathbf{Statement}^*) \\\\\n",
    "\\end{array}$$"
   ]
  },
  {
   "cell_type": "markdown",
   "metadata": {
    "deletable": false,
    "editable": false,
    "nbgrader": {
     "cell_type": "markdown",
     "checksum": "91b1762b3351f8942e2cb67f245ffacb",
     "grade": false,
     "grade_id": "cell-33da7cb13bb6465f",
     "locked": true,
     "schema_version": 3,
     "solution": false
    }
   },
   "source": [
    "## Problem 3 (20 points)\n",
    "\n",
    "### A (10 points)\n",
    "\n",
    "We defined lists in the class as an inductive datatype.  \n",
    "\n",
    "Let's define a  `NumOption` type for functions with optional return values (such as `Some(2)` or `None`).  See note on option types as the inspiration for NumOption: https://www.geeksforgeeks.org/scala-option/\n",
    "\n",
    "We will use the following grammar:\n",
    "\n",
    "$$\\begin{array}{rcll}\n",
    "\\mathbf{NumOption} & \\Rightarrow & \\textit{None} & \\text{denotes the lack of a value }\\\\\n",
    "& |& \\textit{Some}(\\mathbf{Integer}) & \\text{denotes an integer value } \\\\\n",
    "\\end{array} $$\n",
    "\n",
    "First define, the `NumOption` datatype following the grammar above.\n",
    "\n",
    "\n",
    "Next write a recursive function that returns the nth element of the list. However, if the list size is smaller than `n` you should return a `None` signalling no element can be found or otherwise `Some(x)` where `x` is the nth element. Also, if `n < 0`,  throw an `IllegalArgumentException` conveying the appropriate endearments to the user in the form of a string message. \n",
    "\n",
    "Assume $n=0$ denotes the very first element and $n = \\text{length of list} -1$ denotes the very last element. "
   ]
  },
  {
   "cell_type": "code",
   "execution_count": 39,
   "metadata": {
    "deletable": false,
    "nbgrader": {
     "cell_type": "code",
     "checksum": "dfa525c3b61420b59cd448167a40dfe2",
     "grade": false,
     "grade_id": "cell-724b4ca89445ceaf",
     "locked": false,
     "schema_version": 3,
     "solution": true
    }
   },
   "outputs": [
    {
     "data": {
      "text/plain": [
       "defined \u001b[32mtrait\u001b[39m \u001b[36mNumList\u001b[39m\n",
       "defined \u001b[32mobject\u001b[39m \u001b[36mNil\u001b[39m\n",
       "defined \u001b[32mclass\u001b[39m \u001b[36mCons\u001b[39m\n",
       "defined \u001b[32mtrait\u001b[39m \u001b[36mNumOption\u001b[39m\n",
       "defined \u001b[32mobject\u001b[39m \u001b[36mNone\u001b[39m\n",
       "defined \u001b[32mclass\u001b[39m \u001b[36mSome\u001b[39m\n",
       "defined \u001b[32mfunction\u001b[39m \u001b[36mgetNthElement\u001b[39m"
      ]
     },
     "execution_count": 39,
     "metadata": {},
     "output_type": "execute_result"
    }
   ],
   "source": [
    "sealed trait NumList\n",
    "case object Nil extends NumList\n",
    "case class Cons(n: Int, l: NumList) extends NumList \n",
    "\n",
    "/*-- Define NumOption data type first --*/\n",
    "// YOUR CODE HERE\n",
    "sealed trait NumOption\n",
    "case object None extends NumOption\n",
    "case class Some(n:Int) extends NumOption\n",
    "\n",
    "/*-- Next, implement this function: see problem description for specification --*/\n",
    "def getNthElement(lst: NumList, n: Int): NumOption = {\n",
    "    // YOUR CODE HERE\n",
    "    //if(lst.size < n){None}\n",
    "    if(n<0) throw new IllegalArgumentException\n",
    "    lst match\n",
    "    {\n",
    "         case Nil => None\n",
    "        \n",
    "       case Cons(l1,lists) if(n==0)=>  Some(l1)\n",
    "        case Cons(l1,lists) if(n>=1)=> {getNthElement(lists,n-1)}\n",
    "    }\n",
    "    \n",
    "}"
   ]
  },
  {
   "cell_type": "code",
   "execution_count": 40,
   "metadata": {
    "deletable": false,
    "editable": false,
    "nbgrader": {
     "cell_type": "code",
     "checksum": "3b260e14704811c3bfb7d82fa2541334",
     "grade": true,
     "grade_id": "cell-2bc6d5ee94793b48",
     "locked": true,
     "points": 10,
     "schema_version": 3,
     "solution": false
    }
   },
   "outputs": [
    {
     "name": "stdout",
     "output_type": "stream",
     "text": [
      "\n",
      "*** Tests Passed (5 points) ***\n"
     ]
    },
    {
     "data": {
      "text/plain": [
       "\u001b[36ml1\u001b[39m: \u001b[32mNil\u001b[39m.type = Nil\n",
       "\u001b[36ml2\u001b[39m: \u001b[32mCons\u001b[39m = \u001b[33mCons\u001b[39m(\u001b[32m1\u001b[39m, \u001b[33mCons\u001b[39m(\u001b[32m-1\u001b[39m, Nil))\n",
       "\u001b[36ml3\u001b[39m: \u001b[32mCons\u001b[39m = \u001b[33mCons\u001b[39m(\u001b[32m1\u001b[39m, \u001b[33mCons\u001b[39m(\u001b[32m2\u001b[39m, \u001b[33mCons\u001b[39m(\u001b[32m1\u001b[39m, \u001b[33mCons\u001b[39m(\u001b[32m-1\u001b[39m, Nil))))\n",
       "\u001b[36ml4\u001b[39m: \u001b[32mCons\u001b[39m = \u001b[33mCons\u001b[39m(\u001b[32m0\u001b[39m, \u001b[33mCons\u001b[39m(\u001b[32m4\u001b[39m, \u001b[33mCons\u001b[39m(\u001b[32m8\u001b[39m, \u001b[33mCons\u001b[39m(\u001b[32m1\u001b[39m, \u001b[33mCons\u001b[39m(\u001b[32m2\u001b[39m, \u001b[33mCons\u001b[39m(\u001b[32m1\u001b[39m, \u001b[33mCons\u001b[39m(\u001b[32m-1\u001b[39m, Nil)))))))\n",
       "\u001b[36mtest1\u001b[39m: \u001b[32mAny\u001b[39m = \u001b[32m\"OK\"\u001b[39m\n",
       "\u001b[36mtest6\u001b[39m: \u001b[32mAny\u001b[39m = \u001b[32m\"OK\"\u001b[39m"
      ]
     },
     "execution_count": 40,
     "metadata": {},
     "output_type": "execute_result"
    }
   ],
   "source": [
    "//BEGIN TEST\n",
    "val l1 = Nil\n",
    "val l2 = Cons(1, Cons(-1, Nil))\n",
    "val l3 = Cons(1, Cons(2, l2))\n",
    "val l4 = Cons(0, Cons(4, Cons(8, l3)))\n",
    "\n",
    "val test1 = try {\n",
    "    getNthElement(l2, -1);\n",
    "    assert(false, \"Test 1 : getNthElement(l2, -1) should raise an IllegalArgumentException. Your code did not.\")\n",
    "} catch {\n",
    "    case e: IllegalArgumentException => \"OK\"\n",
    "} \n",
    "assert(getNthElement(l1, 3) == None, \"Test2: getNthElement(l1, 3)  failed (expected answer = None)\")\n",
    "assert(getNthElement(l2, 0) == Some(1), \"Test3: getNthElement(l2, 0)  failed (expected answer = Some(1))\")\n",
    "assert(getNthElement(l3, 3) == Some(-1), \"Test4: getNthElement(l3, 3)  failed (expected answer = Some(-1))\")\n",
    "assert(getNthElement(l4, 2) == Some(8), \"Test5: getNthElement(l4, 2)  failed (expected answer = Some(8))\")\n",
    "\n",
    "val test6 = try {\n",
    "    getNthElement(l4, -8);\n",
    "    assert(false, \"Test 6 : getNthElement(l4, -8) should raise an IllegalArgumentException. Your code did not.\")\n",
    "} catch {\n",
    "    case e: IllegalArgumentException => \"OK\"\n",
    "}\n",
    "\n",
    "passed(5)\n",
    "//END TEST"
   ]
  },
  {
   "cell_type": "markdown",
   "metadata": {
    "deletable": false,
    "editable": false,
    "nbgrader": {
     "cell_type": "markdown",
     "checksum": "c4a538b140cb4ddb7f99f1818d03d81a",
     "grade": false,
     "grade_id": "cell-f33dba0762a43adc",
     "locked": true,
     "schema_version": 3,
     "solution": false
    }
   },
   "source": [
    "### B (7 points)\n",
    "Write a recursive procedure that returns true if and only if the list has consecutive duplicates, i.e., a number occurs at least twice in succession. \n",
    "\n",
    "Note that the property is trivially \"false\" for lists of sizes $0$ and $1$.\n",
    "\n",
    "#### Example\n",
    "\n",
    "  - `List(0, 1, 1, 2, 3, 4, 5, 2)` has consecutive duplicates \"1\" followed by \"1\".\n",
    "  - `List(0, 1, 0, 1, 0, 1, 0, 1)` does not have consecutive duplicates (although it has duplicates).\n",
    "\n"
   ]
  },
  {
   "cell_type": "code",
   "execution_count": 41,
   "metadata": {
    "deletable": false,
    "nbgrader": {
     "cell_type": "code",
     "checksum": "67a5e4e1fee9c8e71eeb1defe0476a22",
     "grade": false,
     "grade_id": "cell-eedd55e1f86bd6c6",
     "locked": false,
     "schema_version": 3,
     "solution": true
    }
   },
   "outputs": [
    {
     "data": {
      "text/plain": [
       "defined \u001b[32mfunction\u001b[39m \u001b[36mhasConsecutiveDupes\u001b[39m"
      ]
     },
     "execution_count": 41,
     "metadata": {},
     "output_type": "execute_result"
    }
   ],
   "source": [
    "def hasConsecutiveDupes(lst: NumList): Boolean = {\n",
    "    // YOUR CODE HERE\n",
    "   lst match\n",
    "    {\n",
    "        case Nil => return false\n",
    "        case Cons(l1,Nil) => return false\n",
    "        case Cons(l1,Cons(l2,Nil)) => return false\n",
    "        case Cons(l1,Cons(l2,Cons(l3,lists))) if(l1==l2)=> return true\n",
    "        case Cons(l1,Cons(l2,Cons(l3,lists))) if(l1!=l2)=> hasConsecutiveDupes(Cons(l2,Cons(l3,lists)))\n",
    "    }\n",
    "}"
   ]
  },
  {
   "cell_type": "code",
   "execution_count": 38,
   "metadata": {
    "deletable": false,
    "editable": false,
    "nbgrader": {
     "cell_type": "code",
     "checksum": "a68a171bcb64f8bbd9e6fc6a807d4176",
     "grade": true,
     "grade_id": "cell-33a4f21c01f0c7c4",
     "locked": true,
     "points": 7,
     "schema_version": 3,
     "solution": false
    }
   },
   "outputs": [
    {
     "name": "stdout",
     "output_type": "stream",
     "text": [
      "\n",
      "*** Tests Passed (7 points) ***\n"
     ]
    },
    {
     "data": {
      "text/plain": [
       "\u001b[36ml1\u001b[39m: \u001b[32mCons\u001b[39m = \u001b[33mCons\u001b[39m(\u001b[32m12\u001b[39m, \u001b[33mCons\u001b[39m(\u001b[32m25\u001b[39m, \u001b[33mCons\u001b[39m(\u001b[32m12\u001b[39m, Nil)))\n",
       "\u001b[36ml2\u001b[39m: \u001b[32mCons\u001b[39m = \u001b[33mCons\u001b[39m(\u001b[32m14\u001b[39m, \u001b[33mCons\u001b[39m(\u001b[32m14\u001b[39m, \u001b[33mCons\u001b[39m(\u001b[32m13\u001b[39m, \u001b[33mCons\u001b[39m(\u001b[32m12\u001b[39m, \u001b[33mCons\u001b[39m(\u001b[32m25\u001b[39m, \u001b[33mCons\u001b[39m(\u001b[32m12\u001b[39m, Nil))))))\n",
       "\u001b[36ml3\u001b[39m: \u001b[32mCons\u001b[39m = \u001b[33mCons\u001b[39m(\u001b[32m0\u001b[39m, \u001b[33mCons\u001b[39m(\u001b[32m-2\u001b[39m, \u001b[33mCons\u001b[39m(\u001b[32m-2\u001b[39m, \u001b[33mCons\u001b[39m(\u001b[32m12\u001b[39m, \u001b[33mCons\u001b[39m(\u001b[32m25\u001b[39m, \u001b[33mCons\u001b[39m(\u001b[32m12\u001b[39m, Nil))))))\n",
       "\u001b[36ml5\u001b[39m: \u001b[32mCons\u001b[39m = \u001b[33mCons\u001b[39m(\u001b[32m-1\u001b[39m, Nil)"
      ]
     },
     "execution_count": 38,
     "metadata": {},
     "output_type": "execute_result"
    }
   ],
   "source": [
    "//BEGIN TEST\n",
    "val l1 = Cons(12, Cons(25, Cons(12, Nil)))\n",
    "assert(!hasConsecutiveDupes(l1), \n",
    "       \"Test case 1 :  hasConsecutuveDupes(l1) -- should return false\")\n",
    "\n",
    "val l2 = Cons(14, Cons(14, Cons(13, l1 )))\n",
    "assert(hasConsecutiveDupes(l2), \n",
    "       \"Test case 2 :  hasConsecutiveDupes(l2) -- should return true\")\n",
    "\n",
    "val l3 = Cons(0, Cons(-2, Cons(-2, l1 )))\n",
    "assert(hasConsecutiveDupes(l3), \n",
    "       \"Test case 3 :  hasConsecutiveDupes(l2) -- should return true\")\n",
    "\n",
    "assert(!hasConsecutiveDupes(Nil), \n",
    "       \"Test case 4 :  hasConsecutiveDupes(Nil) -- should return false\")\n",
    "val l5 = Cons(-1, Nil)\n",
    "assert(!hasConsecutiveDupes(l5), \n",
    "       \"Test case 5:  hasConsecutiveDupes(l5) -- should return false\")\n",
    "\n",
    "passed(7)\n",
    "//END TEST"
   ]
  },
  {
   "cell_type": "markdown",
   "metadata": {
    "deletable": false,
    "editable": false,
    "nbgrader": {
     "cell_type": "markdown",
     "checksum": "9a1a2912b9bdbdbf2f3bcfabb5cbdd76",
     "grade": false,
     "grade_id": "cell-d4f6c640c40f9924",
     "locked": true,
     "schema_version": 3,
     "solution": false
    }
   },
   "source": [
    "### C (8 points)\n",
    "Write a recursive function `filterNumList(l: NumList, f: Int => Boolean): NumList` that takes in a `NumList` and a function `f: Int => Boolean`. \n",
    "\n",
    "1. It should return a new list that consist of all elements of the list `l` that return `true` when the function `f` is called on them.\n",
    "2. The returned list elements must preserve the same order as in the original list."
   ]
  },
  {
   "cell_type": "code",
   "execution_count": 46,
   "metadata": {
    "deletable": false,
    "nbgrader": {
     "cell_type": "code",
     "checksum": "5da2d93bb68bbf460bf404ffbfd66253",
     "grade": false,
     "grade_id": "cell-0f9f5a51ae34b3bb",
     "locked": false,
     "schema_version": 3,
     "solution": true
    }
   },
   "outputs": [
    {
     "data": {
      "text/plain": [
       "defined \u001b[32mfunction\u001b[39m \u001b[36mfilterNumList\u001b[39m"
      ]
     },
     "execution_count": 46,
     "metadata": {},
     "output_type": "execute_result"
    }
   ],
   "source": [
    "// YOUR CODE HERE\n",
    "def filterNumList(l: NumList, f: Int => Boolean): NumList=\n",
    "{\n",
    "    l match\n",
    "    {\n",
    "        case Nil => Nil //empty\n",
    "        case Cons(l1,lists) if(f(l1))=>Cons(l1,filterNumList(lists,f))//l1 is true,then call cons function, put l1 in\n",
    "        case Cons(l1,lists) if(!f(l1)) => filterNumList(lists,f)// l1 is false,recurive the function\n",
    "    }\n",
    "}"
   ]
  },
  {
   "cell_type": "code",
   "execution_count": 45,
   "metadata": {
    "deletable": false,
    "editable": false,
    "jupyter": {
     "outputs_hidden": true,
     "source_hidden": true
    },
    "nbgrader": {
     "cell_type": "code",
     "checksum": "5e9db1f5d62d2c3a4bf042a1a503f85a",
     "grade": true,
     "grade_id": "cell-a2549ef77f3f9bb0",
     "locked": true,
     "points": 8,
     "schema_version": 3,
     "solution": false
    }
   },
   "outputs": [
    {
     "name": "stdout",
     "output_type": "stream",
     "text": [
      "\n",
      "*** Tests Passed (8 points) ***\n"
     ]
    },
    {
     "data": {
      "text/plain": [
       "\u001b[36ml1\u001b[39m: \u001b[32mCons\u001b[39m = \u001b[33mCons\u001b[39m(\u001b[32m12\u001b[39m, \u001b[33mCons\u001b[39m(\u001b[32m25\u001b[39m, \u001b[33mCons\u001b[39m(\u001b[32m37\u001b[39m, Nil)))\n",
       "defined \u001b[32mfunction\u001b[39m \u001b[36mf1\u001b[39m\n",
       "\u001b[36ml2\u001b[39m: \u001b[32mCons\u001b[39m = \u001b[33mCons\u001b[39m(\u001b[32m22\u001b[39m, \u001b[33mCons\u001b[39m(\u001b[32m135\u001b[39m, \u001b[33mCons\u001b[39m(\u001b[32m137\u001b[39m, \u001b[33mCons\u001b[39m(\u001b[32m12\u001b[39m, \u001b[33mCons\u001b[39m(\u001b[32m25\u001b[39m, \u001b[33mCons\u001b[39m(\u001b[32m37\u001b[39m, Nil))))))\n",
       "defined \u001b[32mfunction\u001b[39m \u001b[36mf2\u001b[39m\n",
       "defined \u001b[32mfunction\u001b[39m \u001b[36mf3\u001b[39m\n",
       "\u001b[36ml4\u001b[39m: \u001b[32mCons\u001b[39m = \u001b[33mCons\u001b[39m(\u001b[32m0\u001b[39m, \u001b[33mCons\u001b[39m(\u001b[32m0\u001b[39m, \u001b[33mCons\u001b[39m(\u001b[32m0\u001b[39m, \u001b[33mCons\u001b[39m(\u001b[32m0\u001b[39m, \u001b[33mCons\u001b[39m(\u001b[32m0\u001b[39m, \u001b[33mCons\u001b[39m(\u001b[32m0\u001b[39m, Nil))))))\n",
       "defined \u001b[32mfunction\u001b[39m \u001b[36mf4\u001b[39m"
      ]
     },
     "execution_count": 45,
     "metadata": {},
     "output_type": "execute_result"
    }
   ],
   "source": [
    "//BEGIN TEST\n",
    "val l1 = Cons(12, Cons(25, Cons(37, Nil)))\n",
    "def f1(j: Int): Boolean =  j <= 25 && j >= 12\n",
    "assert(filterNumList(l1, f1) == Cons(12, Cons(25, Nil)), \"Test 1 failed.\")\n",
    "\n",
    "\n",
    "val l2 = Cons(22, Cons(135, Cons(137, l1)))\n",
    "def f2(j: Int): Boolean =  j % 5 == 0\n",
    "assert(filterNumList(l2, f2) == Cons(135, Cons(25, Nil)), \"Test 2 failed.\")\n",
    "\n",
    "def f3(j: Int): Boolean =  j >= 210\n",
    "assert(filterNumList(l2, f3) == Nil, \"Test 3 failed.\")\n",
    "assert(filterNumList(Nil, f3) == Nil, \"Test 4 failed.\")\n",
    "\n",
    "val l4 = Cons(0, Cons(0, Cons(0, Cons(0, Cons(0, Cons(0, Nil))))))\n",
    "\n",
    "def f4(j: Int): Boolean =  j <= 0\n",
    "assert(filterNumList(l4, f4) == l4, \"Test 5 failed\")\n",
    "\n",
    "passed(8)\n",
    "//END TEST"
   ]
  },
  {
   "cell_type": "markdown",
   "metadata": {},
   "source": [
    "### That's All Folks !!!"
   ]
  }
 ],
 "metadata": {
  "kernelspec": {
   "display_name": "Scala",
   "language": "scala",
   "name": "scala"
  },
  "language_info": {
   "codemirror_mode": "text/x-scala",
   "file_extension": ".sc",
   "mimetype": "text/x-scala",
   "name": "scala",
   "nbconvert_exporter": "script",
   "version": "2.13.3"
  }
 },
 "nbformat": 4,
 "nbformat_minor": 4
}
