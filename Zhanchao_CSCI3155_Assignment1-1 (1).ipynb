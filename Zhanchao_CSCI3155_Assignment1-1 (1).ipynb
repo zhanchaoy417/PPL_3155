{
 "cells": [
  {
   "cell_type": "markdown",
   "metadata": {},
   "source": [
    "Before you turn this problem in, make sure everything runs as expected. \n",
    "  1. First, **restart the kernel** (in the menubar, select Kernel$\\rightarrow$Restart) and \n",
    "  2. Then **run all cells** (in the menubar, select Cell$\\rightarrow$Run All).\n",
    "\n",
    "Make sure you fill in any place that says `YOUR CODE HERE` or \"YOUR ANSWER HERE\", as well as your name below. "
   ]
  },
  {
   "cell_type": "markdown",
   "metadata": {},
   "source": [
    "---"
   ]
  },
  {
   "cell_type": "markdown",
   "metadata": {
    "deletable": false,
    "editable": false,
    "nbgrader": {
     "cell_type": "markdown",
     "checksum": "dac16c3a0ff7e9ce5df0272ac654660e",
     "grade": false,
     "grade_id": "cell-e7db94ed69698ea4",
     "locked": true,
     "schema_version": 3,
     "solution": false
    }
   },
   "source": [
    "# CSCI 3155 Assignment 1 : Scala Programming\n",
    "\n",
    "This assignment asks you to write scala programs. Fill in the programs below. Use the test cases provided to test them. You are also encouraged to write your own test cases.\n",
    "\n",
    "**Important** It is important to run the cells in order. In particular, run the cell that defines the functions passed and testWithMessage first. If not, you will get errors saying these functions are not defined."
   ]
  },
  {
   "cell_type": "markdown",
   "metadata": {},
   "source": [
    "**YOUR NAME HERE**"
   ]
  },
  {
   "cell_type": "code",
   "execution_count": 1,
   "metadata": {
    "deletable": false,
    "editable": false,
    "nbgrader": {
     "cell_type": "code",
     "checksum": "f20fc54e065950ae42f6d02d6fe012cc",
     "grade": false,
     "grade_id": "cell-79ca066ce8c19e02",
     "locked": true,
     "schema_version": 3,
     "solution": false
    }
   },
   "outputs": [
    {
     "data": {
      "text/plain": [
       "defined \u001b[32mfunction\u001b[39m \u001b[36mpassed\u001b[39m\n",
       "defined \u001b[32mfunction\u001b[39m \u001b[36mtestWithMessage\u001b[39m"
      ]
     },
     "execution_count": 1,
     "metadata": {},
     "output_type": "execute_result"
    }
   ],
   "source": [
    "// TEST HELPER\n",
    "// IMPORTANT: Run this cell first before attempting anything else. \n",
    "// Or else, you will get error messages saying passed: not found etc..\n",
    "def passed(points: Int) {\n",
    "    require(points >=0)\n",
    "    if (points == 1) print(s\"\\n*** Tests Passed (1 point) ***\\n\")\n",
    "    else print(s\"\\n*** Tests Passed ($points points) ***\\n\")\n",
    "}\n",
    "\n",
    "def testWithMessage(cond: Boolean, testID: String) = { \n",
    "    assert(cond, s\"Test $testID Failed\"); \n",
    "    println(s\"Test $testID Passed!\")\n",
    "}"
   ]
  },
  {
   "cell_type": "markdown",
   "metadata": {
    "deletable": false,
    "editable": false,
    "nbgrader": {
     "cell_type": "markdown",
     "checksum": "4283657e0f6d5e696d260470ac59531f",
     "grade": false,
     "grade_id": "cell-07737f1428302d50",
     "locked": true,
     "schema_version": 3,
     "solution": false
    }
   },
   "source": [
    "## Problem 1 (10 points)\n",
    "\n",
    "Write a scala function that searches for an occurrence of the substring `pat` inside the string `s`. It returns a true if the pattern `pat` is a substring of `s` and false otherwise.\n",
    "\n",
    "Useful functions on strings that are permitted.\n",
    "  - str.size : number of characters in a string `str`.\n",
    "  - str(i): the char at ith index of str. i between 0 and str.size -1\n",
    "  \n",
    "You can use a nested for/while loop with vars and return statements for this problem.\n",
    "Note about for loops in scala:\n",
    "  - `for (i <- 0 until n) { ...  } ` starts from 0 and runs to n-1.\n",
    "  -  `for (i <- 0 to n) { ...  } ` starts from 0 and runs to n.\n",
    "  \n",
    "\n",
    "\n",
    "**You are forbidden from using string library inbuilt functions ( other than the ones mentioned above ) such as substring that will directly solve the problem, or other tricks such as converting a string to a list and using list API functions etc.. Use of for loops and basic indexing of strings is permitted.**\n"
   ]
  },
  {
   "cell_type": "code",
   "execution_count": 1,
   "metadata": {
    "deletable": false,
    "nbgrader": {
     "cell_type": "code",
     "checksum": "380688d51bde65a7f03854fc7bd0247c",
     "grade": false,
     "grade_id": "cell-794743da17722228",
     "locked": false,
     "schema_version": 3,
     "solution": true
    }
   },
   "outputs": [
    {
     "data": {
      "text/plain": [
       "defined \u001b[32mfunction\u001b[39m \u001b[36mpatternOccursInString\u001b[39m"
      ]
     },
     "execution_count": 1,
     "metadata": {},
     "output_type": "execute_result"
    }
   ],
   "source": [
    "def patternOccursInString(s: String, pat: String): Boolean = {\n",
    "    // YOUR CODE HERE\n",
    "    val n:Int= s.size;\n",
    "    val m:Int=pat.size;\n",
    "  \n",
    "    if(m>n){return false}\n",
    "    else if(pat==\"\"){return true}\n",
    "    else{\n",
    "    for (  i <- 0 until n-m+1)\n",
    "    {\n",
    "         var y:Boolean=true\n",
    "         for(j <-0 until m)\n",
    "        {\n",
    "            if(s(i+j)!=pat(j))\n",
    "            {\n",
    "\n",
    "               y=false\n",
    "                \n",
    "            }\n",
    "            \n",
    "        }\n",
    "       if(y==true){return true}\n",
    "       \n",
    "      }\n",
    "      return false\n",
    "    }\n",
    "}  "
   ]
  },
  {
   "cell_type": "code",
   "execution_count": 3,
   "metadata": {
    "deletable": false,
    "editable": false,
    "nbgrader": {
     "cell_type": "code",
     "checksum": "bbb3cd7fbb382e8da3ac8643802f2801",
     "grade": true,
     "grade_id": "cell-082571ccc4ca97d0",
     "locked": true,
     "points": 10,
     "schema_version": 3,
     "solution": false
    }
   },
   "outputs": [
    {
     "name": "stdout",
     "output_type": "stream",
     "text": [
      "\n",
      "*** Tests Passed (10 points) ***\n"
     ]
    }
   ],
   "source": [
    "//BEGIN TEST\n",
    "assert(patternOccursInString(\"bahbahblacksheep\", \"hbla\"), \"Test 1 Failed\")\n",
    "assert(patternOccursInString(\"wiajsioioia\", \"j\"), \"Test 2 Failed\")\n",
    "assert(!patternOccursInString(\"woia\", \"woiaaaalapo\"), \"Test 3 Failed\")\n",
    "assert(patternOccursInString(\"papajohnspizza\",\"\"), \"Test 4 Failed\")\n",
    "assert(patternOccursInString(\"goatwearstoga\", \"toga\"), \"Test 5 Failed\")\n",
    "assert(!patternOccursInString(\"aaaaaaax\", \"axe\"), \"Test 6 Failed\")\n",
    "assert(patternOccursInString(\"\",\"\"), \"Test 7 failed\")\n",
    "passed(10)\n",
    "//END TEST"
   ]
  },
  {
   "cell_type": "code",
   "execution_count": null,
   "metadata": {},
   "outputs": [],
   "source": []
  },
  {
   "cell_type": "raw",
   "metadata": {},
   "source": []
  },
  {
   "cell_type": "markdown",
   "metadata": {
    "deletable": false,
    "editable": false,
    "nbgrader": {
     "cell_type": "markdown",
     "checksum": "9771c0feafcd92705605ad8966924f7d",
     "grade": false,
     "grade_id": "cell-7cc33962c9bf5094",
     "locked": true,
     "schema_version": 3,
     "solution": false
    }
   },
   "source": [
    "## Problem 2 (20 points)\n",
    "\n",
    "Implement a `patternOccursInStringRec(s, pat)` function that checks if a given pattern `pat` occurs in the string `s`, but \n",
    "  - without using mutable `var`, \n",
    "  - without using `for`/`while` loops, and\n",
    "  - without using the `return` keyword.\n",
    "\n",
    "Your recursive function should use the following high level strategy:\n",
    " \n",
    "First write a helper function `searchPatternAtPosRec(s, pat, i)` that searches if pattern occurs starting at position `i` of string `s`.\n",
    "  - if pat is the empty string return true\n",
    "  - else if i >= s.size and pat is not empty string, return false.\n",
    "  - else, if s(i) != pat(0) return false\n",
    "  - else, recursively call searchPatternAtPosRec(s, pat.substring(1), i+1)\n",
    "    - Note `pat.substring(1)` can be used and takes the substring of `pat` from index 1 until the end.\n",
    " \n",
    "Next, implement the recursive function `patternOccursInStringRec(s, pat,j)`\n",
    "  - if pat is the empty string, then return true\n",
    "  - else if j >= s.size then return false\n",
    "  - else if (searchPatternAtPosRec(s, pat, j) is true) return true\n",
    "  - else recursively call patternOccursInStringRec by incrementing j\n",
    " "
   ]
  },
  {
   "cell_type": "code",
   "execution_count": 25,
   "metadata": {
    "deletable": false,
    "nbgrader": {
     "cell_type": "code",
     "checksum": "3d6763744eeb44322f593c0e0cedc4f2",
     "grade": false,
     "grade_id": "cell-80da0f71ccafab19",
     "locked": false,
     "schema_version": 3,
     "solution": true
    }
   },
   "outputs": [
    {
     "data": {
      "text/plain": [
       "defined \u001b[32mfunction\u001b[39m \u001b[36msearchPatternAtPosRec\u001b[39m"
      ]
     },
     "execution_count": 25,
     "metadata": {},
     "output_type": "execute_result"
    }
   ],
   "source": [
    "// YOUR CODE HERE\n",
    "def searchPatternAtPosRec(s:String,pat:String,i:Int):Boolean=\n",
    "{\n",
    "    val n:Int=s.length\n",
    "    if(pat==\"\"){true}\n",
    "    else if(i>= n){false}\n",
    "    else if(s(i)!=pat(0)){false}\n",
    "    else searchPatternAtPosRec(s,pat.substring(1),i+1)\n",
    "    \n",
    "}"
   ]
  },
  {
   "cell_type": "code",
   "execution_count": 27,
   "metadata": {
    "deletable": false,
    "editable": false,
    "nbgrader": {
     "cell_type": "code",
     "checksum": "85f3ef3edd6b56a8afc76bd83dc89c08",
     "grade": true,
     "grade_id": "cell-ef781cc6d55287ba",
     "locked": true,
     "points": 10,
     "schema_version": 3,
     "solution": false
    }
   },
   "outputs": [
    {
     "name": "stdout",
     "output_type": "stream",
     "text": [
      "Test 1 Passed!\n",
      "Test 2 Passed!\n",
      "Test 3 Passed!\n",
      "Test 4 Passed!\n",
      "Test 5 Passed!\n",
      "Test 6 Passed!\n",
      "\n",
      "*** Tests Passed (10 points) ***\n"
     ]
    }
   ],
   "source": [
    "//BEGIN TEST\n",
    "\n",
    "testWithMessage(searchPatternAtPosRec(\"hello\", \"ll\", 2), \"1\")\n",
    "testWithMessage(!searchPatternAtPosRec(\"hello\", \"ll\", 4), \"2\")\n",
    "testWithMessage(!searchPatternAtPosRec(\"hello\", \"oo\", 2), \"3\")\n",
    "testWithMessage(searchPatternAtPosRec(\"hello\", \"hello\", 0), \"4\")\n",
    "testWithMessage(searchPatternAtPosRec(\"hello\", \"hell\", 0), \"5\")\n",
    "testWithMessage(searchPatternAtPosRec(\"hello\", \"\", 4), \"6\")\n",
    "passed(10)\n",
    "//END TEST"
   ]
  },
  {
   "cell_type": "code",
   "execution_count": 28,
   "metadata": {
    "deletable": false,
    "nbgrader": {
     "cell_type": "code",
     "checksum": "d7be5176ff42ec27face746d19d54452",
     "grade": false,
     "grade_id": "cell-79fc1ba65f9c2f3e",
     "locked": false,
     "schema_version": 3,
     "solution": true,
     "task": false
    }
   },
   "outputs": [
    {
     "data": {
      "text/plain": [
       "defined \u001b[32mfunction\u001b[39m \u001b[36mpatternOccursInStringRec\u001b[39m"
      ]
     },
     "execution_count": 28,
     "metadata": {},
     "output_type": "execute_result"
    }
   ],
   "source": [
    "def patternOccursInStringRec(s: String, pat: String, j : Int = 0): Boolean = {\n",
    "    // YOUR CODE HERE\n",
    "    val n:Int=s.length\n",
    "    if(pat==\"\"){true}\n",
    "    else if(j>=n ){false}\n",
    "    else if (searchPatternAtPosRec(s, pat, j)==true ) {true} \n",
    "    else patternOccursInStringRec (s,pat,j+1)\n",
    "}"
   ]
  },
  {
   "cell_type": "code",
   "execution_count": 29,
   "metadata": {
    "deletable": false,
    "editable": false,
    "nbgrader": {
     "cell_type": "code",
     "checksum": "f13266b45799c51551d55e4b290fcc96",
     "grade": true,
     "grade_id": "cell-3a1b07140e65fe6c",
     "locked": true,
     "points": 10,
     "schema_version": 3,
     "solution": false,
     "task": false
    }
   },
   "outputs": [
    {
     "name": "stdout",
     "output_type": "stream",
     "text": [
      "\n",
      "*** Tests Passed (10 points) ***\n"
     ]
    }
   ],
   "source": [
    "assert(patternOccursInStringRec(\"bahbahblacksheep\", \"hbla\"), \"Test 1 Failed\")\n",
    "assert(patternOccursInStringRec(\"wiajsioioia\", \"j\"), \"Test 2 Failed\")\n",
    "assert(!patternOccursInStringRec(\"woia\", \"woiaaaalapo\"), \"Test 3 Failed\")\n",
    "assert(patternOccursInStringRec(\"papajohnspizza\",\"\"), \"Test 4 Failed\")\n",
    "assert(patternOccursInStringRec(\"goatwearstoga\", \"toga\"), \"Test 5 Failed\")\n",
    "assert(!patternOccursInStringRec(\"aaaaaaax\", \"axe\"), \"Test 6 Failed\")\n",
    "assert(patternOccursInStringRec(\"\",\"\"), \"Test 7 failed\")\n",
    "passed(10)"
   ]
  },
  {
   "cell_type": "markdown",
   "metadata": {
    "deletable": false,
    "editable": false,
    "nbgrader": {
     "cell_type": "markdown",
     "checksum": "e62ca4f39e970b2dc3b76c4bd52aa58e",
     "grade": false,
     "grade_id": "cell-20615692105e5303",
     "locked": true,
     "schema_version": 3,
     "solution": false
    }
   },
   "source": [
    "## Problem 3 (20 points)\n",
    "\n",
    "A polynomial of the form $a_0 + a_1 x + a_2 x^2 + ... + a_n x^n$ is \n",
    "represented by a list of coefficients `[a0, ..., an]`. We wish to implement a polynomial class in Scala. Complete the missing methods.\n",
    "\n",
    "There are no restrictions in the use of loops/var in this problem. Also any list API function may be used.\n",
    "\n",
    "**Note:** We will guarantee in our implementation that the highest coefficient `an != 0`. This will simplify things a lot."
   ]
  },
  {
   "cell_type": "markdown",
   "metadata": {
    "deletable": false,
    "editable": false,
    "nbgrader": {
     "cell_type": "markdown",
     "checksum": "020a4b69e2738fdba8333c07bebf9444",
     "grade": false,
     "grade_id": "cell-ea1f4cbb2b3aacbf",
     "locked": true,
     "schema_version": 3,
     "solution": false,
     "task": false
    }
   },
   "source": [
    "### (A, 5 points) Chop off suffix zeros\n",
    "\n",
    "First implement a function `chopOffSuffixZeros(lst: List[Double]): List[Double]` that given a list of numbers, removes elements from the end that are equal to 0.0, ensuring that the returned list has a non zero element at its last position.\n",
    "\n",
    "Examples: \n",
    "\n",
    "`chopOffSuffixZeros( List(1.0, 2.1, -1.0, 0.0, 0.0) ) ` should return \n",
    "`List(1.0, 2.1, -1.0)`.\n",
    "\n",
    "`chopOffSuffixZeros( List(0.0, 0.1, 0.0, 0.0, 0.0) ) ` should return \n",
    "`List(0.0, 0.1)`.\n",
    "\n",
    "`chopOffSuffixZeros( List(0.0, 0.0, 0.0, 0.0, 0.0, 1.0) ) ` should return \n",
    "`List(0.0, 0.0, 0.0, 0.0, 0.0, 1.0)`.\n",
    "\n",
    "`chopOffSuffixZeros( Nil ) ` should return `Nil` (Nil stands for empty list in scala).\n",
    "\n",
    "\n",
    "- You may use for /while loops, var etc..\n",
    "- You can use list API functions such as `slice`, `last`, `size`, list concatenation, etc..\n",
    "- However, this is an example of a problem where the recursive solution is way easier than the one using for loop. Try it out!!\n",
    "\n"
   ]
  },
  {
   "cell_type": "code",
   "execution_count": 54,
   "metadata": {
    "deletable": false,
    "nbgrader": {
     "cell_type": "code",
     "checksum": "bf041313526103f182ef72e2a25e541d",
     "grade": false,
     "grade_id": "cell-bbd6940ce326dfbb",
     "locked": false,
     "schema_version": 3,
     "solution": true,
     "task": false
    }
   },
   "outputs": [
    {
     "data": {
      "text/plain": [
       "defined \u001b[32mfunction\u001b[39m \u001b[36mchopOffSuffixZeros\u001b[39m"
      ]
     },
     "execution_count": 54,
     "metadata": {},
     "output_type": "execute_result"
    }
   ],
   "source": [
    "def chopOffSuffixZeros(lst: List[Double]): List[Double] = {\n",
    "    // YOUR CODE HERE\n",
    "    val n:Int=lst.length;\n",
    "    if(n==0){return Nil}\n",
    "    else if(lst.last != 0.0){return lst}\n",
    "   else chopOffSuffixZeros(lst.slice(0,n-1))\n",
    "} "
   ]
  },
  {
   "cell_type": "code",
   "execution_count": 55,
   "metadata": {
    "deletable": false,
    "editable": false,
    "nbgrader": {
     "cell_type": "code",
     "checksum": "62c872f6d6f83f9d8a7b81e53dd32cc6",
     "grade": true,
     "grade_id": "cell-234d164ebb0350f1",
     "locked": true,
     "points": 5,
     "schema_version": 3,
     "solution": false,
     "task": false
    }
   },
   "outputs": [
    {
     "name": "stdout",
     "output_type": "stream",
     "text": [
      "Test 1 Passed!\n",
      "Test 2 Passed!\n",
      "Test 3 Passed!\n",
      "Test 4 Passed!\n",
      "Test 5 Passed!\n",
      "\n",
      "*** Tests Passed (5 points) ***\n"
     ]
    }
   ],
   "source": [
    "testWithMessage(\n",
    "    chopOffSuffixZeros( List(1.0, 2.1, -1.0, 0.0, 0.0) ) \n",
    "                       == List(1.0, 2.1, -1.0), \"1\")\n",
    "\n",
    "\n",
    "testWithMessage(\n",
    "    chopOffSuffixZeros(   List(1.0, 2.1, -1.0) ) \n",
    "                        == List(1.0, 2.1, -1.0), \"2\")\n",
    "\n",
    "testWithMessage(\n",
    "    chopOffSuffixZeros(   List(0.0, 0.0, 0.0, 0.0, 0.0, 0.0, -0.1) ) \n",
    "                       == List(0.0, 0.0, 0.0, 0.0, 0.0, 0.0, -0.1), \"3\")\n",
    "\n",
    "\n",
    "testWithMessage(\n",
    "    chopOffSuffixZeros( List() ) == List(), \"4\")\n",
    "\n",
    "testWithMessage(\n",
    "    chopOffSuffixZeros( List(0.0, 0.0, 0.0, 0.0, 0.0, 0.0) ) == List(), \"5\")\n",
    "\n",
    "passed(5)\n"
   ]
  },
  {
   "cell_type": "markdown",
   "metadata": {
    "deletable": false,
    "editable": false,
    "nbgrader": {
     "cell_type": "markdown",
     "checksum": "d07cc22e0dfe058f4762948962c587b3",
     "grade": false,
     "grade_id": "cell-21d7890011321263",
     "locked": true,
     "schema_version": 3,
     "solution": false,
     "task": false
    }
   },
   "source": [
    "### Part(B)\n",
    "\n",
    "Implement the missing methods in the polynomial class below."
   ]
  },
  {
   "cell_type": "code",
   "execution_count": 48,
   "metadata": {
    "deletable": false,
    "nbgrader": {
     "cell_type": "code",
     "checksum": "1f6860d1be433fea1479d86d8260af51",
     "grade": false,
     "grade_id": "cell-a410d01fa666b077",
     "locked": false,
     "schema_version": 3,
     "solution": true
    }
   },
   "outputs": [
    {
     "data": {
      "text/plain": [
       "defined \u001b[32mclass\u001b[39m \u001b[36mPolynomial\u001b[39m"
      ]
     },
     "execution_count": 48,
     "metadata": {},
     "output_type": "execute_result"
    }
   ],
   "source": [
    "class Polynomial(val coeffs: List[Double]) {\n",
    "    // Implement a pretty printer for the class\n",
    "    // by overriding the toString() method\n",
    "    override def toString(): String = {\n",
    "        coeffs.zipWithIndex\n",
    "            .map { case (aj, j) => s\"($aj* x^$j)\"}\n",
    "            .mkString(\"+\")\n",
    "    }\n",
    "    \n",
    "    def polyEquals(poly: Polynomial): Boolean = {\n",
    "        //Check if two polynomials are equal by comparing the list of \n",
    "        // coefficients.\n",
    "        // Assume that both this and poly have no suffix zeros to make it simple.\n",
    "        // YOUR CODE HERE\n",
    "        if(coeffs== (poly.coeffs)) return true\n",
    "        else return false\n",
    "        \n",
    "    }\n",
    "    \n",
    "    // This is an operator overloading for the + operator.\n",
    "    def + (poly2: Polynomial): Polynomial = {\n",
    "        //TODO: Return a new polynomial that is the sum of \n",
    "        //   the coefficients of this polynomial and those of poly2\n",
    "        // Use a for/while loop but make sure to handle the case\n",
    "        //        when the sizes of poly and poly2 are different.\n",
    "        // Finally, make sure that you chop off all zeros at the\n",
    "        // end using chopOffSuffixZero funcion.\n",
    "        // YOUR CODE HERE\n",
    "        var n:Int=poly2.coeffs.size;\n",
    "        var m:Int= coeffs.size;\n",
    "     var temp:List[Double]=Nil;\n",
    "      /*for(i<-0 until m) \n",
    "        {\n",
    "            var temp = coeffs(i) ++ poly2.coeffs(i) ++list\n",
    "            list=temp\n",
    "        }*/\n",
    "        if(n==m)\n",
    "        {\n",
    "            for(i<- 0 until n)\n",
    "            {\n",
    "                temp = temp ++  List(coeffs(i) + poly2.coeffs(i))\n",
    "               \n",
    "            }\n",
    "            \n",
    "        }\n",
    "       \n",
    "       else if(m<n)\n",
    "        {\n",
    "       \n",
    "           for(i<- 0 until m)\n",
    "            {\n",
    "                temp = temp ++  List(coeffs(i) + poly2.coeffs(i))\n",
    "               \n",
    "            }\n",
    "         \n",
    "                for(j<- m until n)\n",
    "            {\n",
    "                  temp=temp  ++ List(poly2.coeffs(j).toDouble)\n",
    "                \n",
    "            }\n",
    "              \n",
    "            \n",
    "            \n",
    "        }\n",
    "        else\n",
    "        {  \n",
    "            for(i<- 0 until n)\n",
    "            {\n",
    "                temp = temp ++  List(coeffs(i) + poly2.coeffs(i))\n",
    "               \n",
    "            }\n",
    "      \n",
    "              for(j<- n until m)\n",
    "            {\n",
    "                 temp =temp  ++ List(coeffs(j) .toDouble)\n",
    "                \n",
    "            }\n",
    "            \n",
    "           \n",
    "        }\n",
    "   def chopOffSuffixZeros(lst: List[Double]): List[Double] = {\n",
    "    // YOUR CODE HERE\n",
    "    val n:Int=lst.length;\n",
    "    if(n==0){return Nil}\n",
    "    else if(lst.last != 0.0){return lst}\n",
    "   else chopOffSuffixZeros(lst.slice(0,n-1))\n",
    "} \n",
    "        new Polynomial(chopOffSuffixZeros(temp))\n",
    "        \n",
    "    }\n",
    "   \n",
    "    // We can use your rationalEquals method to overide the == operator as follows\n",
    "    // Ignore this method for now -- it will be clearer soon\n",
    "    override def equals(r: Any): Boolean = r match {\n",
    "        case poly: Polynomial => this.polyEquals(poly) \n",
    "        case _ => false\n",
    "    }\n",
    "    // END Ignore   \n",
    "}"
   ]
  },
  {
   "cell_type": "code",
   "execution_count": 49,
   "metadata": {
    "deletable": false,
    "editable": false,
    "nbgrader": {
     "cell_type": "code",
     "checksum": "6e6429ea1d76d2376eee01a3abebd691",
     "grade": true,
     "grade_id": "cell-6275b75f19c16246",
     "locked": true,
     "points": 5,
     "schema_version": 3,
     "solution": false
    }
   },
   "outputs": [
    {
     "name": "stdout",
     "output_type": "stream",
     "text": [
      "Test 1 Passed!\n",
      "Test 2 Passed!\n",
      "\n",
      "*** Tests Passed (5 points) ***\n"
     ]
    },
    {
     "data": {
      "text/plain": [
       "\u001b[36mp\u001b[39m: \u001b[32mPolynomial\u001b[39m = (0.0* x^0)+(1.0* x^1)+(-2.0* x^2)\n",
       "\u001b[36mp2\u001b[39m: \u001b[32mPolynomial\u001b[39m = (0.0* x^0)+(1.0* x^1)+(-1.0* x^2)\n",
       "\u001b[36mp3\u001b[39m: \u001b[32mPolynomial\u001b[39m = (0.0* x^0)+(1.0* x^1)+(-2.0* x^2)"
      ]
     },
     "execution_count": 49,
     "metadata": {},
     "output_type": "execute_result"
    }
   ],
   "source": [
    "//BEGIN TEST\n",
    "val p = new Polynomial(List(0, 1, -2))\n",
    "val p2 = new Polynomial(List(0, 1, -1))\n",
    "val p3 = new Polynomial(List(0, 1, -2))\n",
    "testWithMessage(p != p2, \"1\")\n",
    "testWithMessage(p == p3, \"2\")\n",
    "passed(5)\n",
    "//END TEST"
   ]
  },
  {
   "cell_type": "code",
   "execution_count": 50,
   "metadata": {
    "deletable": false,
    "editable": false,
    "nbgrader": {
     "cell_type": "code",
     "checksum": "b3420be9376a249bcc0c9d0f0f1252a1",
     "grade": true,
     "grade_id": "cell-f595d18030ee424d",
     "locked": true,
     "points": 10,
     "schema_version": 3,
     "solution": false
    }
   },
   "outputs": [
    {
     "name": "stdout",
     "output_type": "stream",
     "text": [
      "Test 1 Passed!\n",
      "Test 2 Passed!\n",
      "Test 3 Passed!\n",
      "Test 4 Passed!\n",
      "\n",
      "*** Tests Passed (10 points) ***\n"
     ]
    },
    {
     "data": {
      "text/plain": [
       "\u001b[36mp1\u001b[39m: \u001b[32mPolynomial\u001b[39m = (0.0* x^0)+(1.0* x^1)+(2.0* x^2)\n",
       "\u001b[36mp2\u001b[39m: \u001b[32mPolynomial\u001b[39m = (0.0* x^0)+(1.0* x^1)+(-1.0* x^2)\n",
       "\u001b[36mp3\u001b[39m: \u001b[32mPolynomial\u001b[39m = (0.0* x^0)+(1.0* x^1)+(-2.0* x^2)+(3.0* x^3)\n",
       "\u001b[36mp4\u001b[39m: \u001b[32mPolynomial\u001b[39m = (0.0* x^0)+(2.0* x^1)+(1.0* x^2)\n",
       "\u001b[36mp5\u001b[39m: \u001b[32mPolynomial\u001b[39m = (0.0* x^0)+(2.0* x^1)+(-3.0* x^2)+(3.0* x^3)\n",
       "\u001b[36mp6\u001b[39m: \u001b[32mPolynomial\u001b[39m = (-1.0* x^0)+(-2.0* x^1)+(3.0* x^2)+(-3.0* x^3)\n",
       "\u001b[36mp7\u001b[39m: \u001b[32mPolynomial\u001b[39m = (-1.0* x^0)\n",
       "\u001b[36mp8\u001b[39m: \u001b[32mPolynomial\u001b[39m = (1.0* x^0)\n",
       "\u001b[36mp9\u001b[39m: \u001b[32mPolynomial\u001b[39m = "
      ]
     },
     "execution_count": 50,
     "metadata": {},
     "output_type": "execute_result"
    }
   ],
   "source": [
    "//BEGIN TEST\n",
    "val p1 = new Polynomial(List(0, 1, 2))\n",
    "val p2 = new Polynomial(List(0, 1, -1))\n",
    "val p3 = new Polynomial(List(0, 1, -2, 3))\n",
    "val p4 = p1 + p2\n",
    "testWithMessage(p4.coeffs == List(0.0, 2.0, 1.0), \"1\")\n",
    "val p5 = p2 + p3\n",
    "testWithMessage(p5.coeffs == List(0.0, 2.0, -3.0, 3.0), \"2\")\n",
    "val p6 = new Polynomial(List(-1.0, -2.0, 3.0, -3.0))\n",
    "val p7 = p5 + p6\n",
    "testWithMessage(p7.coeffs == List(-1.0), \"3\")\n",
    "val p8 = new Polynomial(List(1.0))\n",
    "val p9 = p7 + p8\n",
    "testWithMessage(p9.coeffs == Nil, \"4\")\n",
    "passed(10)\n",
    "//END TEST"
   ]
  },
  {
   "cell_type": "markdown",
   "metadata": {
    "deletable": false,
    "editable": false,
    "nbgrader": {
     "cell_type": "markdown",
     "checksum": "eb7bf9a1870f59ef5aaf1a4accac77aa",
     "grade": false,
     "grade_id": "cell-9b80689314361884",
     "locked": true,
     "schema_version": 3,
     "solution": false
    }
   },
   "source": [
    "-- That is all for now, folks! -- "
   ]
  },
  {
   "cell_type": "code",
   "execution_count": null,
   "metadata": {},
   "outputs": [],
   "source": []
  }
 ],
 "metadata": {
  "kernelspec": {
   "display_name": "Scala",
   "language": "scala",
   "name": "scala"
  },
  "language_info": {
   "codemirror_mode": "text/x-scala",
   "file_extension": ".sc",
   "mimetype": "text/x-scala",
   "name": "scala",
   "nbconvert_exporter": "script",
   "version": "2.13.3"
  }
 },
 "nbformat": 4,
 "nbformat_minor": 2
}
